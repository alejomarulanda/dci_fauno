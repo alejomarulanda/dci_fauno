{
 "cells": [
  {
   "cell_type": "markdown",
   "id": "emerging-talent",
   "metadata": {},
   "source": [
    "# Risk calculator process"
   ]
  },
  {
   "cell_type": "markdown",
   "id": "comic-ghana",
   "metadata": {},
   "source": [
    "## Importing modules for running process\n",
    "In this section all modules which are used by the system are loaded in memory"
   ]
  },
  {
   "cell_type": "code",
   "execution_count": 1,
   "id": "blessed-spray",
   "metadata": {},
   "outputs": [
    {
     "name": "stdout",
     "output_type": "stream",
     "text": [
      "Done!\n"
     ]
    }
   ],
   "source": [
    "# Import libraries\n",
    "import os\n",
    "import glob\n",
    "import numpy as np\n",
    "import pandas as pd\n",
    "\n",
    "# Import modules\n",
    "import deforestation as defo\n",
    "import administrative_level as adle\n",
    "import livestock_plot as plot\n",
    "import risk as risk\n",
    "print(\"Done!\")"
   ]
  },
  {
   "cell_type": "markdown",
   "id": "middle-powell",
   "metadata": {},
   "source": [
    "## Setting global parameters\n",
    "In this section all configurations about folders and files to set up\n",
    "the system are created. These configurations are global variables for the system"
   ]
  },
  {
   "cell_type": "code",
   "execution_count": 2,
   "id": "electrical-cause",
   "metadata": {},
   "outputs": [
    {
     "name": "stdout",
     "output_type": "stream",
     "text": [
      "Done!\n"
     ]
    }
   ],
   "source": [
    "# Global folders\n",
    "#root_folder = \"/home/jovyan/work/BID/dci_fauno/\"\n",
    "root_folder = \"D:\\\\CIAT\\\\Code\\\\BID\\\\dci_fauno\"\n",
    "data_folder = os.path.join(root_folder, \"data\",\"risk_calculator\")\n",
    "inputs = os.path.join(data_folder,\"inputs\")\n",
    "outputs = os.path.join(data_folder,\"outputs\")\n",
    "conf_folder = os.path.join(data_folder,\"conf\")\n",
    "# Deforestation folders\n",
    "def_folder = os.path.join(inputs,\"def\")\n",
    "# Administrative level folders\n",
    "adm_folder = os.path.join(inputs,\"adm\")\n",
    "# Livestock plots\n",
    "plot_folder = os.path.join(inputs,\"plot\")\n",
    "\n",
    "# Parameters file\n",
    "conf_xls = pd.ExcelFile(os.path.join(conf_folder,\"conf.xlsx\"))\n",
    "conf = conf_xls.parse(\"conf\")\n",
    "buffer = conf_xls.parse(\"buffer\")\n",
    "\n",
    "# Global parameters from conf.xlsx file\n",
    "glo_crs = int(conf.loc[conf[\"parameter\"] == \"glo_crs\",\"value\"].values[0])\n",
    "\n",
    "# Creating folders\n",
    "# Create folder for deforestation files\n",
    "if not os.path.exists(def_folder):    \n",
    "    os.mkdir(def_folder)\n",
    "# Create folder for administrative level files\n",
    "if not os.path.exists(adm_folder):    \n",
    "    os.mkdir(adm_folder)\n",
    "# Create folder for livestock plot files\n",
    "if not os.path.exists(plot_folder):    \n",
    "    os.mkdir(plot_folder)\n",
    "\n",
    "print(\"Done!\")"
   ]
  },
  {
   "cell_type": "markdown",
   "id": "smaller-dimension",
   "metadata": {},
   "source": [
    "## Downloading data\n",
    "This section downloads all data require by the system. It keeps all raw files, it will allow to debug if it would be necessary"
   ]
  },
  {
   "cell_type": "markdown",
   "id": "fantastic-honor",
   "metadata": {},
   "source": [
    "### Administrative level - Download and unzip\n",
    "In this section all data about administrative lever of the country will be downloaded and extracted\n",
    "into specific folders."
   ]
  },
  {
   "cell_type": "code",
   "execution_count": null,
   "id": "arbitrary-delaware",
   "metadata": {},
   "outputs": [],
   "source": [
    "# Getting parameters for downloading adiministrative sources\n",
    "adm_url_source = conf.loc[conf[\"parameter\"] == \"adm_url_source\",\"value\"].values[0]\n",
    "# Download files from source in zip format and extract them\n",
    "adle.download_data(adm_folder, adm_url_source)\n",
    "print(\"Done!\")"
   ]
  },
  {
   "cell_type": "markdown",
   "id": "outside-blocking",
   "metadata": {},
   "source": [
    "### Deforestation - Download and unzip\n",
    "In this section all data about deforestation for a country are downloaded and extracted\n",
    "into specific folders."
   ]
  },
  {
   "cell_type": "code",
   "execution_count": null,
   "id": "pleased-brave",
   "metadata": {},
   "outputs": [],
   "source": [
    "# Getting parameters for downloading deforestation files\n",
    "url_base = conf.loc[conf[\"parameter\"] == \"def_src_base_url\",\"value\"].values[0]\n",
    "file_name_base = conf.loc[conf[\"parameter\"] == \"def_src_file_name\",\"value\"].values[0]\n",
    "def_periods = conf.loc[conf[\"parameter\"] == \"def_periods\",\"value\"].values[0].split(\",\")\n",
    "\n",
    "# Download files from source in zip format and extract them\n",
    "defo.download_deforestation(def_folder, url_base, file_name_base, def_periods)\n",
    "print(\"Done!\")"
   ]
  },
  {
   "cell_type": "markdown",
   "id": "potential-bonus",
   "metadata": {},
   "source": [
    "## Fixing data\n",
    "This chaptar fix the data downloaded into files and formats, in order to can process information"
   ]
  },
  {
   "cell_type": "markdown",
   "id": "incorporate-lyric",
   "metadata": {},
   "source": [
    "### Administrative level - Reproject\n",
    "This process reprojects to CRS destiny the original database"
   ]
  },
  {
   "cell_type": "code",
   "execution_count": null,
   "id": "pointed-greeting",
   "metadata": {},
   "outputs": [],
   "source": [
    "adm_src_adm1_name = conf.loc[conf[\"parameter\"] == \"adm_src_adm1_name\",\"value\"].values[0]\n",
    "adm_src_adm1_id = conf.loc[conf[\"parameter\"] == \"adm_src_adm1_id\",\"value\"].values[0]\n",
    "adm_src_adm2_name = conf.loc[conf[\"parameter\"] == \"adm_src_adm2_name\",\"value\"].values[0]\n",
    "adm_src_adm2_id = conf.loc[conf[\"parameter\"] == \"adm_src_adm2_id\",\"value\"].values[0]\n",
    "adm_src_adm3_name = conf.loc[conf[\"parameter\"] == \"adm_src_adm3_name\",\"value\"].values[0]\n",
    "adm_src_adm3_id = conf.loc[conf[\"parameter\"] == \"adm_src_adm3_id\",\"value\"].values[0]\n",
    "adm_src_area = conf.loc[conf[\"parameter\"] == \"adm_src_area\",\"value\"].values[0]\n",
    "adm_src_geometry = conf.loc[conf[\"parameter\"] == \"adm_src_geometry\",\"value\"].values[0]\n",
    "\n",
    "# Reporject file\n",
    "adle.reproject_source(adm_folder, glo_crs,\n",
    "                      adm_src_adm1_name, adm_src_adm1_id, \n",
    "                      adm_src_adm2_name, adm_src_adm2_id, \n",
    "                      adm_src_adm3_name, adm_src_adm3_id, \n",
    "                      adm_src_area, adm_src_geometry)\n",
    "print(\"Done!\")"
   ]
  },
  {
   "cell_type": "markdown",
   "id": "loved-handle",
   "metadata": {},
   "source": [
    "### Deforestation - Extract deforestation values\n",
    "This section takes the rasters files, which were downloaded, then extract just deforestation pixels\n",
    "and create a new raster with this data. Finally it creates a summary raster which merge all\n",
    "others raster files in just one. The output raster files are standarized, it means all pixels are in \n",
    "the same size, the CRS is the same for all, and are clipped with the same size"
   ]
  },
  {
   "cell_type": "code",
   "execution_count": 3,
   "id": "speaking-cheese",
   "metadata": {},
   "outputs": [
    {
     "name": "stdout",
     "output_type": "stream",
     "text": [
      "Extracting!\n",
      "Calculating parameters for new files\n",
      "Bounds: POLYGON ((45206 61620, 45206 0, 0 0, 0 61620, 45206 61620))\n",
      "CRS: EPSG:3116\n",
      "Working: D:\\CIAT\\Code\\BID\\dci_fauno\\data\\risk_calculator\\inputs\\def\\content\\2010_2012\\TS67T5K11_BEA_2010_2012.tif\n",
      "Reprojecting: D:\\CIAT\\Code\\BID\\dci_fauno\\data\\risk_calculator\\inputs\\def\\fixed\\TS67T5K11_BEA_2010_2012_tmp.tif\n",
      "Original: None | 1.00, 0.00, 0.00|\n",
      "| 0.00, 1.00, 0.00|\n",
      "| 0.00, 0.00, 1.00|\n",
      "{'driver': 'GTiff', 'dtype': 'uint8', 'nodata': 0.0, 'width': 45206, 'height': 61620, 'count': 1, 'crs': None, 'transform': Affine(1.0, 0.0, 0.0,\n",
      "       0.0, 1.0, 0.0)}\n",
      "{'driver': 'GTiff', 'dtype': 'uint8', 'nodata': 0.0, 'width': 45206, 'height': 61620, 'count': 1, 'crs': None, 'transform': Affine(1.0, 0.0, 0.0,\n",
      "       0.0, 1.0, 0.0), 'blockxsize': 512, 'blockysize': 512, 'tiled': True, 'compress': 'packbits', 'interleave': 'band'}\n",
      "Default: EPSG:3116 | 30.72, 0.00, 439928.90|\n",
      "| 0.00,-30.26, 1883097.13|\n",
      "| 0.00, 0.00, 1.00|\n"
     ]
    },
    {
     "name": "stderr",
     "output_type": "stream",
     "text": [
      "d:\\ciat\\virtualenv\\jupyter\\lib\\site-packages\\pyproj\\crs\\crs.py:53: FutureWarning: '+init=<authority>:<code>' syntax is deprecated. '<authority>:<code>' is the preferred initialization method. When making the change, be mindful of axis order changes: https://pyproj4.github.io/pyproj/stable/gotchas.html#axis-order-changes-in-proj-6\n",
      "  return _prepare_from_string(\" \".join(pjargs))\n"
     ]
    },
    {
     "name": "stdout",
     "output_type": "stream",
     "text": [
      "Opening: D:\\CIAT\\Code\\BID\\dci_fauno\\data\\risk_calculator\\inputs\\def\\fixed\\TS67T5K11_BEA_2010_2012_tmp.tif\n",
      "Cropping raster\n"
     ]
    },
    {
     "ename": "ValueError",
     "evalue": "Input shapes do not overlap raster.",
     "output_type": "error",
     "traceback": [
      "\u001b[1;31m---------------------------------------------------------------------------\u001b[0m",
      "\u001b[1;31mWindowError\u001b[0m                               Traceback (most recent call last)",
      "\u001b[1;32md:\\ciat\\virtualenv\\jupyter\\lib\\site-packages\\rasterio\\mask.py\u001b[0m in \u001b[0;36mraster_geometry_mask\u001b[1;34m(dataset, shapes, all_touched, invert, crop, pad, pad_width)\u001b[0m\n\u001b[0;32m     82\u001b[0m     \u001b[1;32mtry\u001b[0m\u001b[1;33m:\u001b[0m\u001b[1;33m\u001b[0m\u001b[1;33m\u001b[0m\u001b[0m\n\u001b[1;32m---> 83\u001b[1;33m         window = geometry_window(dataset, shapes, north_up=north_up, rotated=rotated,\n\u001b[0m\u001b[0;32m     84\u001b[0m                                  pad_x=pad_x, pad_y=pad_y)\n",
      "\u001b[1;32md:\\ciat\\virtualenv\\jupyter\\lib\\site-packages\\rasterio\\features.py\u001b[0m in \u001b[0;36mgeometry_window\u001b[1;34m(dataset, shapes, pad_x, pad_y, north_up, rotated, pixel_precision)\u001b[0m\n\u001b[0;32m    475\u001b[0m     \u001b[1;31m# This will raise a WindowError if windows do not overlap\u001b[0m\u001b[1;33m\u001b[0m\u001b[1;33m\u001b[0m\u001b[1;33m\u001b[0m\u001b[0m\n\u001b[1;32m--> 476\u001b[1;33m     \u001b[0mwindow\u001b[0m \u001b[1;33m=\u001b[0m \u001b[0mwindow\u001b[0m\u001b[1;33m.\u001b[0m\u001b[0mintersection\u001b[0m\u001b[1;33m(\u001b[0m\u001b[0mraster_window\u001b[0m\u001b[1;33m)\u001b[0m\u001b[1;33m\u001b[0m\u001b[1;33m\u001b[0m\u001b[0m\n\u001b[0m\u001b[0;32m    477\u001b[0m \u001b[1;33m\u001b[0m\u001b[0m\n",
      "\u001b[1;32md:\\ciat\\virtualenv\\jupyter\\lib\\site-packages\\rasterio\\windows.py\u001b[0m in \u001b[0;36mintersection\u001b[1;34m(self, other)\u001b[0m\n\u001b[0;32m    729\u001b[0m         \"\"\"\n\u001b[1;32m--> 730\u001b[1;33m         \u001b[1;32mreturn\u001b[0m \u001b[0mintersection\u001b[0m\u001b[1;33m(\u001b[0m\u001b[1;33m[\u001b[0m\u001b[0mself\u001b[0m\u001b[1;33m,\u001b[0m \u001b[0mother\u001b[0m\u001b[1;33m]\u001b[0m\u001b[1;33m)\u001b[0m\u001b[1;33m\u001b[0m\u001b[1;33m\u001b[0m\u001b[0m\n\u001b[0m",
      "\u001b[1;32md:\\ciat\\virtualenv\\jupyter\\lib\\site-packages\\rasterio\\windows.py\u001b[0m in \u001b[0;36mwrapper\u001b[1;34m(*args, **kwargs)\u001b[0m\n\u001b[0;32m    117\u001b[0m         \u001b[1;32mif\u001b[0m \u001b[0mlen\u001b[0m\u001b[1;33m(\u001b[0m\u001b[0margs\u001b[0m\u001b[1;33m)\u001b[0m \u001b[1;33m==\u001b[0m \u001b[1;36m1\u001b[0m \u001b[1;32mand\u001b[0m \u001b[0misinstance\u001b[0m\u001b[1;33m(\u001b[0m\u001b[0margs\u001b[0m\u001b[1;33m[\u001b[0m\u001b[1;36m0\u001b[0m\u001b[1;33m]\u001b[0m\u001b[1;33m,\u001b[0m \u001b[0mIterable\u001b[0m\u001b[1;33m)\u001b[0m\u001b[1;33m:\u001b[0m\u001b[1;33m\u001b[0m\u001b[1;33m\u001b[0m\u001b[0m\n\u001b[1;32m--> 118\u001b[1;33m             \u001b[1;32mreturn\u001b[0m \u001b[0mfunction\u001b[0m\u001b[1;33m(\u001b[0m\u001b[1;33m*\u001b[0m\u001b[0margs\u001b[0m\u001b[1;33m[\u001b[0m\u001b[1;36m0\u001b[0m\u001b[1;33m]\u001b[0m\u001b[1;33m)\u001b[0m\u001b[1;33m\u001b[0m\u001b[1;33m\u001b[0m\u001b[0m\n\u001b[0m\u001b[0;32m    119\u001b[0m         \u001b[1;32melse\u001b[0m\u001b[1;33m:\u001b[0m\u001b[1;33m\u001b[0m\u001b[1;33m\u001b[0m\u001b[0m\n",
      "\u001b[1;32md:\\ciat\\virtualenv\\jupyter\\lib\\site-packages\\rasterio\\windows.py\u001b[0m in \u001b[0;36mintersection\u001b[1;34m(*windows)\u001b[0m\n\u001b[0;32m    215\u001b[0m     \u001b[1;32mif\u001b[0m \u001b[1;32mnot\u001b[0m \u001b[0mintersect\u001b[0m\u001b[1;33m(\u001b[0m\u001b[0mwindows\u001b[0m\u001b[1;33m)\u001b[0m\u001b[1;33m:\u001b[0m\u001b[1;33m\u001b[0m\u001b[1;33m\u001b[0m\u001b[0m\n\u001b[1;32m--> 216\u001b[1;33m         \u001b[1;32mraise\u001b[0m \u001b[0mWindowError\u001b[0m\u001b[1;33m(\u001b[0m\u001b[1;34m\"windows do not intersect\"\u001b[0m\u001b[1;33m)\u001b[0m\u001b[1;33m\u001b[0m\u001b[1;33m\u001b[0m\u001b[0m\n\u001b[0m\u001b[0;32m    217\u001b[0m \u001b[1;33m\u001b[0m\u001b[0m\n",
      "\u001b[1;31mWindowError\u001b[0m: windows do not intersect",
      "\nDuring handling of the above exception, another exception occurred:\n",
      "\u001b[1;31mValueError\u001b[0m                                Traceback (most recent call last)",
      "\u001b[1;32m<ipython-input-3-e07bddac9dc2>\u001b[0m in \u001b[0;36m<module>\u001b[1;34m\u001b[0m\n\u001b[0;32m      4\u001b[0m \u001b[1;33m\u001b[0m\u001b[0m\n\u001b[0;32m      5\u001b[0m \u001b[0mprint\u001b[0m\u001b[1;33m(\u001b[0m\u001b[1;34m\"Extracting!\"\u001b[0m\u001b[1;33m)\u001b[0m\u001b[1;33m\u001b[0m\u001b[1;33m\u001b[0m\u001b[0m\n\u001b[1;32m----> 6\u001b[1;33m \u001b[0mdefo\u001b[0m\u001b[1;33m.\u001b[0m\u001b[0mextract_deforestation\u001b[0m\u001b[1;33m(\u001b[0m\u001b[0mdef_folder\u001b[0m\u001b[1;33m,\u001b[0m \u001b[0mdef_value\u001b[0m\u001b[1;33m,\u001b[0m \u001b[0mglo_crs\u001b[0m\u001b[1;33m,\u001b[0m \u001b[0mdef_pixel_size\u001b[0m\u001b[1;33m)\u001b[0m\u001b[1;33m\u001b[0m\u001b[1;33m\u001b[0m\u001b[0m\n\u001b[0m\u001b[0;32m      7\u001b[0m \u001b[0mprint\u001b[0m\u001b[1;33m(\u001b[0m\u001b[1;34m\"Summaryzing!\"\u001b[0m\u001b[1;33m)\u001b[0m\u001b[1;33m\u001b[0m\u001b[1;33m\u001b[0m\u001b[0m\n\u001b[0;32m      8\u001b[0m \u001b[0mdefo\u001b[0m\u001b[1;33m.\u001b[0m\u001b[0msummary_deforestation\u001b[0m\u001b[1;33m(\u001b[0m\u001b[0mdef_folder\u001b[0m\u001b[1;33m)\u001b[0m\u001b[1;33m\u001b[0m\u001b[1;33m\u001b[0m\u001b[0m\n",
      "\u001b[1;32mD:\\CIAT\\Code\\BID\\dci_fauno\\src\\risk_calculator\\deforestation.py\u001b[0m in \u001b[0;36mextract_deforestation\u001b[1;34m(inputs, def_value, dst_crs, pixel_size)\u001b[0m\n\u001b[0;32m    187\u001b[0m \u001b[1;33m\u001b[0m\u001b[0m\n\u001b[0;32m    188\u001b[0m             \u001b[0mprint\u001b[0m\u001b[1;33m(\u001b[0m\u001b[1;34m\"Cropping raster\"\u001b[0m\u001b[1;33m)\u001b[0m\u001b[1;33m\u001b[0m\u001b[1;33m\u001b[0m\u001b[0m\n\u001b[1;32m--> 189\u001b[1;33m             \u001b[0mout_img\u001b[0m\u001b[1;33m,\u001b[0m \u001b[0mout_transform\u001b[0m \u001b[1;33m=\u001b[0m \u001b[0mmask\u001b[0m\u001b[1;33m(\u001b[0m\u001b[0mdataset\u001b[0m\u001b[1;33m=\u001b[0m\u001b[0mraster\u001b[0m\u001b[1;33m,\u001b[0m \u001b[0mshapes\u001b[0m\u001b[1;33m=\u001b[0m\u001b[0mcoords\u001b[0m\u001b[1;33m,\u001b[0m \u001b[0mcrop\u001b[0m\u001b[1;33m=\u001b[0m\u001b[1;32mTrue\u001b[0m\u001b[1;33m)\u001b[0m\u001b[1;33m\u001b[0m\u001b[1;33m\u001b[0m\u001b[0m\n\u001b[0m\u001b[0;32m    190\u001b[0m \u001b[1;33m\u001b[0m\u001b[0m\n\u001b[0;32m    191\u001b[0m             \u001b[1;31m# Extract values deforestation\u001b[0m\u001b[1;33m\u001b[0m\u001b[1;33m\u001b[0m\u001b[1;33m\u001b[0m\u001b[0m\n",
      "\u001b[1;32md:\\ciat\\virtualenv\\jupyter\\lib\\site-packages\\rasterio\\mask.py\u001b[0m in \u001b[0;36mmask\u001b[1;34m(dataset, shapes, all_touched, invert, nodata, filled, crop, pad, pad_width, indexes)\u001b[0m\n\u001b[0;32m    180\u001b[0m             \u001b[0mnodata\u001b[0m \u001b[1;33m=\u001b[0m \u001b[1;36m0\u001b[0m\u001b[1;33m\u001b[0m\u001b[1;33m\u001b[0m\u001b[0m\n\u001b[0;32m    181\u001b[0m \u001b[1;33m\u001b[0m\u001b[0m\n\u001b[1;32m--> 182\u001b[1;33m     shape_mask, transform, window = raster_geometry_mask(\n\u001b[0m\u001b[0;32m    183\u001b[0m         \u001b[0mdataset\u001b[0m\u001b[1;33m,\u001b[0m \u001b[0mshapes\u001b[0m\u001b[1;33m,\u001b[0m \u001b[0mall_touched\u001b[0m\u001b[1;33m=\u001b[0m\u001b[0mall_touched\u001b[0m\u001b[1;33m,\u001b[0m \u001b[0minvert\u001b[0m\u001b[1;33m=\u001b[0m\u001b[0minvert\u001b[0m\u001b[1;33m,\u001b[0m \u001b[0mcrop\u001b[0m\u001b[1;33m=\u001b[0m\u001b[0mcrop\u001b[0m\u001b[1;33m,\u001b[0m\u001b[1;33m\u001b[0m\u001b[1;33m\u001b[0m\u001b[0m\n\u001b[0;32m    184\u001b[0m         pad=pad, pad_width=pad_width)\n",
      "\u001b[1;32md:\\ciat\\virtualenv\\jupyter\\lib\\site-packages\\rasterio\\mask.py\u001b[0m in \u001b[0;36mraster_geometry_mask\u001b[1;34m(dataset, shapes, all_touched, invert, crop, pad, pad_width)\u001b[0m\n\u001b[0;32m     88\u001b[0m         \u001b[1;31m# depending on value of crop\u001b[0m\u001b[1;33m\u001b[0m\u001b[1;33m\u001b[0m\u001b[1;33m\u001b[0m\u001b[0m\n\u001b[0;32m     89\u001b[0m         \u001b[1;32mif\u001b[0m \u001b[0mcrop\u001b[0m\u001b[1;33m:\u001b[0m\u001b[1;33m\u001b[0m\u001b[1;33m\u001b[0m\u001b[0m\n\u001b[1;32m---> 90\u001b[1;33m             \u001b[1;32mraise\u001b[0m \u001b[0mValueError\u001b[0m\u001b[1;33m(\u001b[0m\u001b[1;34m'Input shapes do not overlap raster.'\u001b[0m\u001b[1;33m)\u001b[0m\u001b[1;33m\u001b[0m\u001b[1;33m\u001b[0m\u001b[0m\n\u001b[0m\u001b[0;32m     91\u001b[0m         \u001b[1;32melse\u001b[0m\u001b[1;33m:\u001b[0m\u001b[1;33m\u001b[0m\u001b[1;33m\u001b[0m\u001b[0m\n\u001b[0;32m     92\u001b[0m             warnings.warn('shapes are outside bounds of raster. '\n",
      "\u001b[1;31mValueError\u001b[0m: Input shapes do not overlap raster."
     ]
    }
   ],
   "source": [
    "# Getting parameters for filtering deforestation pixels\n",
    "def_value = int(conf.loc[conf[\"parameter\"] == \"def_value\",\"value\"].values[0])\n",
    "def_pixel_size = float(conf.loc[conf[\"parameter\"] == \"def_pixel_size\",\"value\"].values[0])\n",
    "\n",
    "print(\"Extracting!\")\n",
    "defo.extract_deforestation(def_folder, def_value, glo_crs, def_pixel_size)\n",
    "print(\"Summaryzing!\")\n",
    "defo.summary_deforestation(def_folder)\n",
    "print(\"Done!\")"
   ]
  },
  {
   "cell_type": "markdown",
   "id": "direct-suicide",
   "metadata": {},
   "source": [
    "### Deforestation - Parsing to shapefile\n",
    "In this section the raster files, which were located into rasters folders, are parsed to shapefile format.\n",
    "Both folders are transformed detail and summary"
   ]
  },
  {
   "cell_type": "code",
   "execution_count": null,
   "id": "secret-techno",
   "metadata": {},
   "outputs": [],
   "source": [
    "# Parsing to shapefile\n",
    "defo.to_shp(def_folder)\n",
    "print(\"Done!\")"
   ]
  },
  {
   "cell_type": "markdown",
   "id": "gothic-request",
   "metadata": {},
   "source": [
    "### Plots\n",
    "This section compiles all CSV files with information about plots for all years. It clear all records, \n",
    "validating that all plots have coordinates and these coordinates are good. Further it sets the region\n",
    "and locality according to shapefile of reference. Finally it creates a new layer with all data compiled"
   ]
  },
  {
   "cell_type": "code",
   "execution_count": null,
   "id": "smaller-transparency",
   "metadata": {},
   "outputs": [],
   "source": [
    "# Getting parameters for processing data\n",
    "plo_character_file = conf.loc[conf[\"parameter\"] == \"plo_character_file\",\"value\"].values[0]\n",
    "plo_src_ext_id = conf.loc[conf[\"parameter\"] == \"plo_src_ext_id\",\"value\"].values[0]\n",
    "plo_src_lat = conf.loc[conf[\"parameter\"] == \"plo_src_lat\",\"value\"].values[0]\n",
    "plo_src_lon = conf.loc[conf[\"parameter\"] == \"plo_src_lon\",\"value\"].values[0]\n",
    "plo_src_animals = conf.loc[conf[\"parameter\"] == \"plo_src_animals\",\"value\"].values[0]\n",
    "plo_src_adm1 = conf.loc[conf[\"parameter\"] == \"plo_src_adm1\",\"value\"].values[0]\n",
    "plo_src_adm2 = conf.loc[conf[\"parameter\"] == \"plo_src_adm2\",\"value\"].values[0]\n",
    "plo_src_adm3 = conf.loc[conf[\"parameter\"] == \"plo_src_adm3\",\"value\"].values[0]\n",
    "plo_lim_lat_low =  float(conf.loc[conf[\"parameter\"] == \"plo_lim_lat_low\",\"value\"].values[0])\n",
    "plo_lim_lat_upp =  float(conf.loc[conf[\"parameter\"] == \"plo_lim_lat_upp\",\"value\"].values[0])\n",
    "plo_lim_lon_low =  float(conf.loc[conf[\"parameter\"] == \"plo_lim_lon_low\",\"value\"].values[0])\n",
    "plo_lim_lon_upp =  float(conf.loc[conf[\"parameter\"] == \"plo_lim_lon_upp\",\"value\"].values[0])\n",
    "# Getting parameters for creating shp\n",
    "plo_src_crs = int(conf.loc[conf[\"parameter\"] == \"plo_src_crs\",\"value\"].values[0])\n",
    "\n",
    "has_adm = (plo_src_adm1 != \"\") & (plo_src_adm2 != \"\") & (plo_src_adm3 != \"\")\n",
    "\n",
    "# Compiling data\n",
    "plot.processing_raw_data(plot_folder, plo_character_file, \n",
    "              plo_src_ext_id, plo_src_lat, plo_src_lon, plo_src_animals,\n",
    "              plo_lim_lat_low, plo_lim_lat_upp, plo_lim_lon_low, plo_lim_lon_upp,\n",
    "              has_adm, plo_src_adm1, plo_src_adm2, plo_src_adm3)\n",
    "# Fixing data\n",
    "path_adm_shp = os.path.join(adm_folder,\"fixed\",\"adm.shp\")\n",
    "plot.create_data(plot_folder, path_adm_shp, plo_src_crs, glo_crs)\n",
    "\n",
    "print(\"Done!\")"
   ]
  },
  {
   "cell_type": "markdown",
   "id": "wicked-brick",
   "metadata": {},
   "source": [
    "### Calculating buffer by plot\n",
    "In this section, the script creates a buffer for all plots. It uses the following ecuation to set radious for the buffer: amount of animals in plot / field capacity. "
   ]
  },
  {
   "cell_type": "code",
   "execution_count": null,
   "id": "gentle-asset",
   "metadata": {},
   "outputs": [],
   "source": [
    "# Creatting buffer\n",
    "plot.create_buffer(plot_folder, buffer, glo_crs)\n",
    "print(\"Done!\")"
   ]
  },
  {
   "cell_type": "markdown",
   "id": "filled-fairy",
   "metadata": {},
   "source": [
    "## Analyzing plots"
   ]
  },
  {
   "cell_type": "markdown",
   "id": "light-tennessee",
   "metadata": {},
   "source": [
    "### Calculating deforested areas by plot\n",
    "In this section the system calculates the proportion of deforested areas by plot. It combines raster deforestation files\n",
    "and buffer shapefile."
   ]
  },
  {
   "cell_type": "code",
   "execution_count": null,
   "id": "hawaiian-episode",
   "metadata": {},
   "outputs": [],
   "source": [
    "# Getting parameters for processing data\n",
    "ris_years = map(str.strip, conf.loc[conf[\"parameter\"] == \"ris_years\",\"value\"].values[0].split(\",\"))\n",
    "ris_types_analysis =  map(str.strip, conf.loc[conf[\"parameter\"] == \"ris_types_analysis\",\"value\"].values[0].split(\",\"))\n",
    "def_pixel_size = float(conf.loc[conf[\"parameter\"] == \"def_pixel_size\",\"value\"].values[0])\n",
    "\n",
    "# De\n",
    "risk.deforestation_plot(inputs, ris_years, ris_types_analysis, def_pixel_size)"
   ]
  },
  {
   "cell_type": "code",
   "execution_count": null,
   "id": "requested-actor",
   "metadata": {},
   "outputs": [],
   "source": []
  }
 ],
 "metadata": {
  "kernelspec": {
   "display_name": "Python 3",
   "language": "python",
   "name": "python3"
  },
  "language_info": {
   "codemirror_mode": {
    "name": "ipython",
    "version": 3
   },
   "file_extension": ".py",
   "mimetype": "text/x-python",
   "name": "python",
   "nbconvert_exporter": "python",
   "pygments_lexer": "ipython3",
   "version": "3.9.1"
  }
 },
 "nbformat": 4,
 "nbformat_minor": 5
}
