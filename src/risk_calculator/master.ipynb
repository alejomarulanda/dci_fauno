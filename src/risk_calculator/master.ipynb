{
 "cells": [
  {
   "cell_type": "markdown",
   "id": "emerging-talent",
   "metadata": {},
   "source": [
    "# Risk calculator process"
   ]
  },
  {
   "cell_type": "markdown",
   "id": "comic-ghana",
   "metadata": {},
   "source": [
    "## Importing modules for running process\n",
    "In this section all modules which are used by the system are loaded in memory"
   ]
  },
  {
   "cell_type": "code",
   "execution_count": 1,
   "id": "blessed-spray",
   "metadata": {},
   "outputs": [
    {
     "name": "stdout",
     "output_type": "stream",
     "text": [
      "Done!\n"
     ]
    }
   ],
   "source": [
    "# Import libraries\n",
    "import os\n",
    "import glob\n",
    "import numpy as np\n",
    "import pandas as pd\n",
    "\n",
    "# Import modules\n",
    "import deforestation as defo\n",
    "import administrative_level as adle\n",
    "import livestock_plot as plot\n",
    "import risk as risk\n",
    "print(\"Done!\")"
   ]
  },
  {
   "cell_type": "markdown",
   "id": "middle-powell",
   "metadata": {},
   "source": [
    "## Setting global parameters\n",
    "In this section all configurations about folders and files to set up\n",
    "the system are created. These configurations are global variables for the system"
   ]
  },
  {
   "cell_type": "code",
   "execution_count": 2,
   "id": "electrical-cause",
   "metadata": {},
   "outputs": [
    {
     "name": "stdout",
     "output_type": "stream",
     "text": [
      "Done!\n"
     ]
    }
   ],
   "source": [
    "# Global folders\n",
    "#root_folder = \"/home/jovyan/work/BID/dci_fauno/\"\n",
    "root_folder = \"D:\\\\CIAT\\\\Code\\\\BID\\\\dci_fauno\"\n",
    "data_folder = os.path.join(root_folder, \"data\",\"risk_calculator\")\n",
    "inputs = os.path.join(data_folder,\"inputs\")\n",
    "outputs = os.path.join(data_folder,\"outputs\")\n",
    "conf_folder = os.path.join(data_folder,\"conf\")\n",
    "# Deforestation folders\n",
    "def_folder = os.path.join(inputs,\"def\")\n",
    "# Administrative level folders\n",
    "adm_folder = os.path.join(inputs,\"adm\")\n",
    "# Livestock plots\n",
    "plot_folder = os.path.join(inputs,\"plot\")\n",
    "\n",
    "# Parameters file\n",
    "conf_xls = pd.ExcelFile(os.path.join(conf_folder,\"conf.xlsx\"))\n",
    "conf = conf_xls.parse(\"conf\")\n",
    "buffer = conf_xls.parse(\"buffer\")\n",
    "\n",
    "# Global parameters from conf.xlsx file\n",
    "glo_crs = int(conf.loc[conf[\"parameter\"] == \"glo_crs\",\"value\"].values[0])\n",
    "\n",
    "# Creating folders\n",
    "# Create folder for deforestation files\n",
    "if not os.path.exists(def_folder):    \n",
    "    os.mkdir(def_folder)\n",
    "# Create folder for administrative level files\n",
    "if not os.path.exists(adm_folder):    \n",
    "    os.mkdir(adm_folder)\n",
    "# Create folder for livestock plot files\n",
    "if not os.path.exists(plot_folder):    \n",
    "    os.mkdir(plot_folder)\n",
    "\n",
    "print(\"Done!\")"
   ]
  },
  {
   "cell_type": "markdown",
   "id": "smaller-dimension",
   "metadata": {},
   "source": [
    "## Downloading data\n",
    "This section downloads all data require by the system. It keeps all raw files, it will allow to debug if it would be necessary"
   ]
  },
  {
   "cell_type": "markdown",
   "id": "fantastic-honor",
   "metadata": {},
   "source": [
    "### Administrative level - Download and unzip\n",
    "In this section all data about administrative lever of the country will be downloaded and extracted\n",
    "into specific folders."
   ]
  },
  {
   "cell_type": "code",
   "execution_count": null,
   "id": "arbitrary-delaware",
   "metadata": {},
   "outputs": [],
   "source": [
    "# Getting parameters for downloading adiministrative sources\n",
    "adm_url_source = conf.loc[conf[\"parameter\"] == \"adm_url_source\",\"value\"].values[0]\n",
    "# Download files from source in zip format and extract them\n",
    "adle.download_data(adm_folder, adm_url_source)\n",
    "print(\"Done!\")"
   ]
  },
  {
   "cell_type": "markdown",
   "id": "outside-blocking",
   "metadata": {},
   "source": [
    "### Deforestation - Download and unzip\n",
    "In this section all data about deforestation for a country are downloaded and extracted\n",
    "into specific folders."
   ]
  },
  {
   "cell_type": "code",
   "execution_count": null,
   "id": "pleased-brave",
   "metadata": {},
   "outputs": [],
   "source": [
    "# Getting parameters for downloading deforestation files\n",
    "url_base = conf.loc[conf[\"parameter\"] == \"def_src_base_url\",\"value\"].values[0]\n",
    "file_name_base = conf.loc[conf[\"parameter\"] == \"def_src_file_name\",\"value\"].values[0]\n",
    "def_periods = conf.loc[conf[\"parameter\"] == \"def_periods\",\"value\"].values[0].split(\",\")\n",
    "\n",
    "# Download files from source in zip format and extract them\n",
    "defo.download_deforestation(def_folder, url_base, file_name_base, def_periods)\n",
    "print(\"Done!\")"
   ]
  },
  {
   "cell_type": "markdown",
   "id": "potential-bonus",
   "metadata": {},
   "source": [
    "## Fixing data\n",
    "This chaptar fix the data downloaded into files and formats, in order to can process information"
   ]
  },
  {
   "cell_type": "markdown",
   "id": "incorporate-lyric",
   "metadata": {},
   "source": [
    "### Administrative level - Reproject\n",
    "This process reprojects to CRS destiny the original database"
   ]
  },
  {
   "cell_type": "code",
   "execution_count": null,
   "id": "pointed-greeting",
   "metadata": {},
   "outputs": [],
   "source": [
    "adm_src_adm1_name = conf.loc[conf[\"parameter\"] == \"adm_src_adm1_name\",\"value\"].values[0]\n",
    "adm_src_adm1_id = conf.loc[conf[\"parameter\"] == \"adm_src_adm1_id\",\"value\"].values[0]\n",
    "adm_src_adm2_name = conf.loc[conf[\"parameter\"] == \"adm_src_adm2_name\",\"value\"].values[0]\n",
    "adm_src_adm2_id = conf.loc[conf[\"parameter\"] == \"adm_src_adm2_id\",\"value\"].values[0]\n",
    "adm_src_adm3_name = conf.loc[conf[\"parameter\"] == \"adm_src_adm3_name\",\"value\"].values[0]\n",
    "adm_src_adm3_id = conf.loc[conf[\"parameter\"] == \"adm_src_adm3_id\",\"value\"].values[0]\n",
    "adm_src_area = conf.loc[conf[\"parameter\"] == \"adm_src_area\",\"value\"].values[0]\n",
    "adm_src_geometry = conf.loc[conf[\"parameter\"] == \"adm_src_geometry\",\"value\"].values[0]\n",
    "\n",
    "# Reporject file\n",
    "adle.reproject_source(adm_folder, glo_crs,\n",
    "                      adm_src_adm1_name, adm_src_adm1_id, \n",
    "                      adm_src_adm2_name, adm_src_adm2_id, \n",
    "                      adm_src_adm3_name, adm_src_adm3_id, \n",
    "                      adm_src_area, adm_src_geometry)\n",
    "print(\"Done!\")"
   ]
  },
  {
   "cell_type": "markdown",
   "id": "loved-handle",
   "metadata": {},
   "source": [
    "### Deforestation - Extract deforestation values\n",
    "This section takes the rasters files, which were downloaded, then extract just deforestation pixels\n",
    "and create a new raster with this data. Finally it creates a summary raster which merge all\n",
    "others raster files in just one. The output raster files are standarized, it means all pixels are in \n",
    "the same size, the CRS is the same for all, and are clipped with the same size"
   ]
  },
  {
   "cell_type": "code",
   "execution_count": 3,
   "id": "speaking-cheese",
   "metadata": {},
   "outputs": [
    {
     "name": "stdout",
     "output_type": "stream",
     "text": [
      "Extracting!\n",
      "Calculating parameters for new files\n",
      "file: D:\\CIAT\\Code\\BID\\dci_fauno\\data\\risk_calculator\\inputs\\def\\content\\Cambio_Cobertura_Bosque_No_Bosque_2010_2012\\Geotiff\\DCCB_SMBYC_CBBQ_V5_2010_2012.tif\n",
      "file: D:\\CIAT\\Code\\BID\\dci_fauno\\data\\risk_calculator\\inputs\\def\\content\\Cambio_Cobertura_Bosque_No_Bosque_2012_2013\\Geotiff\\DCCB_SMBYC_CBBQ_V5_2012_2013.tif\n",
      "file: D:\\CIAT\\Code\\BID\\dci_fauno\\data\\risk_calculator\\inputs\\def\\content\\Cambio_Cobertura_Bosque_No_Bosque_2013_2014\\Geotiff\\DCCB_SMBYC_CBBQ_V6_2013_2014.tif\n",
      "file: D:\\CIAT\\Code\\BID\\dci_fauno\\data\\risk_calculator\\inputs\\def\\content\\Cambio_Cobertura_Bosque_No_Bosque_2014_2015\\GeoTiff\\DCCB_SMBYC_CBBQ_V7_2014_2015.tif\n",
      "file: D:\\CIAT\\Code\\BID\\dci_fauno\\data\\risk_calculator\\inputs\\def\\content\\Cambio_Cobertura_Bosque_No_Bosque_2015_2016\\Geotiff\\DCCB_SMBYC_CBBQ_V7_2015_2016.tif\n",
      "file: D:\\CIAT\\Code\\BID\\dci_fauno\\data\\risk_calculator\\inputs\\def\\content\\Cambio_Cobertura_Bosque_No_Bosque_2016_2017\\TTTHM4RG3_BEA_T_reprojected_2016_2017.tif\n",
      "file: D:\\CIAT\\Code\\BID\\dci_fauno\\data\\risk_calculator\\inputs\\def\\content\\Cambio_Cobertura_Bosque_No_Bosque_2017_2018\\TT8FG4BA5_BEA_T_reprojected_2017_2018.tif\n",
      "file: D:\\CIAT\\Code\\BID\\dci_fauno\\data\\risk_calculator\\inputs\\def\\content\\Cambio_Cobertura_Bosque_No_Bosque_2018_2019\\reprojected_2018-2019.tif\n",
      "Bounds: POLYGON ((-66.65601560981048 -4.244791035761322, -66.65601560981048 12.580743905, -79.224357185 12.580743905, -79.224357185 -4.244791035761322, -66.65601560981048 -4.244791035761322))\n",
      "CRS: EPSG:4686\n",
      "Working: D:\\CIAT\\Code\\BID\\dci_fauno\\data\\risk_calculator\\inputs\\def\\content\\Cambio_Cobertura_Bosque_No_Bosque_2010_2012\\Geotiff\\DCCB_SMBYC_CBBQ_V5_2010_2012.tif\n",
      "Reprojecting: D:\\CIAT\\Code\\BID\\dci_fauno\\data\\risk_calculator\\inputs\\def\\fixed\\DCCB_SMBYC_CBBQ_V5_2010_2012_tmp.tif\n"
     ]
    },
    {
     "name": "stderr",
     "output_type": "stream",
     "text": [
      "d:\\ciat\\virtualenv\\jupyter\\lib\\site-packages\\pyproj\\crs\\crs.py:53: FutureWarning: '+init=<authority>:<code>' syntax is deprecated. '<authority>:<code>' is the preferred initialization method. When making the change, be mindful of axis order changes: https://pyproj4.github.io/pyproj/stable/gotchas.html#axis-order-changes-in-proj-6\n",
      "  return _prepare_from_string(\" \".join(pjargs))\n"
     ]
    },
    {
     "name": "stdout",
     "output_type": "stream",
     "text": [
      "Opening: D:\\CIAT\\Code\\BID\\dci_fauno\\data\\risk_calculator\\inputs\\def\\fixed\\DCCB_SMBYC_CBBQ_V5_2010_2012_tmp.tif\n",
      "Cropping raster\n",
      "Dimention: H=61079 W=45525\n",
      "Saving: D:\\CIAT\\Code\\BID\\dci_fauno\\data\\risk_calculator\\inputs\\def\\fixed\\raster_detail\\2010.tif\n",
      "Deleting tmp: D:\\CIAT\\Code\\BID\\dci_fauno\\data\\risk_calculator\\inputs\\def\\fixed\\DCCB_SMBYC_CBBQ_V5_2010_2012_tmp.tif\n",
      "Working: D:\\CIAT\\Code\\BID\\dci_fauno\\data\\risk_calculator\\inputs\\def\\content\\Cambio_Cobertura_Bosque_No_Bosque_2012_2013\\Geotiff\\DCCB_SMBYC_CBBQ_V5_2012_2013.tif\n",
      "Reprojecting: D:\\CIAT\\Code\\BID\\dci_fauno\\data\\risk_calculator\\inputs\\def\\fixed\\DCCB_SMBYC_CBBQ_V5_2012_2013_tmp.tif\n",
      "Opening: D:\\CIAT\\Code\\BID\\dci_fauno\\data\\risk_calculator\\inputs\\def\\fixed\\DCCB_SMBYC_CBBQ_V5_2012_2013_tmp.tif\n",
      "Cropping raster\n",
      "Dimention: H=61079 W=45525\n",
      "Saving: D:\\CIAT\\Code\\BID\\dci_fauno\\data\\risk_calculator\\inputs\\def\\fixed\\raster_detail\\2012.tif\n",
      "Deleting tmp: D:\\CIAT\\Code\\BID\\dci_fauno\\data\\risk_calculator\\inputs\\def\\fixed\\DCCB_SMBYC_CBBQ_V5_2012_2013_tmp.tif\n",
      "Working: D:\\CIAT\\Code\\BID\\dci_fauno\\data\\risk_calculator\\inputs\\def\\content\\Cambio_Cobertura_Bosque_No_Bosque_2013_2014\\Geotiff\\DCCB_SMBYC_CBBQ_V6_2013_2014.tif\n",
      "Reprojecting: D:\\CIAT\\Code\\BID\\dci_fauno\\data\\risk_calculator\\inputs\\def\\fixed\\DCCB_SMBYC_CBBQ_V6_2013_2014_tmp.tif\n",
      "Opening: D:\\CIAT\\Code\\BID\\dci_fauno\\data\\risk_calculator\\inputs\\def\\fixed\\DCCB_SMBYC_CBBQ_V6_2013_2014_tmp.tif\n",
      "Cropping raster\n",
      "Dimention: H=61079 W=45525\n",
      "Saving: D:\\CIAT\\Code\\BID\\dci_fauno\\data\\risk_calculator\\inputs\\def\\fixed\\raster_detail\\2013.tif\n",
      "Deleting tmp: D:\\CIAT\\Code\\BID\\dci_fauno\\data\\risk_calculator\\inputs\\def\\fixed\\DCCB_SMBYC_CBBQ_V6_2013_2014_tmp.tif\n",
      "Working: D:\\CIAT\\Code\\BID\\dci_fauno\\data\\risk_calculator\\inputs\\def\\content\\Cambio_Cobertura_Bosque_No_Bosque_2014_2015\\GeoTiff\\DCCB_SMBYC_CBBQ_V7_2014_2015.tif\n",
      "Reprojecting: D:\\CIAT\\Code\\BID\\dci_fauno\\data\\risk_calculator\\inputs\\def\\fixed\\DCCB_SMBYC_CBBQ_V7_2014_2015_tmp.tif\n",
      "Opening: D:\\CIAT\\Code\\BID\\dci_fauno\\data\\risk_calculator\\inputs\\def\\fixed\\DCCB_SMBYC_CBBQ_V7_2014_2015_tmp.tif\n",
      "Cropping raster\n",
      "Dimention: H=61079 W=45525\n",
      "Saving: D:\\CIAT\\Code\\BID\\dci_fauno\\data\\risk_calculator\\inputs\\def\\fixed\\raster_detail\\2014.tif\n",
      "Deleting tmp: D:\\CIAT\\Code\\BID\\dci_fauno\\data\\risk_calculator\\inputs\\def\\fixed\\DCCB_SMBYC_CBBQ_V7_2014_2015_tmp.tif\n",
      "Working: D:\\CIAT\\Code\\BID\\dci_fauno\\data\\risk_calculator\\inputs\\def\\content\\Cambio_Cobertura_Bosque_No_Bosque_2015_2016\\Geotiff\\DCCB_SMBYC_CBBQ_V7_2015_2016.tif\n",
      "Reprojecting: D:\\CIAT\\Code\\BID\\dci_fauno\\data\\risk_calculator\\inputs\\def\\fixed\\DCCB_SMBYC_CBBQ_V7_2015_2016_tmp.tif\n",
      "Opening: D:\\CIAT\\Code\\BID\\dci_fauno\\data\\risk_calculator\\inputs\\def\\fixed\\DCCB_SMBYC_CBBQ_V7_2015_2016_tmp.tif\n",
      "Cropping raster\n",
      "Dimention: H=61079 W=45525\n",
      "Saving: D:\\CIAT\\Code\\BID\\dci_fauno\\data\\risk_calculator\\inputs\\def\\fixed\\raster_detail\\2015.tif\n",
      "Deleting tmp: D:\\CIAT\\Code\\BID\\dci_fauno\\data\\risk_calculator\\inputs\\def\\fixed\\DCCB_SMBYC_CBBQ_V7_2015_2016_tmp.tif\n",
      "Working: D:\\CIAT\\Code\\BID\\dci_fauno\\data\\risk_calculator\\inputs\\def\\content\\Cambio_Cobertura_Bosque_No_Bosque_2016_2017\\TTTHM4RG3_BEA_T_reprojected_2016_2017.tif\n",
      "Reprojecting: D:\\CIAT\\Code\\BID\\dci_fauno\\data\\risk_calculator\\inputs\\def\\fixed\\TTTHM4RG3_BEA_T_reprojected_2016_2017_tmp.tif\n",
      "Opening: D:\\CIAT\\Code\\BID\\dci_fauno\\data\\risk_calculator\\inputs\\def\\fixed\\TTTHM4RG3_BEA_T_reprojected_2016_2017_tmp.tif\n",
      "Cropping raster\n",
      "Dimention: H=61079 W=45525\n",
      "Saving: D:\\CIAT\\Code\\BID\\dci_fauno\\data\\risk_calculator\\inputs\\def\\fixed\\raster_detail\\2016.tif\n",
      "Deleting tmp: D:\\CIAT\\Code\\BID\\dci_fauno\\data\\risk_calculator\\inputs\\def\\fixed\\TTTHM4RG3_BEA_T_reprojected_2016_2017_tmp.tif\n",
      "Working: D:\\CIAT\\Code\\BID\\dci_fauno\\data\\risk_calculator\\inputs\\def\\content\\Cambio_Cobertura_Bosque_No_Bosque_2017_2018\\TT8FG4BA5_BEA_T_reprojected_2017_2018.tif\n",
      "Reprojecting: D:\\CIAT\\Code\\BID\\dci_fauno\\data\\risk_calculator\\inputs\\def\\fixed\\TT8FG4BA5_BEA_T_reprojected_2017_2018_tmp.tif\n",
      "Opening: D:\\CIAT\\Code\\BID\\dci_fauno\\data\\risk_calculator\\inputs\\def\\fixed\\TT8FG4BA5_BEA_T_reprojected_2017_2018_tmp.tif\n",
      "Cropping raster\n",
      "Dimention: H=61079 W=45525\n",
      "Saving: D:\\CIAT\\Code\\BID\\dci_fauno\\data\\risk_calculator\\inputs\\def\\fixed\\raster_detail\\2017.tif\n",
      "Deleting tmp: D:\\CIAT\\Code\\BID\\dci_fauno\\data\\risk_calculator\\inputs\\def\\fixed\\TT8FG4BA5_BEA_T_reprojected_2017_2018_tmp.tif\n",
      "Working: D:\\CIAT\\Code\\BID\\dci_fauno\\data\\risk_calculator\\inputs\\def\\content\\Cambio_Cobertura_Bosque_No_Bosque_2018_2019\\reprojected_2018-2019.tif\n",
      "Reprojecting: D:\\CIAT\\Code\\BID\\dci_fauno\\data\\risk_calculator\\inputs\\def\\fixed\\reprojected_2018-2019_tmp.tif\n",
      "Opening: D:\\CIAT\\Code\\BID\\dci_fauno\\data\\risk_calculator\\inputs\\def\\fixed\\reprojected_2018-2019_tmp.tif\n",
      "Cropping raster\n",
      "Dimention: H=61079 W=45525\n",
      "Saving: D:\\CIAT\\Code\\BID\\dci_fauno\\data\\risk_calculator\\inputs\\def\\fixed\\raster_detail\\2018.tif\n",
      "Deleting tmp: D:\\CIAT\\Code\\BID\\dci_fauno\\data\\risk_calculator\\inputs\\def\\fixed\\reprojected_2018-2019_tmp.tif\n",
      "Summaryzing!\n",
      "Compiling rasters files\n",
      "D:\\CIAT\\Code\\BID\\dci_fauno\\data\\risk_calculator\\inputs\\def\\fixed\\raster_detail\\2010.tif\n",
      "Saving: D:\\CIAT\\Code\\BID\\dci_fauno\\data\\risk_calculator\\inputs\\def\\fixed\\raster_summary\\2010.tif\n",
      "D:\\CIAT\\Code\\BID\\dci_fauno\\data\\risk_calculator\\inputs\\def\\fixed\\raster_detail\\2012.tif\n",
      "Saving: D:\\CIAT\\Code\\BID\\dci_fauno\\data\\risk_calculator\\inputs\\def\\fixed\\raster_summary\\2012.tif\n",
      "D:\\CIAT\\Code\\BID\\dci_fauno\\data\\risk_calculator\\inputs\\def\\fixed\\raster_detail\\2013.tif\n",
      "Saving: D:\\CIAT\\Code\\BID\\dci_fauno\\data\\risk_calculator\\inputs\\def\\fixed\\raster_summary\\2013.tif\n",
      "D:\\CIAT\\Code\\BID\\dci_fauno\\data\\risk_calculator\\inputs\\def\\fixed\\raster_detail\\2014.tif\n",
      "Saving: D:\\CIAT\\Code\\BID\\dci_fauno\\data\\risk_calculator\\inputs\\def\\fixed\\raster_summary\\2014.tif\n",
      "D:\\CIAT\\Code\\BID\\dci_fauno\\data\\risk_calculator\\inputs\\def\\fixed\\raster_detail\\2015.tif\n",
      "Saving: D:\\CIAT\\Code\\BID\\dci_fauno\\data\\risk_calculator\\inputs\\def\\fixed\\raster_summary\\2015.tif\n",
      "D:\\CIAT\\Code\\BID\\dci_fauno\\data\\risk_calculator\\inputs\\def\\fixed\\raster_detail\\2016.tif\n",
      "Saving: D:\\CIAT\\Code\\BID\\dci_fauno\\data\\risk_calculator\\inputs\\def\\fixed\\raster_summary\\2016.tif\n",
      "D:\\CIAT\\Code\\BID\\dci_fauno\\data\\risk_calculator\\inputs\\def\\fixed\\raster_detail\\2017.tif\n",
      "Saving: D:\\CIAT\\Code\\BID\\dci_fauno\\data\\risk_calculator\\inputs\\def\\fixed\\raster_summary\\2017.tif\n",
      "D:\\CIAT\\Code\\BID\\dci_fauno\\data\\risk_calculator\\inputs\\def\\fixed\\raster_detail\\2018.tif\n",
      "Saving: D:\\CIAT\\Code\\BID\\dci_fauno\\data\\risk_calculator\\inputs\\def\\fixed\\raster_summary\\2018.tif\n",
      "Done!\n"
     ]
    }
   ],
   "source": [
    "# Getting parameters for filtering deforestation pixels\n",
    "def_value = int(conf.loc[conf[\"parameter\"] == \"def_value\",\"value\"].values[0])\n",
    "def_pixel_size = float(conf.loc[conf[\"parameter\"] == \"def_pixel_size\",\"value\"].values[0])\n",
    "\n",
    "print(\"Extracting!\")\n",
    "defo.extract_deforestation(def_folder, def_value, glo_crs, def_pixel_size)\n",
    "print(\"Summaryzing!\")\n",
    "defo.summary_deforestation(def_folder)\n",
    "print(\"Done!\")"
   ]
  },
  {
   "cell_type": "markdown",
   "id": "direct-suicide",
   "metadata": {},
   "source": [
    "### Deforestation - Parsing to shapefile\n",
    "In this section the raster files, which were located into rasters folders, are parsed to shapefile format.\n",
    "Both folders are transformed detail and summary"
   ]
  },
  {
   "cell_type": "code",
   "execution_count": null,
   "id": "secret-techno",
   "metadata": {},
   "outputs": [
    {
     "name": "stdout",
     "output_type": "stream",
     "text": [
      "Opening: D:\\CIAT\\Code\\BID\\dci_fauno\\data\\risk_calculator\\inputs\\def\\fixed\\raster_detail\\2010.tif\n",
      "Transforming\n",
      "Creating shapefile crs: {'init': 'epsg:3116'}\n",
      "Saving: D:\\CIAT\\Code\\BID\\dci_fauno\\data\\risk_calculator\\inputs\\def\\fixed\\shp_detail\\2010\\shapefile.shp\n",
      "Opening: D:\\CIAT\\Code\\BID\\dci_fauno\\data\\risk_calculator\\inputs\\def\\fixed\\raster_detail\\2012.tif\n",
      "Transforming\n",
      "Creating shapefile crs: {'init': 'epsg:3116'}\n",
      "Saving: D:\\CIAT\\Code\\BID\\dci_fauno\\data\\risk_calculator\\inputs\\def\\fixed\\shp_detail\\2012\\shapefile.shp\n",
      "Opening: D:\\CIAT\\Code\\BID\\dci_fauno\\data\\risk_calculator\\inputs\\def\\fixed\\raster_detail\\2013.tif\n",
      "Transforming\n",
      "Creating shapefile crs: {'init': 'epsg:3116'}\n",
      "Saving: D:\\CIAT\\Code\\BID\\dci_fauno\\data\\risk_calculator\\inputs\\def\\fixed\\shp_detail\\2013\\shapefile.shp\n",
      "Opening: D:\\CIAT\\Code\\BID\\dci_fauno\\data\\risk_calculator\\inputs\\def\\fixed\\raster_detail\\2014.tif\n",
      "Transforming\n",
      "Creating shapefile crs: {'init': 'epsg:3116'}\n",
      "Saving: D:\\CIAT\\Code\\BID\\dci_fauno\\data\\risk_calculator\\inputs\\def\\fixed\\shp_detail\\2014\\shapefile.shp\n"
     ]
    }
   ],
   "source": [
    "# Parsing to shapefile\n",
    "defo.to_shp(def_folder)\n",
    "print(\"Done!\")"
   ]
  },
  {
   "cell_type": "markdown",
   "id": "gothic-request",
   "metadata": {},
   "source": [
    "### Plots\n",
    "This section compiles all CSV files with information about plots for all years. It clear all records, \n",
    "validating that all plots have coordinates and these coordinates are good. Further it sets the region\n",
    "and locality according to shapefile of reference. Finally it creates a new layer with all data compiled"
   ]
  },
  {
   "cell_type": "code",
   "execution_count": null,
   "id": "smaller-transparency",
   "metadata": {},
   "outputs": [],
   "source": [
    "# Getting parameters for processing data\n",
    "plo_character_file = conf.loc[conf[\"parameter\"] == \"plo_character_file\",\"value\"].values[0]\n",
    "plo_src_ext_id = conf.loc[conf[\"parameter\"] == \"plo_src_ext_id\",\"value\"].values[0]\n",
    "plo_src_lat = conf.loc[conf[\"parameter\"] == \"plo_src_lat\",\"value\"].values[0]\n",
    "plo_src_lon = conf.loc[conf[\"parameter\"] == \"plo_src_lon\",\"value\"].values[0]\n",
    "plo_src_animals = conf.loc[conf[\"parameter\"] == \"plo_src_animals\",\"value\"].values[0]\n",
    "plo_src_adm1 = conf.loc[conf[\"parameter\"] == \"plo_src_adm1\",\"value\"].values[0]\n",
    "plo_src_adm2 = conf.loc[conf[\"parameter\"] == \"plo_src_adm2\",\"value\"].values[0]\n",
    "plo_src_adm3 = conf.loc[conf[\"parameter\"] == \"plo_src_adm3\",\"value\"].values[0]\n",
    "plo_lim_lat_low =  float(conf.loc[conf[\"parameter\"] == \"plo_lim_lat_low\",\"value\"].values[0])\n",
    "plo_lim_lat_upp =  float(conf.loc[conf[\"parameter\"] == \"plo_lim_lat_upp\",\"value\"].values[0])\n",
    "plo_lim_lon_low =  float(conf.loc[conf[\"parameter\"] == \"plo_lim_lon_low\",\"value\"].values[0])\n",
    "plo_lim_lon_upp =  float(conf.loc[conf[\"parameter\"] == \"plo_lim_lon_upp\",\"value\"].values[0])\n",
    "# Getting parameters for creating shp\n",
    "plo_src_crs = int(conf.loc[conf[\"parameter\"] == \"plo_src_crs\",\"value\"].values[0])\n",
    "\n",
    "has_adm = (plo_src_adm1 != \"\") & (plo_src_adm2 != \"\") & (plo_src_adm3 != \"\")\n",
    "\n",
    "# Compiling data\n",
    "plot.processing_raw_data(plot_folder, plo_character_file, \n",
    "              plo_src_ext_id, plo_src_lat, plo_src_lon, plo_src_animals,\n",
    "              plo_lim_lat_low, plo_lim_lat_upp, plo_lim_lon_low, plo_lim_lon_upp,\n",
    "              has_adm, plo_src_adm1, plo_src_adm2, plo_src_adm3)\n",
    "# Fixing data\n",
    "path_adm_shp = os.path.join(adm_folder,\"fixed\",\"adm.shp\")\n",
    "plot.create_data(plot_folder, path_adm_shp, plo_src_crs, glo_crs)\n",
    "\n",
    "print(\"Done!\")"
   ]
  },
  {
   "cell_type": "markdown",
   "id": "wicked-brick",
   "metadata": {},
   "source": [
    "### Calculating buffer by plot\n",
    "In this section, the script creates a buffer for all plots. It uses the following ecuation to set radious for the buffer: amount of animals in plot / field capacity. "
   ]
  },
  {
   "cell_type": "code",
   "execution_count": null,
   "id": "gentle-asset",
   "metadata": {},
   "outputs": [],
   "source": [
    "# Creatting buffer\n",
    "plot.create_buffer(plot_folder, buffer, glo_crs)\n",
    "print(\"Done!\")"
   ]
  },
  {
   "cell_type": "markdown",
   "id": "filled-fairy",
   "metadata": {},
   "source": [
    "## Analyzing plots"
   ]
  },
  {
   "cell_type": "markdown",
   "id": "light-tennessee",
   "metadata": {},
   "source": [
    "### Calculating deforested areas by plot\n",
    "In this section the system calculates the proportion of deforested areas by plot. It combines raster deforestation files\n",
    "and buffer shapefile."
   ]
  },
  {
   "cell_type": "code",
   "execution_count": null,
   "id": "hawaiian-episode",
   "metadata": {},
   "outputs": [],
   "source": [
    "# Getting parameters for processing data\n",
    "ris_years = map(str.strip, conf.loc[conf[\"parameter\"] == \"ris_years\",\"value\"].values[0].split(\",\"))\n",
    "ris_types_analysis =  map(str.strip, conf.loc[conf[\"parameter\"] == \"ris_types_analysis\",\"value\"].values[0].split(\",\"))\n",
    "def_pixel_size = float(conf.loc[conf[\"parameter\"] == \"def_pixel_size\",\"value\"].values[0])\n",
    "\n",
    "# De\n",
    "risk.deforestation_plot(inputs, ris_years, ris_types_analysis, def_pixel_size)"
   ]
  },
  {
   "cell_type": "code",
   "execution_count": null,
   "id": "requested-actor",
   "metadata": {},
   "outputs": [],
   "source": []
  }
 ],
 "metadata": {
  "kernelspec": {
   "display_name": "Python 3",
   "language": "python",
   "name": "python3"
  },
  "language_info": {
   "codemirror_mode": {
    "name": "ipython",
    "version": 3
   },
   "file_extension": ".py",
   "mimetype": "text/x-python",
   "name": "python",
   "nbconvert_exporter": "python",
   "pygments_lexer": "ipython3",
   "version": "3.9.1"
  }
 },
 "nbformat": 4,
 "nbformat_minor": 5
}
