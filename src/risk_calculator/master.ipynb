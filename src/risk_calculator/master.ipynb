{
 "cells": [
  {
   "cell_type": "markdown",
   "id": "emerging-talent",
   "metadata": {},
   "source": [
    "# Risk calculator process"
   ]
  },
  {
   "cell_type": "markdown",
   "id": "comic-ghana",
   "metadata": {},
   "source": [
    "## Importing modules for running process\n",
    "In this section all modules which are used by the system are loaded in memory"
   ]
  },
  {
   "cell_type": "code",
   "execution_count": 1,
   "id": "blessed-spray",
   "metadata": {},
   "outputs": [],
   "source": [
    "# Import libraries\n",
    "import os\n",
    "import glob\n",
    "import numpy as np\n",
    "import pandas as pd\n",
    "\n",
    "# Import modules\n",
    "import deforestation as defo"
   ]
  },
  {
   "cell_type": "markdown",
   "id": "middle-powell",
   "metadata": {},
   "source": [
    "## Setting global parameters\n",
    "In this section all configurations about folders and files to set up\n",
    "the system are created. These configurations are global variables for the system"
   ]
  },
  {
   "cell_type": "code",
   "execution_count": 2,
   "id": "electrical-cause",
   "metadata": {},
   "outputs": [
    {
     "name": "stdout",
     "output_type": "stream",
     "text": [
      "Done!\n"
     ]
    }
   ],
   "source": [
    "# Global folders\n",
    "#root_folder = \"/home/jovyan/work/BID/dci_fauno/\"\n",
    "root_folder = \"D:\\\\CIAT\\\\Code\\\\BID\\\\dci_fauno\"\n",
    "data_folder = os.path.join(root_folder, \"data\",\"risk_calculator\")\n",
    "inputs = os.path.join(data_folder,\"inputs\")\n",
    "outputs = os.path.join(data_folder,\"outputs\")\n",
    "conf_folder = os.path.join(data_folder,\"conf\")\n",
    "# Deforestation folders\n",
    "def_folder = os.path.join(inputs,\"def\")\n",
    "\n",
    "# Parameters file\n",
    "conf_xls = pd.ExcelFile(os.path.join(conf_folder,\"conf.xlsx\"))\n",
    "conf = conf_xls.parse(\"conf\")\n",
    "\n",
    "# Creating folders\n",
    "# Create folder for deforestation files\n",
    "if not os.path.exists(def_folder):    \n",
    "    os.mkdir(def_folder)\n",
    "\n",
    "print(\"Done!\")"
   ]
  },
  {
   "cell_type": "markdown",
   "id": "smaller-dimension",
   "metadata": {},
   "source": [
    "# Deforestation\n",
    "This chapter is responsible to prepare all files about deforestation in order to they can \n",
    "be processed then."
   ]
  },
  {
   "cell_type": "markdown",
   "id": "positive-monday",
   "metadata": {},
   "source": [
    "## Download and unzip deforestation data\n",
    "In this section all data about deforestation for a country will be downloaded and extracted\n",
    "into specific folders. It keeps all files"
   ]
  },
  {
   "cell_type": "code",
   "execution_count": null,
   "id": "pleased-brave",
   "metadata": {},
   "outputs": [],
   "source": [
    "# Getting parameters for downloading deforestation files\n",
    "url_base = conf.loc[conf[\"parameter\"] == \"def_src_base_url\",\"value\"].values[0]\n",
    "file_name_base = conf.loc[conf[\"parameter\"] == \"def_src_file_name\",\"value\"].values[0]\n",
    "def_periods = conf.loc[conf[\"parameter\"] == \"def_periods\",\"value\"].values[0].split(\",\")\n",
    "\n",
    "# Download files from source in zip format and extract them\n",
    "defo.download_deforestation(def_folder, url_base, file_name_base, def_periods)"
   ]
  },
  {
   "cell_type": "markdown",
   "id": "loved-handle",
   "metadata": {},
   "source": [
    "## Extract deforestation values\n",
    "This section takes the raster, which were downloaded, so extract just deforestation pixels\n",
    "and create a new raster with this data. Then it creates a summary raster which merge all\n",
    "others raster files in just one"
   ]
  },
  {
   "cell_type": "code",
   "execution_count": null,
   "id": "speaking-cheese",
   "metadata": {},
   "outputs": [
    {
     "name": "stdout",
     "output_type": "stream",
     "text": [
      "Calculating parameters for new files\n",
      "Outputs paramaters for rasters files:\n",
      "Bounds: POLYGON ((-66.65601560981048 -4.244791035761322, -66.65601560981048 13.41161398742386, -81.79485170083258 13.41161398742386, -81.79485170083258 -4.244791035761322, -66.65601560981048 -4.244791035761322))\n",
      "CSR: EPSG:4686\n"
     ]
    },
    {
     "name": "stderr",
     "output_type": "stream",
     "text": [
      "d:\\ciat\\virtualenv\\jupyter\\lib\\site-packages\\pyproj\\crs\\crs.py:53: FutureWarning: '+init=<authority>:<code>' syntax is deprecated. '<authority>:<code>' is the preferred initialization method. When making the change, be mindful of axis order changes: https://pyproj4.github.io/pyproj/stable/gotchas.html#axis-order-changes-in-proj-6\n",
      "  return _prepare_from_string(\" \".join(pjargs))\n"
     ]
    },
    {
     "name": "stdout",
     "output_type": "stream",
     "text": [
      "Opening: D:\\CIAT\\Code\\BID\\dci_fauno\\data\\risk_calculator\\inputs\\def\\content\\Cambio_Cobertura_Bosque_No_Bosque_2010_2012\\Geotiff\\DCCB_SMBYC_CBBQ_V5_2010_2012.tif\n",
      "Cropping raster\n",
      "Resampling raster\n",
      "Saving: D:\\CIAT\\Code\\BID\\dci_fauno\\data\\risk_calculator\\inputs\\def\\fixed\\DCCB_SMBYC_CBBQ_V5_2010_2012.tif\n",
      "Opening: D:\\CIAT\\Code\\BID\\dci_fauno\\data\\risk_calculator\\inputs\\def\\content\\Cambio_Cobertura_Bosque_No_Bosque_2012_2013\\Geotiff\\DCCB_SMBYC_CBBQ_V5_2012_2013.tif\n",
      "Cropping raster\n",
      "Resampling raster\n",
      "Saving: D:\\CIAT\\Code\\BID\\dci_fauno\\data\\risk_calculator\\inputs\\def\\fixed\\DCCB_SMBYC_CBBQ_V5_2012_2013.tif\n",
      "Opening: D:\\CIAT\\Code\\BID\\dci_fauno\\data\\risk_calculator\\inputs\\def\\content\\Cambio_Cobertura_Bosque_No_Bosque_2013_2014\\Geotiff\\DCCB_SMBYC_CBBQ_V6_2013_2014.tif\n",
      "Cropping raster\n"
     ]
    }
   ],
   "source": [
    "# Getting parameters for filtering deforestation pixels\n",
    "def_value = int(conf.loc[conf[\"parameter\"] == \"def_value\",\"value\"].values[0])\n",
    "def_pixel_size = float(conf.loc[conf[\"parameter\"] == \"def_pixel_size\",\"value\"].values[0])\n",
    "\n",
    "defo.extract_deforestation(def_folder, def_value, def_pixel_size)\n",
    "defo.summary_deforestation(def_folder)\n",
    "print(\"Done!\")"
   ]
  },
  {
   "cell_type": "code",
   "execution_count": null,
   "id": "cloudy-russia",
   "metadata": {},
   "outputs": [],
   "source": []
  },
  {
   "cell_type": "code",
   "execution_count": null,
   "id": "boxed-ability",
   "metadata": {},
   "outputs": [],
   "source": [
    "import rasterio as rio\n",
    "from matplotlib import pyplot\n",
    "import numpy as np\n",
    "from rasterio.merge import merge\n",
    "%matplotlib inline\n",
    "\n",
    "\n",
    "        \n",
    "    \n",
    "    \n",
    "\"\"\"    \n",
    "print(\"Merging files\")\n",
    "mosaic, out_trans = merge(raster_list)\n",
    "    \n",
    "meta_ref.update({\"driver\": \"GTiff\",\n",
    "                        \"height\": mosaic.shape[1],\n",
    "                        \"width\": mosaic.shape[2],\n",
    "                        \"transform\": out_trans,\n",
    "                        \"crs\": meta_ref.crs})\n",
    "dest_file = os.path.join(outputs_folder, \"summary.tif\")\n",
    "print(\"Saving:\" + dest_file)\n",
    "with rio.open(dest_file, \"w\", **meta_ref) as dest:\n",
    "    dest.write(mosaic)\n",
    "\"\"\""
   ]
  },
  {
   "cell_type": "markdown",
   "id": "little-georgia",
   "metadata": {},
   "source": [
    "## Codigo andres"
   ]
  },
  {
   "cell_type": "code",
   "execution_count": null,
   "id": "built-monaco",
   "metadata": {},
   "outputs": [],
   "source": [
    "import rasterio as rio\n",
    "from shapely.geometry import Polygon\n",
    "from rasterio.coords import BoundingBox\n",
    "\n",
    "def getraster_boundingbox(metadata):\n",
    "    # get boundaries\n",
    "    img_bounds = list(rio.transform.array_bounds(metadata['height'], transform=metadata['transform'],width=metadata['width']))\n",
    "    ## organice data\n",
    "    img_bounds = BoundingBox(left=img_bounds[0], bottom=img_bounds[1], right=img_bounds[2], top=img_bounds[3])\n",
    "\n",
    "    image_wkt = [(img_bounds[0], img_bounds[3]),\n",
    "                 (img_bounds[0], img_bounds[1]),\n",
    "                 (img_bounds[2], img_bounds[1]),\n",
    "                 (img_bounds[2], img_bounds[3])]\n",
    "\n",
    "    return image_wkt\n",
    "def re_sample(raster_data, raster_ref_path=None, sampling_type=\"nearest\", metadata=None, metadaref=None):\n",
    "    # check if the input is a path string or if is an array\n",
    "    if type(raster_data) == str:\n",
    "        raster_data = rasterio.open(raster_data)\n",
    "        metadata = raster_data.profile.copy()\n",
    "\n",
    "        affine_val = raster_data.profile.copy()['transform']\n",
    "        out_kwargs = metadata\n",
    "        npdata = raster_data.read(1)\n",
    "        countlayers = raster_data.count\n",
    "\n",
    "    elif metadata is not None:\n",
    "        npdata = raster_data\n",
    "        out_kwargs = metadata\n",
    "        affine_val = metadata['affine']\n",
    "        if len(npdata.shape) == 3:\n",
    "            countlayers = npdata.shape[0]\n",
    "        else:\n",
    "            countlayers = 1\n",
    "    else:\n",
    "        raise ValueError('Invalid raster input');\n",
    "\n",
    "    ## get imgage bounds\n",
    "\n",
    "    img_bounds = gis_functions.getraster_boundingbox(out_kwargs)\n",
    "\n",
    "    ## get metadata reference\n",
    "    if raster_ref_path is not None:\n",
    "        raster_ref = rasterio.open(raster_ref_path)\n",
    "        meta_ref = raster_ref.profile.copy()\n",
    "    elif metadaref is not None:\n",
    "        meta_ref = metadaref\n",
    "    else:\n",
    "        raise ValueError('Invalid raster reference');\n",
    "\n",
    "    ## copy destination parameters\n",
    "    dst_driver = meta_ref['driver']\n",
    "    dst_crs = meta_ref['crs']\n",
    "    dst_transform = meta_ref['transform']\n",
    "\n",
    "    dst_height = meta_ref['height']\n",
    "    dst_width = meta_ref['width']\n",
    "\n",
    "\n",
    "    ## condition to validate their geometry reference\n",
    "    if dst_crs != out_kwargs['crs']:\n",
    "        out_kwargs, npdata = project_raster(npdata, out_kwargs, dst_crs)\n",
    "\n",
    "        affine_val = out_kwargs['transform']\n",
    "\n",
    "\n",
    "    ## create an empty numpy array\n",
    "    newarr = np.empty(shape=(countlayers, dst_height, dst_width))\n",
    "\n",
    "    ## update profile metada with new data\n",
    "    out_kwargs.update({\n",
    "        'driver': dst_driver,\n",
    "        'crs': dst_crs,\n",
    "        'transform': dst_transform,\n",
    "        #'affine': dst_affine,\n",
    "        'width': dst_width,\n",
    "        'height': dst_height,\n",
    "        'count': countlayers\n",
    "    })\n",
    "    meta_ref.update({\n",
    "        'dtype': 'uint16'\n",
    "    })\n",
    "    ## change raster type\n",
    "    srcnodata = out_kwargs['nodata']\n",
    "\n",
    "    if (npdata.dtype != meta_ref['dtype']):\n",
    "        if out_kwargs['dtype'] == 'uint16' or out_kwargs['dtype'] == \"uint8\" :\n",
    "            meta_ref.update({'dtype': 'uint16'})\n",
    "            out_kwargs.update({\n",
    "                'dtype': 'uint16'\n",
    "            })\n",
    "            npdata = npdata.astype(np.uint16)\n",
    "            newarr = newarr.astype(np.uint16)\n",
    "            srcnodata = 0\n",
    "\n",
    "        if out_kwargs['dtype'] == 'int16':\n",
    "            out_kwargs.update({\n",
    "                'nodata': 0,\n",
    "                'dtype': 'uint16'\n",
    "            })\n",
    "            newarr = newarr.astype(np.uint16)\n",
    "\n",
    "        if (out_kwargs['dtype'] == 'float64') or (out_kwargs['dtype'] == 'float32'):\n",
    "\n",
    "            meta_ref.update({'dtype': 'float32'})\n",
    "            npdata = npdata.astype(np.float32)\n",
    "            newarr = newarr.astype(rasterio.float32)\n",
    "            srcnodata = out_kwargs['nodata']\n",
    "            out_kwargs.update({\n",
    "                'nodata': -9999,\n",
    "                'dtype': 'float32'\n",
    "            })\n",
    "            npdata = np.round(npdata, decimals=4)\n",
    "\n",
    "    elif npdata.dtype == \"uint16\" or npdata.dtype == \"uint8\":\n",
    "        newarr = newarr.astype(np.uint16)\n",
    "        srcnodata = 0\n",
    "        out_kwargs.update({\n",
    "            'nodata': 0,\n",
    "            'dtype': 'uint16'\n",
    "        })\n",
    "\n",
    "\n",
    "    if 'blockxsize' in out_kwargs and dst_width < out_kwargs['blockxsize']:\n",
    "        del out_kwargs['blockxsize']\n",
    "    if 'blockysize' in out_kwargs and dst_height < out_kwargs['blockysize']:\n",
    "        del out_kwargs['blockysize']\n",
    "\n",
    "\n",
    "    if sampling_type == 'nearest':\n",
    "        res_method = Resampling.nearest;\n",
    "    elif sampling_type == 'linear':\n",
    "        res_method = Resampling.bilinear;\n",
    "    elif sampling_type == 'cubic':\n",
    "        res_method = Resampling.cubic;\n",
    "    else:\n",
    "        raise ValueError('Invalid resample method');\n",
    "\n",
    "\n",
    "    reproject(\n",
    "        source=npdata,\n",
    "        destination=newarr,\n",
    "        src_transform=affine_val,\n",
    "        src_crs=dst_crs,\n",
    "        src_nodata=srcnodata,\n",
    "        dst_transform=out_kwargs['transform'],\n",
    "        dst_crs=out_kwargs['crs'],\n",
    "        dst_nodata=out_kwargs['nodata'],\n",
    "        resampling=res_method)\n",
    "\n",
    "    if raster_ref_path is not None:\n",
    "        raster_ref.close()\n",
    "\n",
    "    # if newarr.dtype != npdata.dtype:\n",
    "    #     if npdata.dtype == \"uint16\":\n",
    "    #         newarr.astype(np.uint16)\n",
    "    #     else:\n",
    "    #         newarr.astype(np.float32)\n",
    "    return [out_kwargs, newarr]\n",
    "\n",
    "def getraster_boundingbox(metadata):\n",
    "    # get boundaries\n",
    "    img_bounds = list(\n",
    "        rasterio.transform.array_bounds(metadata['height'], transform=metadata['transform'],\n",
    "                                        width=metadata['width']))\n",
    "    ## organice data\n",
    "    img_bounds = BoundingBox(left=img_bounds[0], bottom=img_bounds[1], right=img_bounds[2],\n",
    "                             top=img_bounds[3])\n",
    "    return img_bounds"
   ]
  }
 ],
 "metadata": {
  "kernelspec": {
   "display_name": "Python 3",
   "language": "python",
   "name": "python3"
  },
  "language_info": {
   "codemirror_mode": {
    "name": "ipython",
    "version": 3
   },
   "file_extension": ".py",
   "mimetype": "text/x-python",
   "name": "python",
   "nbconvert_exporter": "python",
   "pygments_lexer": "ipython3",
   "version": "3.9.1"
  }
 },
 "nbformat": 4,
 "nbformat_minor": 5
}
