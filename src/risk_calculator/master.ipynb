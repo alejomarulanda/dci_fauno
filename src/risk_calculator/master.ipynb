{
 "cells": [
  {
   "cell_type": "markdown",
   "id": "emerging-talent",
   "metadata": {},
   "source": [
    "# Risk calculator process"
   ]
  },
  {
   "cell_type": "markdown",
   "id": "comic-ghana",
   "metadata": {},
   "source": [
    "## Importing modules for running process\n",
    "In this section all modules which are used by the system are loaded in memory"
   ]
  },
  {
   "cell_type": "code",
   "execution_count": 1,
   "id": "blessed-spray",
   "metadata": {},
   "outputs": [
    {
     "name": "stdout",
     "output_type": "stream",
     "text": [
      "Done!\n"
     ]
    }
   ],
   "source": [
    "# Import libraries\n",
    "import os\n",
    "import glob\n",
    "import pandas as pd\n",
    "\n",
    "# Import modules\n",
    "import deforestation as defo\n",
    "import administrative_level as adle\n",
    "import livestock_plot as plot\n",
    "import risk as risk\n",
    "import mobilization as mobi\n",
    "import importer as impo\n",
    "print(\"Done!\")"
   ]
  },
  {
   "cell_type": "markdown",
   "id": "middle-powell",
   "metadata": {},
   "source": [
    "## Setting global parameters\n",
    "In this section all configurations about folders and files to set up\n",
    "the system are created. These configurations are global variables for the system"
   ]
  },
  {
   "cell_type": "code",
   "execution_count": 2,
   "id": "electrical-cause",
   "metadata": {},
   "outputs": [
    {
     "name": "stdout",
     "output_type": "stream",
     "text": [
      "Done!\n"
     ]
    }
   ],
   "source": [
    "# Global folders\n",
    "#root_folder = \"/home/jovyan/work/BID/dci_fauno/\"\n",
    "root_folder = \"D:\\\\CIAT\\\\Code\\\\BID\\\\dci_fauno\"\n",
    "data_folder = os.path.join(root_folder, \"data\",\"risk_calculator\")\n",
    "inputs = os.path.join(data_folder,\"inputs\")\n",
    "outputs = os.path.join(data_folder,\"outputs\")\n",
    "conf_folder = os.path.join(data_folder,\"conf\")\n",
    "# Deforestation folders\n",
    "def_folder = os.path.join(inputs,\"def\")\n",
    "# Administrative level folders\n",
    "adm_folder = os.path.join(inputs,\"adm\")\n",
    "# Livestock plots\n",
    "plot_folder = os.path.join(inputs,\"plot\")\n",
    "# Mobilization\n",
    "mob_folder = os.path.join(inputs,\"mob\")\n",
    "\n",
    "# Parameters file\n",
    "conf_xls = pd.ExcelFile(os.path.join(conf_folder,\"conf.xlsx\"))\n",
    "conf = conf_xls.parse(\"conf\")\n",
    "buffer = conf_xls.parse(\"buffer\")\n",
    "\n",
    "# Global parameters from conf.xlsx file\n",
    "glo_crs = int(conf.loc[conf[\"parameter\"] == \"glo_crs\",\"value\"].values[0])\n",
    "glo_crs_wgs84 = int(conf.loc[conf[\"parameter\"] == \"glo_crs_wgs84\",\"value\"].values[0])\n",
    "\n",
    "# Creating folders\n",
    "# Create folder for deforestation files\n",
    "if not os.path.exists(def_folder):    \n",
    "    os.mkdir(def_folder)\n",
    "# Create folder for administrative level files\n",
    "if not os.path.exists(adm_folder):    \n",
    "    os.mkdir(adm_folder)\n",
    "# Create folder for livestock plot files\n",
    "if not os.path.exists(plot_folder):    \n",
    "    os.mkdir(plot_folder)\n",
    "# Create folder for mobilization files\n",
    "if not os.path.exists(mob_folder):    \n",
    "    os.mkdir(mob_folder)\n",
    "\n",
    "print(\"Done!\")"
   ]
  },
  {
   "cell_type": "markdown",
   "id": "smaller-dimension",
   "metadata": {},
   "source": [
    "## Downloading data\n",
    "This section downloads all data require by the system. It keeps all raw files, it will allow to debug if it would be necessary"
   ]
  },
  {
   "cell_type": "markdown",
   "id": "fantastic-honor",
   "metadata": {},
   "source": [
    "### Administrative level - Download and unzip\n",
    "In this section all data about administrative lever of the country will be downloaded and extracted\n",
    "into specific folders."
   ]
  },
  {
   "cell_type": "code",
   "execution_count": null,
   "id": "arbitrary-delaware",
   "metadata": {},
   "outputs": [],
   "source": [
    "# Getting parameters for downloading adiministrative sources\n",
    "adm_url_source = conf.loc[conf[\"parameter\"] == \"adm_url_source\",\"value\"].values[0]\n",
    "# Download files from source in zip format and extract them\n",
    "adle.download_data(adm_folder, adm_url_source)\n",
    "print(\"Done!\")"
   ]
  },
  {
   "cell_type": "markdown",
   "id": "outside-blocking",
   "metadata": {},
   "source": [
    "### Deforestation - Download and unzip\n",
    "In this section all data about deforestation for a country are downloaded and extracted\n",
    "into specific folders."
   ]
  },
  {
   "cell_type": "code",
   "execution_count": null,
   "id": "pleased-brave",
   "metadata": {},
   "outputs": [],
   "source": [
    "# Getting parameters for downloading deforestation files\n",
    "url_base = conf.loc[conf[\"parameter\"] == \"def_src_base_url\",\"value\"].values[0]\n",
    "file_name_base = conf.loc[conf[\"parameter\"] == \"def_src_file_name\",\"value\"].values[0]\n",
    "def_periods = conf.loc[conf[\"parameter\"] == \"def_periods\",\"value\"].values[0].split(\",\")\n",
    "\n",
    "# Download files from source in zip format and extract them\n",
    "defo.download_deforestation(def_folder, url_base, file_name_base, def_periods)\n",
    "print(\"Done!\")"
   ]
  },
  {
   "cell_type": "markdown",
   "id": "potential-bonus",
   "metadata": {},
   "source": [
    "## Fixing data\n",
    "This chaptar fix the data downloaded into files and formats, in order to can process information"
   ]
  },
  {
   "cell_type": "markdown",
   "id": "incorporate-lyric",
   "metadata": {},
   "source": [
    "### Administrative level - Reproject\n",
    "This process reprojects to CRS destiny the original database"
   ]
  },
  {
   "cell_type": "code",
   "execution_count": null,
   "id": "pointed-greeting",
   "metadata": {},
   "outputs": [],
   "source": [
    "adm_src_adm1_name = conf.loc[conf[\"parameter\"] == \"adm_src_adm1_name\",\"value\"].values[0]\n",
    "adm_src_adm1_id = conf.loc[conf[\"parameter\"] == \"adm_src_adm1_id\",\"value\"].values[0]\n",
    "adm_src_adm2_name = conf.loc[conf[\"parameter\"] == \"adm_src_adm2_name\",\"value\"].values[0]\n",
    "adm_src_adm2_id = conf.loc[conf[\"parameter\"] == \"adm_src_adm2_id\",\"value\"].values[0]\n",
    "adm_src_adm3_name = conf.loc[conf[\"parameter\"] == \"adm_src_adm3_name\",\"value\"].values[0]\n",
    "adm_src_adm3_id = conf.loc[conf[\"parameter\"] == \"adm_src_adm3_id\",\"value\"].values[0]\n",
    "adm_src_area = conf.loc[conf[\"parameter\"] == \"adm_src_area\",\"value\"].values[0]\n",
    "adm_src_geometry = conf.loc[conf[\"parameter\"] == \"adm_src_geometry\",\"value\"].values[0]\n",
    "\n",
    "# Reporject file\n",
    "adle.reproject_source(adm_folder, glo_crs,\n",
    "                      adm_src_adm1_name, adm_src_adm1_id, \n",
    "                      adm_src_adm2_name, adm_src_adm2_id, \n",
    "                      adm_src_adm3_name, adm_src_adm3_id, \n",
    "                      adm_src_area, adm_src_geometry)\n",
    "print(\"Done!\")"
   ]
  },
  {
   "cell_type": "markdown",
   "id": "loved-handle",
   "metadata": {},
   "source": [
    "### Deforestation - Extract deforestation values\n",
    "This section takes the rasters files, which were downloaded, then extract just deforestation pixels\n",
    "and create a new raster with this data. Finally it creates a summary raster which merge all\n",
    "others raster files in just one. The output raster files are standarized, it means all pixels are in \n",
    "the same size, the CRS is the same for all, and are clipped with the same size"
   ]
  },
  {
   "cell_type": "code",
   "execution_count": 3,
   "id": "speaking-cheese",
   "metadata": {},
   "outputs": [
    {
     "name": "stdout",
     "output_type": "stream",
     "text": [
      "Extracting!\n",
      "Calculating parameters for new files\n",
      "file: D:\\CIAT\\Code\\BID\\dci_fauno\\data\\risk_calculator\\inputs\\def\\content\\Cambio_Cobertura_Bosque_No_Bosque_2010_2012\\Geotiff\\DCCB_SMBYC_CBBQ_V5_2010_2012.tif\n",
      "file: D:\\CIAT\\Code\\BID\\dci_fauno\\data\\risk_calculator\\inputs\\def\\content\\Cambio_Cobertura_Bosque_No_Bosque_2012_2013\\Geotiff\\DCCB_SMBYC_CBBQ_V5_2012_2013.tif\n",
      "file: D:\\CIAT\\Code\\BID\\dci_fauno\\data\\risk_calculator\\inputs\\def\\content\\Cambio_Cobertura_Bosque_No_Bosque_2013_2014\\Geotiff\\DCCB_SMBYC_CBBQ_V6_2013_2014.tif\n",
      "file: D:\\CIAT\\Code\\BID\\dci_fauno\\data\\risk_calculator\\inputs\\def\\content\\Cambio_Cobertura_Bosque_No_Bosque_2014_2015\\GeoTiff\\DCCB_SMBYC_CBBQ_V7_2014_2015.tif\n",
      "file: D:\\CIAT\\Code\\BID\\dci_fauno\\data\\risk_calculator\\inputs\\def\\content\\Cambio_Cobertura_Bosque_No_Bosque_2015_2016\\Geotiff\\DCCB_SMBYC_CBBQ_V7_2015_2016.tif\n",
      "file: D:\\CIAT\\Code\\BID\\dci_fauno\\data\\risk_calculator\\inputs\\def\\content\\Cambio_Cobertura_Bosque_No_Bosque_2016_2017\\TTTHM4RG3_BEA_T_reprojected_2016_2017.tif\n",
      "file: D:\\CIAT\\Code\\BID\\dci_fauno\\data\\risk_calculator\\inputs\\def\\content\\Cambio_Cobertura_Bosque_No_Bosque_2017_2018\\TT8FG4BA5_BEA_T_reprojected_2017_2018.tif\n",
      "file: D:\\CIAT\\Code\\BID\\dci_fauno\\data\\risk_calculator\\inputs\\def\\content\\Cambio_Cobertura_Bosque_No_Bosque_2018_2019\\reprojected_2018-2019.tif\n",
      "Bounds: POLYGON ((-66.65601560981048 -4.244791035761322, -66.65601560981048 12.580743905, -79.224357185 12.580743905, -79.224357185 -4.244791035761322, -66.65601560981048 -4.244791035761322))\n",
      "CRS: EPSG:4686\n",
      "Working: D:\\CIAT\\Code\\BID\\dci_fauno\\data\\risk_calculator\\inputs\\def\\content\\Cambio_Cobertura_Bosque_No_Bosque_2010_2012\\Geotiff\\DCCB_SMBYC_CBBQ_V5_2010_2012.tif\n",
      "Reprojecting: D:\\CIAT\\Code\\BID\\dci_fauno\\data\\risk_calculator\\inputs\\def\\fixed\\DCCB_SMBYC_CBBQ_V5_2010_2012_tmp.tif\n"
     ]
    },
    {
     "name": "stderr",
     "output_type": "stream",
     "text": [
      "d:\\ciat\\virtualenv\\jupyter\\lib\\site-packages\\pyproj\\crs\\crs.py:53: FutureWarning: '+init=<authority>:<code>' syntax is deprecated. '<authority>:<code>' is the preferred initialization method. When making the change, be mindful of axis order changes: https://pyproj4.github.io/pyproj/stable/gotchas.html#axis-order-changes-in-proj-6\n",
      "  return _prepare_from_string(\" \".join(pjargs))\n"
     ]
    },
    {
     "name": "stdout",
     "output_type": "stream",
     "text": [
      "Opening: D:\\CIAT\\Code\\BID\\dci_fauno\\data\\risk_calculator\\inputs\\def\\fixed\\DCCB_SMBYC_CBBQ_V5_2010_2012_tmp.tif\n",
      "Cropping raster\n",
      "Dimention: H=61079 W=45525\n",
      "Saving: D:\\CIAT\\Code\\BID\\dci_fauno\\data\\risk_calculator\\inputs\\def\\fixed\\raster_detail\\2010.tif\n",
      "Deleting tmp: D:\\CIAT\\Code\\BID\\dci_fauno\\data\\risk_calculator\\inputs\\def\\fixed\\DCCB_SMBYC_CBBQ_V5_2010_2012_tmp.tif\n",
      "Working: D:\\CIAT\\Code\\BID\\dci_fauno\\data\\risk_calculator\\inputs\\def\\content\\Cambio_Cobertura_Bosque_No_Bosque_2012_2013\\Geotiff\\DCCB_SMBYC_CBBQ_V5_2012_2013.tif\n",
      "Reprojecting: D:\\CIAT\\Code\\BID\\dci_fauno\\data\\risk_calculator\\inputs\\def\\fixed\\DCCB_SMBYC_CBBQ_V5_2012_2013_tmp.tif\n",
      "Opening: D:\\CIAT\\Code\\BID\\dci_fauno\\data\\risk_calculator\\inputs\\def\\fixed\\DCCB_SMBYC_CBBQ_V5_2012_2013_tmp.tif\n",
      "Cropping raster\n",
      "Dimention: H=61079 W=45525\n",
      "Saving: D:\\CIAT\\Code\\BID\\dci_fauno\\data\\risk_calculator\\inputs\\def\\fixed\\raster_detail\\2012.tif\n",
      "Deleting tmp: D:\\CIAT\\Code\\BID\\dci_fauno\\data\\risk_calculator\\inputs\\def\\fixed\\DCCB_SMBYC_CBBQ_V5_2012_2013_tmp.tif\n",
      "Working: D:\\CIAT\\Code\\BID\\dci_fauno\\data\\risk_calculator\\inputs\\def\\content\\Cambio_Cobertura_Bosque_No_Bosque_2013_2014\\Geotiff\\DCCB_SMBYC_CBBQ_V6_2013_2014.tif\n",
      "Reprojecting: D:\\CIAT\\Code\\BID\\dci_fauno\\data\\risk_calculator\\inputs\\def\\fixed\\DCCB_SMBYC_CBBQ_V6_2013_2014_tmp.tif\n",
      "Opening: D:\\CIAT\\Code\\BID\\dci_fauno\\data\\risk_calculator\\inputs\\def\\fixed\\DCCB_SMBYC_CBBQ_V6_2013_2014_tmp.tif\n",
      "Cropping raster\n",
      "Dimention: H=61079 W=45525\n",
      "Saving: D:\\CIAT\\Code\\BID\\dci_fauno\\data\\risk_calculator\\inputs\\def\\fixed\\raster_detail\\2013.tif\n",
      "Deleting tmp: D:\\CIAT\\Code\\BID\\dci_fauno\\data\\risk_calculator\\inputs\\def\\fixed\\DCCB_SMBYC_CBBQ_V6_2013_2014_tmp.tif\n",
      "Working: D:\\CIAT\\Code\\BID\\dci_fauno\\data\\risk_calculator\\inputs\\def\\content\\Cambio_Cobertura_Bosque_No_Bosque_2014_2015\\GeoTiff\\DCCB_SMBYC_CBBQ_V7_2014_2015.tif\n",
      "Reprojecting: D:\\CIAT\\Code\\BID\\dci_fauno\\data\\risk_calculator\\inputs\\def\\fixed\\DCCB_SMBYC_CBBQ_V7_2014_2015_tmp.tif\n",
      "Opening: D:\\CIAT\\Code\\BID\\dci_fauno\\data\\risk_calculator\\inputs\\def\\fixed\\DCCB_SMBYC_CBBQ_V7_2014_2015_tmp.tif\n",
      "Cropping raster\n",
      "Dimention: H=61079 W=45525\n",
      "Saving: D:\\CIAT\\Code\\BID\\dci_fauno\\data\\risk_calculator\\inputs\\def\\fixed\\raster_detail\\2014.tif\n",
      "Deleting tmp: D:\\CIAT\\Code\\BID\\dci_fauno\\data\\risk_calculator\\inputs\\def\\fixed\\DCCB_SMBYC_CBBQ_V7_2014_2015_tmp.tif\n",
      "Working: D:\\CIAT\\Code\\BID\\dci_fauno\\data\\risk_calculator\\inputs\\def\\content\\Cambio_Cobertura_Bosque_No_Bosque_2015_2016\\Geotiff\\DCCB_SMBYC_CBBQ_V7_2015_2016.tif\n",
      "Reprojecting: D:\\CIAT\\Code\\BID\\dci_fauno\\data\\risk_calculator\\inputs\\def\\fixed\\DCCB_SMBYC_CBBQ_V7_2015_2016_tmp.tif\n",
      "Opening: D:\\CIAT\\Code\\BID\\dci_fauno\\data\\risk_calculator\\inputs\\def\\fixed\\DCCB_SMBYC_CBBQ_V7_2015_2016_tmp.tif\n",
      "Cropping raster\n",
      "Dimention: H=61079 W=45525\n",
      "Saving: D:\\CIAT\\Code\\BID\\dci_fauno\\data\\risk_calculator\\inputs\\def\\fixed\\raster_detail\\2015.tif\n",
      "Deleting tmp: D:\\CIAT\\Code\\BID\\dci_fauno\\data\\risk_calculator\\inputs\\def\\fixed\\DCCB_SMBYC_CBBQ_V7_2015_2016_tmp.tif\n",
      "Working: D:\\CIAT\\Code\\BID\\dci_fauno\\data\\risk_calculator\\inputs\\def\\content\\Cambio_Cobertura_Bosque_No_Bosque_2016_2017\\TTTHM4RG3_BEA_T_reprojected_2016_2017.tif\n",
      "Reprojecting: D:\\CIAT\\Code\\BID\\dci_fauno\\data\\risk_calculator\\inputs\\def\\fixed\\TTTHM4RG3_BEA_T_reprojected_2016_2017_tmp.tif\n",
      "Opening: D:\\CIAT\\Code\\BID\\dci_fauno\\data\\risk_calculator\\inputs\\def\\fixed\\TTTHM4RG3_BEA_T_reprojected_2016_2017_tmp.tif\n",
      "Cropping raster\n",
      "Dimention: H=61079 W=45525\n",
      "Saving: D:\\CIAT\\Code\\BID\\dci_fauno\\data\\risk_calculator\\inputs\\def\\fixed\\raster_detail\\2016.tif\n",
      "Deleting tmp: D:\\CIAT\\Code\\BID\\dci_fauno\\data\\risk_calculator\\inputs\\def\\fixed\\TTTHM4RG3_BEA_T_reprojected_2016_2017_tmp.tif\n",
      "Working: D:\\CIAT\\Code\\BID\\dci_fauno\\data\\risk_calculator\\inputs\\def\\content\\Cambio_Cobertura_Bosque_No_Bosque_2017_2018\\TT8FG4BA5_BEA_T_reprojected_2017_2018.tif\n",
      "Reprojecting: D:\\CIAT\\Code\\BID\\dci_fauno\\data\\risk_calculator\\inputs\\def\\fixed\\TT8FG4BA5_BEA_T_reprojected_2017_2018_tmp.tif\n",
      "Opening: D:\\CIAT\\Code\\BID\\dci_fauno\\data\\risk_calculator\\inputs\\def\\fixed\\TT8FG4BA5_BEA_T_reprojected_2017_2018_tmp.tif\n",
      "Cropping raster\n",
      "Dimention: H=61079 W=45525\n",
      "Saving: D:\\CIAT\\Code\\BID\\dci_fauno\\data\\risk_calculator\\inputs\\def\\fixed\\raster_detail\\2017.tif\n",
      "Deleting tmp: D:\\CIAT\\Code\\BID\\dci_fauno\\data\\risk_calculator\\inputs\\def\\fixed\\TT8FG4BA5_BEA_T_reprojected_2017_2018_tmp.tif\n",
      "Working: D:\\CIAT\\Code\\BID\\dci_fauno\\data\\risk_calculator\\inputs\\def\\content\\Cambio_Cobertura_Bosque_No_Bosque_2018_2019\\reprojected_2018-2019.tif\n",
      "Reprojecting: D:\\CIAT\\Code\\BID\\dci_fauno\\data\\risk_calculator\\inputs\\def\\fixed\\reprojected_2018-2019_tmp.tif\n",
      "Opening: D:\\CIAT\\Code\\BID\\dci_fauno\\data\\risk_calculator\\inputs\\def\\fixed\\reprojected_2018-2019_tmp.tif\n",
      "Cropping raster\n",
      "Dimention: H=61079 W=45525\n",
      "Saving: D:\\CIAT\\Code\\BID\\dci_fauno\\data\\risk_calculator\\inputs\\def\\fixed\\raster_detail\\2018.tif\n",
      "Deleting tmp: D:\\CIAT\\Code\\BID\\dci_fauno\\data\\risk_calculator\\inputs\\def\\fixed\\reprojected_2018-2019_tmp.tif\n",
      "Summaryzing!\n",
      "Compiling rasters files\n",
      "D:\\CIAT\\Code\\BID\\dci_fauno\\data\\risk_calculator\\inputs\\def\\fixed\\raster_detail\\2010.tif\n",
      "Saving: D:\\CIAT\\Code\\BID\\dci_fauno\\data\\risk_calculator\\inputs\\def\\fixed\\raster_summary\\2010.tif\n",
      "D:\\CIAT\\Code\\BID\\dci_fauno\\data\\risk_calculator\\inputs\\def\\fixed\\raster_detail\\2012.tif\n",
      "Saving: D:\\CIAT\\Code\\BID\\dci_fauno\\data\\risk_calculator\\inputs\\def\\fixed\\raster_summary\\2012.tif\n",
      "D:\\CIAT\\Code\\BID\\dci_fauno\\data\\risk_calculator\\inputs\\def\\fixed\\raster_detail\\2013.tif\n",
      "Saving: D:\\CIAT\\Code\\BID\\dci_fauno\\data\\risk_calculator\\inputs\\def\\fixed\\raster_summary\\2013.tif\n",
      "D:\\CIAT\\Code\\BID\\dci_fauno\\data\\risk_calculator\\inputs\\def\\fixed\\raster_detail\\2014.tif\n",
      "Saving: D:\\CIAT\\Code\\BID\\dci_fauno\\data\\risk_calculator\\inputs\\def\\fixed\\raster_summary\\2014.tif\n",
      "D:\\CIAT\\Code\\BID\\dci_fauno\\data\\risk_calculator\\inputs\\def\\fixed\\raster_detail\\2015.tif\n",
      "Saving: D:\\CIAT\\Code\\BID\\dci_fauno\\data\\risk_calculator\\inputs\\def\\fixed\\raster_summary\\2015.tif\n",
      "D:\\CIAT\\Code\\BID\\dci_fauno\\data\\risk_calculator\\inputs\\def\\fixed\\raster_detail\\2016.tif\n",
      "Saving: D:\\CIAT\\Code\\BID\\dci_fauno\\data\\risk_calculator\\inputs\\def\\fixed\\raster_summary\\2016.tif\n",
      "D:\\CIAT\\Code\\BID\\dci_fauno\\data\\risk_calculator\\inputs\\def\\fixed\\raster_detail\\2017.tif\n",
      "Saving: D:\\CIAT\\Code\\BID\\dci_fauno\\data\\risk_calculator\\inputs\\def\\fixed\\raster_summary\\2017.tif\n",
      "D:\\CIAT\\Code\\BID\\dci_fauno\\data\\risk_calculator\\inputs\\def\\fixed\\raster_detail\\2018.tif\n",
      "Saving: D:\\CIAT\\Code\\BID\\dci_fauno\\data\\risk_calculator\\inputs\\def\\fixed\\raster_summary\\2018.tif\n",
      "Done!\n"
     ]
    }
   ],
   "source": [
    "# Getting parameters for filtering deforestation pixels\n",
    "def_value = int(conf.loc[conf[\"parameter\"] == \"def_value\",\"value\"].values[0])\n",
    "def_pixel_size = float(conf.loc[conf[\"parameter\"] == \"def_pixel_size\",\"value\"].values[0])\n",
    "\n",
    "print(\"Extracting!\")\n",
    "defo.extract_deforestation(def_folder, def_value, glo_crs, def_pixel_size)\n",
    "print(\"Done!\")"
   ]
  },
  {
   "cell_type": "code",
   "execution_count": 4,
   "id": "running-fiber",
   "metadata": {},
   "outputs": [
    {
     "name": "stdout",
     "output_type": "stream",
     "text": [
      "Summaryzing!\n",
      "Compiling rasters files\n",
      "D:\\CIAT\\Code\\BID\\dci_fauno\\data\\risk_calculator\\inputs\\def\\fixed\\raster_detail\\2010.tif\n",
      "Saving: D:\\CIAT\\Code\\BID\\dci_fauno\\data\\risk_calculator\\inputs\\def\\fixed\\raster_summary\\2010.tif\n",
      "D:\\CIAT\\Code\\BID\\dci_fauno\\data\\risk_calculator\\inputs\\def\\fixed\\raster_detail\\2012.tif\n",
      "Saving: D:\\CIAT\\Code\\BID\\dci_fauno\\data\\risk_calculator\\inputs\\def\\fixed\\raster_summary\\2012.tif\n",
      "D:\\CIAT\\Code\\BID\\dci_fauno\\data\\risk_calculator\\inputs\\def\\fixed\\raster_detail\\2013.tif\n",
      "Saving: D:\\CIAT\\Code\\BID\\dci_fauno\\data\\risk_calculator\\inputs\\def\\fixed\\raster_summary\\2013.tif\n",
      "D:\\CIAT\\Code\\BID\\dci_fauno\\data\\risk_calculator\\inputs\\def\\fixed\\raster_detail\\2014.tif\n",
      "Saving: D:\\CIAT\\Code\\BID\\dci_fauno\\data\\risk_calculator\\inputs\\def\\fixed\\raster_summary\\2014.tif\n",
      "D:\\CIAT\\Code\\BID\\dci_fauno\\data\\risk_calculator\\inputs\\def\\fixed\\raster_detail\\2015.tif\n",
      "Saving: D:\\CIAT\\Code\\BID\\dci_fauno\\data\\risk_calculator\\inputs\\def\\fixed\\raster_summary\\2015.tif\n",
      "D:\\CIAT\\Code\\BID\\dci_fauno\\data\\risk_calculator\\inputs\\def\\fixed\\raster_detail\\2016.tif\n",
      "Saving: D:\\CIAT\\Code\\BID\\dci_fauno\\data\\risk_calculator\\inputs\\def\\fixed\\raster_summary\\2016.tif\n",
      "D:\\CIAT\\Code\\BID\\dci_fauno\\data\\risk_calculator\\inputs\\def\\fixed\\raster_detail\\2017.tif\n",
      "Saving: D:\\CIAT\\Code\\BID\\dci_fauno\\data\\risk_calculator\\inputs\\def\\fixed\\raster_summary\\2017.tif\n",
      "D:\\CIAT\\Code\\BID\\dci_fauno\\data\\risk_calculator\\inputs\\def\\fixed\\raster_detail\\2018.tif\n",
      "Saving: D:\\CIAT\\Code\\BID\\dci_fauno\\data\\risk_calculator\\inputs\\def\\fixed\\raster_summary\\2018.tif\n",
      "Done!\n"
     ]
    }
   ],
   "source": [
    "print(\"Summaryzing!\")\n",
    "defo.summary_deforestation(def_folder)\n",
    "print(\"Done!\")"
   ]
  },
  {
   "cell_type": "markdown",
   "id": "direct-suicide",
   "metadata": {},
   "source": [
    "### Deforestation - Parsing to shapefile\n",
    "In this section the raster files, which were located into rasters folders, are parsed to shapefile format.\n",
    "Both folders are transformed detail and summary"
   ]
  },
  {
   "cell_type": "code",
   "execution_count": 3,
   "id": "secret-techno",
   "metadata": {},
   "outputs": [
    {
     "name": "stdout",
     "output_type": "stream",
     "text": [
      "Opening: D:\\CIAT\\Code\\BID\\dci_fauno\\data\\risk_calculator\\inputs\\def\\fixed\\raster_detail\\2010.tif\n",
      "Transforming\n",
      "Creating shapefile crs: {'init': 'epsg:3116'}\n"
     ]
    },
    {
     "name": "stderr",
     "output_type": "stream",
     "text": [
      "d:\\ciat\\virtualenv\\jupyter\\lib\\site-packages\\pyproj\\crs\\crs.py:53: FutureWarning: '+init=<authority>:<code>' syntax is deprecated. '<authority>:<code>' is the preferred initialization method. When making the change, be mindful of axis order changes: https://pyproj4.github.io/pyproj/stable/gotchas.html#axis-order-changes-in-proj-6\n",
      "  return _prepare_from_string(\" \".join(pjargs))\n"
     ]
    },
    {
     "name": "stdout",
     "output_type": "stream",
     "text": [
      "            lon           lat                         geometry\n",
      "0  1.284164e+06  1.850139e+06  POINT (1284163.792 1850139.356)\n",
      "1  1.284195e+06  1.850139e+06  POINT (1284194.509 1850139.356)\n",
      "2  1.284133e+06  1.850109e+06  POINT (1284133.075 1850108.639)\n",
      "3  1.284164e+06  1.850109e+06  POINT (1284163.792 1850108.639)\n",
      "4  1.284195e+06  1.850109e+06  POINT (1284194.509 1850108.639)\n",
      "Saving: D:\\CIAT\\Code\\BID\\dci_fauno\\data\\risk_calculator\\inputs\\def\\fixed\\shp_detail\\2010\\shapefile.shp\n",
      "Opening: D:\\CIAT\\Code\\BID\\dci_fauno\\data\\risk_calculator\\inputs\\def\\fixed\\raster_detail\\2012.tif\n",
      "Transforming\n",
      "Creating shapefile crs: {'init': 'epsg:3116'}\n"
     ]
    },
    {
     "name": "stderr",
     "output_type": "stream",
     "text": [
      "d:\\ciat\\virtualenv\\jupyter\\lib\\site-packages\\pyproj\\crs\\crs.py:53: FutureWarning: '+init=<authority>:<code>' syntax is deprecated. '<authority>:<code>' is the preferred initialization method. When making the change, be mindful of axis order changes: https://pyproj4.github.io/pyproj/stable/gotchas.html#axis-order-changes-in-proj-6\n",
      "  return _prepare_from_string(\" \".join(pjargs))\n"
     ]
    },
    {
     "name": "stdout",
     "output_type": "stream",
     "text": [
      "            lon           lat                         geometry\n",
      "0  1.304345e+06  1.856529e+06  POINT (1304344.964 1856528.595)\n",
      "1  1.304376e+06  1.856529e+06  POINT (1304375.681 1856528.595)\n",
      "2  1.304314e+06  1.856498e+06  POINT (1304314.247 1856497.878)\n",
      "3  1.304345e+06  1.856498e+06  POINT (1304344.964 1856497.878)\n",
      "4  1.304376e+06  1.856498e+06  POINT (1304375.681 1856497.878)\n",
      "Saving: D:\\CIAT\\Code\\BID\\dci_fauno\\data\\risk_calculator\\inputs\\def\\fixed\\shp_detail\\2012\\shapefile.shp\n",
      "Opening: D:\\CIAT\\Code\\BID\\dci_fauno\\data\\risk_calculator\\inputs\\def\\fixed\\raster_detail\\2013.tif\n",
      "Transforming\n",
      "Creating shapefile crs: {'init': 'epsg:3116'}\n"
     ]
    },
    {
     "name": "stderr",
     "output_type": "stream",
     "text": [
      "d:\\ciat\\virtualenv\\jupyter\\lib\\site-packages\\pyproj\\crs\\crs.py:53: FutureWarning: '+init=<authority>:<code>' syntax is deprecated. '<authority>:<code>' is the preferred initialization method. When making the change, be mindful of axis order changes: https://pyproj4.github.io/pyproj/stable/gotchas.html#axis-order-changes-in-proj-6\n",
      "  return _prepare_from_string(\" \".join(pjargs))\n"
     ]
    },
    {
     "name": "stdout",
     "output_type": "stream",
     "text": [
      "            lon           lat                         geometry\n",
      "0  1.292242e+06  1.841877e+06  POINT (1292242.470 1841876.592)\n",
      "1  1.292273e+06  1.841877e+06  POINT (1292273.187 1841876.592)\n",
      "2  1.292089e+06  1.841846e+06  POINT (1292088.886 1841845.875)\n",
      "3  1.292120e+06  1.841846e+06  POINT (1292119.602 1841845.875)\n",
      "4  1.292181e+06  1.841846e+06  POINT (1292181.036 1841845.875)\n",
      "Saving: D:\\CIAT\\Code\\BID\\dci_fauno\\data\\risk_calculator\\inputs\\def\\fixed\\shp_detail\\2013\\shapefile.shp\n",
      "Opening: D:\\CIAT\\Code\\BID\\dci_fauno\\data\\risk_calculator\\inputs\\def\\fixed\\raster_detail\\2014.tif\n",
      "Transforming\n",
      "Creating shapefile crs: {'init': 'epsg:3116'}\n"
     ]
    },
    {
     "name": "stderr",
     "output_type": "stream",
     "text": [
      "d:\\ciat\\virtualenv\\jupyter\\lib\\site-packages\\pyproj\\crs\\crs.py:53: FutureWarning: '+init=<authority>:<code>' syntax is deprecated. '<authority>:<code>' is the preferred initialization method. When making the change, be mindful of axis order changes: https://pyproj4.github.io/pyproj/stable/gotchas.html#axis-order-changes-in-proj-6\n",
      "  return _prepare_from_string(\" \".join(pjargs))\n"
     ]
    },
    {
     "name": "stdout",
     "output_type": "stream",
     "text": [
      "            lon           lat                         geometry\n",
      "0  1.298294e+06  1.842829e+06  POINT (1298293.606 1842828.712)\n",
      "1  1.298263e+06  1.842798e+06  POINT (1298262.889 1842797.995)\n",
      "2  1.298294e+06  1.842798e+06  POINT (1298293.606 1842797.995)\n",
      "3  1.298324e+06  1.842798e+06  POINT (1298324.323 1842797.995)\n",
      "4  1.298355e+06  1.842798e+06  POINT (1298355.040 1842797.995)\n",
      "Saving: D:\\CIAT\\Code\\BID\\dci_fauno\\data\\risk_calculator\\inputs\\def\\fixed\\shp_detail\\2014\\shapefile.shp\n",
      "Opening: D:\\CIAT\\Code\\BID\\dci_fauno\\data\\risk_calculator\\inputs\\def\\fixed\\raster_detail\\2015.tif\n",
      "Transforming\n",
      "Creating shapefile crs: {'init': 'epsg:3116'}\n"
     ]
    },
    {
     "name": "stderr",
     "output_type": "stream",
     "text": [
      "d:\\ciat\\virtualenv\\jupyter\\lib\\site-packages\\pyproj\\crs\\crs.py:53: FutureWarning: '+init=<authority>:<code>' syntax is deprecated. '<authority>:<code>' is the preferred initialization method. When making the change, be mindful of axis order changes: https://pyproj4.github.io/pyproj/stable/gotchas.html#axis-order-changes-in-proj-6\n",
      "  return _prepare_from_string(\" \".join(pjargs))\n"
     ]
    },
    {
     "name": "stdout",
     "output_type": "stream",
     "text": [
      "            lon           lat                         geometry\n",
      "0  1.170234e+06  1.750094e+06  POINT (1170234.482 1750094.125)\n",
      "1  1.170050e+06  1.750063e+06  POINT (1170050.180 1750063.408)\n",
      "2  1.170081e+06  1.750063e+06  POINT (1170080.897 1750063.408)\n",
      "3  1.170112e+06  1.750063e+06  POINT (1170111.614 1750063.408)\n",
      "4  1.170142e+06  1.750063e+06  POINT (1170142.331 1750063.408)\n",
      "Saving: D:\\CIAT\\Code\\BID\\dci_fauno\\data\\risk_calculator\\inputs\\def\\fixed\\shp_detail\\2015\\shapefile.shp\n",
      "Opening: D:\\CIAT\\Code\\BID\\dci_fauno\\data\\risk_calculator\\inputs\\def\\fixed\\raster_detail\\2016.tif\n",
      "Transforming\n",
      "Creating shapefile crs: {'init': 'epsg:3116'}\n"
     ]
    },
    {
     "name": "stderr",
     "output_type": "stream",
     "text": [
      "d:\\ciat\\virtualenv\\jupyter\\lib\\site-packages\\pyproj\\crs\\crs.py:53: FutureWarning: '+init=<authority>:<code>' syntax is deprecated. '<authority>:<code>' is the preferred initialization method. When making the change, be mindful of axis order changes: https://pyproj4.github.io/pyproj/stable/gotchas.html#axis-order-changes-in-proj-6\n",
      "  return _prepare_from_string(\" \".join(pjargs))\n"
     ]
    },
    {
     "name": "stdout",
     "output_type": "stream",
     "text": [
      "            lon           lat                         geometry\n",
      "0  1.007736e+06  1.741974e+06  POINT (1007735.637 1741973.625)\n",
      "1  1.007766e+06  1.741974e+06  POINT (1007766.354 1741973.625)\n",
      "2  1.007736e+06  1.741943e+06  POINT (1007735.637 1741942.908)\n",
      "3  1.007766e+06  1.741943e+06  POINT (1007766.354 1741942.908)\n",
      "4  1.007797e+06  1.741943e+06  POINT (1007797.071 1741942.908)\n",
      "Saving: D:\\CIAT\\Code\\BID\\dci_fauno\\data\\risk_calculator\\inputs\\def\\fixed\\shp_detail\\2016\\shapefile.shp\n",
      "Opening: D:\\CIAT\\Code\\BID\\dci_fauno\\data\\risk_calculator\\inputs\\def\\fixed\\raster_detail\\2017.tif\n",
      "Transforming\n",
      "Creating shapefile crs: {'init': 'epsg:3116'}\n"
     ]
    },
    {
     "name": "stderr",
     "output_type": "stream",
     "text": [
      "d:\\ciat\\virtualenv\\jupyter\\lib\\site-packages\\pyproj\\crs\\crs.py:53: FutureWarning: '+init=<authority>:<code>' syntax is deprecated. '<authority>:<code>' is the preferred initialization method. When making the change, be mindful of axis order changes: https://pyproj4.github.io/pyproj/stable/gotchas.html#axis-order-changes-in-proj-6\n",
      "  return _prepare_from_string(\" \".join(pjargs))\n"
     ]
    },
    {
     "name": "stdout",
     "output_type": "stream",
     "text": [
      "            lon           lat                         geometry\n",
      "0  1.218393e+06  1.820701e+06  POINT (1218392.743 1820701.266)\n",
      "1  1.218331e+06  1.820671e+06  POINT (1218331.309 1820670.549)\n",
      "2  1.218362e+06  1.820671e+06  POINT (1218362.026 1820670.549)\n",
      "3  1.218393e+06  1.820671e+06  POINT (1218392.743 1820670.549)\n",
      "4  1.218301e+06  1.820640e+06  POINT (1218300.592 1820639.832)\n",
      "Saving: D:\\CIAT\\Code\\BID\\dci_fauno\\data\\risk_calculator\\inputs\\def\\fixed\\shp_detail\\2017\\shapefile.shp\n",
      "Opening: D:\\CIAT\\Code\\BID\\dci_fauno\\data\\risk_calculator\\inputs\\def\\fixed\\raster_detail\\2018.tif\n",
      "Transforming\n",
      "Creating shapefile crs: {'init': 'epsg:3116'}\n"
     ]
    },
    {
     "name": "stderr",
     "output_type": "stream",
     "text": [
      "d:\\ciat\\virtualenv\\jupyter\\lib\\site-packages\\pyproj\\crs\\crs.py:53: FutureWarning: '+init=<authority>:<code>' syntax is deprecated. '<authority>:<code>' is the preferred initialization method. When making the change, be mindful of axis order changes: https://pyproj4.github.io/pyproj/stable/gotchas.html#axis-order-changes-in-proj-6\n",
      "  return _prepare_from_string(\" \".join(pjargs))\n"
     ]
    },
    {
     "name": "stdout",
     "output_type": "stream",
     "text": [
      "            lon           lat                         geometry\n",
      "0  1.306518e+06  1.833787e+06  POINT (1306518.421 1833786.980)\n",
      "1  1.306549e+06  1.833787e+06  POINT (1306549.138 1833786.980)\n",
      "2  1.306580e+06  1.833787e+06  POINT (1306579.855 1833786.980)\n",
      "3  1.306611e+06  1.833787e+06  POINT (1306610.572 1833786.980)\n",
      "4  1.306641e+06  1.833787e+06  POINT (1306641.289 1833786.980)\n",
      "Saving: D:\\CIAT\\Code\\BID\\dci_fauno\\data\\risk_calculator\\inputs\\def\\fixed\\shp_detail\\2018\\shapefile.shp\n",
      "Opening: D:\\CIAT\\Code\\BID\\dci_fauno\\data\\risk_calculator\\inputs\\def\\fixed\\raster_summary\\2010.tif\n",
      "Transforming\n",
      "Creating shapefile crs: {'init': 'epsg:3116'}\n"
     ]
    },
    {
     "name": "stderr",
     "output_type": "stream",
     "text": [
      "d:\\ciat\\virtualenv\\jupyter\\lib\\site-packages\\pyproj\\crs\\crs.py:53: FutureWarning: '+init=<authority>:<code>' syntax is deprecated. '<authority>:<code>' is the preferred initialization method. When making the change, be mindful of axis order changes: https://pyproj4.github.io/pyproj/stable/gotchas.html#axis-order-changes-in-proj-6\n",
      "  return _prepare_from_string(\" \".join(pjargs))\n"
     ]
    },
    {
     "name": "stdout",
     "output_type": "stream",
     "text": [
      "            lon           lat                         geometry\n",
      "0  1.284164e+06  1.850139e+06  POINT (1284163.792 1850139.356)\n",
      "1  1.284195e+06  1.850139e+06  POINT (1284194.509 1850139.356)\n",
      "2  1.284133e+06  1.850109e+06  POINT (1284133.075 1850108.639)\n",
      "3  1.284164e+06  1.850109e+06  POINT (1284163.792 1850108.639)\n",
      "4  1.284195e+06  1.850109e+06  POINT (1284194.509 1850108.639)\n",
      "Saving: D:\\CIAT\\Code\\BID\\dci_fauno\\data\\risk_calculator\\inputs\\def\\fixed\\shp_summary\\2010\\shapefile.shp\n",
      "Opening: D:\\CIAT\\Code\\BID\\dci_fauno\\data\\risk_calculator\\inputs\\def\\fixed\\raster_summary\\2012.tif\n",
      "Transforming\n",
      "Creating shapefile crs: {'init': 'epsg:3116'}\n"
     ]
    },
    {
     "name": "stderr",
     "output_type": "stream",
     "text": [
      "d:\\ciat\\virtualenv\\jupyter\\lib\\site-packages\\pyproj\\crs\\crs.py:53: FutureWarning: '+init=<authority>:<code>' syntax is deprecated. '<authority>:<code>' is the preferred initialization method. When making the change, be mindful of axis order changes: https://pyproj4.github.io/pyproj/stable/gotchas.html#axis-order-changes-in-proj-6\n",
      "  return _prepare_from_string(\" \".join(pjargs))\n"
     ]
    },
    {
     "name": "stdout",
     "output_type": "stream",
     "text": [
      "            lon           lat                         geometry\n",
      "0  1.304345e+06  1.856528e+06  POINT (1304344.853 1856528.489)\n",
      "1  1.304376e+06  1.856528e+06  POINT (1304375.570 1856528.489)\n",
      "2  1.304314e+06  1.856498e+06  POINT (1304314.136 1856497.772)\n",
      "3  1.304345e+06  1.856498e+06  POINT (1304344.853 1856497.772)\n",
      "4  1.304376e+06  1.856498e+06  POINT (1304375.570 1856497.772)\n",
      "Saving: D:\\CIAT\\Code\\BID\\dci_fauno\\data\\risk_calculator\\inputs\\def\\fixed\\shp_summary\\2012\\shapefile.shp\n",
      "Opening: D:\\CIAT\\Code\\BID\\dci_fauno\\data\\risk_calculator\\inputs\\def\\fixed\\raster_summary\\2013.tif\n",
      "Transforming\n",
      "Creating shapefile crs: {'init': 'epsg:3116'}\n"
     ]
    },
    {
     "name": "stderr",
     "output_type": "stream",
     "text": [
      "d:\\ciat\\virtualenv\\jupyter\\lib\\site-packages\\pyproj\\crs\\crs.py:53: FutureWarning: '+init=<authority>:<code>' syntax is deprecated. '<authority>:<code>' is the preferred initialization method. When making the change, be mindful of axis order changes: https://pyproj4.github.io/pyproj/stable/gotchas.html#axis-order-changes-in-proj-6\n",
      "  return _prepare_from_string(\" \".join(pjargs))\n"
     ]
    },
    {
     "name": "stdout",
     "output_type": "stream",
     "text": [
      "            lon           lat                         geometry\n",
      "0  1.304345e+06  1.856528e+06  POINT (1304344.853 1856528.489)\n",
      "1  1.304376e+06  1.856528e+06  POINT (1304375.570 1856528.489)\n",
      "2  1.304314e+06  1.856498e+06  POINT (1304314.136 1856497.772)\n",
      "3  1.304345e+06  1.856498e+06  POINT (1304344.853 1856497.772)\n",
      "4  1.304376e+06  1.856498e+06  POINT (1304375.570 1856497.772)\n",
      "Saving: D:\\CIAT\\Code\\BID\\dci_fauno\\data\\risk_calculator\\inputs\\def\\fixed\\shp_summary\\2013\\shapefile.shp\n",
      "Opening: D:\\CIAT\\Code\\BID\\dci_fauno\\data\\risk_calculator\\inputs\\def\\fixed\\raster_summary\\2014.tif\n",
      "Transforming\n",
      "Creating shapefile crs: {'init': 'epsg:3116'}\n"
     ]
    },
    {
     "name": "stderr",
     "output_type": "stream",
     "text": [
      "d:\\ciat\\virtualenv\\jupyter\\lib\\site-packages\\pyproj\\crs\\crs.py:53: FutureWarning: '+init=<authority>:<code>' syntax is deprecated. '<authority>:<code>' is the preferred initialization method. When making the change, be mindful of axis order changes: https://pyproj4.github.io/pyproj/stable/gotchas.html#axis-order-changes-in-proj-6\n",
      "  return _prepare_from_string(\" \".join(pjargs))\n"
     ]
    },
    {
     "name": "stdout",
     "output_type": "stream",
     "text": [
      "            lon           lat                         geometry\n",
      "0  1.304345e+06  1.856528e+06  POINT (1304344.853 1856528.489)\n",
      "1  1.304376e+06  1.856528e+06  POINT (1304375.570 1856528.489)\n",
      "2  1.304314e+06  1.856498e+06  POINT (1304314.136 1856497.772)\n",
      "3  1.304345e+06  1.856498e+06  POINT (1304344.853 1856497.772)\n",
      "4  1.304376e+06  1.856498e+06  POINT (1304375.570 1856497.772)\n",
      "Saving: D:\\CIAT\\Code\\BID\\dci_fauno\\data\\risk_calculator\\inputs\\def\\fixed\\shp_summary\\2014\\shapefile.shp\n",
      "Opening: D:\\CIAT\\Code\\BID\\dci_fauno\\data\\risk_calculator\\inputs\\def\\fixed\\raster_summary\\2015.tif\n",
      "Transforming\n",
      "Creating shapefile crs: {'init': 'epsg:3116'}\n"
     ]
    },
    {
     "name": "stderr",
     "output_type": "stream",
     "text": [
      "d:\\ciat\\virtualenv\\jupyter\\lib\\site-packages\\pyproj\\crs\\crs.py:53: FutureWarning: '+init=<authority>:<code>' syntax is deprecated. '<authority>:<code>' is the preferred initialization method. When making the change, be mindful of axis order changes: https://pyproj4.github.io/pyproj/stable/gotchas.html#axis-order-changes-in-proj-6\n",
      "  return _prepare_from_string(\" \".join(pjargs))\n"
     ]
    },
    {
     "name": "stdout",
     "output_type": "stream",
     "text": [
      "            lon           lat                         geometry\n",
      "0  1.304345e+06  1.856528e+06  POINT (1304344.853 1856528.489)\n",
      "1  1.304376e+06  1.856528e+06  POINT (1304375.570 1856528.489)\n",
      "2  1.304314e+06  1.856498e+06  POINT (1304314.136 1856497.772)\n",
      "3  1.304345e+06  1.856498e+06  POINT (1304344.853 1856497.772)\n",
      "4  1.304376e+06  1.856498e+06  POINT (1304375.570 1856497.772)\n",
      "Saving: D:\\CIAT\\Code\\BID\\dci_fauno\\data\\risk_calculator\\inputs\\def\\fixed\\shp_summary\\2015\\shapefile.shp\n",
      "Opening: D:\\CIAT\\Code\\BID\\dci_fauno\\data\\risk_calculator\\inputs\\def\\fixed\\raster_summary\\2016.tif\n",
      "Transforming\n",
      "Creating shapefile crs: {'init': 'epsg:3116'}\n"
     ]
    },
    {
     "name": "stderr",
     "output_type": "stream",
     "text": [
      "d:\\ciat\\virtualenv\\jupyter\\lib\\site-packages\\pyproj\\crs\\crs.py:53: FutureWarning: '+init=<authority>:<code>' syntax is deprecated. '<authority>:<code>' is the preferred initialization method. When making the change, be mindful of axis order changes: https://pyproj4.github.io/pyproj/stable/gotchas.html#axis-order-changes-in-proj-6\n",
      "  return _prepare_from_string(\" \".join(pjargs))\n"
     ]
    },
    {
     "name": "stdout",
     "output_type": "stream",
     "text": [
      "            lon           lat                         geometry\n",
      "0  1.304345e+06  1.856528e+06  POINT (1304344.853 1856528.489)\n",
      "1  1.304376e+06  1.856528e+06  POINT (1304375.570 1856528.489)\n",
      "2  1.304314e+06  1.856498e+06  POINT (1304314.136 1856497.772)\n",
      "3  1.304345e+06  1.856498e+06  POINT (1304344.853 1856497.772)\n",
      "4  1.304376e+06  1.856498e+06  POINT (1304375.570 1856497.772)\n",
      "Saving: D:\\CIAT\\Code\\BID\\dci_fauno\\data\\risk_calculator\\inputs\\def\\fixed\\shp_summary\\2016\\shapefile.shp\n",
      "Opening: D:\\CIAT\\Code\\BID\\dci_fauno\\data\\risk_calculator\\inputs\\def\\fixed\\raster_summary\\2017.tif\n",
      "Transforming\n",
      "Creating shapefile crs: {'init': 'epsg:3116'}\n"
     ]
    },
    {
     "name": "stderr",
     "output_type": "stream",
     "text": [
      "d:\\ciat\\virtualenv\\jupyter\\lib\\site-packages\\pyproj\\crs\\crs.py:53: FutureWarning: '+init=<authority>:<code>' syntax is deprecated. '<authority>:<code>' is the preferred initialization method. When making the change, be mindful of axis order changes: https://pyproj4.github.io/pyproj/stable/gotchas.html#axis-order-changes-in-proj-6\n",
      "  return _prepare_from_string(\" \".join(pjargs))\n"
     ]
    },
    {
     "name": "stdout",
     "output_type": "stream",
     "text": [
      "            lon           lat                         geometry\n",
      "0  1.304345e+06  1.856528e+06  POINT (1304344.853 1856528.489)\n",
      "1  1.304376e+06  1.856528e+06  POINT (1304375.570 1856528.489)\n",
      "2  1.304314e+06  1.856498e+06  POINT (1304314.136 1856497.772)\n",
      "3  1.304345e+06  1.856498e+06  POINT (1304344.853 1856497.772)\n",
      "4  1.304376e+06  1.856498e+06  POINT (1304375.570 1856497.772)\n",
      "Saving: D:\\CIAT\\Code\\BID\\dci_fauno\\data\\risk_calculator\\inputs\\def\\fixed\\shp_summary\\2017\\shapefile.shp\n",
      "Opening: D:\\CIAT\\Code\\BID\\dci_fauno\\data\\risk_calculator\\inputs\\def\\fixed\\raster_summary\\2018.tif\n",
      "Transforming\n",
      "Creating shapefile crs: {'init': 'epsg:3116'}\n"
     ]
    },
    {
     "name": "stderr",
     "output_type": "stream",
     "text": [
      "d:\\ciat\\virtualenv\\jupyter\\lib\\site-packages\\pyproj\\crs\\crs.py:53: FutureWarning: '+init=<authority>:<code>' syntax is deprecated. '<authority>:<code>' is the preferred initialization method. When making the change, be mindful of axis order changes: https://pyproj4.github.io/pyproj/stable/gotchas.html#axis-order-changes-in-proj-6\n",
      "  return _prepare_from_string(\" \".join(pjargs))\n"
     ]
    },
    {
     "name": "stdout",
     "output_type": "stream",
     "text": [
      "            lon           lat                         geometry\n",
      "0  1.304345e+06  1.856528e+06  POINT (1304344.853 1856528.489)\n",
      "1  1.304376e+06  1.856528e+06  POINT (1304375.570 1856528.489)\n",
      "2  1.304314e+06  1.856498e+06  POINT (1304314.136 1856497.772)\n",
      "3  1.304345e+06  1.856498e+06  POINT (1304344.853 1856497.772)\n",
      "4  1.304376e+06  1.856498e+06  POINT (1304375.570 1856497.772)\n",
      "Saving: D:\\CIAT\\Code\\BID\\dci_fauno\\data\\risk_calculator\\inputs\\def\\fixed\\shp_summary\\2018\\shapefile.shp\n",
      "Done!\n"
     ]
    }
   ],
   "source": [
    "# Parsing to shapefile\n",
    "defo.to_shp(def_folder)\n",
    "print(\"Done!\")"
   ]
  },
  {
   "cell_type": "markdown",
   "id": "gothic-request",
   "metadata": {},
   "source": [
    "### Plots\n",
    "This section compiles all CSV files with information about plots for all years. It clear all records, \n",
    "validating that all plots have coordinates and these coordinates are good. Further it sets the region\n",
    "and locality according to shapefile of reference. Finally it creates a new layer with all data compiled"
   ]
  },
  {
   "cell_type": "code",
   "execution_count": 3,
   "id": "smaller-transparency",
   "metadata": {},
   "outputs": [
    {
     "name": "stdout",
     "output_type": "stream",
     "text": [
      "Reading: D:\\CIAT\\Code\\BID\\dci_fauno\\data\\risk_calculator\\inputs\\plot\\download\\2019.csv\n"
     ]
    },
    {
     "name": "stderr",
     "output_type": "stream",
     "text": [
      "d:\\ciat\\virtualenv\\jupyter\\lib\\site-packages\\IPython\\core\\interactiveshell.py:3347: DtypeWarning: Columns (6) have mixed types.Specify dtype option on import or set low_memory=False.\n",
      "  if (await self.run_code(code, result,  async_=asy)):\n"
     ]
    },
    {
     "name": "stdout",
     "output_type": "stream",
     "text": [
      "Fixing columns\n",
      "Cleaning records\n",
      "     ext_id       lat        lon  animals  year       adm1             adm2  \\\n",
      "0   1589850 -4.006928 -70.134470        1  2019   AMAZONAS          LETICIA   \n",
      "1   1589861 -4.176944 -69.943611       28  2019   AMAZONAS          LETICIA   \n",
      "2   1589877 -4.141955 -70.010603       35  2019   AMAZONAS          LETICIA   \n",
      "8   1589914 -3.771690 -70.359310        4  2019   AMAZONAS  PUERTO NARIï¿½O   \n",
      "10  1510795  5.860740 -75.501670       17  2019  ANTIOQUIA        ABEJORRAL   \n",
      "\n",
      "               adm3  \n",
      "0           LETICIA  \n",
      "1           LETICIA  \n",
      "2           LETICIA  \n",
      "8   PUERTO NARIï¿½O  \n",
      "10      ALTO BONITO  \n",
      "Logging: D:\\CIAT\\Code\\BID\\dci_fauno\\data\\risk_calculator\\inputs\\plot\\log\\err-data-bad_plots.csv\n",
      "Goruping and filtering max\n",
      "Saving: D:\\CIAT\\Code\\BID\\dci_fauno\\data\\risk_calculator\\inputs\\plot\\content\\plots.csv\n",
      "Opening: D:\\CIAT\\Code\\BID\\dci_fauno\\data\\risk_calculator\\inputs\\plot\\content\\plots.csv\n",
      "Transforming to points\n"
     ]
    },
    {
     "name": "stderr",
     "output_type": "stream",
     "text": [
      "d:\\ciat\\virtualenv\\jupyter\\lib\\site-packages\\pyproj\\crs\\crs.py:53: FutureWarning: '+init=<authority>:<code>' syntax is deprecated. '<authority>:<code>' is the preferred initialization method. When making the change, be mindful of axis order changes: https://pyproj4.github.io/pyproj/stable/gotchas.html#axis-order-changes-in-proj-6\n",
      "  return _prepare_from_string(\" \".join(pjargs))\n"
     ]
    },
    {
     "name": "stdout",
     "output_type": "stream",
     "text": [
      "Reprojecting\n",
      "Opening shp reference: D:\\CIAT\\Code\\BID\\dci_fauno\\data\\risk_calculator\\inputs\\adm\\fixed\\adm.shp\n",
      "Joining spatial\n",
      "       ext_id       lat        lon  animals  year      adm1  \\\n",
      "0      400165  5.282530 -71.963700     7470  2019  CASANARE   \n",
      "1      400292  5.342888 -71.967508     6673  2019  CASANARE   \n",
      "662   1189289  5.220117 -71.931157     1398  2019  CASANARE   \n",
      "1092  1475236  5.288035 -71.963668     1115  2019  CASANARE   \n",
      "3030  1259268  5.229343 -71.942858      676  2019  CASANARE   \n",
      "\n",
      "                      adm2       adm3  animals_max  \\\n",
      "0     SAN LUIS DE PALENQUE  ALGODONAL         7470   \n",
      "1     SAN LUIS DE PALENQUE   JAGUEYES         6673   \n",
      "662   SAN LUIS DE PALENQUE   JAGUEYES         1398   \n",
      "1092  SAN LUIS DE PALENQUE   JAGUEYES         1115   \n",
      "3030  SAN LUIS DE PALENQUE   JAGUEYES          676   \n",
      "\n",
      "                             geometry  index_right adm1_id adm1_name adm2_id  \\\n",
      "0     POINT (1234367.895 1076294.221)         4243      85  CASANARE   85325   \n",
      "1     POINT (1233922.710 1082971.885)         4243      85  CASANARE   85325   \n",
      "662   POINT (1238001.442 1069399.934)         4243      85  CASANARE   85325   \n",
      "1092  POINT (1234369.374 1076903.407)         4243      85  CASANARE   85325   \n",
      "3030  POINT (1236699.896 1070416.464)         4243      85  CASANARE   85325   \n",
      "\n",
      "                 adm2_name   adm3_id     adm3_name          area  \n",
      "0     SAN LUIS DE PALENQUE  85325035  LOS JAGUEYES  46475.280446  \n",
      "1     SAN LUIS DE PALENQUE  85325035  LOS JAGUEYES  46475.280446  \n",
      "662   SAN LUIS DE PALENQUE  85325035  LOS JAGUEYES  46475.280446  \n",
      "1092  SAN LUIS DE PALENQUE  85325035  LOS JAGUEYES  46475.280446  \n",
      "3030  SAN LUIS DE PALENQUE  85325035  LOS JAGUEYES  46475.280446  \n",
      "Saving: D:\\CIAT\\Code\\BID\\dci_fauno\\data\\risk_calculator\\inputs\\plot\\fixed\\plots\\plots.shp\n",
      "Done!\n"
     ]
    }
   ],
   "source": [
    "# Getting parameters for processing data\n",
    "plo_character_file = conf.loc[conf[\"parameter\"] == \"plo_character_file\",\"value\"].values[0]\n",
    "plo_src_ext_id = conf.loc[conf[\"parameter\"] == \"plo_src_ext_id\",\"value\"].values[0]\n",
    "plo_src_lat = conf.loc[conf[\"parameter\"] == \"plo_src_lat\",\"value\"].values[0]\n",
    "plo_src_lon = conf.loc[conf[\"parameter\"] == \"plo_src_lon\",\"value\"].values[0]\n",
    "plo_src_animals = conf.loc[conf[\"parameter\"] == \"plo_src_animals\",\"value\"].values[0]\n",
    "plo_src_adm1 = conf.loc[conf[\"parameter\"] == \"plo_src_adm1\",\"value\"].values[0]\n",
    "plo_src_adm2 = conf.loc[conf[\"parameter\"] == \"plo_src_adm2\",\"value\"].values[0]\n",
    "plo_src_adm3 = conf.loc[conf[\"parameter\"] == \"plo_src_adm3\",\"value\"].values[0]\n",
    "plo_lim_lat_low =  float(conf.loc[conf[\"parameter\"] == \"plo_lim_lat_low\",\"value\"].values[0])\n",
    "plo_lim_lat_upp =  float(conf.loc[conf[\"parameter\"] == \"plo_lim_lat_upp\",\"value\"].values[0])\n",
    "plo_lim_lon_low =  float(conf.loc[conf[\"parameter\"] == \"plo_lim_lon_low\",\"value\"].values[0])\n",
    "plo_lim_lon_upp =  float(conf.loc[conf[\"parameter\"] == \"plo_lim_lon_upp\",\"value\"].values[0])\n",
    "# Getting parameters for creating shp\n",
    "plo_src_crs = int(conf.loc[conf[\"parameter\"] == \"plo_src_crs\",\"value\"].values[0])\n",
    "\n",
    "has_adm = (plo_src_adm1 != \"\") & (plo_src_adm2 != \"\") & (plo_src_adm3 != \"\")\n",
    "\n",
    "# Compiling data\n",
    "plot.processing_raw_data(plot_folder, plo_character_file, \n",
    "              plo_src_ext_id, plo_src_lat, plo_src_lon, plo_src_animals,\n",
    "              plo_lim_lat_low, plo_lim_lat_upp, plo_lim_lon_low, plo_lim_lon_upp,\n",
    "              has_adm, plo_src_adm1, plo_src_adm2, plo_src_adm3)\n",
    "# Fixing data\n",
    "path_adm_shp = os.path.join(adm_folder,\"fixed\",\"adm.shp\")\n",
    "plot.create_data(plot_folder, path_adm_shp, plo_src_crs, glo_crs)\n",
    "\n",
    "print(\"Done!\")"
   ]
  },
  {
   "cell_type": "markdown",
   "id": "wicked-brick",
   "metadata": {},
   "source": [
    "### Calculating buffer by plot\n",
    "In this section, the script creates a buffer for all plots. It uses the following ecuation to set radious for the buffer: amount of animals in plot / field capacity. "
   ]
  },
  {
   "cell_type": "code",
   "execution_count": 4,
   "id": "gentle-asset",
   "metadata": {},
   "outputs": [
    {
     "name": "stdout",
     "output_type": "stream",
     "text": [
      "Opening plots shape file: D:\\CIAT\\Code\\BID\\dci_fauno\\data\\risk_calculator\\inputs\\plot\\fixed\\plots\\plots.shp\n"
     ]
    },
    {
     "name": "stderr",
     "output_type": "stream",
     "text": [
      "d:\\ciat\\virtualenv\\jupyter\\lib\\site-packages\\pyproj\\crs\\crs.py:53: FutureWarning: '+init=<authority>:<code>' syntax is deprecated. '<authority>:<code>' is the preferred initialization method. When making the change, be mindful of axis order changes: https://pyproj4.github.io/pyproj/stable/gotchas.html#axis-order-changes-in-proj-6\n",
      "  return _prepare_from_string(\" \".join(pjargs))\n"
     ]
    },
    {
     "name": "stdout",
     "output_type": "stream",
     "text": [
      "Mergin with field capacity\n",
      "Creating buffer\n",
      "Reprojecting\n",
      "Saving: D:\\CIAT\\Code\\BID\\dci_fauno\\data\\risk_calculator\\inputs\\plot\\fixed\\buffer\\buffer.shp\n",
      "Done!\n"
     ]
    }
   ],
   "source": [
    "# Creatting buffer\n",
    "plot.create_buffer(plot_folder, buffer, glo_crs)\n",
    "print(\"Done!\")"
   ]
  },
  {
   "cell_type": "markdown",
   "id": "breathing-hampshire",
   "metadata": {},
   "source": [
    "## Mobilization"
   ]
  },
  {
   "cell_type": "markdown",
   "id": "broken-vector",
   "metadata": {},
   "source": [
    "### Fixing mobilization data"
   ]
  },
  {
   "cell_type": "code",
   "execution_count": 3,
   "id": "positive-hypothesis",
   "metadata": {},
   "outputs": [
    {
     "name": "stdout",
     "output_type": "stream",
     "text": [
      "Processing: D:\\CIAT\\Code\\BID\\dci_fauno\\data\\risk_calculator\\inputs\\mob\\content\\2017.csv\n",
      "Removing columns\n",
      "Pivoting data by year\n",
      "Summarizing mobilization\n",
      "Fixing columns names\n",
      "Saving: D:\\CIAT\\Code\\BID\\dci_fauno\\data\\risk_calculator\\inputs\\mob\\fixed\\2017.csv\n",
      "Processing: D:\\CIAT\\Code\\BID\\dci_fauno\\data\\risk_calculator\\inputs\\mob\\content\\2018.csv\n",
      "Removing columns\n",
      "Pivoting data by year\n",
      "Summarizing mobilization\n",
      "Fixing columns names\n",
      "Saving: D:\\CIAT\\Code\\BID\\dci_fauno\\data\\risk_calculator\\inputs\\mob\\fixed\\2018.csv\n",
      "Done!\n"
     ]
    }
   ],
   "source": [
    "# Getting parameters for processing data\n",
    "mob_origin_name = conf.loc[conf[\"parameter\"] == \"mob_origin_name\",\"value\"].values[0]\n",
    "mob_destination_name = conf.loc[conf[\"parameter\"] == \"mob_destination_name\",\"value\"].values[0]\n",
    "mob_type_name = conf.loc[conf[\"parameter\"] == \"mob_type_name\",\"value\"].values[0]\n",
    "mob_columns_exclude = map(str.strip, conf.loc[conf[\"parameter\"] == \"mob_columns_exclude\",\"value\"].values[0].split(\",\"))\n",
    "\n",
    "mobi.fixed_data(mob_folder,mob_columns_exclude,mob_origin_name,mob_destination_name,mob_type_name)\n",
    "print(\"Done!\")"
   ]
  },
  {
   "cell_type": "markdown",
   "id": "filled-fairy",
   "metadata": {},
   "source": [
    "## Analyzing plots"
   ]
  },
  {
   "cell_type": "markdown",
   "id": "light-tennessee",
   "metadata": {},
   "source": [
    "### Calculating deforested areas by plot\n",
    "In this section the system calculates the proportion of deforested areas by plot. It combines raster deforestation files\n",
    "and buffer shapefile."
   ]
  },
  {
   "cell_type": "code",
   "execution_count": 4,
   "id": "hawaiian-episode",
   "metadata": {},
   "outputs": [
    {
     "name": "stdout",
     "output_type": "stream",
     "text": [
      "Opening shp: D:\\CIAT\\Code\\BID\\dci_fauno\\data\\risk_calculator\\inputs\\plot\\fixed\\buffer\\buffer.shp\n",
      "Type of analysis: summary\n",
      "Processing: 2010\n",
      "Opening raster: D:\\CIAT\\Code\\BID\\dci_fauno\\data\\risk_calculator\\inputs\\def\\fixed\\raster_summary\\2010.tif\n",
      "Calculating zonal stats\n",
      "Parsing to Geopandas\n",
      "Saving: D:\\CIAT\\Code\\BID\\dci_fauno\\data\\risk_calculator\\inputs\\plot\\fixed\\def\\summary\\2010\\areas.shp\n",
      "Processing: 2012\n",
      "Opening raster: D:\\CIAT\\Code\\BID\\dci_fauno\\data\\risk_calculator\\inputs\\def\\fixed\\raster_summary\\2012.tif\n",
      "Calculating zonal stats\n",
      "Parsing to Geopandas\n",
      "Saving: D:\\CIAT\\Code\\BID\\dci_fauno\\data\\risk_calculator\\inputs\\plot\\fixed\\def\\summary\\2012\\areas.shp\n",
      "Processing: 2013\n",
      "Opening raster: D:\\CIAT\\Code\\BID\\dci_fauno\\data\\risk_calculator\\inputs\\def\\fixed\\raster_summary\\2013.tif\n",
      "Calculating zonal stats\n",
      "Parsing to Geopandas\n",
      "Saving: D:\\CIAT\\Code\\BID\\dci_fauno\\data\\risk_calculator\\inputs\\plot\\fixed\\def\\summary\\2013\\areas.shp\n",
      "Processing: 2014\n",
      "Opening raster: D:\\CIAT\\Code\\BID\\dci_fauno\\data\\risk_calculator\\inputs\\def\\fixed\\raster_summary\\2014.tif\n",
      "Calculating zonal stats\n",
      "Parsing to Geopandas\n",
      "Saving: D:\\CIAT\\Code\\BID\\dci_fauno\\data\\risk_calculator\\inputs\\plot\\fixed\\def\\summary\\2014\\areas.shp\n",
      "Processing: 2015\n",
      "Opening raster: D:\\CIAT\\Code\\BID\\dci_fauno\\data\\risk_calculator\\inputs\\def\\fixed\\raster_summary\\2015.tif\n",
      "Calculating zonal stats\n",
      "Parsing to Geopandas\n",
      "Saving: D:\\CIAT\\Code\\BID\\dci_fauno\\data\\risk_calculator\\inputs\\plot\\fixed\\def\\summary\\2015\\areas.shp\n",
      "Processing: 2016\n",
      "Opening raster: D:\\CIAT\\Code\\BID\\dci_fauno\\data\\risk_calculator\\inputs\\def\\fixed\\raster_summary\\2016.tif\n",
      "Calculating zonal stats\n",
      "Parsing to Geopandas\n",
      "Saving: D:\\CIAT\\Code\\BID\\dci_fauno\\data\\risk_calculator\\inputs\\plot\\fixed\\def\\summary\\2016\\areas.shp\n",
      "Processing: 2017\n",
      "Opening raster: D:\\CIAT\\Code\\BID\\dci_fauno\\data\\risk_calculator\\inputs\\def\\fixed\\raster_summary\\2017.tif\n",
      "Calculating zonal stats\n",
      "Parsing to Geopandas\n",
      "Saving: D:\\CIAT\\Code\\BID\\dci_fauno\\data\\risk_calculator\\inputs\\plot\\fixed\\def\\summary\\2017\\areas.shp\n",
      "Processing: 2018\n",
      "Opening raster: D:\\CIAT\\Code\\BID\\dci_fauno\\data\\risk_calculator\\inputs\\def\\fixed\\raster_summary\\2018.tif\n",
      "Calculating zonal stats\n",
      "Parsing to Geopandas\n",
      "Saving: D:\\CIAT\\Code\\BID\\dci_fauno\\data\\risk_calculator\\inputs\\plot\\fixed\\def\\summary\\2018\\areas.shp\n"
     ]
    }
   ],
   "source": [
    "# Getting parameters for processing data\n",
    "ris_years = map(str.strip, conf.loc[conf[\"parameter\"] == \"ris_years\",\"value\"].values[0].split(\",\"))\n",
    "ris_types_analysis =  map(str.strip, conf.loc[conf[\"parameter\"] == \"ris_types_analysis\",\"value\"].values[0].split(\",\"))\n",
    "def_pixel_size = float(conf.loc[conf[\"parameter\"] == \"def_pixel_size\",\"value\"].values[0])\n",
    "\n",
    "# De\n",
    "#risk.deforestation_plot(inputs, ris_years, ris_types_analysis, def_pixel_size)\n",
    "risk.deforestation_plot(inputs, [2010,2012,2013,2014,2015,2016,2017,2018], [\"summary\"], def_pixel_size)\n",
    "print(\"Done!\")"
   ]
  },
  {
   "cell_type": "markdown",
   "id": "upset-consultancy",
   "metadata": {},
   "source": [
    "### Calculating distance between plots and near deforestation"
   ]
  },
  {
   "cell_type": "code",
   "execution_count": 3,
   "id": "requested-actor",
   "metadata": {},
   "outputs": [
    {
     "name": "stdout",
     "output_type": "stream",
     "text": [
      "Processing type: detail\n",
      "Processing year: 2017\n",
      "Opening areas shp: D:\\CIAT\\Code\\BID\\dci_fauno\\data\\risk_calculator\\inputs\\plot\\fixed\\def\\detail\\2017\\areas.shp\n",
      "Opening deforestation shp: D:\\CIAT\\Code\\BID\\dci_fauno\\data\\risk_calculator\\inputs\\def\\fixed\\shp_detail\\2017\\shapefile.shp\n",
      "Fixing fields\n",
      "Starting process parallel\n",
      "Joining results\n",
      "Saving: D:\\CIAT\\Code\\BID\\dci_fauno\\data\\risk_calculator\\inputs\\plot\\fixed\\dis\\detail\\2017\\areas_distance.shp\n",
      "Processing year: 2018\n",
      "Opening areas shp: D:\\CIAT\\Code\\BID\\dci_fauno\\data\\risk_calculator\\inputs\\plot\\fixed\\def\\detail\\2018\\areas.shp\n",
      "Opening deforestation shp: D:\\CIAT\\Code\\BID\\dci_fauno\\data\\risk_calculator\\inputs\\def\\fixed\\shp_detail\\2018\\shapefile.shp\n",
      "Fixing fields\n",
      "Starting process parallel\n",
      "Joining results\n",
      "Saving: D:\\CIAT\\Code\\BID\\dci_fauno\\data\\risk_calculator\\inputs\\plot\\fixed\\dis\\detail\\2018\\areas_distance.shp\n",
      "Processing type: summary\n",
      "Done!\n"
     ]
    }
   ],
   "source": [
    "# Getting parameters for processing data\n",
    "ris_years = map(str.strip, conf.loc[conf[\"parameter\"] == \"ris_years\",\"value\"].values[0].split(\",\"))\n",
    "ris_types_analysis =  map(str.strip, conf.loc[conf[\"parameter\"] == \"ris_types_analysis\",\"value\"].values[0].split(\",\"))\n",
    "\n",
    "risk.distance_plot(inputs, ris_years, ris_types_analysis)\n",
    "print(\"Done!\")"
   ]
  },
  {
   "cell_type": "markdown",
   "id": "interim-indian",
   "metadata": {},
   "source": [
    "### Calculating direct risk\n",
    "It changes teh CSR to WGS84 for all new layers with risk"
   ]
  },
  {
   "cell_type": "code",
   "execution_count": 3,
   "id": "removable-hughes",
   "metadata": {},
   "outputs": [
    {
     "name": "stdout",
     "output_type": "stream",
     "text": [
      "Processing type: detail\n",
      "Processing year: 2010\n",
      "Opening areas shp: D:\\CIAT\\Code\\BID\\dci_fauno\\data\\risk_calculator\\inputs\\plot\\fixed\\dis\\detail\\2010\\areas_distance.shp\n",
      "Reprojecting to: {'init': 'epsg:4326', 'no_defs': True}\n"
     ]
    },
    {
     "name": "stderr",
     "output_type": "stream",
     "text": [
      "d:\\ciat\\virtualenv\\jupyter\\lib\\site-packages\\pyproj\\crs\\crs.py:53: FutureWarning: '+init=<authority>:<code>' syntax is deprecated. '<authority>:<code>' is the preferred initialization method. When making the change, be mindful of axis order changes: https://pyproj4.github.io/pyproj/stable/gotchas.html#axis-order-changes-in-proj-6\n",
      "  return _prepare_from_string(\" \".join(pjargs))\n"
     ]
    },
    {
     "name": "stdout",
     "output_type": "stream",
     "text": [
      "Starting process parallel\n"
     ]
    },
    {
     "name": "stderr",
     "output_type": "stream",
     "text": [
      "d:\\ciat\\virtualenv\\jupyter\\lib\\site-packages\\pyproj\\crs\\crs.py:280: FutureWarning: '+init=<authority>:<code>' syntax is deprecated. '<authority>:<code>' is the preferred initialization method. When making the change, be mindful of axis order changes: https://pyproj4.github.io/pyproj/stable/gotchas.html#axis-order-changes-in-proj-6\n",
      "  projstring = _prepare_from_string(projparams)\n"
     ]
    },
    {
     "name": "stdout",
     "output_type": "stream",
     "text": [
      "Joining results\n",
      "Saving: D:\\CIAT\\Code\\BID\\dci_fauno\\data\\risk_calculator\\inputs\\plot\\fixed\\risk\\detail\\2010\\rd.shp\n",
      "Processing year: 2012\n",
      "Opening areas shp: D:\\CIAT\\Code\\BID\\dci_fauno\\data\\risk_calculator\\inputs\\plot\\fixed\\dis\\detail\\2012\\areas_distance.shp\n",
      "Reprojecting to: {'init': 'epsg:4326', 'no_defs': True}\n",
      "Starting process parallel\n",
      "Joining results\n",
      "Saving: D:\\CIAT\\Code\\BID\\dci_fauno\\data\\risk_calculator\\inputs\\plot\\fixed\\risk\\detail\\2012\\rd.shp\n",
      "Processing year: 2013\n",
      "Opening areas shp: D:\\CIAT\\Code\\BID\\dci_fauno\\data\\risk_calculator\\inputs\\plot\\fixed\\dis\\detail\\2013\\areas_distance.shp\n",
      "Reprojecting to: {'init': 'epsg:4326', 'no_defs': True}\n",
      "Starting process parallel\n",
      "Joining results\n",
      "Saving: D:\\CIAT\\Code\\BID\\dci_fauno\\data\\risk_calculator\\inputs\\plot\\fixed\\risk\\detail\\2013\\rd.shp\n",
      "Processing year: 2014\n",
      "Opening areas shp: D:\\CIAT\\Code\\BID\\dci_fauno\\data\\risk_calculator\\inputs\\plot\\fixed\\dis\\detail\\2014\\areas_distance.shp\n",
      "Reprojecting to: {'init': 'epsg:4326', 'no_defs': True}\n",
      "Starting process parallel\n",
      "Joining results\n",
      "Saving: D:\\CIAT\\Code\\BID\\dci_fauno\\data\\risk_calculator\\inputs\\plot\\fixed\\risk\\detail\\2014\\rd.shp\n",
      "Processing year: 2015\n",
      "Opening areas shp: D:\\CIAT\\Code\\BID\\dci_fauno\\data\\risk_calculator\\inputs\\plot\\fixed\\dis\\detail\\2015\\areas_distance.shp\n",
      "Reprojecting to: {'init': 'epsg:4326', 'no_defs': True}\n",
      "Starting process parallel\n",
      "Joining results\n",
      "Saving: D:\\CIAT\\Code\\BID\\dci_fauno\\data\\risk_calculator\\inputs\\plot\\fixed\\risk\\detail\\2015\\rd.shp\n",
      "Processing year: 2016\n",
      "Opening areas shp: D:\\CIAT\\Code\\BID\\dci_fauno\\data\\risk_calculator\\inputs\\plot\\fixed\\dis\\detail\\2016\\areas_distance.shp\n",
      "Reprojecting to: {'init': 'epsg:4326', 'no_defs': True}\n",
      "Starting process parallel\n",
      "Joining results\n",
      "Saving: D:\\CIAT\\Code\\BID\\dci_fauno\\data\\risk_calculator\\inputs\\plot\\fixed\\risk\\detail\\2016\\rd.shp\n",
      "Processing year: 2017\n",
      "Opening areas shp: D:\\CIAT\\Code\\BID\\dci_fauno\\data\\risk_calculator\\inputs\\plot\\fixed\\dis\\detail\\2017\\areas_distance.shp\n",
      "Reprojecting to: {'init': 'epsg:4326', 'no_defs': True}\n",
      "Starting process parallel\n",
      "Joining results\n",
      "Saving: D:\\CIAT\\Code\\BID\\dci_fauno\\data\\risk_calculator\\inputs\\plot\\fixed\\risk\\detail\\2017\\rd.shp\n",
      "Processing year: 2018\n",
      "Opening areas shp: D:\\CIAT\\Code\\BID\\dci_fauno\\data\\risk_calculator\\inputs\\plot\\fixed\\dis\\detail\\2018\\areas_distance.shp\n",
      "Reprojecting to: {'init': 'epsg:4326', 'no_defs': True}\n",
      "Starting process parallel\n",
      "Joining results\n",
      "Saving: D:\\CIAT\\Code\\BID\\dci_fauno\\data\\risk_calculator\\inputs\\plot\\fixed\\risk\\detail\\2018\\rd.shp\n",
      "Done!\n"
     ]
    }
   ],
   "source": [
    "# Getting parameters for processing data\n",
    "ris_years = map(str.strip, conf.loc[conf[\"parameter\"] == \"ris_years\",\"value\"].values[0].split(\",\"))\n",
    "ris_types_analysis =  map(str.strip, conf.loc[conf[\"parameter\"] == \"ris_types_analysis\",\"value\"].values[0].split(\",\"))\n",
    "\n",
    "risk.risk_direct(inputs, ris_years, ris_types_analysis, glo_crs_wgs84)\n",
    "print(\"Done!\")"
   ]
  },
  {
   "cell_type": "markdown",
   "id": "violent-knitting",
   "metadata": {},
   "source": [
    "### Calculating total risk for each plot\n",
    "It takes into account all paramters: direct risk, risk of all in plots and also "
   ]
  },
  {
   "cell_type": "code",
   "execution_count": null,
   "id": "binding-reality",
   "metadata": {},
   "outputs": [
    {
     "name": "stdout",
     "output_type": "stream",
     "text": [
      "Processing type: detail\n",
      "Processing year: 2017\n",
      "Opening areas shp: D:\\CIAT\\Code\\BID\\dci_fauno\\data\\risk_calculator\\inputs\\plot\\fixed\\risk\\detail\\2017\\rd.shp\n",
      "Opening mobilization: D:\\CIAT\\Code\\BID\\dci_fauno\\data\\risk_calculator\\inputs\\mob\\fixed\\2017.csv\n",
      "Starting process parallel\n",
      "Joining results\n",
      "Saving: D:\\CIAT\\Code\\BID\\dci_fauno\\data\\risk_calculator\\inputs\\plot\\fixed\\total\\detail\\2017\\total.shp\n",
      "Processing year: 2018\n",
      "Opening areas shp: D:\\CIAT\\Code\\BID\\dci_fauno\\data\\risk_calculator\\inputs\\plot\\fixed\\risk\\detail\\2018\\rd.shp\n",
      "Opening mobilization: D:\\CIAT\\Code\\BID\\dci_fauno\\data\\risk_calculator\\inputs\\mob\\fixed\\2018.csv\n",
      "Starting process parallel\n"
     ]
    }
   ],
   "source": [
    "# Getting parameters for processing data\n",
    "ris_years = map(str.strip, conf.loc[conf[\"parameter\"] == \"ris_years\",\"value\"].values[0].split(\",\"))\n",
    "ris_types_analysis =  map(str.strip, conf.loc[conf[\"parameter\"] == \"ris_types_analysis\",\"value\"].values[0].split(\",\"))\n",
    "ris_type_plot = conf.loc[conf[\"parameter\"] == \"ris_type_plot\",\"value\"].values[0]\n",
    "\n",
    "#risk.total_risk(inputs, ris_years, ris_types_analysis)\n",
    "risk.total_risk(inputs, [\"2017\",\"2018\"], ris_types_analysis, ris_type_plot)\n",
    "print(\"Done!\")"
   ]
  },
  {
   "cell_type": "markdown",
   "id": "responsible-component",
   "metadata": {},
   "source": [
    "## Importing process"
   ]
  },
  {
   "cell_type": "markdown",
   "id": "novel-convention",
   "metadata": {},
   "source": [
    "## Generate outputs\n",
    "In this section all csv files, which will be upload to database, are generated from inputs files."
   ]
  },
  {
   "cell_type": "code",
   "execution_count": null,
   "id": "conscious-therapy",
   "metadata": {},
   "outputs": [
    {
     "name": "stdout",
     "output_type": "stream",
     "text": [
      "Processing type: detail\n",
      "Processing year: 2017\n",
      "Opening areas shp: D:\\CIAT\\Code\\BID\\dci_fauno\\data\\risk_calculator\\inputs\\plot\\fixed\\total\\detail\\2017\\total.shp\n",
      "Extracting administrative levels\n",
      "Removing duplicates\n",
      "Saving: D:\\CIAT\\Code\\BID\\dci_fauno\\data\\risk_calculator\\outputs\\administrative_level.csv\n",
      "Extracting administrative levels\n",
      "Removing duplicates\n",
      "Saving: D:\\CIAT\\Code\\BID\\dci_fauno\\data\\risk_calculator\\outputs\\localities.csv\n",
      "Extracting administrative levels\n",
      "Removing duplicates\n",
      "Saving: D:\\CIAT\\Code\\BID\\dci_fauno\\data\\risk_calculator\\outputs\\cattle_rancher.csv\n"
     ]
    }
   ],
   "source": [
    "# Getting parameters for processing data\n",
    "ris_years = map(str.strip, conf.loc[conf[\"parameter\"] == \"ris_years\",\"value\"].values[0].split(\",\"))\n",
    "ris_types_analysis =  map(str.strip, conf.loc[conf[\"parameter\"] == \"ris_types_analysis\",\"value\"].values[0].split(\",\"))\n",
    "ris_type_plot = conf.loc[conf[\"parameter\"] == \"ris_type_plot\",\"value\"].values[0]\n",
    "\n",
    "#impo.generate_outputs(inputs, outputs, ris_years, ris_types_analysis, ris_type_plot)\n",
    "impo.generate_outputs(inputs, outputs, [\"2017\",\"2018\"], ris_types_analysis, ris_type_plot)\n",
    "print(\"Done!\")"
   ]
  },
  {
   "cell_type": "code",
   "execution_count": 3,
   "id": "historical-revelation",
   "metadata": {},
   "outputs": [
    {
     "name": "stdout",
     "output_type": "stream",
     "text": [
      "Reading: D:\\CIAT\\Code\\BID\\dci_fauno\\data\\risk_calculator\\outputs\\administrative_level.csv\n",
      "Importing: 925\n",
      "Reading: D:\\CIAT\\Code\\BID\\dci_fauno\\data\\risk_calculator\\outputs\\localities.csv\n",
      "Merging with administrative level\n",
      "Importing: 20825\n",
      "Reading: D:\\CIAT\\Code\\BID\\dci_fauno\\data\\risk_calculator\\outputs\\cattle_rancher.csv\n",
      "Merging with localities\n",
      "Importing: 330192\n",
      "Year: 2017======================================== ]\n",
      "Starting analysis: 2017-detail\n",
      "Cattle Rancher Risk\n",
      "Reading: D:\\CIAT\\Code\\BID\\dci_fauno\\data\\risk_calculator\\outputs\\detail\\2017\\cattle_rancher_risk.csv\n",
      "Merging with cattle rancher\n",
      "Importing: 330192\n",
      "Cattle Rancher Network============================ ]\n",
      "Reading: D:\\CIAT\\Code\\BID\\dci_fauno\\data\\risk_calculator\\outputs\\detail\\2017\\cattle_rancher_network.csv\n"
     ]
    },
    {
     "name": "stderr",
     "output_type": "stream",
     "text": [
      "d:\\ciat\\virtualenv\\jupyter\\lib\\site-packages\\IPython\\core\\interactiveshell.py:3347: DtypeWarning: Columns (2) have mixed types.Specify dtype option on import or set low_memory=False.\n",
      "  if (await self.run_code(code, result,  async_=asy)):\n"
     ]
    },
    {
     "name": "stdout",
     "output_type": "stream",
     "text": [
      "Merging with cattle rancher source\n",
      "Shape: 845152\n",
      "Merging with cattle rancher destination\n",
      "Shape: 849142\n",
      "Importing: 849142\n",
      "Localities Network===============================================================================================================]\n",
      "Reading: D:\\CIAT\\Code\\BID\\dci_fauno\\data\\risk_calculator\\outputs\\detail\\2017\\locality_network.csv\n",
      "Merging with cattle rancher source\n",
      "Merging with cattle rancher destination\n",
      "Importing: 14502\n",
      "Index(['HEMBRA BUFALINA DE 1 A 2 AÑO', 'HEMBRA BUFALINA DE 2 A 3 AÑO',\n",
      "       'HEMBRA BUFALINA DE 3 A 5 AÑO', 'HEMBRA BUFALINA DE 3 A 8 MESE',\n",
      "       'HEMBRA BUFALINA ENTRE 8 Y 12 ', 'HEMBRA BUFALINA MAYOR DE 5 A',\n",
      "       'HEMBRA BUFALINA MENOR DE 3 ME', 'HEMBRA CRIA MAYOR A 8 MESES',\n",
      "       'HEMBRA DE 8 A 12 MESES', 'HEMBRA ENTRE 3 A 8 MESES',\n",
      "       'HEMBRA MENOR DE 3 MESES', 'HEMBRA REEMPLAZO MENOR DE 8 M',\n",
      "       'HEMBRAS 1 A 2 AÑOS', 'HEMBRAS 2 A 3 AÑOS', 'HEMBRAS DE 3 A 5 AÑOS',\n",
      "       'HEMBRAS MAYORES DE 5 AÑOS', 'LACTANTES HASTA 30 DIAS',\n",
      "       'LEVANTE CEBA 61 A 180 DIAS', 'MACHO BUFALINO DE 1 A 2 AÑOS',\n",
      "       'MACHO BUFALINO DE 2 A 3 AÑOS', 'MACHO BUFALINO MAYORES A 3 A',\n",
      "       'MACHO BUFALINO MENORES DE 1 A', 'MACHO REPRODUCTOR MAYOR DE 6 ',\n",
      "       'MACHOS DE 1 A 2 AÑOS', 'MACHOS DE 2 A 3 AÑOS',\n",
      "       'MACHOS MAYORES A 3 AÑOS', 'MACHOS MENORES DE 1 AÑO',\n",
      "       'PRECEBO 31 A 60 DIAS'],\n",
      "      dtype='object')\n",
      "Starting analysis: 2017-summary\n",
      "Cattle Rancher Risk\n",
      "Reading: D:\\CIAT\\Code\\BID\\dci_fauno\\data\\risk_calculator\\outputs\\summary\\2017\\cattle_rancher_risk.csv\n",
      "Merging with cattle rancher\n",
      "Importing: 330192\n",
      "Cattle Rancher Network============================ ]\n",
      "Reading: D:\\CIAT\\Code\\BID\\dci_fauno\\data\\risk_calculator\\outputs\\summary\\2017\\cattle_rancher_network.csv\n",
      "Merging with cattle rancher source\n",
      "Shape: 845152\n",
      "Merging with cattle rancher destination\n",
      "Shape: 849142\n",
      "Importing: 849142\n",
      "Localities Network===============================================================================================================]\n",
      "Reading: D:\\CIAT\\Code\\BID\\dci_fauno\\data\\risk_calculator\\outputs\\summary\\2017\\locality_network.csv\n",
      "Merging with cattle rancher source\n",
      "Merging with cattle rancher destination\n",
      "Importing: 14502\n",
      "Index(['HEMBRA BUFALINA DE 1 A 2 AÑO', 'HEMBRA BUFALINA DE 2 A 3 AÑO',\n",
      "       'HEMBRA BUFALINA DE 3 A 5 AÑO', 'HEMBRA BUFALINA DE 3 A 8 MESE',\n",
      "       'HEMBRA BUFALINA ENTRE 8 Y 12 ', 'HEMBRA BUFALINA MAYOR DE 5 A',\n",
      "       'HEMBRA BUFALINA MENOR DE 3 ME', 'HEMBRA CRIA MAYOR A 8 MESES',\n",
      "       'HEMBRA DE 8 A 12 MESES', 'HEMBRA ENTRE 3 A 8 MESES',\n",
      "       'HEMBRA MENOR DE 3 MESES', 'HEMBRA REEMPLAZO MENOR DE 8 M',\n",
      "       'HEMBRAS 1 A 2 AÑOS', 'HEMBRAS 2 A 3 AÑOS', 'HEMBRAS DE 3 A 5 AÑOS',\n",
      "       'HEMBRAS MAYORES DE 5 AÑOS', 'LACTANTES HASTA 30 DIAS',\n",
      "       'LEVANTE CEBA 61 A 180 DIAS', 'MACHO BUFALINO DE 1 A 2 AÑOS',\n",
      "       'MACHO BUFALINO DE 2 A 3 AÑOS', 'MACHO BUFALINO MAYORES A 3 A',\n",
      "       'MACHO BUFALINO MENORES DE 1 A', 'MACHO REPRODUCTOR MAYOR DE 6 ',\n",
      "       'MACHOS DE 1 A 2 AÑOS', 'MACHOS DE 2 A 3 AÑOS',\n",
      "       'MACHOS MAYORES A 3 AÑOS', 'MACHOS MENORES DE 1 AÑO',\n",
      "       'PRECEBO 31 A 60 DIAS'],\n",
      "      dtype='object')\n",
      "Year: 2018\n",
      "Done!\n"
     ]
    }
   ],
   "source": [
    "# Getting parameters for processing data\n",
    "ris_years = map(str.strip, conf.loc[conf[\"parameter\"] == \"ris_years\",\"value\"].values[0].split(\",\"))\n",
    "ris_types_analysis =  map(str.strip, conf.loc[conf[\"parameter\"] == \"ris_types_analysis\",\"value\"].values[0].split(\",\"))\n",
    "\n",
    "impo.save_database(outputs,[\"2017\",\"2018\"], ris_types_analysis,\"mongoadmin\", \"secret\", \"fauno_db\", \"localhost\", 27017)\n",
    "print(\"Done!\")"
   ]
  },
  {
   "cell_type": "code",
   "execution_count": null,
   "id": "crazy-diagram",
   "metadata": {},
   "outputs": [],
   "source": []
  }
 ],
 "metadata": {
  "kernelspec": {
   "display_name": "Python 3",
   "language": "python",
   "name": "python3"
  },
  "language_info": {
   "codemirror_mode": {
    "name": "ipython",
    "version": 3
   },
   "file_extension": ".py",
   "mimetype": "text/x-python",
   "name": "python",
   "nbconvert_exporter": "python",
   "pygments_lexer": "ipython3",
   "version": "3.9.1"
  }
 },
 "nbformat": 4,
 "nbformat_minor": 5
}
