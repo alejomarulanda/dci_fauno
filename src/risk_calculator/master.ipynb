{
 "cells": [
  {
   "cell_type": "markdown",
   "id": "emerging-talent",
   "metadata": {},
   "source": [
    "# Risk calculator process"
   ]
  },
  {
   "cell_type": "markdown",
   "id": "comic-ghana",
   "metadata": {},
   "source": [
    "## Importing modules for running process\n",
    "In this section all modules which are used by the system are loaded in memory"
   ]
  },
  {
   "cell_type": "code",
   "execution_count": 1,
   "id": "blessed-spray",
   "metadata": {},
   "outputs": [
    {
     "name": "stdout",
     "output_type": "stream",
     "text": [
      "Done!\n"
     ]
    }
   ],
   "source": [
    "# Import libraries\n",
    "import os\n",
    "import glob\n",
    "import pandas as pd\n",
    "\n",
    "# Import modules\n",
    "import deforestation as defo\n",
    "import administrative_level as adle\n",
    "import livestock_plot as plot\n",
    "import risk as risk\n",
    "import mobilization as mobi\n",
    "import importer as impo\n",
    "print(\"Done!\")"
   ]
  },
  {
   "cell_type": "markdown",
   "id": "middle-powell",
   "metadata": {},
   "source": [
    "## Setting global parameters\n",
    "In this section all configurations about folders and files to set up\n",
    "the system are created. These configurations are global variables for the system"
   ]
  },
  {
   "cell_type": "code",
   "execution_count": 2,
   "id": "electrical-cause",
   "metadata": {},
   "outputs": [
    {
     "name": "stdout",
     "output_type": "stream",
     "text": [
      "Done!\n"
     ]
    }
   ],
   "source": [
    "# Global folders\n",
    "#root_folder = \"/home/jovyan/work/BID/dci_fauno/\"\n",
    "root_folder = \"D:\\\\CIAT\\\\Code\\\\BID\\\\dci_fauno\"\n",
    "data_folder = os.path.join(root_folder, \"data\",\"risk_calculator\")\n",
    "inputs = os.path.join(data_folder,\"inputs\")\n",
    "outputs = os.path.join(data_folder,\"outputs\")\n",
    "conf_folder = os.path.join(data_folder,\"conf\")\n",
    "# Deforestation folders\n",
    "def_folder = os.path.join(inputs,\"def\")\n",
    "# Administrative level folders\n",
    "adm_folder = os.path.join(inputs,\"adm\")\n",
    "# Livestock plots\n",
    "plot_folder = os.path.join(inputs,\"plot\")\n",
    "# Mobilization\n",
    "mob_folder = os.path.join(inputs,\"mob\")\n",
    "\n",
    "# Parameters file\n",
    "conf_xls = pd.ExcelFile(os.path.join(conf_folder,\"conf.xlsx\"))\n",
    "conf = conf_xls.parse(\"conf\")\n",
    "buffer = conf_xls.parse(\"buffer\")\n",
    "\n",
    "# Global parameters from conf.xlsx file\n",
    "glo_crs = int(conf.loc[conf[\"parameter\"] == \"glo_crs\",\"value\"].values[0])\n",
    "glo_crs_wgs84 = int(conf.loc[conf[\"parameter\"] == \"glo_crs_wgs84\",\"value\"].values[0])\n",
    "adm_encoding = conf.loc[conf[\"parameter\"] == \"adm_encoding\",\"value\"].values[0]\n",
    "\n",
    "# Creating folders\n",
    "# Create folder for deforestation files\n",
    "if not os.path.exists(def_folder):    \n",
    "    os.mkdir(def_folder)\n",
    "# Create folder for administrative level files\n",
    "if not os.path.exists(adm_folder):    \n",
    "    os.mkdir(adm_folder)\n",
    "# Create folder for livestock plot files\n",
    "if not os.path.exists(plot_folder):    \n",
    "    os.mkdir(plot_folder)\n",
    "# Create folder for mobilization files\n",
    "if not os.path.exists(mob_folder):    \n",
    "    os.mkdir(mob_folder)\n",
    "\n",
    "print(\"Done!\")"
   ]
  },
  {
   "cell_type": "markdown",
   "id": "smaller-dimension",
   "metadata": {},
   "source": [
    "## Downloading data\n",
    "This section downloads all data require by the system. It keeps all raw files, it will allow to debug if it would be necessary"
   ]
  },
  {
   "cell_type": "markdown",
   "id": "fantastic-honor",
   "metadata": {},
   "source": [
    "### Administrative level - Download and unzip\n",
    "In this section all data about administrative lever of the country will be downloaded and extracted\n",
    "into specific folders."
   ]
  },
  {
   "cell_type": "code",
   "execution_count": null,
   "id": "arbitrary-delaware",
   "metadata": {},
   "outputs": [],
   "source": [
    "# Getting parameters for downloading adiministrative sources\n",
    "adm_url_source = conf.loc[conf[\"parameter\"] == \"adm_url_source\",\"value\"].values[0]\n",
    "# Download files from source in zip format and extract them\n",
    "adle.download_data(adm_folder, adm_url_source)\n",
    "print(\"Done!\")"
   ]
  },
  {
   "cell_type": "markdown",
   "id": "outside-blocking",
   "metadata": {},
   "source": [
    "### Deforestation - Download and unzip\n",
    "In this section all data about deforestation for a country are downloaded and extracted\n",
    "into specific folders."
   ]
  },
  {
   "cell_type": "code",
   "execution_count": null,
   "id": "pleased-brave",
   "metadata": {},
   "outputs": [],
   "source": [
    "# Getting parameters for downloading deforestation files\n",
    "url_base = conf.loc[conf[\"parameter\"] == \"def_src_base_url\",\"value\"].values[0]\n",
    "file_name_base = conf.loc[conf[\"parameter\"] == \"def_src_file_name\",\"value\"].values[0]\n",
    "def_periods = conf.loc[conf[\"parameter\"] == \"def_periods\",\"value\"].values[0].split(\",\")\n",
    "\n",
    "# Download files from source in zip format and extract them\n",
    "defo.download_deforestation(def_folder, url_base, file_name_base, def_periods)\n",
    "print(\"Done!\")"
   ]
  },
  {
   "cell_type": "markdown",
   "id": "potential-bonus",
   "metadata": {},
   "source": [
    "## Fixing data\n",
    "This chaptar fix the data downloaded into files and formats, in order to can process information"
   ]
  },
  {
   "cell_type": "markdown",
   "id": "incorporate-lyric",
   "metadata": {},
   "source": [
    "### Administrative level - Reproject\n",
    "This process reprojects to CRS destiny the original database"
   ]
  },
  {
   "cell_type": "code",
   "execution_count": 3,
   "id": "pointed-greeting",
   "metadata": {},
   "outputs": [
    {
     "name": "stdout",
     "output_type": "stream",
     "text": [
      "Opening the first file: D:\\CIAT\\Code\\BID\\dci_fauno\\data\\risk_calculator\\inputs\\adm\\content\\CRVeredas_2017\\CRVeredas_2017.shp\n",
      "Reprojecting\n"
     ]
    },
    {
     "name": "stderr",
     "output_type": "stream",
     "text": [
      "d:\\ciat\\virtualenv\\jupyter\\lib\\site-packages\\pyproj\\crs\\crs.py:53: FutureWarning: '+init=<authority>:<code>' syntax is deprecated. '<authority>:<code>' is the preferred initialization method. When making the change, be mindful of axis order changes: https://pyproj4.github.io/pyproj/stable/gotchas.html#axis-order-changes-in-proj-6\n",
      "  return _prepare_from_string(\" \".join(pjargs))\n"
     ]
    },
    {
     "name": "stdout",
     "output_type": "stream",
     "text": [
      "  adm1_id adm1_name adm2_id           adm2_name   adm3_id          adm3_name  \\\n",
      "0      27     CHOCÓ   27810  UNIÓN PANAMERICANA  27810006  SAN PABLO ADENTRO   \n",
      "1      27     CHOCÓ   27810  UNIÓN PANAMERICANA  27810007  SAN RAFAEL EL DOS   \n",
      "2      27     CHOCÓ   27810  UNIÓN PANAMERICANA  27810003  PLAN DE RASPADURA   \n",
      "3      27     CHOCÓ   27810  UNIÓN PANAMERICANA  27810004             QUIADÓ   \n",
      "4      27     CHOCÓ   27810  UNIÓN PANAMERICANA  27810001              LA YE   \n",
      "\n",
      "          area                                           geometry  \n",
      "0  1077.107285  POLYGON ((716326.726 1068441.908, 716307.956 1...  \n",
      "1  2562.613364  POLYGON ((716377.132 1074020.878, 716746.664 1...  \n",
      "2  1180.626499  POLYGON ((718516.730 1069392.709, 718572.292 1...  \n",
      "3  1592.758604  POLYGON ((718699.114 1068239.867, 718678.867 1...  \n",
      "4  1256.662427  POLYGON ((714818.553 1082120.908, 714923.950 1...  \n",
      "Saving: D:\\CIAT\\Code\\BID\\dci_fauno\\data\\risk_calculator\\inputs\\adm\\fixed\\adm.shp\n",
      "Done!\n"
     ]
    }
   ],
   "source": [
    "adm_src_adm1_name = conf.loc[conf[\"parameter\"] == \"adm_src_adm1_name\",\"value\"].values[0]\n",
    "adm_src_adm1_id = conf.loc[conf[\"parameter\"] == \"adm_src_adm1_id\",\"value\"].values[0]\n",
    "adm_src_adm2_name = conf.loc[conf[\"parameter\"] == \"adm_src_adm2_name\",\"value\"].values[0]\n",
    "adm_src_adm2_id = conf.loc[conf[\"parameter\"] == \"adm_src_adm2_id\",\"value\"].values[0]\n",
    "adm_src_adm3_name = conf.loc[conf[\"parameter\"] == \"adm_src_adm3_name\",\"value\"].values[0]\n",
    "adm_src_adm3_id = conf.loc[conf[\"parameter\"] == \"adm_src_adm3_id\",\"value\"].values[0]\n",
    "adm_src_area = conf.loc[conf[\"parameter\"] == \"adm_src_area\",\"value\"].values[0]\n",
    "adm_src_geometry = conf.loc[conf[\"parameter\"] == \"adm_src_geometry\",\"value\"].values[0]\n",
    "\n",
    "# Reporject file\n",
    "adle.reproject_source(adm_folder, glo_crs,\n",
    "                      adm_src_adm1_name, adm_src_adm1_id, \n",
    "                      adm_src_adm2_name, adm_src_adm2_id, \n",
    "                      adm_src_adm3_name, adm_src_adm3_id, \n",
    "                      adm_src_area, adm_src_geometry, adm_encoding)\n",
    "print(\"Done!\")"
   ]
  },
  {
   "cell_type": "markdown",
   "id": "loved-handle",
   "metadata": {},
   "source": [
    "### Deforestation - Extract deforestation values\n",
    "This section takes the rasters files, which were downloaded, then extract just deforestation pixels\n",
    "and create a new raster with this data. Finally it creates a summary raster which merge all\n",
    "others raster files in just one. The output raster files are standarized, it means all pixels are in \n",
    "the same size, the CRS is the same for all, and are clipped with the same size"
   ]
  },
  {
   "cell_type": "code",
   "execution_count": 4,
   "id": "speaking-cheese",
   "metadata": {},
   "outputs": [
    {
     "name": "stdout",
     "output_type": "stream",
     "text": [
      "Extracting!\n",
      "Calculating parameters for new files\n",
      "file: D:\\CIAT\\Code\\BID\\dci_fauno\\data\\risk_calculator\\inputs\\def\\content\\Cambio_Cobertura_Bosque_No_Bosque_2010_2012\\Geotiff\\DCCB_SMBYC_CBBQ_V5_2010_2012.tif\n",
      "file: D:\\CIAT\\Code\\BID\\dci_fauno\\data\\risk_calculator\\inputs\\def\\content\\Cambio_Cobertura_Bosque_No_Bosque_2012_2013\\Geotiff\\DCCB_SMBYC_CBBQ_V5_2012_2013.tif\n",
      "file: D:\\CIAT\\Code\\BID\\dci_fauno\\data\\risk_calculator\\inputs\\def\\content\\Cambio_Cobertura_Bosque_No_Bosque_2013_2014\\Geotiff\\DCCB_SMBYC_CBBQ_V6_2013_2014.tif\n",
      "file: D:\\CIAT\\Code\\BID\\dci_fauno\\data\\risk_calculator\\inputs\\def\\content\\Cambio_Cobertura_Bosque_No_Bosque_2014_2015\\GeoTiff\\DCCB_SMBYC_CBBQ_V7_2014_2015.tif\n",
      "file: D:\\CIAT\\Code\\BID\\dci_fauno\\data\\risk_calculator\\inputs\\def\\content\\Cambio_Cobertura_Bosque_No_Bosque_2015_2016\\Geotiff\\DCCB_SMBYC_CBBQ_V7_2015_2016.tif\n",
      "file: D:\\CIAT\\Code\\BID\\dci_fauno\\data\\risk_calculator\\inputs\\def\\content\\Cambio_Cobertura_Bosque_No_Bosque_2016_2017\\TTTHM4RG3_BEA_T_reprojected_2016_2017.tif\n",
      "file: D:\\CIAT\\Code\\BID\\dci_fauno\\data\\risk_calculator\\inputs\\def\\content\\Cambio_Cobertura_Bosque_No_Bosque_2017_2018\\TT8FG4BA5_BEA_T_reprojected_2017_2018.tif\n",
      "file: D:\\CIAT\\Code\\BID\\dci_fauno\\data\\risk_calculator\\inputs\\def\\content\\Cambio_Cobertura_Bosque_No_Bosque_2018_2019\\reprojected_2018-2019.tif\n",
      "Bounds: POLYGON ((-66.65601560981048 -4.244791035761322, -66.65601560981048 12.580743905, -79.224357185 12.580743905, -79.224357185 -4.244791035761322, -66.65601560981048 -4.244791035761322))\n",
      "CRS: EPSG:4686\n"
     ]
    },
    {
     "name": "stderr",
     "output_type": "stream",
     "text": [
      "d:\\ciat\\virtualenv\\jupyter\\lib\\site-packages\\pyproj\\crs\\crs.py:53: FutureWarning: '+init=<authority>:<code>' syntax is deprecated. '<authority>:<code>' is the preferred initialization method. When making the change, be mindful of axis order changes: https://pyproj4.github.io/pyproj/stable/gotchas.html#axis-order-changes-in-proj-6\n",
      "  return _prepare_from_string(\" \".join(pjargs))\n"
     ]
    },
    {
     "name": "stdout",
     "output_type": "stream",
     "text": [
      "Working: D:\\CIAT\\Code\\BID\\dci_fauno\\data\\risk_calculator\\inputs\\def\\content\\Cambio_Cobertura_Bosque_No_Bosque_2010_2012\\Geotiff\\DCCB_SMBYC_CBBQ_V5_2010_2012.tif\n",
      "Reprojecting: D:\\CIAT\\Code\\BID\\dci_fauno\\data\\risk_calculator\\inputs\\def\\fixed\\DCCB_SMBYC_CBBQ_V5_2010_2012_tmp.tif\n",
      "Opening: D:\\CIAT\\Code\\BID\\dci_fauno\\data\\risk_calculator\\inputs\\def\\fixed\\DCCB_SMBYC_CBBQ_V5_2010_2012_tmp.tif\n",
      "Cropping raster\n",
      "Dimention: H=61079 W=45525\n",
      "Saving: D:\\CIAT\\Code\\BID\\dci_fauno\\data\\risk_calculator\\inputs\\def\\fixed\\raster_detail\\2010.tif\n",
      "Deleting tmp: D:\\CIAT\\Code\\BID\\dci_fauno\\data\\risk_calculator\\inputs\\def\\fixed\\DCCB_SMBYC_CBBQ_V5_2010_2012_tmp.tif\n",
      "Working: D:\\CIAT\\Code\\BID\\dci_fauno\\data\\risk_calculator\\inputs\\def\\content\\Cambio_Cobertura_Bosque_No_Bosque_2012_2013\\Geotiff\\DCCB_SMBYC_CBBQ_V5_2012_2013.tif\n",
      "Reprojecting: D:\\CIAT\\Code\\BID\\dci_fauno\\data\\risk_calculator\\inputs\\def\\fixed\\DCCB_SMBYC_CBBQ_V5_2012_2013_tmp.tif\n",
      "Opening: D:\\CIAT\\Code\\BID\\dci_fauno\\data\\risk_calculator\\inputs\\def\\fixed\\DCCB_SMBYC_CBBQ_V5_2012_2013_tmp.tif\n",
      "Cropping raster\n",
      "Dimention: H=61079 W=45525\n",
      "Saving: D:\\CIAT\\Code\\BID\\dci_fauno\\data\\risk_calculator\\inputs\\def\\fixed\\raster_detail\\2012.tif\n",
      "Deleting tmp: D:\\CIAT\\Code\\BID\\dci_fauno\\data\\risk_calculator\\inputs\\def\\fixed\\DCCB_SMBYC_CBBQ_V5_2012_2013_tmp.tif\n",
      "Working: D:\\CIAT\\Code\\BID\\dci_fauno\\data\\risk_calculator\\inputs\\def\\content\\Cambio_Cobertura_Bosque_No_Bosque_2013_2014\\Geotiff\\DCCB_SMBYC_CBBQ_V6_2013_2014.tif\n",
      "Reprojecting: D:\\CIAT\\Code\\BID\\dci_fauno\\data\\risk_calculator\\inputs\\def\\fixed\\DCCB_SMBYC_CBBQ_V6_2013_2014_tmp.tif\n",
      "Opening: D:\\CIAT\\Code\\BID\\dci_fauno\\data\\risk_calculator\\inputs\\def\\fixed\\DCCB_SMBYC_CBBQ_V6_2013_2014_tmp.tif\n",
      "Cropping raster\n",
      "Dimention: H=61079 W=45525\n",
      "Saving: D:\\CIAT\\Code\\BID\\dci_fauno\\data\\risk_calculator\\inputs\\def\\fixed\\raster_detail\\2013.tif\n",
      "Deleting tmp: D:\\CIAT\\Code\\BID\\dci_fauno\\data\\risk_calculator\\inputs\\def\\fixed\\DCCB_SMBYC_CBBQ_V6_2013_2014_tmp.tif\n",
      "Working: D:\\CIAT\\Code\\BID\\dci_fauno\\data\\risk_calculator\\inputs\\def\\content\\Cambio_Cobertura_Bosque_No_Bosque_2014_2015\\GeoTiff\\DCCB_SMBYC_CBBQ_V7_2014_2015.tif\n",
      "Reprojecting: D:\\CIAT\\Code\\BID\\dci_fauno\\data\\risk_calculator\\inputs\\def\\fixed\\DCCB_SMBYC_CBBQ_V7_2014_2015_tmp.tif\n",
      "Opening: D:\\CIAT\\Code\\BID\\dci_fauno\\data\\risk_calculator\\inputs\\def\\fixed\\DCCB_SMBYC_CBBQ_V7_2014_2015_tmp.tif\n",
      "Cropping raster\n",
      "Dimention: H=61079 W=45525\n",
      "Saving: D:\\CIAT\\Code\\BID\\dci_fauno\\data\\risk_calculator\\inputs\\def\\fixed\\raster_detail\\2014.tif\n",
      "Deleting tmp: D:\\CIAT\\Code\\BID\\dci_fauno\\data\\risk_calculator\\inputs\\def\\fixed\\DCCB_SMBYC_CBBQ_V7_2014_2015_tmp.tif\n",
      "Working: D:\\CIAT\\Code\\BID\\dci_fauno\\data\\risk_calculator\\inputs\\def\\content\\Cambio_Cobertura_Bosque_No_Bosque_2015_2016\\Geotiff\\DCCB_SMBYC_CBBQ_V7_2015_2016.tif\n",
      "Reprojecting: D:\\CIAT\\Code\\BID\\dci_fauno\\data\\risk_calculator\\inputs\\def\\fixed\\DCCB_SMBYC_CBBQ_V7_2015_2016_tmp.tif\n",
      "Opening: D:\\CIAT\\Code\\BID\\dci_fauno\\data\\risk_calculator\\inputs\\def\\fixed\\DCCB_SMBYC_CBBQ_V7_2015_2016_tmp.tif\n",
      "Cropping raster\n",
      "Dimention: H=61079 W=45525\n",
      "Saving: D:\\CIAT\\Code\\BID\\dci_fauno\\data\\risk_calculator\\inputs\\def\\fixed\\raster_detail\\2015.tif\n",
      "Deleting tmp: D:\\CIAT\\Code\\BID\\dci_fauno\\data\\risk_calculator\\inputs\\def\\fixed\\DCCB_SMBYC_CBBQ_V7_2015_2016_tmp.tif\n",
      "Working: D:\\CIAT\\Code\\BID\\dci_fauno\\data\\risk_calculator\\inputs\\def\\content\\Cambio_Cobertura_Bosque_No_Bosque_2016_2017\\TTTHM4RG3_BEA_T_reprojected_2016_2017.tif\n",
      "Reprojecting: D:\\CIAT\\Code\\BID\\dci_fauno\\data\\risk_calculator\\inputs\\def\\fixed\\TTTHM4RG3_BEA_T_reprojected_2016_2017_tmp.tif\n",
      "Opening: D:\\CIAT\\Code\\BID\\dci_fauno\\data\\risk_calculator\\inputs\\def\\fixed\\TTTHM4RG3_BEA_T_reprojected_2016_2017_tmp.tif\n",
      "Cropping raster\n",
      "Dimention: H=61079 W=45525\n",
      "Saving: D:\\CIAT\\Code\\BID\\dci_fauno\\data\\risk_calculator\\inputs\\def\\fixed\\raster_detail\\2016.tif\n",
      "Deleting tmp: D:\\CIAT\\Code\\BID\\dci_fauno\\data\\risk_calculator\\inputs\\def\\fixed\\TTTHM4RG3_BEA_T_reprojected_2016_2017_tmp.tif\n",
      "Working: D:\\CIAT\\Code\\BID\\dci_fauno\\data\\risk_calculator\\inputs\\def\\content\\Cambio_Cobertura_Bosque_No_Bosque_2017_2018\\TT8FG4BA5_BEA_T_reprojected_2017_2018.tif\n",
      "Reprojecting: D:\\CIAT\\Code\\BID\\dci_fauno\\data\\risk_calculator\\inputs\\def\\fixed\\TT8FG4BA5_BEA_T_reprojected_2017_2018_tmp.tif\n",
      "Opening: D:\\CIAT\\Code\\BID\\dci_fauno\\data\\risk_calculator\\inputs\\def\\fixed\\TT8FG4BA5_BEA_T_reprojected_2017_2018_tmp.tif\n",
      "Cropping raster\n",
      "Dimention: H=61079 W=45525\n",
      "Saving: D:\\CIAT\\Code\\BID\\dci_fauno\\data\\risk_calculator\\inputs\\def\\fixed\\raster_detail\\2017.tif\n",
      "Deleting tmp: D:\\CIAT\\Code\\BID\\dci_fauno\\data\\risk_calculator\\inputs\\def\\fixed\\TT8FG4BA5_BEA_T_reprojected_2017_2018_tmp.tif\n",
      "Working: D:\\CIAT\\Code\\BID\\dci_fauno\\data\\risk_calculator\\inputs\\def\\content\\Cambio_Cobertura_Bosque_No_Bosque_2018_2019\\reprojected_2018-2019.tif\n",
      "Reprojecting: D:\\CIAT\\Code\\BID\\dci_fauno\\data\\risk_calculator\\inputs\\def\\fixed\\reprojected_2018-2019_tmp.tif\n",
      "Opening: D:\\CIAT\\Code\\BID\\dci_fauno\\data\\risk_calculator\\inputs\\def\\fixed\\reprojected_2018-2019_tmp.tif\n",
      "Cropping raster\n",
      "Dimention: H=61079 W=45525\n",
      "Saving: D:\\CIAT\\Code\\BID\\dci_fauno\\data\\risk_calculator\\inputs\\def\\fixed\\raster_detail\\2018.tif\n",
      "Deleting tmp: D:\\CIAT\\Code\\BID\\dci_fauno\\data\\risk_calculator\\inputs\\def\\fixed\\reprojected_2018-2019_tmp.tif\n",
      "Done!\n"
     ]
    }
   ],
   "source": [
    "# Getting parameters for filtering deforestation pixels\n",
    "def_value = int(conf.loc[conf[\"parameter\"] == \"def_value\",\"value\"].values[0])\n",
    "def_pixel_size = float(conf.loc[conf[\"parameter\"] == \"def_pixel_size\",\"value\"].values[0])\n",
    "\n",
    "print(\"Extracting!\")\n",
    "defo.extract_deforestation(def_folder, def_value, glo_crs, def_pixel_size)\n",
    "print(\"Done!\")"
   ]
  },
  {
   "cell_type": "code",
   "execution_count": 5,
   "id": "running-fiber",
   "metadata": {},
   "outputs": [
    {
     "name": "stdout",
     "output_type": "stream",
     "text": [
      "Summaryzing!\n",
      "Compiling rasters files\n",
      "D:\\CIAT\\Code\\BID\\dci_fauno\\data\\risk_calculator\\inputs\\def\\fixed\\raster_detail\\2010.tif\n",
      "Saving: D:\\CIAT\\Code\\BID\\dci_fauno\\data\\risk_calculator\\inputs\\def\\fixed\\raster_summary\\2010.tif\n",
      "D:\\CIAT\\Code\\BID\\dci_fauno\\data\\risk_calculator\\inputs\\def\\fixed\\raster_detail\\2012.tif\n",
      "Saving: D:\\CIAT\\Code\\BID\\dci_fauno\\data\\risk_calculator\\inputs\\def\\fixed\\raster_summary\\2012.tif\n",
      "D:\\CIAT\\Code\\BID\\dci_fauno\\data\\risk_calculator\\inputs\\def\\fixed\\raster_detail\\2013.tif\n",
      "Saving: D:\\CIAT\\Code\\BID\\dci_fauno\\data\\risk_calculator\\inputs\\def\\fixed\\raster_summary\\2013.tif\n",
      "D:\\CIAT\\Code\\BID\\dci_fauno\\data\\risk_calculator\\inputs\\def\\fixed\\raster_detail\\2014.tif\n",
      "Saving: D:\\CIAT\\Code\\BID\\dci_fauno\\data\\risk_calculator\\inputs\\def\\fixed\\raster_summary\\2014.tif\n",
      "D:\\CIAT\\Code\\BID\\dci_fauno\\data\\risk_calculator\\inputs\\def\\fixed\\raster_detail\\2015.tif\n",
      "Saving: D:\\CIAT\\Code\\BID\\dci_fauno\\data\\risk_calculator\\inputs\\def\\fixed\\raster_summary\\2015.tif\n",
      "D:\\CIAT\\Code\\BID\\dci_fauno\\data\\risk_calculator\\inputs\\def\\fixed\\raster_detail\\2016.tif\n",
      "Saving: D:\\CIAT\\Code\\BID\\dci_fauno\\data\\risk_calculator\\inputs\\def\\fixed\\raster_summary\\2016.tif\n",
      "D:\\CIAT\\Code\\BID\\dci_fauno\\data\\risk_calculator\\inputs\\def\\fixed\\raster_detail\\2017.tif\n",
      "Saving: D:\\CIAT\\Code\\BID\\dci_fauno\\data\\risk_calculator\\inputs\\def\\fixed\\raster_summary\\2017.tif\n",
      "D:\\CIAT\\Code\\BID\\dci_fauno\\data\\risk_calculator\\inputs\\def\\fixed\\raster_detail\\2018.tif\n",
      "Saving: D:\\CIAT\\Code\\BID\\dci_fauno\\data\\risk_calculator\\inputs\\def\\fixed\\raster_summary\\2018.tif\n",
      "Done!\n"
     ]
    }
   ],
   "source": [
    "print(\"Summaryzing!\")\n",
    "defo.summary_deforestation(def_folder)\n",
    "print(\"Done!\")"
   ]
  },
  {
   "cell_type": "markdown",
   "id": "direct-suicide",
   "metadata": {},
   "source": [
    "### Deforestation - Parsing to shapefile\n",
    "In this section the raster files, which were located into rasters folders, are parsed to shapefile format.\n",
    "Both folders are transformed detail and summary"
   ]
  },
  {
   "cell_type": "code",
   "execution_count": null,
   "id": "secret-techno",
   "metadata": {},
   "outputs": [
    {
     "name": "stdout",
     "output_type": "stream",
     "text": [
      "Opening: D:\\CIAT\\Code\\BID\\dci_fauno\\data\\risk_calculator\\inputs\\def\\fixed\\raster_detail\\2010.tif\n",
      "Transforming\n",
      "Creating shapefile crs: {'init': 'epsg:3116'}\n"
     ]
    },
    {
     "name": "stderr",
     "output_type": "stream",
     "text": [
      "d:\\ciat\\virtualenv\\jupyter\\lib\\site-packages\\pyproj\\crs\\crs.py:53: FutureWarning: '+init=<authority>:<code>' syntax is deprecated. '<authority>:<code>' is the preferred initialization method. When making the change, be mindful of axis order changes: https://pyproj4.github.io/pyproj/stable/gotchas.html#axis-order-changes-in-proj-6\n",
      "  return _prepare_from_string(\" \".join(pjargs))\n"
     ]
    },
    {
     "name": "stdout",
     "output_type": "stream",
     "text": [
      "Saving: D:\\CIAT\\Code\\BID\\dci_fauno\\data\\risk_calculator\\inputs\\def\\fixed\\shp_detail\\2010\\shapefile.shp\n",
      "Opening: D:\\CIAT\\Code\\BID\\dci_fauno\\data\\risk_calculator\\inputs\\def\\fixed\\raster_detail\\2012.tif\n",
      "Transforming\n",
      "Creating shapefile crs: {'init': 'epsg:3116'}\n",
      "Saving: D:\\CIAT\\Code\\BID\\dci_fauno\\data\\risk_calculator\\inputs\\def\\fixed\\shp_detail\\2012\\shapefile.shp\n",
      "Opening: D:\\CIAT\\Code\\BID\\dci_fauno\\data\\risk_calculator\\inputs\\def\\fixed\\raster_detail\\2013.tif\n",
      "Transforming\n",
      "Creating shapefile crs: {'init': 'epsg:3116'}\n",
      "Saving: D:\\CIAT\\Code\\BID\\dci_fauno\\data\\risk_calculator\\inputs\\def\\fixed\\shp_detail\\2013\\shapefile.shp\n",
      "Opening: D:\\CIAT\\Code\\BID\\dci_fauno\\data\\risk_calculator\\inputs\\def\\fixed\\raster_detail\\2014.tif\n",
      "Transforming\n",
      "Creating shapefile crs: {'init': 'epsg:3116'}\n",
      "Saving: D:\\CIAT\\Code\\BID\\dci_fauno\\data\\risk_calculator\\inputs\\def\\fixed\\shp_detail\\2014\\shapefile.shp\n",
      "Opening: D:\\CIAT\\Code\\BID\\dci_fauno\\data\\risk_calculator\\inputs\\def\\fixed\\raster_detail\\2015.tif\n",
      "Transforming\n",
      "Creating shapefile crs: {'init': 'epsg:3116'}\n",
      "Saving: D:\\CIAT\\Code\\BID\\dci_fauno\\data\\risk_calculator\\inputs\\def\\fixed\\shp_detail\\2015\\shapefile.shp\n",
      "Opening: D:\\CIAT\\Code\\BID\\dci_fauno\\data\\risk_calculator\\inputs\\def\\fixed\\raster_detail\\2016.tif\n",
      "Transforming\n",
      "Creating shapefile crs: {'init': 'epsg:3116'}\n",
      "Saving: D:\\CIAT\\Code\\BID\\dci_fauno\\data\\risk_calculator\\inputs\\def\\fixed\\shp_detail\\2016\\shapefile.shp\n",
      "Opening: D:\\CIAT\\Code\\BID\\dci_fauno\\data\\risk_calculator\\inputs\\def\\fixed\\raster_detail\\2017.tif\n",
      "Transforming\n",
      "Creating shapefile crs: {'init': 'epsg:3116'}\n",
      "Saving: D:\\CIAT\\Code\\BID\\dci_fauno\\data\\risk_calculator\\inputs\\def\\fixed\\shp_detail\\2017\\shapefile.shp\n",
      "Opening: D:\\CIAT\\Code\\BID\\dci_fauno\\data\\risk_calculator\\inputs\\def\\fixed\\raster_detail\\2018.tif\n",
      "Transforming\n",
      "Creating shapefile crs: {'init': 'epsg:3116'}\n",
      "Saving: D:\\CIAT\\Code\\BID\\dci_fauno\\data\\risk_calculator\\inputs\\def\\fixed\\shp_detail\\2018\\shapefile.shp\n",
      "Opening: D:\\CIAT\\Code\\BID\\dci_fauno\\data\\risk_calculator\\inputs\\def\\fixed\\raster_summary\\2010.tif\n",
      "Transforming\n",
      "Creating shapefile crs: {'init': 'epsg:3116'}\n",
      "Saving: D:\\CIAT\\Code\\BID\\dci_fauno\\data\\risk_calculator\\inputs\\def\\fixed\\shp_summary\\2010\\shapefile.shp\n",
      "Opening: D:\\CIAT\\Code\\BID\\dci_fauno\\data\\risk_calculator\\inputs\\def\\fixed\\raster_summary\\2012.tif\n",
      "Transforming\n",
      "Creating shapefile crs: {'init': 'epsg:3116'}\n",
      "Saving: D:\\CIAT\\Code\\BID\\dci_fauno\\data\\risk_calculator\\inputs\\def\\fixed\\shp_summary\\2012\\shapefile.shp\n",
      "Opening: D:\\CIAT\\Code\\BID\\dci_fauno\\data\\risk_calculator\\inputs\\def\\fixed\\raster_summary\\2013.tif\n",
      "Transforming\n",
      "Creating shapefile crs: {'init': 'epsg:3116'}\n"
     ]
    }
   ],
   "source": [
    "# Parsing to shapefile\n",
    "defo.to_shp(def_folder)\n",
    "print(\"Done!\")"
   ]
  },
  {
   "cell_type": "markdown",
   "id": "gothic-request",
   "metadata": {},
   "source": [
    "### Plots\n",
    "This section compiles all CSV files with information about plots for all years. It clear all records, \n",
    "validating that all plots have coordinates and these coordinates are good. Further it sets the region\n",
    "and locality according to shapefile of reference. Finally it creates a new layer with all data compiled"
   ]
  },
  {
   "cell_type": "code",
   "execution_count": 4,
   "id": "smaller-transparency",
   "metadata": {},
   "outputs": [
    {
     "name": "stdout",
     "output_type": "stream",
     "text": [
      "Reading: D:\\CIAT\\Code\\BID\\dci_fauno\\data\\risk_calculator\\inputs\\plot\\download\\2019.csv\n"
     ]
    },
    {
     "name": "stderr",
     "output_type": "stream",
     "text": [
      "d:\\ciat\\virtualenv\\jupyter\\lib\\site-packages\\IPython\\core\\interactiveshell.py:3347: DtypeWarning: Columns (6) have mixed types.Specify dtype option on import or set low_memory=False.\n",
      "  if (await self.run_code(code, result,  async_=asy)):\n"
     ]
    },
    {
     "name": "stdout",
     "output_type": "stream",
     "text": [
      "Fixing columns\n",
      "Cleaning records\n",
      "     ext_id       lat        lon  animals  year       adm1             adm2  \\\n",
      "0   1589850 -4.006928 -70.134470        1  2019   AMAZONAS          LETICIA   \n",
      "1   1589861 -4.176944 -69.943611       28  2019   AMAZONAS          LETICIA   \n",
      "2   1589877 -4.141955 -70.010603       35  2019   AMAZONAS          LETICIA   \n",
      "8   1589914 -3.771690 -70.359310        4  2019   AMAZONAS  PUERTO NARIï¿½O   \n",
      "10  1510795  5.860740 -75.501670       17  2019  ANTIOQUIA        ABEJORRAL   \n",
      "\n",
      "               adm3  \n",
      "0           LETICIA  \n",
      "1           LETICIA  \n",
      "2           LETICIA  \n",
      "8   PUERTO NARIï¿½O  \n",
      "10      ALTO BONITO  \n",
      "Logging: D:\\CIAT\\Code\\BID\\dci_fauno\\data\\risk_calculator\\inputs\\plot\\log\\err-data-bad_plots.csv\n",
      "Goruping and filtering max\n",
      "Saving: D:\\CIAT\\Code\\BID\\dci_fauno\\data\\risk_calculator\\inputs\\plot\\content\\plots.csv\n",
      "Opening: D:\\CIAT\\Code\\BID\\dci_fauno\\data\\risk_calculator\\inputs\\plot\\content\\plots.csv\n",
      "Transforming to points\n"
     ]
    },
    {
     "name": "stderr",
     "output_type": "stream",
     "text": [
      "d:\\ciat\\virtualenv\\jupyter\\lib\\site-packages\\pyproj\\crs\\crs.py:53: FutureWarning: '+init=<authority>:<code>' syntax is deprecated. '<authority>:<code>' is the preferred initialization method. When making the change, be mindful of axis order changes: https://pyproj4.github.io/pyproj/stable/gotchas.html#axis-order-changes-in-proj-6\n",
      "  return _prepare_from_string(\" \".join(pjargs))\n"
     ]
    },
    {
     "name": "stdout",
     "output_type": "stream",
     "text": [
      "Reprojecting\n",
      "Opening shp reference: D:\\CIAT\\Code\\BID\\dci_fauno\\data\\risk_calculator\\inputs\\adm\\fixed\\adm.shp\n",
      "Joining spatial\n",
      "       ext_id       lat        lon  animals  year      adm1  \\\n",
      "0      400165  5.282530 -71.963700     7470  2019  CASANARE   \n",
      "1      400292  5.342888 -71.967508     6673  2019  CASANARE   \n",
      "662   1189289  5.220117 -71.931157     1398  2019  CASANARE   \n",
      "1092  1475236  5.288035 -71.963668     1115  2019  CASANARE   \n",
      "3030  1259268  5.229343 -71.942858      676  2019  CASANARE   \n",
      "\n",
      "                      adm2       adm3  animals_max  \\\n",
      "0     SAN LUIS DE PALENQUE  ALGODONAL         7470   \n",
      "1     SAN LUIS DE PALENQUE   JAGUEYES         6673   \n",
      "662   SAN LUIS DE PALENQUE   JAGUEYES         1398   \n",
      "1092  SAN LUIS DE PALENQUE   JAGUEYES         1115   \n",
      "3030  SAN LUIS DE PALENQUE   JAGUEYES          676   \n",
      "\n",
      "                             geometry  index_right adm1_id adm1_name adm2_id  \\\n",
      "0     POINT (1234367.895 1076294.221)         4243      85  CASANARE   85325   \n",
      "1     POINT (1233922.710 1082971.885)         4243      85  CASANARE   85325   \n",
      "662   POINT (1238001.442 1069399.934)         4243      85  CASANARE   85325   \n",
      "1092  POINT (1234369.374 1076903.407)         4243      85  CASANARE   85325   \n",
      "3030  POINT (1236699.896 1070416.464)         4243      85  CASANARE   85325   \n",
      "\n",
      "                 adm2_name   adm3_id     adm3_name          area  \n",
      "0     SAN LUIS DE PALENQUE  85325035  LOS JAGUEYES  46475.280446  \n",
      "1     SAN LUIS DE PALENQUE  85325035  LOS JAGUEYES  46475.280446  \n",
      "662   SAN LUIS DE PALENQUE  85325035  LOS JAGUEYES  46475.280446  \n",
      "1092  SAN LUIS DE PALENQUE  85325035  LOS JAGUEYES  46475.280446  \n",
      "3030  SAN LUIS DE PALENQUE  85325035  LOS JAGUEYES  46475.280446  \n",
      "Saving: D:\\CIAT\\Code\\BID\\dci_fauno\\data\\risk_calculator\\inputs\\plot\\fixed\\plots\\plots.shp\n"
     ]
    },
    {
     "ename": "ValueError",
     "evalue": "Invalid field type <class 'bytes'>",
     "output_type": "error",
     "traceback": [
      "\u001b[1;31m---------------------------------------------------------------------------\u001b[0m",
      "\u001b[1;31mValueError\u001b[0m                                Traceback (most recent call last)",
      "\u001b[1;32m<ipython-input-4-95f02b48ea02>\u001b[0m in \u001b[0;36m<module>\u001b[1;34m\u001b[0m\n\u001b[0;32m     24\u001b[0m \u001b[1;31m# Fixing data\u001b[0m\u001b[1;33m\u001b[0m\u001b[1;33m\u001b[0m\u001b[1;33m\u001b[0m\u001b[0m\n\u001b[0;32m     25\u001b[0m \u001b[0mpath_adm_shp\u001b[0m \u001b[1;33m=\u001b[0m \u001b[0mos\u001b[0m\u001b[1;33m.\u001b[0m\u001b[0mpath\u001b[0m\u001b[1;33m.\u001b[0m\u001b[0mjoin\u001b[0m\u001b[1;33m(\u001b[0m\u001b[0madm_folder\u001b[0m\u001b[1;33m,\u001b[0m\u001b[1;34m\"fixed\"\u001b[0m\u001b[1;33m,\u001b[0m\u001b[1;34m\"adm.shp\"\u001b[0m\u001b[1;33m)\u001b[0m\u001b[1;33m\u001b[0m\u001b[1;33m\u001b[0m\u001b[0m\n\u001b[1;32m---> 26\u001b[1;33m \u001b[0mplot\u001b[0m\u001b[1;33m.\u001b[0m\u001b[0mcreate_data\u001b[0m\u001b[1;33m(\u001b[0m\u001b[0mplot_folder\u001b[0m\u001b[1;33m,\u001b[0m \u001b[0mpath_adm_shp\u001b[0m\u001b[1;33m,\u001b[0m \u001b[0mplo_src_crs\u001b[0m\u001b[1;33m,\u001b[0m \u001b[0mglo_crs\u001b[0m\u001b[1;33m)\u001b[0m\u001b[1;33m\u001b[0m\u001b[1;33m\u001b[0m\u001b[0m\n\u001b[0m\u001b[0;32m     27\u001b[0m \u001b[1;33m\u001b[0m\u001b[0m\n\u001b[0;32m     28\u001b[0m \u001b[0mprint\u001b[0m\u001b[1;33m(\u001b[0m\u001b[1;34m\"Done!\"\u001b[0m\u001b[1;33m)\u001b[0m\u001b[1;33m\u001b[0m\u001b[1;33m\u001b[0m\u001b[0m\n",
      "\u001b[1;32mD:\\CIAT\\Code\\BID\\dci_fauno\\src\\risk_calculator\\livestock_plot.py\u001b[0m in \u001b[0;36mcreate_data\u001b[1;34m(inputs, path_shp_adm, src_crs, dst_crs, encoding)\u001b[0m\n\u001b[0;32m    122\u001b[0m     \u001b[0moutput_file\u001b[0m \u001b[1;33m=\u001b[0m \u001b[0mos\u001b[0m\u001b[1;33m.\u001b[0m\u001b[0mpath\u001b[0m\u001b[1;33m.\u001b[0m\u001b[0mjoin\u001b[0m\u001b[1;33m(\u001b[0m\u001b[0mplots_folder\u001b[0m\u001b[1;33m,\u001b[0m\u001b[1;34m\"plots.shp\"\u001b[0m\u001b[1;33m)\u001b[0m\u001b[1;33m\u001b[0m\u001b[1;33m\u001b[0m\u001b[0m\n\u001b[0;32m    123\u001b[0m     \u001b[0mprint\u001b[0m\u001b[1;33m(\u001b[0m\u001b[1;34m\"Saving: \"\u001b[0m \u001b[1;33m+\u001b[0m \u001b[0moutput_file\u001b[0m\u001b[1;33m)\u001b[0m\u001b[1;33m\u001b[0m\u001b[1;33m\u001b[0m\u001b[0m\n\u001b[1;32m--> 124\u001b[1;33m     \u001b[0mgdf_join\u001b[0m\u001b[1;33m.\u001b[0m\u001b[0mto_file\u001b[0m\u001b[1;33m(\u001b[0m\u001b[0moutput_file\u001b[0m\u001b[1;33m,\u001b[0m\u001b[0mencoding\u001b[0m\u001b[1;33m=\u001b[0m\u001b[0mencoding\u001b[0m\u001b[1;33m)\u001b[0m\u001b[1;33m\u001b[0m\u001b[1;33m\u001b[0m\u001b[0m\n\u001b[0m\u001b[0;32m    125\u001b[0m \u001b[1;33m\u001b[0m\u001b[0m\n\u001b[0;32m    126\u001b[0m \u001b[1;31m# Method that creates a buffer for plots\u001b[0m\u001b[1;33m\u001b[0m\u001b[1;33m\u001b[0m\u001b[1;33m\u001b[0m\u001b[0m\n",
      "\u001b[1;32md:\\ciat\\virtualenv\\jupyter\\lib\\site-packages\\geopandas\\geodataframe.py\u001b[0m in \u001b[0;36mto_file\u001b[1;34m(self, filename, driver, schema, index, **kwargs)\u001b[0m\n\u001b[0;32m    744\u001b[0m         \u001b[1;32mfrom\u001b[0m \u001b[0mgeopandas\u001b[0m\u001b[1;33m.\u001b[0m\u001b[0mio\u001b[0m\u001b[1;33m.\u001b[0m\u001b[0mfile\u001b[0m \u001b[1;32mimport\u001b[0m \u001b[0m_to_file\u001b[0m\u001b[1;33m\u001b[0m\u001b[1;33m\u001b[0m\u001b[0m\n\u001b[0;32m    745\u001b[0m \u001b[1;33m\u001b[0m\u001b[0m\n\u001b[1;32m--> 746\u001b[1;33m         \u001b[0m_to_file\u001b[0m\u001b[1;33m(\u001b[0m\u001b[0mself\u001b[0m\u001b[1;33m,\u001b[0m \u001b[0mfilename\u001b[0m\u001b[1;33m,\u001b[0m \u001b[0mdriver\u001b[0m\u001b[1;33m,\u001b[0m \u001b[0mschema\u001b[0m\u001b[1;33m,\u001b[0m \u001b[0mindex\u001b[0m\u001b[1;33m,\u001b[0m \u001b[1;33m**\u001b[0m\u001b[0mkwargs\u001b[0m\u001b[1;33m)\u001b[0m\u001b[1;33m\u001b[0m\u001b[1;33m\u001b[0m\u001b[0m\n\u001b[0m\u001b[0;32m    747\u001b[0m \u001b[1;33m\u001b[0m\u001b[0m\n\u001b[0;32m    748\u001b[0m     \u001b[1;32mdef\u001b[0m \u001b[0mset_crs\u001b[0m\u001b[1;33m(\u001b[0m\u001b[0mself\u001b[0m\u001b[1;33m,\u001b[0m \u001b[0mcrs\u001b[0m\u001b[1;33m=\u001b[0m\u001b[1;32mNone\u001b[0m\u001b[1;33m,\u001b[0m \u001b[0mepsg\u001b[0m\u001b[1;33m=\u001b[0m\u001b[1;32mNone\u001b[0m\u001b[1;33m,\u001b[0m \u001b[0minplace\u001b[0m\u001b[1;33m=\u001b[0m\u001b[1;32mFalse\u001b[0m\u001b[1;33m,\u001b[0m \u001b[0mallow_override\u001b[0m\u001b[1;33m=\u001b[0m\u001b[1;32mFalse\u001b[0m\u001b[1;33m)\u001b[0m\u001b[1;33m:\u001b[0m\u001b[1;33m\u001b[0m\u001b[1;33m\u001b[0m\u001b[0m\n",
      "\u001b[1;32md:\\ciat\\virtualenv\\jupyter\\lib\\site-packages\\geopandas\\io\\file.py\u001b[0m in \u001b[0;36m_to_file\u001b[1;34m(df, filename, driver, schema, index, mode, crs, **kwargs)\u001b[0m\n\u001b[0;32m    255\u001b[0m             \u001b[0mfilename\u001b[0m\u001b[1;33m,\u001b[0m \u001b[0mmode\u001b[0m\u001b[1;33m=\u001b[0m\u001b[0mmode\u001b[0m\u001b[1;33m,\u001b[0m \u001b[0mdriver\u001b[0m\u001b[1;33m=\u001b[0m\u001b[0mdriver\u001b[0m\u001b[1;33m,\u001b[0m \u001b[0mcrs_wkt\u001b[0m\u001b[1;33m=\u001b[0m\u001b[0mcrs_wkt\u001b[0m\u001b[1;33m,\u001b[0m \u001b[0mschema\u001b[0m\u001b[1;33m=\u001b[0m\u001b[0mschema\u001b[0m\u001b[1;33m,\u001b[0m \u001b[1;33m**\u001b[0m\u001b[0mkwargs\u001b[0m\u001b[1;33m\u001b[0m\u001b[1;33m\u001b[0m\u001b[0m\n\u001b[0;32m    256\u001b[0m         ) as colxn:\n\u001b[1;32m--> 257\u001b[1;33m             \u001b[0mcolxn\u001b[0m\u001b[1;33m.\u001b[0m\u001b[0mwriterecords\u001b[0m\u001b[1;33m(\u001b[0m\u001b[0mdf\u001b[0m\u001b[1;33m.\u001b[0m\u001b[0miterfeatures\u001b[0m\u001b[1;33m(\u001b[0m\u001b[1;33m)\u001b[0m\u001b[1;33m)\u001b[0m\u001b[1;33m\u001b[0m\u001b[1;33m\u001b[0m\u001b[0m\n\u001b[0m\u001b[0;32m    258\u001b[0m \u001b[1;33m\u001b[0m\u001b[0m\n\u001b[0;32m    259\u001b[0m \u001b[1;33m\u001b[0m\u001b[0m\n",
      "\u001b[1;32md:\\ciat\\virtualenv\\jupyter\\lib\\site-packages\\fiona\\collection.py\u001b[0m in \u001b[0;36mwriterecords\u001b[1;34m(self, records)\u001b[0m\n\u001b[0;32m    359\u001b[0m         \u001b[1;32mif\u001b[0m \u001b[0mself\u001b[0m\u001b[1;33m.\u001b[0m\u001b[0mmode\u001b[0m \u001b[1;32mnot\u001b[0m \u001b[1;32min\u001b[0m \u001b[1;33m(\u001b[0m\u001b[1;34m'a'\u001b[0m\u001b[1;33m,\u001b[0m \u001b[1;34m'w'\u001b[0m\u001b[1;33m)\u001b[0m\u001b[1;33m:\u001b[0m\u001b[1;33m\u001b[0m\u001b[1;33m\u001b[0m\u001b[0m\n\u001b[0;32m    360\u001b[0m             \u001b[1;32mraise\u001b[0m \u001b[0mIOError\u001b[0m\u001b[1;33m(\u001b[0m\u001b[1;34m\"collection not open for writing\"\u001b[0m\u001b[1;33m)\u001b[0m\u001b[1;33m\u001b[0m\u001b[1;33m\u001b[0m\u001b[0m\n\u001b[1;32m--> 361\u001b[1;33m         \u001b[0mself\u001b[0m\u001b[1;33m.\u001b[0m\u001b[0msession\u001b[0m\u001b[1;33m.\u001b[0m\u001b[0mwriterecs\u001b[0m\u001b[1;33m(\u001b[0m\u001b[0mrecords\u001b[0m\u001b[1;33m,\u001b[0m \u001b[0mself\u001b[0m\u001b[1;33m)\u001b[0m\u001b[1;33m\u001b[0m\u001b[1;33m\u001b[0m\u001b[0m\n\u001b[0m\u001b[0;32m    362\u001b[0m         \u001b[0mself\u001b[0m\u001b[1;33m.\u001b[0m\u001b[0m_len\u001b[0m \u001b[1;33m=\u001b[0m \u001b[0mself\u001b[0m\u001b[1;33m.\u001b[0m\u001b[0msession\u001b[0m\u001b[1;33m.\u001b[0m\u001b[0mget_length\u001b[0m\u001b[1;33m(\u001b[0m\u001b[1;33m)\u001b[0m\u001b[1;33m\u001b[0m\u001b[1;33m\u001b[0m\u001b[0m\n\u001b[0;32m    363\u001b[0m         \u001b[0mself\u001b[0m\u001b[1;33m.\u001b[0m\u001b[0m_bounds\u001b[0m \u001b[1;33m=\u001b[0m \u001b[1;32mNone\u001b[0m\u001b[1;33m\u001b[0m\u001b[1;33m\u001b[0m\u001b[0m\n",
      "\u001b[1;32mfiona\\ogrext.pyx\u001b[0m in \u001b[0;36mfiona.ogrext.WritingSession.writerecs\u001b[1;34m()\u001b[0m\n",
      "\u001b[1;32mfiona\\ogrext.pyx\u001b[0m in \u001b[0;36mfiona.ogrext.OGRFeatureBuilder.build\u001b[1;34m()\u001b[0m\n",
      "\u001b[1;31mValueError\u001b[0m: Invalid field type <class 'bytes'>"
     ]
    }
   ],
   "source": [
    "# Getting parameters for processing data\n",
    "plo_character_file = conf.loc[conf[\"parameter\"] == \"plo_character_file\",\"value\"].values[0]\n",
    "plo_src_ext_id = conf.loc[conf[\"parameter\"] == \"plo_src_ext_id\",\"value\"].values[0]\n",
    "plo_src_lat = conf.loc[conf[\"parameter\"] == \"plo_src_lat\",\"value\"].values[0]\n",
    "plo_src_lon = conf.loc[conf[\"parameter\"] == \"plo_src_lon\",\"value\"].values[0]\n",
    "plo_src_animals = conf.loc[conf[\"parameter\"] == \"plo_src_animals\",\"value\"].values[0]\n",
    "plo_src_adm1 = conf.loc[conf[\"parameter\"] == \"plo_src_adm1\",\"value\"].values[0]\n",
    "plo_src_adm2 = conf.loc[conf[\"parameter\"] == \"plo_src_adm2\",\"value\"].values[0]\n",
    "plo_src_adm3 = conf.loc[conf[\"parameter\"] == \"plo_src_adm3\",\"value\"].values[0]\n",
    "plo_lim_lat_low =  float(conf.loc[conf[\"parameter\"] == \"plo_lim_lat_low\",\"value\"].values[0])\n",
    "plo_lim_lat_upp =  float(conf.loc[conf[\"parameter\"] == \"plo_lim_lat_upp\",\"value\"].values[0])\n",
    "plo_lim_lon_low =  float(conf.loc[conf[\"parameter\"] == \"plo_lim_lon_low\",\"value\"].values[0])\n",
    "plo_lim_lon_upp =  float(conf.loc[conf[\"parameter\"] == \"plo_lim_lon_upp\",\"value\"].values[0])\n",
    "# Getting parameters for creating shp\n",
    "plo_src_crs = int(conf.loc[conf[\"parameter\"] == \"plo_src_crs\",\"value\"].values[0])\n",
    "\n",
    "has_adm = (plo_src_adm1 != \"\") & (plo_src_adm2 != \"\") & (plo_src_adm3 != \"\")\n",
    "\n",
    "# Compiling data\n",
    "plot.processing_raw_data(plot_folder, plo_character_file, \n",
    "              plo_src_ext_id, plo_src_lat, plo_src_lon, plo_src_animals,\n",
    "              plo_lim_lat_low, plo_lim_lat_upp, plo_lim_lon_low, plo_lim_lon_upp,\n",
    "              has_adm, plo_src_adm1, plo_src_adm2, plo_src_adm3)\n",
    "# Fixing data\n",
    "path_adm_shp = os.path.join(adm_folder,\"fixed\",\"adm.shp\")\n",
    "plot.create_data(plot_folder, path_adm_shp, plo_src_crs, glo_crs)\n",
    "\n",
    "print(\"Done!\")"
   ]
  },
  {
   "cell_type": "markdown",
   "id": "wicked-brick",
   "metadata": {},
   "source": [
    "### Calculating buffer by plot\n",
    "In this section, the script creates a buffer for all plots. It uses the following ecuation to set radious for the buffer: amount of animals in plot / field capacity. "
   ]
  },
  {
   "cell_type": "code",
   "execution_count": 4,
   "id": "gentle-asset",
   "metadata": {},
   "outputs": [
    {
     "name": "stdout",
     "output_type": "stream",
     "text": [
      "Opening plots shape file: D:\\CIAT\\Code\\BID\\dci_fauno\\data\\risk_calculator\\inputs\\plot\\fixed\\plots\\plots.shp\n"
     ]
    },
    {
     "name": "stderr",
     "output_type": "stream",
     "text": [
      "d:\\ciat\\virtualenv\\jupyter\\lib\\site-packages\\pyproj\\crs\\crs.py:53: FutureWarning: '+init=<authority>:<code>' syntax is deprecated. '<authority>:<code>' is the preferred initialization method. When making the change, be mindful of axis order changes: https://pyproj4.github.io/pyproj/stable/gotchas.html#axis-order-changes-in-proj-6\n",
      "  return _prepare_from_string(\" \".join(pjargs))\n"
     ]
    },
    {
     "name": "stdout",
     "output_type": "stream",
     "text": [
      "Mergin with field capacity\n",
      "Creating buffer\n",
      "Reprojecting\n",
      "Saving: D:\\CIAT\\Code\\BID\\dci_fauno\\data\\risk_calculator\\inputs\\plot\\fixed\\buffer\\buffer.shp\n",
      "Done!\n"
     ]
    }
   ],
   "source": [
    "# Creatting buffer\n",
    "plot.create_buffer(plot_folder, buffer, glo_crs)\n",
    "print(\"Done!\")"
   ]
  },
  {
   "cell_type": "markdown",
   "id": "breathing-hampshire",
   "metadata": {},
   "source": [
    "## Mobilization"
   ]
  },
  {
   "cell_type": "markdown",
   "id": "broken-vector",
   "metadata": {},
   "source": [
    "### Fixing mobilization data"
   ]
  },
  {
   "cell_type": "code",
   "execution_count": 3,
   "id": "positive-hypothesis",
   "metadata": {},
   "outputs": [
    {
     "name": "stdout",
     "output_type": "stream",
     "text": [
      "Processing: D:\\CIAT\\Code\\BID\\dci_fauno\\data\\risk_calculator\\inputs\\mob\\content\\2017.csv\n",
      "Removing columns\n",
      "Pivoting data by year\n",
      "Summarizing mobilization\n",
      "Fixing columns names\n",
      "Saving: D:\\CIAT\\Code\\BID\\dci_fauno\\data\\risk_calculator\\inputs\\mob\\fixed\\2017.csv\n",
      "Processing: D:\\CIAT\\Code\\BID\\dci_fauno\\data\\risk_calculator\\inputs\\mob\\content\\2018.csv\n",
      "Removing columns\n",
      "Pivoting data by year\n",
      "Summarizing mobilization\n",
      "Fixing columns names\n",
      "Saving: D:\\CIAT\\Code\\BID\\dci_fauno\\data\\risk_calculator\\inputs\\mob\\fixed\\2018.csv\n",
      "Done!\n"
     ]
    }
   ],
   "source": [
    "# Getting parameters for processing data\n",
    "mob_origin_name = conf.loc[conf[\"parameter\"] == \"mob_origin_name\",\"value\"].values[0]\n",
    "mob_destination_name = conf.loc[conf[\"parameter\"] == \"mob_destination_name\",\"value\"].values[0]\n",
    "mob_type_name = conf.loc[conf[\"parameter\"] == \"mob_type_name\",\"value\"].values[0]\n",
    "mob_columns_exclude = map(str.strip, conf.loc[conf[\"parameter\"] == \"mob_columns_exclude\",\"value\"].values[0].split(\",\"))\n",
    "\n",
    "mobi.fixed_data(mob_folder,mob_columns_exclude,mob_origin_name,mob_destination_name,mob_type_name)\n",
    "print(\"Done!\")"
   ]
  },
  {
   "cell_type": "markdown",
   "id": "filled-fairy",
   "metadata": {},
   "source": [
    "## Analyzing plots"
   ]
  },
  {
   "cell_type": "markdown",
   "id": "light-tennessee",
   "metadata": {},
   "source": [
    "### Calculating deforested areas by plot\n",
    "In this section the system calculates the proportion of deforested areas by plot. It combines raster deforestation files\n",
    "and buffer shapefile."
   ]
  },
  {
   "cell_type": "code",
   "execution_count": 4,
   "id": "hawaiian-episode",
   "metadata": {},
   "outputs": [
    {
     "name": "stdout",
     "output_type": "stream",
     "text": [
      "Opening shp: D:\\CIAT\\Code\\BID\\dci_fauno\\data\\risk_calculator\\inputs\\plot\\fixed\\buffer\\buffer.shp\n",
      "Type of analysis: summary\n",
      "Processing: 2010\n",
      "Opening raster: D:\\CIAT\\Code\\BID\\dci_fauno\\data\\risk_calculator\\inputs\\def\\fixed\\raster_summary\\2010.tif\n",
      "Calculating zonal stats\n",
      "Parsing to Geopandas\n",
      "Saving: D:\\CIAT\\Code\\BID\\dci_fauno\\data\\risk_calculator\\inputs\\plot\\fixed\\def\\summary\\2010\\areas.shp\n",
      "Processing: 2012\n",
      "Opening raster: D:\\CIAT\\Code\\BID\\dci_fauno\\data\\risk_calculator\\inputs\\def\\fixed\\raster_summary\\2012.tif\n",
      "Calculating zonal stats\n",
      "Parsing to Geopandas\n",
      "Saving: D:\\CIAT\\Code\\BID\\dci_fauno\\data\\risk_calculator\\inputs\\plot\\fixed\\def\\summary\\2012\\areas.shp\n",
      "Processing: 2013\n",
      "Opening raster: D:\\CIAT\\Code\\BID\\dci_fauno\\data\\risk_calculator\\inputs\\def\\fixed\\raster_summary\\2013.tif\n",
      "Calculating zonal stats\n",
      "Parsing to Geopandas\n",
      "Saving: D:\\CIAT\\Code\\BID\\dci_fauno\\data\\risk_calculator\\inputs\\plot\\fixed\\def\\summary\\2013\\areas.shp\n",
      "Processing: 2014\n",
      "Opening raster: D:\\CIAT\\Code\\BID\\dci_fauno\\data\\risk_calculator\\inputs\\def\\fixed\\raster_summary\\2014.tif\n",
      "Calculating zonal stats\n",
      "Parsing to Geopandas\n",
      "Saving: D:\\CIAT\\Code\\BID\\dci_fauno\\data\\risk_calculator\\inputs\\plot\\fixed\\def\\summary\\2014\\areas.shp\n",
      "Processing: 2015\n",
      "Opening raster: D:\\CIAT\\Code\\BID\\dci_fauno\\data\\risk_calculator\\inputs\\def\\fixed\\raster_summary\\2015.tif\n",
      "Calculating zonal stats\n",
      "Parsing to Geopandas\n",
      "Saving: D:\\CIAT\\Code\\BID\\dci_fauno\\data\\risk_calculator\\inputs\\plot\\fixed\\def\\summary\\2015\\areas.shp\n",
      "Processing: 2016\n",
      "Opening raster: D:\\CIAT\\Code\\BID\\dci_fauno\\data\\risk_calculator\\inputs\\def\\fixed\\raster_summary\\2016.tif\n",
      "Calculating zonal stats\n",
      "Parsing to Geopandas\n",
      "Saving: D:\\CIAT\\Code\\BID\\dci_fauno\\data\\risk_calculator\\inputs\\plot\\fixed\\def\\summary\\2016\\areas.shp\n",
      "Processing: 2017\n",
      "Opening raster: D:\\CIAT\\Code\\BID\\dci_fauno\\data\\risk_calculator\\inputs\\def\\fixed\\raster_summary\\2017.tif\n",
      "Calculating zonal stats\n",
      "Parsing to Geopandas\n",
      "Saving: D:\\CIAT\\Code\\BID\\dci_fauno\\data\\risk_calculator\\inputs\\plot\\fixed\\def\\summary\\2017\\areas.shp\n",
      "Processing: 2018\n",
      "Opening raster: D:\\CIAT\\Code\\BID\\dci_fauno\\data\\risk_calculator\\inputs\\def\\fixed\\raster_summary\\2018.tif\n",
      "Calculating zonal stats\n",
      "Parsing to Geopandas\n",
      "Saving: D:\\CIAT\\Code\\BID\\dci_fauno\\data\\risk_calculator\\inputs\\plot\\fixed\\def\\summary\\2018\\areas.shp\n"
     ]
    }
   ],
   "source": [
    "# Getting parameters for processing data\n",
    "ris_years = map(str.strip, conf.loc[conf[\"parameter\"] == \"ris_years\",\"value\"].values[0].split(\",\"))\n",
    "ris_types_analysis =  map(str.strip, conf.loc[conf[\"parameter\"] == \"ris_types_analysis\",\"value\"].values[0].split(\",\"))\n",
    "def_pixel_size = float(conf.loc[conf[\"parameter\"] == \"def_pixel_size\",\"value\"].values[0])\n",
    "\n",
    "# De\n",
    "#risk.deforestation_plot(inputs, ris_years, ris_types_analysis, def_pixel_size)\n",
    "risk.deforestation_plot(inputs, [2010,2012,2013,2014,2015,2016,2017,2018], [\"summary\"], def_pixel_size)\n",
    "print(\"Done!\")"
   ]
  },
  {
   "cell_type": "markdown",
   "id": "upset-consultancy",
   "metadata": {},
   "source": [
    "### Calculating distance between plots and near deforestation"
   ]
  },
  {
   "cell_type": "code",
   "execution_count": 3,
   "id": "requested-actor",
   "metadata": {},
   "outputs": [
    {
     "name": "stdout",
     "output_type": "stream",
     "text": [
      "Processing type: detail\n",
      "Processing year: 2017\n",
      "Opening areas shp: D:\\CIAT\\Code\\BID\\dci_fauno\\data\\risk_calculator\\inputs\\plot\\fixed\\def\\detail\\2017\\areas.shp\n",
      "Opening deforestation shp: D:\\CIAT\\Code\\BID\\dci_fauno\\data\\risk_calculator\\inputs\\def\\fixed\\shp_detail\\2017\\shapefile.shp\n",
      "Fixing fields\n",
      "Starting process parallel\n",
      "Joining results\n",
      "Saving: D:\\CIAT\\Code\\BID\\dci_fauno\\data\\risk_calculator\\inputs\\plot\\fixed\\dis\\detail\\2017\\areas_distance.shp\n",
      "Processing year: 2018\n",
      "Opening areas shp: D:\\CIAT\\Code\\BID\\dci_fauno\\data\\risk_calculator\\inputs\\plot\\fixed\\def\\detail\\2018\\areas.shp\n",
      "Opening deforestation shp: D:\\CIAT\\Code\\BID\\dci_fauno\\data\\risk_calculator\\inputs\\def\\fixed\\shp_detail\\2018\\shapefile.shp\n",
      "Fixing fields\n",
      "Starting process parallel\n",
      "Joining results\n",
      "Saving: D:\\CIAT\\Code\\BID\\dci_fauno\\data\\risk_calculator\\inputs\\plot\\fixed\\dis\\detail\\2018\\areas_distance.shp\n",
      "Processing type: summary\n",
      "Done!\n"
     ]
    }
   ],
   "source": [
    "# Getting parameters for processing data\n",
    "ris_years = map(str.strip, conf.loc[conf[\"parameter\"] == \"ris_years\",\"value\"].values[0].split(\",\"))\n",
    "ris_types_analysis =  map(str.strip, conf.loc[conf[\"parameter\"] == \"ris_types_analysis\",\"value\"].values[0].split(\",\"))\n",
    "\n",
    "risk.distance_plot(inputs, ris_years, ris_types_analysis)\n",
    "print(\"Done!\")"
   ]
  },
  {
   "cell_type": "markdown",
   "id": "interim-indian",
   "metadata": {},
   "source": [
    "### Calculating direct risk\n",
    "It changes teh CSR to WGS84 for all new layers with risk"
   ]
  },
  {
   "cell_type": "code",
   "execution_count": 3,
   "id": "removable-hughes",
   "metadata": {},
   "outputs": [
    {
     "name": "stdout",
     "output_type": "stream",
     "text": [
      "Processing type: detail\n",
      "Processing year: 2010\n",
      "Opening areas shp: D:\\CIAT\\Code\\BID\\dci_fauno\\data\\risk_calculator\\inputs\\plot\\fixed\\dis\\detail\\2010\\areas_distance.shp\n",
      "Reprojecting to: {'init': 'epsg:4326', 'no_defs': True}\n"
     ]
    },
    {
     "name": "stderr",
     "output_type": "stream",
     "text": [
      "d:\\ciat\\virtualenv\\jupyter\\lib\\site-packages\\pyproj\\crs\\crs.py:53: FutureWarning: '+init=<authority>:<code>' syntax is deprecated. '<authority>:<code>' is the preferred initialization method. When making the change, be mindful of axis order changes: https://pyproj4.github.io/pyproj/stable/gotchas.html#axis-order-changes-in-proj-6\n",
      "  return _prepare_from_string(\" \".join(pjargs))\n"
     ]
    },
    {
     "name": "stdout",
     "output_type": "stream",
     "text": [
      "Starting process parallel\n"
     ]
    },
    {
     "name": "stderr",
     "output_type": "stream",
     "text": [
      "d:\\ciat\\virtualenv\\jupyter\\lib\\site-packages\\pyproj\\crs\\crs.py:280: FutureWarning: '+init=<authority>:<code>' syntax is deprecated. '<authority>:<code>' is the preferred initialization method. When making the change, be mindful of axis order changes: https://pyproj4.github.io/pyproj/stable/gotchas.html#axis-order-changes-in-proj-6\n",
      "  projstring = _prepare_from_string(projparams)\n"
     ]
    },
    {
     "name": "stdout",
     "output_type": "stream",
     "text": [
      "Joining results\n",
      "Saving: D:\\CIAT\\Code\\BID\\dci_fauno\\data\\risk_calculator\\inputs\\plot\\fixed\\risk\\detail\\2010\\rd.shp\n",
      "Processing year: 2012\n",
      "Opening areas shp: D:\\CIAT\\Code\\BID\\dci_fauno\\data\\risk_calculator\\inputs\\plot\\fixed\\dis\\detail\\2012\\areas_distance.shp\n",
      "Reprojecting to: {'init': 'epsg:4326', 'no_defs': True}\n",
      "Starting process parallel\n",
      "Joining results\n",
      "Saving: D:\\CIAT\\Code\\BID\\dci_fauno\\data\\risk_calculator\\inputs\\plot\\fixed\\risk\\detail\\2012\\rd.shp\n",
      "Processing year: 2013\n",
      "Opening areas shp: D:\\CIAT\\Code\\BID\\dci_fauno\\data\\risk_calculator\\inputs\\plot\\fixed\\dis\\detail\\2013\\areas_distance.shp\n",
      "Reprojecting to: {'init': 'epsg:4326', 'no_defs': True}\n",
      "Starting process parallel\n",
      "Joining results\n",
      "Saving: D:\\CIAT\\Code\\BID\\dci_fauno\\data\\risk_calculator\\inputs\\plot\\fixed\\risk\\detail\\2013\\rd.shp\n",
      "Processing year: 2014\n",
      "Opening areas shp: D:\\CIAT\\Code\\BID\\dci_fauno\\data\\risk_calculator\\inputs\\plot\\fixed\\dis\\detail\\2014\\areas_distance.shp\n",
      "Reprojecting to: {'init': 'epsg:4326', 'no_defs': True}\n",
      "Starting process parallel\n",
      "Joining results\n",
      "Saving: D:\\CIAT\\Code\\BID\\dci_fauno\\data\\risk_calculator\\inputs\\plot\\fixed\\risk\\detail\\2014\\rd.shp\n",
      "Processing year: 2015\n",
      "Opening areas shp: D:\\CIAT\\Code\\BID\\dci_fauno\\data\\risk_calculator\\inputs\\plot\\fixed\\dis\\detail\\2015\\areas_distance.shp\n",
      "Reprojecting to: {'init': 'epsg:4326', 'no_defs': True}\n",
      "Starting process parallel\n",
      "Joining results\n",
      "Saving: D:\\CIAT\\Code\\BID\\dci_fauno\\data\\risk_calculator\\inputs\\plot\\fixed\\risk\\detail\\2015\\rd.shp\n",
      "Processing year: 2016\n",
      "Opening areas shp: D:\\CIAT\\Code\\BID\\dci_fauno\\data\\risk_calculator\\inputs\\plot\\fixed\\dis\\detail\\2016\\areas_distance.shp\n",
      "Reprojecting to: {'init': 'epsg:4326', 'no_defs': True}\n",
      "Starting process parallel\n",
      "Joining results\n",
      "Saving: D:\\CIAT\\Code\\BID\\dci_fauno\\data\\risk_calculator\\inputs\\plot\\fixed\\risk\\detail\\2016\\rd.shp\n",
      "Processing year: 2017\n",
      "Opening areas shp: D:\\CIAT\\Code\\BID\\dci_fauno\\data\\risk_calculator\\inputs\\plot\\fixed\\dis\\detail\\2017\\areas_distance.shp\n",
      "Reprojecting to: {'init': 'epsg:4326', 'no_defs': True}\n",
      "Starting process parallel\n",
      "Joining results\n",
      "Saving: D:\\CIAT\\Code\\BID\\dci_fauno\\data\\risk_calculator\\inputs\\plot\\fixed\\risk\\detail\\2017\\rd.shp\n",
      "Processing year: 2018\n",
      "Opening areas shp: D:\\CIAT\\Code\\BID\\dci_fauno\\data\\risk_calculator\\inputs\\plot\\fixed\\dis\\detail\\2018\\areas_distance.shp\n",
      "Reprojecting to: {'init': 'epsg:4326', 'no_defs': True}\n",
      "Starting process parallel\n",
      "Joining results\n",
      "Saving: D:\\CIAT\\Code\\BID\\dci_fauno\\data\\risk_calculator\\inputs\\plot\\fixed\\risk\\detail\\2018\\rd.shp\n",
      "Done!\n"
     ]
    }
   ],
   "source": [
    "# Getting parameters for processing data\n",
    "ris_years = map(str.strip, conf.loc[conf[\"parameter\"] == \"ris_years\",\"value\"].values[0].split(\",\"))\n",
    "ris_types_analysis =  map(str.strip, conf.loc[conf[\"parameter\"] == \"ris_types_analysis\",\"value\"].values[0].split(\",\"))\n",
    "\n",
    "risk.risk_direct(inputs, ris_years, ris_types_analysis, glo_crs_wgs84)\n",
    "print(\"Done!\")"
   ]
  },
  {
   "cell_type": "markdown",
   "id": "violent-knitting",
   "metadata": {},
   "source": [
    "### Calculating total risk for each plot\n",
    "It takes into account all paramters: direct risk, risk of all in plots and also "
   ]
  },
  {
   "cell_type": "code",
   "execution_count": 5,
   "id": "binding-reality",
   "metadata": {},
   "outputs": [
    {
     "name": "stdout",
     "output_type": "stream",
     "text": [
      "CPUs: 10\n",
      "Processing type: detail\n",
      "Processing year: 2017\n",
      "Opening areas shp: D:\\CIAT\\Code\\BID\\dci_fauno\\data\\risk_calculator\\inputs\\plot\\fixed\\risk\\detail\\2017\\rd.shp\n"
     ]
    },
    {
     "ename": "KeyboardInterrupt",
     "evalue": "",
     "output_type": "error",
     "traceback": [
      "\u001b[1;31m---------------------------------------------------------------------------\u001b[0m",
      "\u001b[1;31mKeyboardInterrupt\u001b[0m                         Traceback (most recent call last)",
      "\u001b[1;32m<ipython-input-5-78e137a1157c>\u001b[0m in \u001b[0;36m<module>\u001b[1;34m\u001b[0m\n\u001b[0;32m      5\u001b[0m \u001b[1;33m\u001b[0m\u001b[0m\n\u001b[0;32m      6\u001b[0m \u001b[1;31m#risk.total_risk(inputs, ris_years, ris_types_analysis)\u001b[0m\u001b[1;33m\u001b[0m\u001b[1;33m\u001b[0m\u001b[1;33m\u001b[0m\u001b[0m\n\u001b[1;32m----> 7\u001b[1;33m \u001b[0mrisk\u001b[0m\u001b[1;33m.\u001b[0m\u001b[0mtotal_risk\u001b[0m\u001b[1;33m(\u001b[0m\u001b[0minputs\u001b[0m\u001b[1;33m,\u001b[0m \u001b[1;33m[\u001b[0m\u001b[1;34m\"2017\"\u001b[0m\u001b[1;33m,\u001b[0m\u001b[1;34m\"2018\"\u001b[0m\u001b[1;33m]\u001b[0m\u001b[1;33m,\u001b[0m \u001b[0mris_types_analysis\u001b[0m\u001b[1;33m,\u001b[0m \u001b[0mris_type_plot\u001b[0m\u001b[1;33m)\u001b[0m\u001b[1;33m\u001b[0m\u001b[1;33m\u001b[0m\u001b[0m\n\u001b[0m\u001b[0;32m      8\u001b[0m \u001b[0mprint\u001b[0m\u001b[1;33m(\u001b[0m\u001b[1;34m\"Done!\"\u001b[0m\u001b[1;33m)\u001b[0m\u001b[1;33m\u001b[0m\u001b[1;33m\u001b[0m\u001b[0m\n",
      "\u001b[1;32mD:\\CIAT\\Code\\BID\\dci_fauno\\src\\risk_calculator\\risk.py\u001b[0m in \u001b[0;36mtotal_risk\u001b[1;34m(inputs, years, types_analysis, type_plot, encoding)\u001b[0m\n\u001b[0;32m    269\u001b[0m             \u001b[0mfile_shp\u001b[0m \u001b[1;33m=\u001b[0m \u001b[0mos\u001b[0m\u001b[1;33m.\u001b[0m\u001b[0mpath\u001b[0m\u001b[1;33m.\u001b[0m\u001b[0mjoin\u001b[0m\u001b[1;33m(\u001b[0m\u001b[0min_risk_root\u001b[0m\u001b[1;33m,\u001b[0m\u001b[0mta\u001b[0m\u001b[1;33m,\u001b[0m\u001b[0mstr\u001b[0m\u001b[1;33m(\u001b[0m\u001b[0my\u001b[0m\u001b[1;33m)\u001b[0m\u001b[1;33m,\u001b[0m\u001b[1;34m\"rd.shp\"\u001b[0m\u001b[1;33m)\u001b[0m\u001b[1;33m\u001b[0m\u001b[1;33m\u001b[0m\u001b[0m\n\u001b[0;32m    270\u001b[0m             \u001b[0mprint\u001b[0m\u001b[1;33m(\u001b[0m\u001b[1;34m\"Opening areas shp: \"\u001b[0m \u001b[1;33m+\u001b[0m \u001b[0mfile_shp\u001b[0m\u001b[1;33m)\u001b[0m\u001b[1;33m\u001b[0m\u001b[1;33m\u001b[0m\u001b[0m\n\u001b[1;32m--> 271\u001b[1;33m             \u001b[0mshp\u001b[0m \u001b[1;33m=\u001b[0m \u001b[0mgpd\u001b[0m\u001b[1;33m.\u001b[0m\u001b[0mread_file\u001b[0m\u001b[1;33m(\u001b[0m\u001b[0mfile_shp\u001b[0m\u001b[1;33m,\u001b[0m \u001b[0mencoding\u001b[0m\u001b[1;33m=\u001b[0m\u001b[0mencoding\u001b[0m\u001b[1;33m)\u001b[0m\u001b[1;33m\u001b[0m\u001b[1;33m\u001b[0m\u001b[0m\n\u001b[0m\u001b[0;32m    272\u001b[0m \u001b[1;33m\u001b[0m\u001b[0m\n\u001b[0;32m    273\u001b[0m             \u001b[0mfile_csv\u001b[0m \u001b[1;33m=\u001b[0m \u001b[0mos\u001b[0m\u001b[1;33m.\u001b[0m\u001b[0mpath\u001b[0m\u001b[1;33m.\u001b[0m\u001b[0mjoin\u001b[0m\u001b[1;33m(\u001b[0m\u001b[0min_mob_root\u001b[0m\u001b[1;33m,\u001b[0m\u001b[0mstr\u001b[0m\u001b[1;33m(\u001b[0m\u001b[0my\u001b[0m\u001b[1;33m)\u001b[0m \u001b[1;33m+\u001b[0m \u001b[1;34m\".csv\"\u001b[0m\u001b[1;33m)\u001b[0m\u001b[1;33m\u001b[0m\u001b[1;33m\u001b[0m\u001b[0m\n",
      "\u001b[1;32md:\\ciat\\virtualenv\\jupyter\\lib\\site-packages\\geopandas\\io\\file.py\u001b[0m in \u001b[0;36m_read_file\u001b[1;34m(filename, bbox, mask, rows, **kwargs)\u001b[0m\n\u001b[0;32m    137\u001b[0m                 )\n\u001b[0;32m    138\u001b[0m \u001b[1;33m\u001b[0m\u001b[0m\n\u001b[1;32m--> 139\u001b[1;33m             return GeoDataFrame.from_features(\n\u001b[0m\u001b[0;32m    140\u001b[0m                 \u001b[0mf_filt\u001b[0m\u001b[1;33m,\u001b[0m \u001b[0mcrs\u001b[0m\u001b[1;33m=\u001b[0m\u001b[0mcrs\u001b[0m\u001b[1;33m,\u001b[0m \u001b[0mcolumns\u001b[0m\u001b[1;33m=\u001b[0m\u001b[0mcolumns\u001b[0m \u001b[1;33m+\u001b[0m \u001b[1;33m[\u001b[0m\u001b[1;34m\"geometry\"\u001b[0m\u001b[1;33m]\u001b[0m\u001b[1;33m\u001b[0m\u001b[1;33m\u001b[0m\u001b[0m\n\u001b[0;32m    141\u001b[0m             )\n",
      "\u001b[1;32md:\\ciat\\virtualenv\\jupyter\\lib\\site-packages\\geopandas\\geodataframe.py\u001b[0m in \u001b[0;36mfrom_features\u001b[1;34m(cls, features, crs, columns)\u001b[0m\n\u001b[0;32m    425\u001b[0m                 \u001b[0mfeature\u001b[0m \u001b[1;33m=\u001b[0m \u001b[0mfeature\u001b[0m\u001b[1;33m.\u001b[0m\u001b[0m__geo_interface__\u001b[0m\u001b[1;33m\u001b[0m\u001b[1;33m\u001b[0m\u001b[0m\n\u001b[0;32m    426\u001b[0m             row = {\n\u001b[1;32m--> 427\u001b[1;33m                 \u001b[1;34m\"geometry\"\u001b[0m\u001b[1;33m:\u001b[0m \u001b[0mshape\u001b[0m\u001b[1;33m(\u001b[0m\u001b[0mfeature\u001b[0m\u001b[1;33m[\u001b[0m\u001b[1;34m\"geometry\"\u001b[0m\u001b[1;33m]\u001b[0m\u001b[1;33m)\u001b[0m \u001b[1;32mif\u001b[0m \u001b[0mfeature\u001b[0m\u001b[1;33m[\u001b[0m\u001b[1;34m\"geometry\"\u001b[0m\u001b[1;33m]\u001b[0m \u001b[1;32melse\u001b[0m \u001b[1;32mNone\u001b[0m\u001b[1;33m\u001b[0m\u001b[1;33m\u001b[0m\u001b[0m\n\u001b[0m\u001b[0;32m    428\u001b[0m             }\n\u001b[0;32m    429\u001b[0m             \u001b[1;31m# load properties\u001b[0m\u001b[1;33m\u001b[0m\u001b[1;33m\u001b[0m\u001b[1;33m\u001b[0m\u001b[0m\n",
      "\u001b[1;32md:\\ciat\\virtualenv\\jupyter\\lib\\site-packages\\shapely\\geometry\\geo.py\u001b[0m in \u001b[0;36mshape\u001b[1;34m(context)\u001b[0m\n\u001b[0;32m    103\u001b[0m         \u001b[1;32mreturn\u001b[0m \u001b[0mLineString\u001b[0m\u001b[1;33m(\u001b[0m\u001b[0mob\u001b[0m\u001b[1;33m[\u001b[0m\u001b[1;34m\"coordinates\"\u001b[0m\u001b[1;33m]\u001b[0m\u001b[1;33m)\u001b[0m\u001b[1;33m\u001b[0m\u001b[1;33m\u001b[0m\u001b[0m\n\u001b[0;32m    104\u001b[0m     \u001b[1;32melif\u001b[0m \u001b[0mgeom_type\u001b[0m \u001b[1;33m==\u001b[0m \u001b[1;34m\"polygon\"\u001b[0m\u001b[1;33m:\u001b[0m\u001b[1;33m\u001b[0m\u001b[1;33m\u001b[0m\u001b[0m\n\u001b[1;32m--> 105\u001b[1;33m         \u001b[1;32mreturn\u001b[0m \u001b[0mPolygon\u001b[0m\u001b[1;33m(\u001b[0m\u001b[0mob\u001b[0m\u001b[1;33m[\u001b[0m\u001b[1;34m\"coordinates\"\u001b[0m\u001b[1;33m]\u001b[0m\u001b[1;33m[\u001b[0m\u001b[1;36m0\u001b[0m\u001b[1;33m]\u001b[0m\u001b[1;33m,\u001b[0m \u001b[0mob\u001b[0m\u001b[1;33m[\u001b[0m\u001b[1;34m\"coordinates\"\u001b[0m\u001b[1;33m]\u001b[0m\u001b[1;33m[\u001b[0m\u001b[1;36m1\u001b[0m\u001b[1;33m:\u001b[0m\u001b[1;33m]\u001b[0m\u001b[1;33m)\u001b[0m\u001b[1;33m\u001b[0m\u001b[1;33m\u001b[0m\u001b[0m\n\u001b[0m\u001b[0;32m    106\u001b[0m     \u001b[1;32melif\u001b[0m \u001b[0mgeom_type\u001b[0m \u001b[1;33m==\u001b[0m \u001b[1;34m\"multipoint\"\u001b[0m\u001b[1;33m:\u001b[0m\u001b[1;33m\u001b[0m\u001b[1;33m\u001b[0m\u001b[0m\n\u001b[0;32m    107\u001b[0m         \u001b[1;32mreturn\u001b[0m \u001b[0mMultiPoint\u001b[0m\u001b[1;33m(\u001b[0m\u001b[0mob\u001b[0m\u001b[1;33m[\u001b[0m\u001b[1;34m\"coordinates\"\u001b[0m\u001b[1;33m]\u001b[0m\u001b[1;33m)\u001b[0m\u001b[1;33m\u001b[0m\u001b[1;33m\u001b[0m\u001b[0m\n",
      "\u001b[1;32md:\\ciat\\virtualenv\\jupyter\\lib\\site-packages\\shapely\\geometry\\polygon.py\u001b[0m in \u001b[0;36m__init__\u001b[1;34m(self, shell, holes)\u001b[0m\n\u001b[0;32m    241\u001b[0m \u001b[1;33m\u001b[0m\u001b[0m\n\u001b[0;32m    242\u001b[0m         \u001b[1;32mif\u001b[0m \u001b[0mshell\u001b[0m \u001b[1;32mis\u001b[0m \u001b[1;32mnot\u001b[0m \u001b[1;32mNone\u001b[0m\u001b[1;33m:\u001b[0m\u001b[1;33m\u001b[0m\u001b[1;33m\u001b[0m\u001b[0m\n\u001b[1;32m--> 243\u001b[1;33m             \u001b[0mret\u001b[0m \u001b[1;33m=\u001b[0m \u001b[0mgeos_polygon_from_py\u001b[0m\u001b[1;33m(\u001b[0m\u001b[0mshell\u001b[0m\u001b[1;33m,\u001b[0m \u001b[0mholes\u001b[0m\u001b[1;33m)\u001b[0m\u001b[1;33m\u001b[0m\u001b[1;33m\u001b[0m\u001b[0m\n\u001b[0m\u001b[0;32m    244\u001b[0m             \u001b[1;32mif\u001b[0m \u001b[0mret\u001b[0m \u001b[1;32mis\u001b[0m \u001b[1;32mnot\u001b[0m \u001b[1;32mNone\u001b[0m\u001b[1;33m:\u001b[0m\u001b[1;33m\u001b[0m\u001b[1;33m\u001b[0m\u001b[0m\n\u001b[0;32m    245\u001b[0m                 \u001b[0mself\u001b[0m\u001b[1;33m.\u001b[0m\u001b[0m_geom\u001b[0m\u001b[1;33m,\u001b[0m \u001b[0mself\u001b[0m\u001b[1;33m.\u001b[0m\u001b[0m_ndim\u001b[0m \u001b[1;33m=\u001b[0m \u001b[0mret\u001b[0m\u001b[1;33m\u001b[0m\u001b[1;33m\u001b[0m\u001b[0m\n",
      "\u001b[1;32md:\\ciat\\virtualenv\\jupyter\\lib\\site-packages\\shapely\\geometry\\polygon.py\u001b[0m in \u001b[0;36mgeos_polygon_from_py\u001b[1;34m(shell, holes)\u001b[0m\n\u001b[0;32m    537\u001b[0m \u001b[1;33m\u001b[0m\u001b[0m\n\u001b[0;32m    538\u001b[0m         return (\n\u001b[1;32m--> 539\u001b[1;33m             lgeos.GEOSGeom_createPolygon(\n\u001b[0m\u001b[0;32m    540\u001b[0m                 c_void_p(geos_shell), geos_holes, L), ndim)\n",
      "\u001b[1;31mKeyboardInterrupt\u001b[0m: "
     ]
    }
   ],
   "source": [
    "# Getting parameters for processing data\n",
    "ris_years = map(str.strip, conf.loc[conf[\"parameter\"] == \"ris_years\",\"value\"].values[0].split(\",\"))\n",
    "ris_types_analysis =  map(str.strip, conf.loc[conf[\"parameter\"] == \"ris_types_analysis\",\"value\"].values[0].split(\",\"))\n",
    "ris_type_plot = conf.loc[conf[\"parameter\"] == \"ris_type_plot\",\"value\"].values[0]\n",
    "\n",
    "#risk.total_risk(inputs, ris_years, ris_types_analysis)\n",
    "risk.total_risk(inputs, [\"2017\",\"2018\"], ris_types_analysis, ris_type_plot)\n",
    "print(\"Done!\")"
   ]
  },
  {
   "cell_type": "markdown",
   "id": "responsible-component",
   "metadata": {},
   "source": [
    "## Importing process"
   ]
  },
  {
   "cell_type": "markdown",
   "id": "novel-convention",
   "metadata": {},
   "source": [
    "## Generate outputs\n",
    "In this section all csv files, which will be upload to database, are generated from inputs files."
   ]
  },
  {
   "cell_type": "code",
   "execution_count": 3,
   "id": "conscious-therapy",
   "metadata": {},
   "outputs": [
    {
     "name": "stdout",
     "output_type": "stream",
     "text": [
      "Loading SHP ADM\n",
      "Processing type: detail\n",
      "Processing year: 2017\n",
      "Opening areas shp: D:\\CIAT\\Code\\BID\\dci_fauno\\data\\risk_calculator\\inputs\\plot\\fixed\\total\\detail\\2017\\total.shp\n",
      "Extracting administrative levels\n",
      "Removing duplicates\n",
      "Shape: (329673, 3)\n",
      "Shape: (1850, 3)\n",
      "Saving: D:\\CIAT\\Code\\BID\\dci_fauno\\data\\risk_calculator\\outputs\\administrative_level.csv\n",
      "Extracting administrative levels\n",
      "Removing duplicates\n",
      "Shape: (369109, 3)\n",
      "Shape: (41286, 3)\n",
      "Saving: D:\\CIAT\\Code\\BID\\dci_fauno\\data\\risk_calculator\\outputs\\localities.csv\n",
      "Extracting administrative levels\n",
      "Removing duplicates\n",
      "Shape: (1311292, 5)\n",
      "Shape: (983469, 5)\n",
      "Saving: D:\\CIAT\\Code\\BID\\dci_fauno\\data\\risk_calculator\\outputs\\cattle_rancher.csv\n",
      "Starting analysis\n",
      "Processing Cattle Rancher Risk\n",
      "Saving: D:\\CIAT\\Code\\BID\\dci_fauno\\data\\risk_calculator\\outputs\\detail\\2017\\cattle_rancher_risk.csv\n"
     ]
    },
    {
     "name": "stderr",
     "output_type": "stream",
     "text": [
      "D:\\CIAT\\Code\\BID\\dci_fauno\\src\\risk_calculator\\importer.py:85: SettingWithCopyWarning: \n",
      "A value is trying to be set on a copy of a slice from a DataFrame.\n",
      "Try using .loc[row_indexer,col_indexer] = value instead\n",
      "\n",
      "See the caveats in the documentation: https://pandas.pydata.org/pandas-docs/stable/user_guide/indexing.html#returning-a-view-versus-a-copy\n",
      "  df_ct[\"buffer_radio\"] = 0\n"
     ]
    },
    {
     "name": "stdout",
     "output_type": "stream",
     "text": [
      "Processing mobilization\n",
      "Opening mobilization: D:\\CIAT\\Code\\BID\\dci_fauno\\data\\risk_calculator\\inputs\\mob\\fixed\\2017.csv\n",
      "Merging localities source\n",
      "Merging localities destination\n",
      "Filtering mobilization\n",
      "Saving: D:\\CIAT\\Code\\BID\\dci_fauno\\data\\risk_calculator\\outputs\\detail\\2017\\cattle_rancher_network.csv\n",
      "Shape: (935686, 34)\n",
      "Saving:D:\\CIAT\\Code\\BID\\dci_fauno\\data\\risk_calculator\\inputs\\mob\\log\\cattle_rancher_network.csv\n",
      "Shape: (92665, 34)\n",
      "Summarizing network for locality\n",
      "Saving: D:\\CIAT\\Code\\BID\\dci_fauno\\data\\risk_calculator\\outputs\\detail\\2017\\locality_network.csv\n",
      "Shape: (14497, 32)\n",
      "  adm3_source adm3_destination type_destination  HEMBRA BUFALINA DE 1 A 2 AÑO  \\\n",
      "0    17001002         17001002           PREDIO                             0   \n",
      "1    17001002         17001027           PREDIO                             0   \n",
      "2    17001002         17001047           PREDIO                             0   \n",
      "3    17001002         17001049           PREDIO                             0   \n",
      "4    17001002         17050001           PREDIO                             0   \n",
      "\n",
      "   HEMBRA BUFALINA DE 2 A 3 AÑO  HEMBRA BUFALINA DE 3 A 5 AÑO  \\\n",
      "0                             0                             0   \n",
      "1                             0                             0   \n",
      "2                             0                             0   \n",
      "3                             0                             0   \n",
      "4                             0                             0   \n",
      "\n",
      "   HEMBRA BUFALINA DE 3 A 8 MESE  HEMBRA BUFALINA ENTRE 8 Y 12   \\\n",
      "0                              0                              0   \n",
      "1                              0                              0   \n",
      "2                              0                              0   \n",
      "3                              0                              0   \n",
      "4                              0                              0   \n",
      "\n",
      "   HEMBRA BUFALINA MAYOR DE 5 A  HEMBRA BUFALINA MENOR DE 3 ME  ...  \\\n",
      "0                             0                              0  ...   \n",
      "1                             0                              0  ...   \n",
      "2                             0                              0  ...   \n",
      "3                             0                              0  ...   \n",
      "4                             0                              0  ...   \n",
      "\n",
      "   MACHO BUFALINO DE 2 A 3 AÑOS  MACHO BUFALINO MAYORES A 3 A  \\\n",
      "0                             0                             0   \n",
      "1                             0                             0   \n",
      "2                             0                             0   \n",
      "3                             0                             0   \n",
      "4                             0                             0   \n",
      "\n",
      "   MACHO BUFALINO MENORES DE 1 A  MACHO REPRODUCTOR MAYOR DE 6   \\\n",
      "0                              0                              0   \n",
      "1                              0                              0   \n",
      "2                              0                              0   \n",
      "3                              0                              0   \n",
      "4                              0                              0   \n",
      "\n",
      "   MACHOS DE 1 A 2 AÑOS  MACHOS DE 2 A 3 AÑOS  MACHOS MAYORES A 3 AÑOS  \\\n",
      "0                    24                     0                       24   \n",
      "1                     0                     0                        4   \n",
      "2                     0                     0                      240   \n",
      "3                     0                     0                        0   \n",
      "4                     0                     0                        0   \n",
      "\n",
      "   MACHOS MENORES DE 1 AÑO  PRECEBO 31 A 60 DIAS  total  \n",
      "0                        0                     0     48  \n",
      "1                        0                     0      4  \n",
      "2                        0                     0    240  \n",
      "3                        0                     0      0  \n",
      "4                        0                     0      0  \n",
      "\n",
      "[5 rows x 32 columns]\n",
      "Calculating centralities indicators\n",
      "  adm3_source adm3_destination type_destination  HEMBRA BUFALINA DE 1 A 2 AÑO  \\\n",
      "0    17001002         17001002           PREDIO                             0   \n",
      "1    17001002         17001027           PREDIO                             0   \n",
      "2    17001002         17001047           PREDIO                             0   \n",
      "3    17001002         17001049           PREDIO                             0   \n",
      "4    17001002         17050001           PREDIO                             0   \n",
      "\n",
      "   HEMBRA BUFALINA DE 2 A 3 AÑO  HEMBRA BUFALINA DE 3 A 5 AÑO  \\\n",
      "0                             0                             0   \n",
      "1                             0                             0   \n",
      "2                             0                             0   \n",
      "3                             0                             0   \n",
      "4                             0                             0   \n",
      "\n",
      "   HEMBRA BUFALINA DE 3 A 8 MESE  HEMBRA BUFALINA ENTRE 8 Y 12   \\\n",
      "0                              0                              0   \n",
      "1                              0                              0   \n",
      "2                              0                              0   \n",
      "3                              0                              0   \n",
      "4                              0                              0   \n",
      "\n",
      "   HEMBRA BUFALINA MAYOR DE 5 A  HEMBRA BUFALINA MENOR DE 3 ME  ...  \\\n",
      "0                             0                              0  ...   \n",
      "1                             0                              0  ...   \n",
      "2                             0                              0  ...   \n",
      "3                             0                              0  ...   \n",
      "4                             0                              0  ...   \n",
      "\n",
      "   MACHO BUFALINO DE 2 A 3 AÑOS  MACHO BUFALINO MAYORES A 3 A  \\\n",
      "0                             0                             0   \n",
      "1                             0                             0   \n",
      "2                             0                             0   \n",
      "3                             0                             0   \n",
      "4                             0                             0   \n",
      "\n",
      "   MACHO BUFALINO MENORES DE 1 A  MACHO REPRODUCTOR MAYOR DE 6   \\\n",
      "0                              0                              0   \n",
      "1                              0                              0   \n",
      "2                              0                              0   \n",
      "3                              0                              0   \n",
      "4                              0                              0   \n",
      "\n",
      "   MACHOS DE 1 A 2 AÑOS  MACHOS DE 2 A 3 AÑOS  MACHOS MAYORES A 3 AÑOS  \\\n",
      "0                    24                     0                       24   \n",
      "1                     0                     0                        4   \n",
      "2                     0                     0                      240   \n",
      "3                     0                     0                        0   \n",
      "4                     0                     0                        0   \n",
      "\n",
      "   MACHOS MENORES DE 1 AÑO  PRECEBO 31 A 60 DIAS  total  \n",
      "0                        0                     0     48  \n",
      "1                        0                     0      4  \n",
      "2                        0                     0    240  \n",
      "3                        0                     0      0  \n",
      "4                        0                     0      0  \n",
      "\n",
      "[5 rows x 32 columns]\n",
      "Calculating degree\n",
      "Calculating centrdegreeality in\n",
      "Calculating degree out\n",
      "Calculating closeness\n",
      "Calculating betweennes\n",
      "Merging indicators\n",
      "Pivoting localities risk\n",
      "Merging with centrality indicators\n",
      "Saving: D:\\CIAT\\Code\\BID\\dci_fauno\\data\\risk_calculator\\outputs\\detail\\2017\\locality_risk.csv\n",
      "Saving SHP into: D:\\CIAT\\Code\\BID\\dci_fauno\\data\\risk_calculator\\outputs\\detail\\2017\\shp\n"
     ]
    },
    {
     "name": "stderr",
     "output_type": "stream",
     "text": [
      "d:\\ciat\\virtualenv\\jupyter\\lib\\site-packages\\pandas\\core\\reshape\\merge.py:648: UserWarning: merging between different levels can give an unintended result (2 levels on the left,1 on the right)\n",
      "  warnings.warn(msg, UserWarning)\n"
     ]
    },
    {
     "name": "stdout",
     "output_type": "stream",
     "text": [
      "Processing year: 2018\n",
      "Opening areas shp: D:\\CIAT\\Code\\BID\\dci_fauno\\data\\risk_calculator\\inputs\\plot\\fixed\\total\\detail\\2018\\total.shp\n",
      "Extracting administrative levels\n",
      "Removing duplicates\n",
      "Shape: (329673, 3)\n",
      "Shape: (1850, 3)\n",
      "Saving: D:\\CIAT\\Code\\BID\\dci_fauno\\data\\risk_calculator\\outputs\\administrative_level.csv\n",
      "Extracting administrative levels\n",
      "Removing duplicates\n",
      "Shape: (369109, 3)\n",
      "Shape: (41286, 3)\n",
      "Saving: D:\\CIAT\\Code\\BID\\dci_fauno\\data\\risk_calculator\\outputs\\localities.csv\n",
      "Extracting administrative levels\n",
      "Removing duplicates\n",
      "Shape: (1311292, 5)\n",
      "Shape: (983469, 5)\n",
      "Saving: D:\\CIAT\\Code\\BID\\dci_fauno\\data\\risk_calculator\\outputs\\cattle_rancher.csv\n",
      "Starting analysis\n",
      "Processing Cattle Rancher Risk\n",
      "Saving: D:\\CIAT\\Code\\BID\\dci_fauno\\data\\risk_calculator\\outputs\\detail\\2018\\cattle_rancher_risk.csv\n"
     ]
    },
    {
     "name": "stderr",
     "output_type": "stream",
     "text": [
      "D:\\CIAT\\Code\\BID\\dci_fauno\\src\\risk_calculator\\importer.py:85: SettingWithCopyWarning: \n",
      "A value is trying to be set on a copy of a slice from a DataFrame.\n",
      "Try using .loc[row_indexer,col_indexer] = value instead\n",
      "\n",
      "See the caveats in the documentation: https://pandas.pydata.org/pandas-docs/stable/user_guide/indexing.html#returning-a-view-versus-a-copy\n",
      "  df_ct[\"buffer_radio\"] = 0\n"
     ]
    },
    {
     "name": "stdout",
     "output_type": "stream",
     "text": [
      "Processing mobilization\n",
      "Opening mobilization: D:\\CIAT\\Code\\BID\\dci_fauno\\data\\risk_calculator\\inputs\\mob\\fixed\\2018.csv\n",
      "Merging localities source\n",
      "Merging localities destination\n",
      "Filtering mobilization\n",
      "Saving: D:\\CIAT\\Code\\BID\\dci_fauno\\data\\risk_calculator\\outputs\\detail\\2018\\cattle_rancher_network.csv\n",
      "Shape: (1188205, 59)\n",
      "Saving:D:\\CIAT\\Code\\BID\\dci_fauno\\data\\risk_calculator\\inputs\\mob\\log\\cattle_rancher_network.csv\n",
      "Shape: (101703, 59)\n",
      "Summarizing network for locality\n",
      "Saving: D:\\CIAT\\Code\\BID\\dci_fauno\\data\\risk_calculator\\outputs\\detail\\2018\\locality_network.csv\n",
      "Shape: (17824, 57)\n",
      "  adm3_source adm3_destination type_destination  ALPACAS  \\\n",
      "0    17001002         17001002           PREDIO        0   \n",
      "1    17001002         17001004           PREDIO        0   \n",
      "2    17001002         17001009           PREDIO        0   \n",
      "3    17001002         17042003           PREDIO        0   \n",
      "4    17001002         17050009           PREDIO        0   \n",
      "\n",
      "   ASNAL DE 6 A 12 MESES  ASNAL MAYOR A 1 AÑO  ASNAL MENOR DE 6 MESES  \\\n",
      "0                      0                    0                       0   \n",
      "1                      0                    0                       0   \n",
      "2                      0                    0                       0   \n",
      "3                      0                    0                       0   \n",
      "4                      0                    0                       0   \n",
      "\n",
      "   AVESTRUCES    AÑO  CABALLAR DE 6 A 12 MESES  ...  MULAR DE 6 A 12 MESES  \\\n",
      "0           0  14126                         0  ...                      0   \n",
      "1           0   2018                         0  ...                      0   \n",
      "2           0  38342                         0  ...                      0   \n",
      "3           0   4036                         0  ...                      0   \n",
      "4           0  16144                         0  ...                      0   \n",
      "\n",
      "   MULAR MAYOR A 1 AÑO  MULAR MENOR DE 6 MESES  OTROS  \\\n",
      "0                    0                       0      0   \n",
      "1                    0                       0      0   \n",
      "2                    0                       0      0   \n",
      "3                    0                       0      0   \n",
      "4                    0                       0      0   \n",
      "\n",
      "   OVINO HEMBRA MAYORES DE 6 MES  OVINO HEMBRA MENOR DE 6 MESES  \\\n",
      "0                              0                              0   \n",
      "1                              0                              0   \n",
      "2                              0                              0   \n",
      "3                              0                              0   \n",
      "4                              0                              0   \n",
      "\n",
      "   OVINO MACHO MAYOR DE 6 MESES  OVINO MACHO MENOR DE 6 MESES  \\\n",
      "0                             0                             0   \n",
      "1                             0                             0   \n",
      "2                             0                             0   \n",
      "3                             0                             0   \n",
      "4                             0                             0   \n",
      "\n",
      "   PRECEBO 31 A 60 DIAS  total  \n",
      "0                     0  14224  \n",
      "1                     0   2060  \n",
      "2                     0  38981  \n",
      "3                     0   4192  \n",
      "4                     0  16256  \n",
      "\n",
      "[5 rows x 57 columns]\n",
      "Calculating centralities indicators\n",
      "  adm3_source adm3_destination type_destination  ALPACAS  \\\n",
      "0    17001002         17001002           PREDIO        0   \n",
      "1    17001002         17001004           PREDIO        0   \n",
      "2    17001002         17001009           PREDIO        0   \n",
      "3    17001002         17042003           PREDIO        0   \n",
      "4    17001002         17050009           PREDIO        0   \n",
      "\n",
      "   ASNAL DE 6 A 12 MESES  ASNAL MAYOR A 1 AÑO  ASNAL MENOR DE 6 MESES  \\\n",
      "0                      0                    0                       0   \n",
      "1                      0                    0                       0   \n",
      "2                      0                    0                       0   \n",
      "3                      0                    0                       0   \n",
      "4                      0                    0                       0   \n",
      "\n",
      "   AVESTRUCES    AÑO  CABALLAR DE 6 A 12 MESES  ...  MULAR DE 6 A 12 MESES  \\\n",
      "0           0  14126                         0  ...                      0   \n",
      "1           0   2018                         0  ...                      0   \n",
      "2           0  38342                         0  ...                      0   \n",
      "3           0   4036                         0  ...                      0   \n",
      "4           0  16144                         0  ...                      0   \n",
      "\n",
      "   MULAR MAYOR A 1 AÑO  MULAR MENOR DE 6 MESES  OTROS  \\\n",
      "0                    0                       0      0   \n",
      "1                    0                       0      0   \n",
      "2                    0                       0      0   \n",
      "3                    0                       0      0   \n",
      "4                    0                       0      0   \n",
      "\n",
      "   OVINO HEMBRA MAYORES DE 6 MES  OVINO HEMBRA MENOR DE 6 MESES  \\\n",
      "0                              0                              0   \n",
      "1                              0                              0   \n",
      "2                              0                              0   \n",
      "3                              0                              0   \n",
      "4                              0                              0   \n",
      "\n",
      "   OVINO MACHO MAYOR DE 6 MESES  OVINO MACHO MENOR DE 6 MESES  \\\n",
      "0                             0                             0   \n",
      "1                             0                             0   \n",
      "2                             0                             0   \n",
      "3                             0                             0   \n",
      "4                             0                             0   \n",
      "\n",
      "   PRECEBO 31 A 60 DIAS  total  \n",
      "0                     0  14224  \n",
      "1                     0   2060  \n",
      "2                     0  38981  \n",
      "3                     0   4192  \n",
      "4                     0  16256  \n",
      "\n",
      "[5 rows x 57 columns]\n",
      "Calculating degree\n",
      "Calculating centrdegreeality in\n",
      "Calculating degree out\n",
      "Calculating closeness\n",
      "Calculating betweennes\n",
      "Merging indicators\n",
      "Pivoting localities risk\n",
      "Merging with centrality indicators\n",
      "Saving: D:\\CIAT\\Code\\BID\\dci_fauno\\data\\risk_calculator\\outputs\\detail\\2018\\locality_risk.csv\n",
      "Saving SHP into: D:\\CIAT\\Code\\BID\\dci_fauno\\data\\risk_calculator\\outputs\\detail\\2018\\shp\n"
     ]
    },
    {
     "name": "stderr",
     "output_type": "stream",
     "text": [
      "d:\\ciat\\virtualenv\\jupyter\\lib\\site-packages\\pandas\\core\\reshape\\merge.py:648: UserWarning: merging between different levels can give an unintended result (2 levels on the left,1 on the right)\n",
      "  warnings.warn(msg, UserWarning)\n"
     ]
    },
    {
     "name": "stdout",
     "output_type": "stream",
     "text": [
      "Processing type: summary\n",
      "Processing year: 2017\n",
      "Opening areas shp: D:\\CIAT\\Code\\BID\\dci_fauno\\data\\risk_calculator\\inputs\\plot\\fixed\\total\\summary\\2017\\total.shp\n",
      "Extracting administrative levels\n",
      "Removing duplicates\n",
      "Shape: (329673, 3)\n",
      "Shape: (1850, 3)\n",
      "Saving: D:\\CIAT\\Code\\BID\\dci_fauno\\data\\risk_calculator\\outputs\\administrative_level.csv\n",
      "Extracting administrative levels\n",
      "Removing duplicates\n",
      "Shape: (369109, 3)\n",
      "Shape: (41286, 3)\n",
      "Saving: D:\\CIAT\\Code\\BID\\dci_fauno\\data\\risk_calculator\\outputs\\localities.csv\n",
      "Extracting administrative levels\n",
      "Removing duplicates\n",
      "Shape: (1311292, 5)\n",
      "Shape: (983469, 5)\n",
      "Saving: D:\\CIAT\\Code\\BID\\dci_fauno\\data\\risk_calculator\\outputs\\cattle_rancher.csv\n",
      "Starting analysis\n",
      "Processing Cattle Rancher Risk\n",
      "Saving: D:\\CIAT\\Code\\BID\\dci_fauno\\data\\risk_calculator\\outputs\\summary\\2017\\cattle_rancher_risk.csv\n"
     ]
    },
    {
     "name": "stderr",
     "output_type": "stream",
     "text": [
      "D:\\CIAT\\Code\\BID\\dci_fauno\\src\\risk_calculator\\importer.py:85: SettingWithCopyWarning: \n",
      "A value is trying to be set on a copy of a slice from a DataFrame.\n",
      "Try using .loc[row_indexer,col_indexer] = value instead\n",
      "\n",
      "See the caveats in the documentation: https://pandas.pydata.org/pandas-docs/stable/user_guide/indexing.html#returning-a-view-versus-a-copy\n",
      "  df_ct[\"buffer_radio\"] = 0\n"
     ]
    },
    {
     "name": "stdout",
     "output_type": "stream",
     "text": [
      "Processing mobilization\n",
      "Opening mobilization: D:\\CIAT\\Code\\BID\\dci_fauno\\data\\risk_calculator\\inputs\\mob\\fixed\\2017.csv\n",
      "Merging localities source\n",
      "Merging localities destination\n",
      "Filtering mobilization\n",
      "Saving: D:\\CIAT\\Code\\BID\\dci_fauno\\data\\risk_calculator\\outputs\\summary\\2017\\cattle_rancher_network.csv\n",
      "Shape: (935686, 34)\n",
      "Saving:D:\\CIAT\\Code\\BID\\dci_fauno\\data\\risk_calculator\\inputs\\mob\\log\\cattle_rancher_network.csv\n",
      "Shape: (92665, 34)\n",
      "Summarizing network for locality\n",
      "Saving: D:\\CIAT\\Code\\BID\\dci_fauno\\data\\risk_calculator\\outputs\\summary\\2017\\locality_network.csv\n",
      "Shape: (14497, 32)\n",
      "  adm3_source adm3_destination type_destination  HEMBRA BUFALINA DE 1 A 2 AÑO  \\\n",
      "0    17001002         17001002           PREDIO                             0   \n",
      "1    17001002         17001027           PREDIO                             0   \n",
      "2    17001002         17001047           PREDIO                             0   \n",
      "3    17001002         17001049           PREDIO                             0   \n",
      "4    17001002         17050001           PREDIO                             0   \n",
      "\n",
      "   HEMBRA BUFALINA DE 2 A 3 AÑO  HEMBRA BUFALINA DE 3 A 5 AÑO  \\\n",
      "0                             0                             0   \n",
      "1                             0                             0   \n",
      "2                             0                             0   \n",
      "3                             0                             0   \n",
      "4                             0                             0   \n",
      "\n",
      "   HEMBRA BUFALINA DE 3 A 8 MESE  HEMBRA BUFALINA ENTRE 8 Y 12   \\\n",
      "0                              0                              0   \n",
      "1                              0                              0   \n",
      "2                              0                              0   \n",
      "3                              0                              0   \n",
      "4                              0                              0   \n",
      "\n",
      "   HEMBRA BUFALINA MAYOR DE 5 A  HEMBRA BUFALINA MENOR DE 3 ME  ...  \\\n",
      "0                             0                              0  ...   \n",
      "1                             0                              0  ...   \n",
      "2                             0                              0  ...   \n",
      "3                             0                              0  ...   \n",
      "4                             0                              0  ...   \n",
      "\n",
      "   MACHO BUFALINO DE 2 A 3 AÑOS  MACHO BUFALINO MAYORES A 3 A  \\\n",
      "0                             0                             0   \n",
      "1                             0                             0   \n",
      "2                             0                             0   \n",
      "3                             0                             0   \n",
      "4                             0                             0   \n",
      "\n",
      "   MACHO BUFALINO MENORES DE 1 A  MACHO REPRODUCTOR MAYOR DE 6   \\\n",
      "0                              0                              0   \n",
      "1                              0                              0   \n",
      "2                              0                              0   \n",
      "3                              0                              0   \n",
      "4                              0                              0   \n",
      "\n",
      "   MACHOS DE 1 A 2 AÑOS  MACHOS DE 2 A 3 AÑOS  MACHOS MAYORES A 3 AÑOS  \\\n",
      "0                    24                     0                       24   \n",
      "1                     0                     0                        4   \n",
      "2                     0                     0                      240   \n",
      "3                     0                     0                        0   \n",
      "4                     0                     0                        0   \n",
      "\n",
      "   MACHOS MENORES DE 1 AÑO  PRECEBO 31 A 60 DIAS  total  \n",
      "0                        0                     0     48  \n",
      "1                        0                     0      4  \n",
      "2                        0                     0    240  \n",
      "3                        0                     0      0  \n",
      "4                        0                     0      0  \n",
      "\n",
      "[5 rows x 32 columns]\n",
      "Calculating centralities indicators\n",
      "  adm3_source adm3_destination type_destination  HEMBRA BUFALINA DE 1 A 2 AÑO  \\\n",
      "0    17001002         17001002           PREDIO                             0   \n",
      "1    17001002         17001027           PREDIO                             0   \n",
      "2    17001002         17001047           PREDIO                             0   \n",
      "3    17001002         17001049           PREDIO                             0   \n",
      "4    17001002         17050001           PREDIO                             0   \n",
      "\n",
      "   HEMBRA BUFALINA DE 2 A 3 AÑO  HEMBRA BUFALINA DE 3 A 5 AÑO  \\\n",
      "0                             0                             0   \n",
      "1                             0                             0   \n",
      "2                             0                             0   \n",
      "3                             0                             0   \n",
      "4                             0                             0   \n",
      "\n",
      "   HEMBRA BUFALINA DE 3 A 8 MESE  HEMBRA BUFALINA ENTRE 8 Y 12   \\\n",
      "0                              0                              0   \n",
      "1                              0                              0   \n",
      "2                              0                              0   \n",
      "3                              0                              0   \n",
      "4                              0                              0   \n",
      "\n",
      "   HEMBRA BUFALINA MAYOR DE 5 A  HEMBRA BUFALINA MENOR DE 3 ME  ...  \\\n",
      "0                             0                              0  ...   \n",
      "1                             0                              0  ...   \n",
      "2                             0                              0  ...   \n",
      "3                             0                              0  ...   \n",
      "4                             0                              0  ...   \n",
      "\n",
      "   MACHO BUFALINO DE 2 A 3 AÑOS  MACHO BUFALINO MAYORES A 3 A  \\\n",
      "0                             0                             0   \n",
      "1                             0                             0   \n",
      "2                             0                             0   \n",
      "3                             0                             0   \n",
      "4                             0                             0   \n",
      "\n",
      "   MACHO BUFALINO MENORES DE 1 A  MACHO REPRODUCTOR MAYOR DE 6   \\\n",
      "0                              0                              0   \n",
      "1                              0                              0   \n",
      "2                              0                              0   \n",
      "3                              0                              0   \n",
      "4                              0                              0   \n",
      "\n",
      "   MACHOS DE 1 A 2 AÑOS  MACHOS DE 2 A 3 AÑOS  MACHOS MAYORES A 3 AÑOS  \\\n",
      "0                    24                     0                       24   \n",
      "1                     0                     0                        4   \n",
      "2                     0                     0                      240   \n",
      "3                     0                     0                        0   \n",
      "4                     0                     0                        0   \n",
      "\n",
      "   MACHOS MENORES DE 1 AÑO  PRECEBO 31 A 60 DIAS  total  \n",
      "0                        0                     0     48  \n",
      "1                        0                     0      4  \n",
      "2                        0                     0    240  \n",
      "3                        0                     0      0  \n",
      "4                        0                     0      0  \n",
      "\n",
      "[5 rows x 32 columns]\n",
      "Calculating degree\n",
      "Calculating centrdegreeality in\n",
      "Calculating degree out\n",
      "Calculating closeness\n",
      "Calculating betweennes\n",
      "Merging indicators\n",
      "Pivoting localities risk\n",
      "Merging with centrality indicators\n",
      "Saving: D:\\CIAT\\Code\\BID\\dci_fauno\\data\\risk_calculator\\outputs\\summary\\2017\\locality_risk.csv\n",
      "Saving SHP into: D:\\CIAT\\Code\\BID\\dci_fauno\\data\\risk_calculator\\outputs\\summary\\2017\\shp\n"
     ]
    },
    {
     "name": "stderr",
     "output_type": "stream",
     "text": [
      "d:\\ciat\\virtualenv\\jupyter\\lib\\site-packages\\pandas\\core\\reshape\\merge.py:648: UserWarning: merging between different levels can give an unintended result (2 levels on the left,1 on the right)\n",
      "  warnings.warn(msg, UserWarning)\n"
     ]
    },
    {
     "name": "stdout",
     "output_type": "stream",
     "text": [
      "Processing year: 2018\n",
      "Opening areas shp: D:\\CIAT\\Code\\BID\\dci_fauno\\data\\risk_calculator\\inputs\\plot\\fixed\\total\\summary\\2018\\total.shp\n",
      "Extracting administrative levels\n",
      "Removing duplicates\n",
      "Shape: (329673, 3)\n",
      "Shape: (1850, 3)\n",
      "Saving: D:\\CIAT\\Code\\BID\\dci_fauno\\data\\risk_calculator\\outputs\\administrative_level.csv\n",
      "Extracting administrative levels\n",
      "Removing duplicates\n",
      "Shape: (369109, 3)\n",
      "Shape: (41286, 3)\n",
      "Saving: D:\\CIAT\\Code\\BID\\dci_fauno\\data\\risk_calculator\\outputs\\localities.csv\n",
      "Extracting administrative levels\n",
      "Removing duplicates\n",
      "Shape: (1311292, 5)\n",
      "Shape: (983469, 5)\n",
      "Saving: D:\\CIAT\\Code\\BID\\dci_fauno\\data\\risk_calculator\\outputs\\cattle_rancher.csv\n",
      "Starting analysis\n",
      "Processing Cattle Rancher Risk\n",
      "Saving: D:\\CIAT\\Code\\BID\\dci_fauno\\data\\risk_calculator\\outputs\\summary\\2018\\cattle_rancher_risk.csv\n"
     ]
    },
    {
     "name": "stderr",
     "output_type": "stream",
     "text": [
      "D:\\CIAT\\Code\\BID\\dci_fauno\\src\\risk_calculator\\importer.py:85: SettingWithCopyWarning: \n",
      "A value is trying to be set on a copy of a slice from a DataFrame.\n",
      "Try using .loc[row_indexer,col_indexer] = value instead\n",
      "\n",
      "See the caveats in the documentation: https://pandas.pydata.org/pandas-docs/stable/user_guide/indexing.html#returning-a-view-versus-a-copy\n",
      "  df_ct[\"buffer_radio\"] = 0\n"
     ]
    },
    {
     "name": "stdout",
     "output_type": "stream",
     "text": [
      "Processing mobilization\n",
      "Opening mobilization: D:\\CIAT\\Code\\BID\\dci_fauno\\data\\risk_calculator\\inputs\\mob\\fixed\\2018.csv\n",
      "Merging localities source\n",
      "Merging localities destination\n",
      "Filtering mobilization\n",
      "Saving: D:\\CIAT\\Code\\BID\\dci_fauno\\data\\risk_calculator\\outputs\\summary\\2018\\cattle_rancher_network.csv\n",
      "Shape: (1188205, 59)\n",
      "Saving:D:\\CIAT\\Code\\BID\\dci_fauno\\data\\risk_calculator\\inputs\\mob\\log\\cattle_rancher_network.csv\n",
      "Shape: (101703, 59)\n",
      "Summarizing network for locality\n",
      "Saving: D:\\CIAT\\Code\\BID\\dci_fauno\\data\\risk_calculator\\outputs\\summary\\2018\\locality_network.csv\n",
      "Shape: (17824, 57)\n",
      "  adm3_source adm3_destination type_destination  ALPACAS  \\\n",
      "0    17001002         17001002           PREDIO        0   \n",
      "1    17001002         17001004           PREDIO        0   \n",
      "2    17001002         17001009           PREDIO        0   \n",
      "3    17001002         17042003           PREDIO        0   \n",
      "4    17001002         17050009           PREDIO        0   \n",
      "\n",
      "   ASNAL DE 6 A 12 MESES  ASNAL MAYOR A 1 AÑO  ASNAL MENOR DE 6 MESES  \\\n",
      "0                      0                    0                       0   \n",
      "1                      0                    0                       0   \n",
      "2                      0                    0                       0   \n",
      "3                      0                    0                       0   \n",
      "4                      0                    0                       0   \n",
      "\n",
      "   AVESTRUCES    AÑO  CABALLAR DE 6 A 12 MESES  ...  MULAR DE 6 A 12 MESES  \\\n",
      "0           0  14126                         0  ...                      0   \n",
      "1           0   2018                         0  ...                      0   \n",
      "2           0  38342                         0  ...                      0   \n",
      "3           0   4036                         0  ...                      0   \n",
      "4           0  16144                         0  ...                      0   \n",
      "\n",
      "   MULAR MAYOR A 1 AÑO  MULAR MENOR DE 6 MESES  OTROS  \\\n",
      "0                    0                       0      0   \n",
      "1                    0                       0      0   \n",
      "2                    0                       0      0   \n",
      "3                    0                       0      0   \n",
      "4                    0                       0      0   \n",
      "\n",
      "   OVINO HEMBRA MAYORES DE 6 MES  OVINO HEMBRA MENOR DE 6 MESES  \\\n",
      "0                              0                              0   \n",
      "1                              0                              0   \n",
      "2                              0                              0   \n",
      "3                              0                              0   \n",
      "4                              0                              0   \n",
      "\n",
      "   OVINO MACHO MAYOR DE 6 MESES  OVINO MACHO MENOR DE 6 MESES  \\\n",
      "0                             0                             0   \n",
      "1                             0                             0   \n",
      "2                             0                             0   \n",
      "3                             0                             0   \n",
      "4                             0                             0   \n",
      "\n",
      "   PRECEBO 31 A 60 DIAS  total  \n",
      "0                     0  14224  \n",
      "1                     0   2060  \n",
      "2                     0  38981  \n",
      "3                     0   4192  \n",
      "4                     0  16256  \n",
      "\n",
      "[5 rows x 57 columns]\n",
      "Calculating centralities indicators\n",
      "  adm3_source adm3_destination type_destination  ALPACAS  \\\n",
      "0    17001002         17001002           PREDIO        0   \n",
      "1    17001002         17001004           PREDIO        0   \n",
      "2    17001002         17001009           PREDIO        0   \n",
      "3    17001002         17042003           PREDIO        0   \n",
      "4    17001002         17050009           PREDIO        0   \n",
      "\n",
      "   ASNAL DE 6 A 12 MESES  ASNAL MAYOR A 1 AÑO  ASNAL MENOR DE 6 MESES  \\\n",
      "0                      0                    0                       0   \n",
      "1                      0                    0                       0   \n",
      "2                      0                    0                       0   \n",
      "3                      0                    0                       0   \n",
      "4                      0                    0                       0   \n",
      "\n",
      "   AVESTRUCES    AÑO  CABALLAR DE 6 A 12 MESES  ...  MULAR DE 6 A 12 MESES  \\\n",
      "0           0  14126                         0  ...                      0   \n",
      "1           0   2018                         0  ...                      0   \n",
      "2           0  38342                         0  ...                      0   \n",
      "3           0   4036                         0  ...                      0   \n",
      "4           0  16144                         0  ...                      0   \n",
      "\n",
      "   MULAR MAYOR A 1 AÑO  MULAR MENOR DE 6 MESES  OTROS  \\\n",
      "0                    0                       0      0   \n",
      "1                    0                       0      0   \n",
      "2                    0                       0      0   \n",
      "3                    0                       0      0   \n",
      "4                    0                       0      0   \n",
      "\n",
      "   OVINO HEMBRA MAYORES DE 6 MES  OVINO HEMBRA MENOR DE 6 MESES  \\\n",
      "0                              0                              0   \n",
      "1                              0                              0   \n",
      "2                              0                              0   \n",
      "3                              0                              0   \n",
      "4                              0                              0   \n",
      "\n",
      "   OVINO MACHO MAYOR DE 6 MESES  OVINO MACHO MENOR DE 6 MESES  \\\n",
      "0                             0                             0   \n",
      "1                             0                             0   \n",
      "2                             0                             0   \n",
      "3                             0                             0   \n",
      "4                             0                             0   \n",
      "\n",
      "   PRECEBO 31 A 60 DIAS  total  \n",
      "0                     0  14224  \n",
      "1                     0   2060  \n",
      "2                     0  38981  \n",
      "3                     0   4192  \n",
      "4                     0  16256  \n",
      "\n",
      "[5 rows x 57 columns]\n",
      "Calculating degree\n",
      "Calculating centrdegreeality in\n",
      "Calculating degree out\n",
      "Calculating closeness\n",
      "Calculating betweennes\n",
      "Merging indicators\n",
      "Pivoting localities risk\n",
      "Merging with centrality indicators\n",
      "Saving: D:\\CIAT\\Code\\BID\\dci_fauno\\data\\risk_calculator\\outputs\\summary\\2018\\locality_risk.csv\n",
      "Saving SHP into: D:\\CIAT\\Code\\BID\\dci_fauno\\data\\risk_calculator\\outputs\\summary\\2018\\shp\n"
     ]
    },
    {
     "name": "stderr",
     "output_type": "stream",
     "text": [
      "d:\\ciat\\virtualenv\\jupyter\\lib\\site-packages\\pandas\\core\\reshape\\merge.py:648: UserWarning: merging between different levels can give an unintended result (2 levels on the left,1 on the right)\n",
      "  warnings.warn(msg, UserWarning)\n"
     ]
    },
    {
     "name": "stdout",
     "output_type": "stream",
     "text": [
      "Done!\n"
     ]
    }
   ],
   "source": [
    "# Getting parameters for processing data\n",
    "ris_years = map(str.strip, conf.loc[conf[\"parameter\"] == \"ris_years\",\"value\"].values[0].split(\",\"))\n",
    "ris_types_analysis =  map(str.strip, conf.loc[conf[\"parameter\"] == \"ris_types_analysis\",\"value\"].values[0].split(\",\"))\n",
    "ris_type_plot = conf.loc[conf[\"parameter\"] == \"ris_type_plot\",\"value\"].values[0]\n",
    "\n",
    "#impo.generate_outputs(inputs, outputs, ris_years, ris_types_analysis, ris_type_plot)\n",
    "impo.generate_outputs(inputs, outputs, [\"2017\",\"2018\"], ris_types_analysis, ris_type_plot)\n",
    "print(\"Done!\")"
   ]
  },
  {
   "cell_type": "code",
   "execution_count": 3,
   "id": "historical-revelation",
   "metadata": {},
   "outputs": [
    {
     "name": "stdout",
     "output_type": "stream",
     "text": [
      "Reading: D:\\CIAT\\Code\\BID\\dci_fauno\\data\\risk_calculator\\outputs\\administrative_level.csv\n",
      "Getting current records from database\n",
      "Importing: 925\n",
      "Reading: D:\\CIAT\\Code\\BID\\dci_fauno\\data\\risk_calculator\\outputs\\localities.csv\n",
      "Merging with administrative level\n",
      "Getting current records from database\n",
      "Importing: 20825\n",
      "Reading: D:\\CIAT\\Code\\BID\\dci_fauno\\data\\risk_calculator\\outputs\\cattle_rancher.csv\n",
      "Merging with localities\n",
      "Getting current records from database\n",
      "Importing: 330192\n",
      "Year: 2017======================================== ]\n",
      "Types of analysis:  ['detail', 'summary']\n",
      "Starting analysis: 2017-detail\n",
      "Cattle Rancher Risk\n",
      "Reading: D:\\CIAT\\Code\\BID\\dci_fauno\\data\\risk_calculator\\outputs\\detail\\2017\\cattle_rancher_risk.csv\n",
      "Merging with cattle rancher\n",
      "Importing: 330192\n",
      "Cattle Rancher Network============================ ]\n",
      "Reading: D:\\CIAT\\Code\\BID\\dci_fauno\\data\\risk_calculator\\outputs\\detail\\2017\\cattle_rancher_network.csv\n"
     ]
    },
    {
     "name": "stderr",
     "output_type": "stream",
     "text": [
      "d:\\ciat\\virtualenv\\jupyter\\lib\\site-packages\\IPython\\core\\interactiveshell.py:3347: DtypeWarning: Columns (2) have mixed types.Specify dtype option on import or set low_memory=False.\n",
      "  if (await self.run_code(code, result,  async_=asy)):\n"
     ]
    },
    {
     "name": "stdout",
     "output_type": "stream",
     "text": [
      "Merging with cattle rancher source\n",
      "Shape: 845152\n",
      "Merging with cattle rancher destination\n",
      "Shape: 849142\n",
      "Importing: 849142\n",
      "Locality Risk====================================================================================================================]\n",
      "Reading: D:\\CIAT\\Code\\BID\\dci_fauno\\data\\risk_calculator\\outputs\\detail\\2017\\locality_risk.csv\n",
      "Merging with localities\n",
      "Importing: 3066\n",
      "Localities Network================================ ]\n",
      "Reading: D:\\CIAT\\Code\\BID\\dci_fauno\\data\\risk_calculator\\outputs\\detail\\2017\\locality_network.csv\n",
      "Merging with cattle rancher source\n",
      "Merging with cattle rancher destination\n",
      "Importing: 14502\n",
      "Starting analysis: 2017-summary\n",
      "Cattle Rancher Risk\n",
      "Reading: D:\\CIAT\\Code\\BID\\dci_fauno\\data\\risk_calculator\\outputs\\summary\\2017\\cattle_rancher_risk.csv\n",
      "Merging with cattle rancher\n",
      "Importing: 330192\n",
      "Cattle Rancher Network============================ ]\n",
      "Reading: D:\\CIAT\\Code\\BID\\dci_fauno\\data\\risk_calculator\\outputs\\summary\\2017\\cattle_rancher_network.csv\n",
      "Merging with cattle rancher source\n",
      "Shape: 845152\n",
      "Merging with cattle rancher destination\n",
      "Shape: 849142\n",
      "Importing: 849142\n",
      "Locality Risk====================================================================================================================]\n",
      "Reading: D:\\CIAT\\Code\\BID\\dci_fauno\\data\\risk_calculator\\outputs\\summary\\2017\\locality_risk.csv\n",
      "Merging with localities\n",
      "Importing: 3066\n",
      "Localities Network================================ ]\n",
      "Reading: D:\\CIAT\\Code\\BID\\dci_fauno\\data\\risk_calculator\\outputs\\summary\\2017\\locality_network.csv\n",
      "Merging with cattle rancher source\n",
      "Merging with cattle rancher destination\n",
      "Importing: 14502\n",
      "Year: 2018\n",
      "Types of analysis:  ['detail', 'summary']\n",
      "Starting analysis: 2018-detail\n",
      "Cattle Rancher Risk\n",
      "Reading: D:\\CIAT\\Code\\BID\\dci_fauno\\data\\risk_calculator\\outputs\\detail\\2018\\cattle_rancher_risk.csv\n",
      "Merging with cattle rancher\n",
      "Importing: 330192\n",
      "Cattle Rancher Network============================ ]\n",
      "Reading: D:\\CIAT\\Code\\BID\\dci_fauno\\data\\risk_calculator\\outputs\\detail\\2018\\cattle_rancher_network.csv\n",
      "Merging with cattle rancher source\n",
      "Shape: 1088070\n",
      "Merging with cattle rancher destination\n",
      "Shape: 1090346\n",
      "Importing: 1090346\n",
      "Locality Risk=========================================================================================================================================================]\n",
      "Reading: D:\\CIAT\\Code\\BID\\dci_fauno\\data\\risk_calculator\\outputs\\detail\\2018\\locality_risk.csv\n",
      "Merging with localities\n",
      "Importing: 3456\n",
      "Localities Network================================ ]\n",
      "Reading: D:\\CIAT\\Code\\BID\\dci_fauno\\data\\risk_calculator\\outputs\\detail\\2018\\locality_network.csv\n",
      "Merging with cattle rancher source\n",
      "Merging with cattle rancher destination\n",
      "Importing: 17830\n",
      "Starting analysis: 2018-summary\n",
      "Cattle Rancher Risk\n",
      "Reading: D:\\CIAT\\Code\\BID\\dci_fauno\\data\\risk_calculator\\outputs\\summary\\2018\\cattle_rancher_risk.csv\n",
      "Merging with cattle rancher\n",
      "Importing: 330192\n",
      "Cattle Rancher Network============================ ]\n",
      "Reading: D:\\CIAT\\Code\\BID\\dci_fauno\\data\\risk_calculator\\outputs\\summary\\2018\\cattle_rancher_network.csv\n",
      "Merging with cattle rancher source\n",
      "Shape: 1088070\n",
      "Merging with cattle rancher destination\n",
      "Shape: 1090346\n",
      "Importing: 1090346\n",
      "Locality Risk=========================================================================================================================================================]\n",
      "Reading: D:\\CIAT\\Code\\BID\\dci_fauno\\data\\risk_calculator\\outputs\\summary\\2018\\locality_risk.csv\n",
      "Merging with localities\n",
      "Importing: 3456\n",
      "Localities Network================================ ]\n",
      "Reading: D:\\CIAT\\Code\\BID\\dci_fauno\\data\\risk_calculator\\outputs\\summary\\2018\\locality_network.csv\n",
      "Merging with cattle rancher source\n",
      "Merging with cattle rancher destination\n",
      "Importing: 17830\n",
      "Done!\n"
     ]
    }
   ],
   "source": [
    "# Getting parameters for processing data\n",
    "ris_years = map(str.strip, conf.loc[conf[\"parameter\"] == \"ris_years\",\"value\"].values[0].split(\",\"))\n",
    "ris_types_analysis =  map(str.strip, conf.loc[conf[\"parameter\"] == \"ris_types_analysis\",\"value\"].values[0].split(\",\"))\n",
    "\n",
    "#impo.save_database(outputs,[2017,2018], ris_types_analysis,\"mongoadmin\", \"secret\", \"fauno_db\", \"localhost\", 27017)\n",
    "impo.save_database(outputs,[2017,2018], [\"detail\",\"summary\"],\"mongoadmin\", \"secret\", \"fauno_db\", \"localhost\", 27017)\n",
    "print(\"Done!\")"
   ]
  },
  {
   "cell_type": "code",
   "execution_count": null,
   "id": "crazy-diagram",
   "metadata": {},
   "outputs": [],
   "source": []
  }
 ],
 "metadata": {
  "kernelspec": {
   "display_name": "Python 3",
   "language": "python",
   "name": "python3"
  },
  "language_info": {
   "codemirror_mode": {
    "name": "ipython",
    "version": 3
   },
   "file_extension": ".py",
   "mimetype": "text/x-python",
   "name": "python",
   "nbconvert_exporter": "python",
   "pygments_lexer": "ipython3",
   "version": "3.9.1"
  }
 },
 "nbformat": 4,
 "nbformat_minor": 5
}
