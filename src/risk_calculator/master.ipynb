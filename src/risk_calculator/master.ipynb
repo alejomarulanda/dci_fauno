{
 "cells": [
  {
   "cell_type": "markdown",
   "id": "emerging-talent",
   "metadata": {},
   "source": [
    "# Risk calculator process"
   ]
  },
  {
   "cell_type": "markdown",
   "id": "comic-ghana",
   "metadata": {},
   "source": [
    "## Importing modules for running process\n",
    "In this section all modules which are used by the system are loaded in memory"
   ]
  },
  {
   "cell_type": "code",
   "execution_count": 1,
   "id": "blessed-spray",
   "metadata": {},
   "outputs": [
    {
     "name": "stdout",
     "output_type": "stream",
     "text": [
      "Done!\n"
     ]
    }
   ],
   "source": [
    "# Import libraries\n",
    "import os\n",
    "import glob\n",
    "import pandas as pd\n",
    "\n",
    "# Import modules\n",
    "import deforestation as defo\n",
    "import administrative_level as adle\n",
    "import livestock_plot as plot\n",
    "import risk as risk\n",
    "import mobilization as mobi\n",
    "import importer as impo\n",
    "print(\"Done!\")"
   ]
  },
  {
   "cell_type": "markdown",
   "id": "middle-powell",
   "metadata": {},
   "source": [
    "## Setting global parameters\n",
    "In this section all configurations about folders and files to set up\n",
    "the system are created. These configurations are global variables for the system"
   ]
  },
  {
   "cell_type": "code",
   "execution_count": 2,
   "id": "electrical-cause",
   "metadata": {},
   "outputs": [
    {
     "name": "stdout",
     "output_type": "stream",
     "text": [
      "Done!\n"
     ]
    }
   ],
   "source": [
    "# Global folders\n",
    "#root_folder = \"/home/jovyan/work/BID/dci_fauno/\"\n",
    "root_folder = \"D:\\\\CIAT\\\\Code\\\\BID\\\\dci_fauno\"\n",
    "data_folder = os.path.join(root_folder, \"data\",\"risk_calculator\")\n",
    "inputs = os.path.join(data_folder,\"inputs\")\n",
    "outputs = os.path.join(data_folder,\"outputs\")\n",
    "conf_folder = os.path.join(data_folder,\"conf\")\n",
    "# Deforestation folders\n",
    "def_folder = os.path.join(inputs,\"def\")\n",
    "# Administrative level folders\n",
    "adm_folder = os.path.join(inputs,\"adm\")\n",
    "# Livestock plots\n",
    "plot_folder = os.path.join(inputs,\"plot\")\n",
    "# Mobilization\n",
    "mob_folder = os.path.join(inputs,\"mob\")\n",
    "\n",
    "# Parameters file\n",
    "conf_xls = pd.ExcelFile(os.path.join(conf_folder,\"conf.xlsx\"))\n",
    "conf = conf_xls.parse(\"conf\")\n",
    "buffer = conf_xls.parse(\"buffer\")\n",
    "\n",
    "# Global parameters from conf.xlsx file\n",
    "glo_crs = int(conf.loc[conf[\"parameter\"] == \"glo_crs\",\"value\"].values[0])\n",
    "glo_crs_wgs84 = int(conf.loc[conf[\"parameter\"] == \"glo_crs_wgs84\",\"value\"].values[0])\n",
    "\n",
    "# Creating folders\n",
    "# Create folder for deforestation files\n",
    "if not os.path.exists(def_folder):    \n",
    "    os.mkdir(def_folder)\n",
    "# Create folder for administrative level files\n",
    "if not os.path.exists(adm_folder):    \n",
    "    os.mkdir(adm_folder)\n",
    "# Create folder for livestock plot files\n",
    "if not os.path.exists(plot_folder):    \n",
    "    os.mkdir(plot_folder)\n",
    "# Create folder for mobilization files\n",
    "if not os.path.exists(mob_folder):    \n",
    "    os.mkdir(mob_folder)\n",
    "\n",
    "print(\"Done!\")"
   ]
  },
  {
   "cell_type": "markdown",
   "id": "smaller-dimension",
   "metadata": {},
   "source": [
    "## Downloading data\n",
    "This section downloads all data require by the system. It keeps all raw files, it will allow to debug if it would be necessary"
   ]
  },
  {
   "cell_type": "markdown",
   "id": "fantastic-honor",
   "metadata": {},
   "source": [
    "### Administrative level - Download and unzip\n",
    "In this section all data about administrative lever of the country will be downloaded and extracted\n",
    "into specific folders."
   ]
  },
  {
   "cell_type": "code",
   "execution_count": null,
   "id": "arbitrary-delaware",
   "metadata": {},
   "outputs": [],
   "source": [
    "# Getting parameters for downloading adiministrative sources\n",
    "adm_url_source = conf.loc[conf[\"parameter\"] == \"adm_url_source\",\"value\"].values[0]\n",
    "# Download files from source in zip format and extract them\n",
    "adle.download_data(adm_folder, adm_url_source)\n",
    "print(\"Done!\")"
   ]
  },
  {
   "cell_type": "markdown",
   "id": "outside-blocking",
   "metadata": {},
   "source": [
    "### Deforestation - Download and unzip\n",
    "In this section all data about deforestation for a country are downloaded and extracted\n",
    "into specific folders."
   ]
  },
  {
   "cell_type": "code",
   "execution_count": null,
   "id": "pleased-brave",
   "metadata": {},
   "outputs": [],
   "source": [
    "# Getting parameters for downloading deforestation files\n",
    "url_base = conf.loc[conf[\"parameter\"] == \"def_src_base_url\",\"value\"].values[0]\n",
    "file_name_base = conf.loc[conf[\"parameter\"] == \"def_src_file_name\",\"value\"].values[0]\n",
    "def_periods = conf.loc[conf[\"parameter\"] == \"def_periods\",\"value\"].values[0].split(\",\")\n",
    "\n",
    "# Download files from source in zip format and extract them\n",
    "defo.download_deforestation(def_folder, url_base, file_name_base, def_periods)\n",
    "print(\"Done!\")"
   ]
  },
  {
   "cell_type": "markdown",
   "id": "potential-bonus",
   "metadata": {},
   "source": [
    "## Fixing data\n",
    "This chaptar fix the data downloaded into files and formats, in order to can process information"
   ]
  },
  {
   "cell_type": "markdown",
   "id": "incorporate-lyric",
   "metadata": {},
   "source": [
    "### Administrative level - Reproject\n",
    "This process reprojects to CRS destiny the original database"
   ]
  },
  {
   "cell_type": "code",
   "execution_count": null,
   "id": "pointed-greeting",
   "metadata": {},
   "outputs": [],
   "source": [
    "adm_src_adm1_name = conf.loc[conf[\"parameter\"] == \"adm_src_adm1_name\",\"value\"].values[0]\n",
    "adm_src_adm1_id = conf.loc[conf[\"parameter\"] == \"adm_src_adm1_id\",\"value\"].values[0]\n",
    "adm_src_adm2_name = conf.loc[conf[\"parameter\"] == \"adm_src_adm2_name\",\"value\"].values[0]\n",
    "adm_src_adm2_id = conf.loc[conf[\"parameter\"] == \"adm_src_adm2_id\",\"value\"].values[0]\n",
    "adm_src_adm3_name = conf.loc[conf[\"parameter\"] == \"adm_src_adm3_name\",\"value\"].values[0]\n",
    "adm_src_adm3_id = conf.loc[conf[\"parameter\"] == \"adm_src_adm3_id\",\"value\"].values[0]\n",
    "adm_src_area = conf.loc[conf[\"parameter\"] == \"adm_src_area\",\"value\"].values[0]\n",
    "adm_src_geometry = conf.loc[conf[\"parameter\"] == \"adm_src_geometry\",\"value\"].values[0]\n",
    "\n",
    "# Reporject file\n",
    "adle.reproject_source(adm_folder, glo_crs,\n",
    "                      adm_src_adm1_name, adm_src_adm1_id, \n",
    "                      adm_src_adm2_name, adm_src_adm2_id, \n",
    "                      adm_src_adm3_name, adm_src_adm3_id, \n",
    "                      adm_src_area, adm_src_geometry)\n",
    "print(\"Done!\")"
   ]
  },
  {
   "cell_type": "markdown",
   "id": "loved-handle",
   "metadata": {},
   "source": [
    "### Deforestation - Extract deforestation values\n",
    "This section takes the rasters files, which were downloaded, then extract just deforestation pixels\n",
    "and create a new raster with this data. Finally it creates a summary raster which merge all\n",
    "others raster files in just one. The output raster files are standarized, it means all pixels are in \n",
    "the same size, the CRS is the same for all, and are clipped with the same size"
   ]
  },
  {
   "cell_type": "code",
   "execution_count": 3,
   "id": "speaking-cheese",
   "metadata": {},
   "outputs": [
    {
     "name": "stdout",
     "output_type": "stream",
     "text": [
      "Extracting!\n",
      "Calculating parameters for new files\n",
      "file: D:\\CIAT\\Code\\BID\\dci_fauno\\data\\risk_calculator\\inputs\\def\\content\\Cambio_Cobertura_Bosque_No_Bosque_2010_2012\\Geotiff\\DCCB_SMBYC_CBBQ_V5_2010_2012.tif\n",
      "file: D:\\CIAT\\Code\\BID\\dci_fauno\\data\\risk_calculator\\inputs\\def\\content\\Cambio_Cobertura_Bosque_No_Bosque_2012_2013\\Geotiff\\DCCB_SMBYC_CBBQ_V5_2012_2013.tif\n",
      "file: D:\\CIAT\\Code\\BID\\dci_fauno\\data\\risk_calculator\\inputs\\def\\content\\Cambio_Cobertura_Bosque_No_Bosque_2013_2014\\Geotiff\\DCCB_SMBYC_CBBQ_V6_2013_2014.tif\n",
      "file: D:\\CIAT\\Code\\BID\\dci_fauno\\data\\risk_calculator\\inputs\\def\\content\\Cambio_Cobertura_Bosque_No_Bosque_2014_2015\\GeoTiff\\DCCB_SMBYC_CBBQ_V7_2014_2015.tif\n",
      "file: D:\\CIAT\\Code\\BID\\dci_fauno\\data\\risk_calculator\\inputs\\def\\content\\Cambio_Cobertura_Bosque_No_Bosque_2015_2016\\Geotiff\\DCCB_SMBYC_CBBQ_V7_2015_2016.tif\n",
      "file: D:\\CIAT\\Code\\BID\\dci_fauno\\data\\risk_calculator\\inputs\\def\\content\\Cambio_Cobertura_Bosque_No_Bosque_2016_2017\\TTTHM4RG3_BEA_T_reprojected_2016_2017.tif\n",
      "file: D:\\CIAT\\Code\\BID\\dci_fauno\\data\\risk_calculator\\inputs\\def\\content\\Cambio_Cobertura_Bosque_No_Bosque_2017_2018\\TT8FG4BA5_BEA_T_reprojected_2017_2018.tif\n",
      "file: D:\\CIAT\\Code\\BID\\dci_fauno\\data\\risk_calculator\\inputs\\def\\content\\Cambio_Cobertura_Bosque_No_Bosque_2018_2019\\reprojected_2018-2019.tif\n",
      "Bounds: POLYGON ((-66.65601560981048 -4.244791035761322, -66.65601560981048 12.580743905, -79.224357185 12.580743905, -79.224357185 -4.244791035761322, -66.65601560981048 -4.244791035761322))\n",
      "CRS: EPSG:4686\n",
      "Working: D:\\CIAT\\Code\\BID\\dci_fauno\\data\\risk_calculator\\inputs\\def\\content\\Cambio_Cobertura_Bosque_No_Bosque_2010_2012\\Geotiff\\DCCB_SMBYC_CBBQ_V5_2010_2012.tif\n",
      "Reprojecting: D:\\CIAT\\Code\\BID\\dci_fauno\\data\\risk_calculator\\inputs\\def\\fixed\\DCCB_SMBYC_CBBQ_V5_2010_2012_tmp.tif\n"
     ]
    },
    {
     "name": "stderr",
     "output_type": "stream",
     "text": [
      "d:\\ciat\\virtualenv\\jupyter\\lib\\site-packages\\pyproj\\crs\\crs.py:53: FutureWarning: '+init=<authority>:<code>' syntax is deprecated. '<authority>:<code>' is the preferred initialization method. When making the change, be mindful of axis order changes: https://pyproj4.github.io/pyproj/stable/gotchas.html#axis-order-changes-in-proj-6\n",
      "  return _prepare_from_string(\" \".join(pjargs))\n"
     ]
    },
    {
     "name": "stdout",
     "output_type": "stream",
     "text": [
      "Opening: D:\\CIAT\\Code\\BID\\dci_fauno\\data\\risk_calculator\\inputs\\def\\fixed\\DCCB_SMBYC_CBBQ_V5_2010_2012_tmp.tif\n",
      "Cropping raster\n",
      "Dimention: H=61079 W=45525\n",
      "Saving: D:\\CIAT\\Code\\BID\\dci_fauno\\data\\risk_calculator\\inputs\\def\\fixed\\raster_detail\\2010.tif\n",
      "Deleting tmp: D:\\CIAT\\Code\\BID\\dci_fauno\\data\\risk_calculator\\inputs\\def\\fixed\\DCCB_SMBYC_CBBQ_V5_2010_2012_tmp.tif\n",
      "Working: D:\\CIAT\\Code\\BID\\dci_fauno\\data\\risk_calculator\\inputs\\def\\content\\Cambio_Cobertura_Bosque_No_Bosque_2012_2013\\Geotiff\\DCCB_SMBYC_CBBQ_V5_2012_2013.tif\n",
      "Reprojecting: D:\\CIAT\\Code\\BID\\dci_fauno\\data\\risk_calculator\\inputs\\def\\fixed\\DCCB_SMBYC_CBBQ_V5_2012_2013_tmp.tif\n",
      "Opening: D:\\CIAT\\Code\\BID\\dci_fauno\\data\\risk_calculator\\inputs\\def\\fixed\\DCCB_SMBYC_CBBQ_V5_2012_2013_tmp.tif\n",
      "Cropping raster\n",
      "Dimention: H=61079 W=45525\n",
      "Saving: D:\\CIAT\\Code\\BID\\dci_fauno\\data\\risk_calculator\\inputs\\def\\fixed\\raster_detail\\2012.tif\n",
      "Deleting tmp: D:\\CIAT\\Code\\BID\\dci_fauno\\data\\risk_calculator\\inputs\\def\\fixed\\DCCB_SMBYC_CBBQ_V5_2012_2013_tmp.tif\n",
      "Working: D:\\CIAT\\Code\\BID\\dci_fauno\\data\\risk_calculator\\inputs\\def\\content\\Cambio_Cobertura_Bosque_No_Bosque_2013_2014\\Geotiff\\DCCB_SMBYC_CBBQ_V6_2013_2014.tif\n",
      "Reprojecting: D:\\CIAT\\Code\\BID\\dci_fauno\\data\\risk_calculator\\inputs\\def\\fixed\\DCCB_SMBYC_CBBQ_V6_2013_2014_tmp.tif\n",
      "Opening: D:\\CIAT\\Code\\BID\\dci_fauno\\data\\risk_calculator\\inputs\\def\\fixed\\DCCB_SMBYC_CBBQ_V6_2013_2014_tmp.tif\n",
      "Cropping raster\n",
      "Dimention: H=61079 W=45525\n",
      "Saving: D:\\CIAT\\Code\\BID\\dci_fauno\\data\\risk_calculator\\inputs\\def\\fixed\\raster_detail\\2013.tif\n",
      "Deleting tmp: D:\\CIAT\\Code\\BID\\dci_fauno\\data\\risk_calculator\\inputs\\def\\fixed\\DCCB_SMBYC_CBBQ_V6_2013_2014_tmp.tif\n",
      "Working: D:\\CIAT\\Code\\BID\\dci_fauno\\data\\risk_calculator\\inputs\\def\\content\\Cambio_Cobertura_Bosque_No_Bosque_2014_2015\\GeoTiff\\DCCB_SMBYC_CBBQ_V7_2014_2015.tif\n",
      "Reprojecting: D:\\CIAT\\Code\\BID\\dci_fauno\\data\\risk_calculator\\inputs\\def\\fixed\\DCCB_SMBYC_CBBQ_V7_2014_2015_tmp.tif\n",
      "Opening: D:\\CIAT\\Code\\BID\\dci_fauno\\data\\risk_calculator\\inputs\\def\\fixed\\DCCB_SMBYC_CBBQ_V7_2014_2015_tmp.tif\n",
      "Cropping raster\n",
      "Dimention: H=61079 W=45525\n",
      "Saving: D:\\CIAT\\Code\\BID\\dci_fauno\\data\\risk_calculator\\inputs\\def\\fixed\\raster_detail\\2014.tif\n",
      "Deleting tmp: D:\\CIAT\\Code\\BID\\dci_fauno\\data\\risk_calculator\\inputs\\def\\fixed\\DCCB_SMBYC_CBBQ_V7_2014_2015_tmp.tif\n",
      "Working: D:\\CIAT\\Code\\BID\\dci_fauno\\data\\risk_calculator\\inputs\\def\\content\\Cambio_Cobertura_Bosque_No_Bosque_2015_2016\\Geotiff\\DCCB_SMBYC_CBBQ_V7_2015_2016.tif\n",
      "Reprojecting: D:\\CIAT\\Code\\BID\\dci_fauno\\data\\risk_calculator\\inputs\\def\\fixed\\DCCB_SMBYC_CBBQ_V7_2015_2016_tmp.tif\n",
      "Opening: D:\\CIAT\\Code\\BID\\dci_fauno\\data\\risk_calculator\\inputs\\def\\fixed\\DCCB_SMBYC_CBBQ_V7_2015_2016_tmp.tif\n",
      "Cropping raster\n",
      "Dimention: H=61079 W=45525\n",
      "Saving: D:\\CIAT\\Code\\BID\\dci_fauno\\data\\risk_calculator\\inputs\\def\\fixed\\raster_detail\\2015.tif\n",
      "Deleting tmp: D:\\CIAT\\Code\\BID\\dci_fauno\\data\\risk_calculator\\inputs\\def\\fixed\\DCCB_SMBYC_CBBQ_V7_2015_2016_tmp.tif\n",
      "Working: D:\\CIAT\\Code\\BID\\dci_fauno\\data\\risk_calculator\\inputs\\def\\content\\Cambio_Cobertura_Bosque_No_Bosque_2016_2017\\TTTHM4RG3_BEA_T_reprojected_2016_2017.tif\n",
      "Reprojecting: D:\\CIAT\\Code\\BID\\dci_fauno\\data\\risk_calculator\\inputs\\def\\fixed\\TTTHM4RG3_BEA_T_reprojected_2016_2017_tmp.tif\n",
      "Opening: D:\\CIAT\\Code\\BID\\dci_fauno\\data\\risk_calculator\\inputs\\def\\fixed\\TTTHM4RG3_BEA_T_reprojected_2016_2017_tmp.tif\n",
      "Cropping raster\n",
      "Dimention: H=61079 W=45525\n",
      "Saving: D:\\CIAT\\Code\\BID\\dci_fauno\\data\\risk_calculator\\inputs\\def\\fixed\\raster_detail\\2016.tif\n",
      "Deleting tmp: D:\\CIAT\\Code\\BID\\dci_fauno\\data\\risk_calculator\\inputs\\def\\fixed\\TTTHM4RG3_BEA_T_reprojected_2016_2017_tmp.tif\n",
      "Working: D:\\CIAT\\Code\\BID\\dci_fauno\\data\\risk_calculator\\inputs\\def\\content\\Cambio_Cobertura_Bosque_No_Bosque_2017_2018\\TT8FG4BA5_BEA_T_reprojected_2017_2018.tif\n",
      "Reprojecting: D:\\CIAT\\Code\\BID\\dci_fauno\\data\\risk_calculator\\inputs\\def\\fixed\\TT8FG4BA5_BEA_T_reprojected_2017_2018_tmp.tif\n",
      "Opening: D:\\CIAT\\Code\\BID\\dci_fauno\\data\\risk_calculator\\inputs\\def\\fixed\\TT8FG4BA5_BEA_T_reprojected_2017_2018_tmp.tif\n",
      "Cropping raster\n",
      "Dimention: H=61079 W=45525\n",
      "Saving: D:\\CIAT\\Code\\BID\\dci_fauno\\data\\risk_calculator\\inputs\\def\\fixed\\raster_detail\\2017.tif\n",
      "Deleting tmp: D:\\CIAT\\Code\\BID\\dci_fauno\\data\\risk_calculator\\inputs\\def\\fixed\\TT8FG4BA5_BEA_T_reprojected_2017_2018_tmp.tif\n",
      "Working: D:\\CIAT\\Code\\BID\\dci_fauno\\data\\risk_calculator\\inputs\\def\\content\\Cambio_Cobertura_Bosque_No_Bosque_2018_2019\\reprojected_2018-2019.tif\n",
      "Reprojecting: D:\\CIAT\\Code\\BID\\dci_fauno\\data\\risk_calculator\\inputs\\def\\fixed\\reprojected_2018-2019_tmp.tif\n",
      "Opening: D:\\CIAT\\Code\\BID\\dci_fauno\\data\\risk_calculator\\inputs\\def\\fixed\\reprojected_2018-2019_tmp.tif\n",
      "Cropping raster\n",
      "Dimention: H=61079 W=45525\n",
      "Saving: D:\\CIAT\\Code\\BID\\dci_fauno\\data\\risk_calculator\\inputs\\def\\fixed\\raster_detail\\2018.tif\n",
      "Deleting tmp: D:\\CIAT\\Code\\BID\\dci_fauno\\data\\risk_calculator\\inputs\\def\\fixed\\reprojected_2018-2019_tmp.tif\n",
      "Summaryzing!\n",
      "Compiling rasters files\n",
      "D:\\CIAT\\Code\\BID\\dci_fauno\\data\\risk_calculator\\inputs\\def\\fixed\\raster_detail\\2010.tif\n",
      "Saving: D:\\CIAT\\Code\\BID\\dci_fauno\\data\\risk_calculator\\inputs\\def\\fixed\\raster_summary\\2010.tif\n",
      "D:\\CIAT\\Code\\BID\\dci_fauno\\data\\risk_calculator\\inputs\\def\\fixed\\raster_detail\\2012.tif\n",
      "Saving: D:\\CIAT\\Code\\BID\\dci_fauno\\data\\risk_calculator\\inputs\\def\\fixed\\raster_summary\\2012.tif\n",
      "D:\\CIAT\\Code\\BID\\dci_fauno\\data\\risk_calculator\\inputs\\def\\fixed\\raster_detail\\2013.tif\n",
      "Saving: D:\\CIAT\\Code\\BID\\dci_fauno\\data\\risk_calculator\\inputs\\def\\fixed\\raster_summary\\2013.tif\n",
      "D:\\CIAT\\Code\\BID\\dci_fauno\\data\\risk_calculator\\inputs\\def\\fixed\\raster_detail\\2014.tif\n",
      "Saving: D:\\CIAT\\Code\\BID\\dci_fauno\\data\\risk_calculator\\inputs\\def\\fixed\\raster_summary\\2014.tif\n",
      "D:\\CIAT\\Code\\BID\\dci_fauno\\data\\risk_calculator\\inputs\\def\\fixed\\raster_detail\\2015.tif\n",
      "Saving: D:\\CIAT\\Code\\BID\\dci_fauno\\data\\risk_calculator\\inputs\\def\\fixed\\raster_summary\\2015.tif\n",
      "D:\\CIAT\\Code\\BID\\dci_fauno\\data\\risk_calculator\\inputs\\def\\fixed\\raster_detail\\2016.tif\n",
      "Saving: D:\\CIAT\\Code\\BID\\dci_fauno\\data\\risk_calculator\\inputs\\def\\fixed\\raster_summary\\2016.tif\n",
      "D:\\CIAT\\Code\\BID\\dci_fauno\\data\\risk_calculator\\inputs\\def\\fixed\\raster_detail\\2017.tif\n",
      "Saving: D:\\CIAT\\Code\\BID\\dci_fauno\\data\\risk_calculator\\inputs\\def\\fixed\\raster_summary\\2017.tif\n",
      "D:\\CIAT\\Code\\BID\\dci_fauno\\data\\risk_calculator\\inputs\\def\\fixed\\raster_detail\\2018.tif\n",
      "Saving: D:\\CIAT\\Code\\BID\\dci_fauno\\data\\risk_calculator\\inputs\\def\\fixed\\raster_summary\\2018.tif\n",
      "Done!\n"
     ]
    }
   ],
   "source": [
    "# Getting parameters for filtering deforestation pixels\n",
    "def_value = int(conf.loc[conf[\"parameter\"] == \"def_value\",\"value\"].values[0])\n",
    "def_pixel_size = float(conf.loc[conf[\"parameter\"] == \"def_pixel_size\",\"value\"].values[0])\n",
    "\n",
    "print(\"Extracting!\")\n",
    "defo.extract_deforestation(def_folder, def_value, glo_crs, def_pixel_size)\n",
    "print(\"Summaryzing!\")\n",
    "defo.summary_deforestation(def_folder)\n",
    "print(\"Done!\")"
   ]
  },
  {
   "cell_type": "markdown",
   "id": "direct-suicide",
   "metadata": {},
   "source": [
    "### Deforestation - Parsing to shapefile\n",
    "In this section the raster files, which were located into rasters folders, are parsed to shapefile format.\n",
    "Both folders are transformed detail and summary"
   ]
  },
  {
   "cell_type": "code",
   "execution_count": 3,
   "id": "secret-techno",
   "metadata": {},
   "outputs": [
    {
     "name": "stdout",
     "output_type": "stream",
     "text": [
      "Opening: D:\\CIAT\\Code\\BID\\dci_fauno\\data\\risk_calculator\\inputs\\def\\fixed\\raster_detail\\2010.tif\n",
      "Transforming\n",
      "Creating shapefile crs: {'init': 'epsg:3116'}\n"
     ]
    },
    {
     "name": "stderr",
     "output_type": "stream",
     "text": [
      "d:\\ciat\\virtualenv\\jupyter\\lib\\site-packages\\pyproj\\crs\\crs.py:53: FutureWarning: '+init=<authority>:<code>' syntax is deprecated. '<authority>:<code>' is the preferred initialization method. When making the change, be mindful of axis order changes: https://pyproj4.github.io/pyproj/stable/gotchas.html#axis-order-changes-in-proj-6\n",
      "  return _prepare_from_string(\" \".join(pjargs))\n"
     ]
    },
    {
     "name": "stdout",
     "output_type": "stream",
     "text": [
      "            lon           lat                         geometry\n",
      "0  1.284164e+06  1.850139e+06  POINT (1284163.792 1850139.356)\n",
      "1  1.284195e+06  1.850139e+06  POINT (1284194.509 1850139.356)\n",
      "2  1.284133e+06  1.850109e+06  POINT (1284133.075 1850108.639)\n",
      "3  1.284164e+06  1.850109e+06  POINT (1284163.792 1850108.639)\n",
      "4  1.284195e+06  1.850109e+06  POINT (1284194.509 1850108.639)\n",
      "Saving: D:\\CIAT\\Code\\BID\\dci_fauno\\data\\risk_calculator\\inputs\\def\\fixed\\shp_detail\\2010\\shapefile.shp\n",
      "Opening: D:\\CIAT\\Code\\BID\\dci_fauno\\data\\risk_calculator\\inputs\\def\\fixed\\raster_detail\\2012.tif\n",
      "Transforming\n",
      "Creating shapefile crs: {'init': 'epsg:3116'}\n"
     ]
    },
    {
     "name": "stderr",
     "output_type": "stream",
     "text": [
      "d:\\ciat\\virtualenv\\jupyter\\lib\\site-packages\\pyproj\\crs\\crs.py:53: FutureWarning: '+init=<authority>:<code>' syntax is deprecated. '<authority>:<code>' is the preferred initialization method. When making the change, be mindful of axis order changes: https://pyproj4.github.io/pyproj/stable/gotchas.html#axis-order-changes-in-proj-6\n",
      "  return _prepare_from_string(\" \".join(pjargs))\n"
     ]
    },
    {
     "name": "stdout",
     "output_type": "stream",
     "text": [
      "            lon           lat                         geometry\n",
      "0  1.304345e+06  1.856529e+06  POINT (1304344.964 1856528.595)\n",
      "1  1.304376e+06  1.856529e+06  POINT (1304375.681 1856528.595)\n",
      "2  1.304314e+06  1.856498e+06  POINT (1304314.247 1856497.878)\n",
      "3  1.304345e+06  1.856498e+06  POINT (1304344.964 1856497.878)\n",
      "4  1.304376e+06  1.856498e+06  POINT (1304375.681 1856497.878)\n",
      "Saving: D:\\CIAT\\Code\\BID\\dci_fauno\\data\\risk_calculator\\inputs\\def\\fixed\\shp_detail\\2012\\shapefile.shp\n",
      "Opening: D:\\CIAT\\Code\\BID\\dci_fauno\\data\\risk_calculator\\inputs\\def\\fixed\\raster_detail\\2013.tif\n",
      "Transforming\n",
      "Creating shapefile crs: {'init': 'epsg:3116'}\n"
     ]
    },
    {
     "name": "stderr",
     "output_type": "stream",
     "text": [
      "d:\\ciat\\virtualenv\\jupyter\\lib\\site-packages\\pyproj\\crs\\crs.py:53: FutureWarning: '+init=<authority>:<code>' syntax is deprecated. '<authority>:<code>' is the preferred initialization method. When making the change, be mindful of axis order changes: https://pyproj4.github.io/pyproj/stable/gotchas.html#axis-order-changes-in-proj-6\n",
      "  return _prepare_from_string(\" \".join(pjargs))\n"
     ]
    },
    {
     "name": "stdout",
     "output_type": "stream",
     "text": [
      "            lon           lat                         geometry\n",
      "0  1.292242e+06  1.841877e+06  POINT (1292242.470 1841876.592)\n",
      "1  1.292273e+06  1.841877e+06  POINT (1292273.187 1841876.592)\n",
      "2  1.292089e+06  1.841846e+06  POINT (1292088.886 1841845.875)\n",
      "3  1.292120e+06  1.841846e+06  POINT (1292119.602 1841845.875)\n",
      "4  1.292181e+06  1.841846e+06  POINT (1292181.036 1841845.875)\n",
      "Saving: D:\\CIAT\\Code\\BID\\dci_fauno\\data\\risk_calculator\\inputs\\def\\fixed\\shp_detail\\2013\\shapefile.shp\n",
      "Opening: D:\\CIAT\\Code\\BID\\dci_fauno\\data\\risk_calculator\\inputs\\def\\fixed\\raster_detail\\2014.tif\n",
      "Transforming\n",
      "Creating shapefile crs: {'init': 'epsg:3116'}\n"
     ]
    },
    {
     "name": "stderr",
     "output_type": "stream",
     "text": [
      "d:\\ciat\\virtualenv\\jupyter\\lib\\site-packages\\pyproj\\crs\\crs.py:53: FutureWarning: '+init=<authority>:<code>' syntax is deprecated. '<authority>:<code>' is the preferred initialization method. When making the change, be mindful of axis order changes: https://pyproj4.github.io/pyproj/stable/gotchas.html#axis-order-changes-in-proj-6\n",
      "  return _prepare_from_string(\" \".join(pjargs))\n"
     ]
    },
    {
     "name": "stdout",
     "output_type": "stream",
     "text": [
      "            lon           lat                         geometry\n",
      "0  1.298294e+06  1.842829e+06  POINT (1298293.606 1842828.712)\n",
      "1  1.298263e+06  1.842798e+06  POINT (1298262.889 1842797.995)\n",
      "2  1.298294e+06  1.842798e+06  POINT (1298293.606 1842797.995)\n",
      "3  1.298324e+06  1.842798e+06  POINT (1298324.323 1842797.995)\n",
      "4  1.298355e+06  1.842798e+06  POINT (1298355.040 1842797.995)\n",
      "Saving: D:\\CIAT\\Code\\BID\\dci_fauno\\data\\risk_calculator\\inputs\\def\\fixed\\shp_detail\\2014\\shapefile.shp\n",
      "Opening: D:\\CIAT\\Code\\BID\\dci_fauno\\data\\risk_calculator\\inputs\\def\\fixed\\raster_detail\\2015.tif\n",
      "Transforming\n",
      "Creating shapefile crs: {'init': 'epsg:3116'}\n"
     ]
    },
    {
     "name": "stderr",
     "output_type": "stream",
     "text": [
      "d:\\ciat\\virtualenv\\jupyter\\lib\\site-packages\\pyproj\\crs\\crs.py:53: FutureWarning: '+init=<authority>:<code>' syntax is deprecated. '<authority>:<code>' is the preferred initialization method. When making the change, be mindful of axis order changes: https://pyproj4.github.io/pyproj/stable/gotchas.html#axis-order-changes-in-proj-6\n",
      "  return _prepare_from_string(\" \".join(pjargs))\n"
     ]
    },
    {
     "name": "stdout",
     "output_type": "stream",
     "text": [
      "            lon           lat                         geometry\n",
      "0  1.170234e+06  1.750094e+06  POINT (1170234.482 1750094.125)\n",
      "1  1.170050e+06  1.750063e+06  POINT (1170050.180 1750063.408)\n",
      "2  1.170081e+06  1.750063e+06  POINT (1170080.897 1750063.408)\n",
      "3  1.170112e+06  1.750063e+06  POINT (1170111.614 1750063.408)\n",
      "4  1.170142e+06  1.750063e+06  POINT (1170142.331 1750063.408)\n",
      "Saving: D:\\CIAT\\Code\\BID\\dci_fauno\\data\\risk_calculator\\inputs\\def\\fixed\\shp_detail\\2015\\shapefile.shp\n",
      "Opening: D:\\CIAT\\Code\\BID\\dci_fauno\\data\\risk_calculator\\inputs\\def\\fixed\\raster_detail\\2016.tif\n",
      "Transforming\n",
      "Creating shapefile crs: {'init': 'epsg:3116'}\n"
     ]
    },
    {
     "name": "stderr",
     "output_type": "stream",
     "text": [
      "d:\\ciat\\virtualenv\\jupyter\\lib\\site-packages\\pyproj\\crs\\crs.py:53: FutureWarning: '+init=<authority>:<code>' syntax is deprecated. '<authority>:<code>' is the preferred initialization method. When making the change, be mindful of axis order changes: https://pyproj4.github.io/pyproj/stable/gotchas.html#axis-order-changes-in-proj-6\n",
      "  return _prepare_from_string(\" \".join(pjargs))\n"
     ]
    },
    {
     "name": "stdout",
     "output_type": "stream",
     "text": [
      "            lon           lat                         geometry\n",
      "0  1.007736e+06  1.741974e+06  POINT (1007735.637 1741973.625)\n",
      "1  1.007766e+06  1.741974e+06  POINT (1007766.354 1741973.625)\n",
      "2  1.007736e+06  1.741943e+06  POINT (1007735.637 1741942.908)\n",
      "3  1.007766e+06  1.741943e+06  POINT (1007766.354 1741942.908)\n",
      "4  1.007797e+06  1.741943e+06  POINT (1007797.071 1741942.908)\n",
      "Saving: D:\\CIAT\\Code\\BID\\dci_fauno\\data\\risk_calculator\\inputs\\def\\fixed\\shp_detail\\2016\\shapefile.shp\n",
      "Opening: D:\\CIAT\\Code\\BID\\dci_fauno\\data\\risk_calculator\\inputs\\def\\fixed\\raster_detail\\2017.tif\n",
      "Transforming\n",
      "Creating shapefile crs: {'init': 'epsg:3116'}\n"
     ]
    },
    {
     "name": "stderr",
     "output_type": "stream",
     "text": [
      "d:\\ciat\\virtualenv\\jupyter\\lib\\site-packages\\pyproj\\crs\\crs.py:53: FutureWarning: '+init=<authority>:<code>' syntax is deprecated. '<authority>:<code>' is the preferred initialization method. When making the change, be mindful of axis order changes: https://pyproj4.github.io/pyproj/stable/gotchas.html#axis-order-changes-in-proj-6\n",
      "  return _prepare_from_string(\" \".join(pjargs))\n"
     ]
    },
    {
     "name": "stdout",
     "output_type": "stream",
     "text": [
      "            lon           lat                         geometry\n",
      "0  1.218393e+06  1.820701e+06  POINT (1218392.743 1820701.266)\n",
      "1  1.218331e+06  1.820671e+06  POINT (1218331.309 1820670.549)\n",
      "2  1.218362e+06  1.820671e+06  POINT (1218362.026 1820670.549)\n",
      "3  1.218393e+06  1.820671e+06  POINT (1218392.743 1820670.549)\n",
      "4  1.218301e+06  1.820640e+06  POINT (1218300.592 1820639.832)\n",
      "Saving: D:\\CIAT\\Code\\BID\\dci_fauno\\data\\risk_calculator\\inputs\\def\\fixed\\shp_detail\\2017\\shapefile.shp\n",
      "Opening: D:\\CIAT\\Code\\BID\\dci_fauno\\data\\risk_calculator\\inputs\\def\\fixed\\raster_detail\\2018.tif\n",
      "Transforming\n",
      "Creating shapefile crs: {'init': 'epsg:3116'}\n"
     ]
    },
    {
     "name": "stderr",
     "output_type": "stream",
     "text": [
      "d:\\ciat\\virtualenv\\jupyter\\lib\\site-packages\\pyproj\\crs\\crs.py:53: FutureWarning: '+init=<authority>:<code>' syntax is deprecated. '<authority>:<code>' is the preferred initialization method. When making the change, be mindful of axis order changes: https://pyproj4.github.io/pyproj/stable/gotchas.html#axis-order-changes-in-proj-6\n",
      "  return _prepare_from_string(\" \".join(pjargs))\n"
     ]
    },
    {
     "name": "stdout",
     "output_type": "stream",
     "text": [
      "            lon           lat                         geometry\n",
      "0  1.306518e+06  1.833787e+06  POINT (1306518.421 1833786.980)\n",
      "1  1.306549e+06  1.833787e+06  POINT (1306549.138 1833786.980)\n",
      "2  1.306580e+06  1.833787e+06  POINT (1306579.855 1833786.980)\n",
      "3  1.306611e+06  1.833787e+06  POINT (1306610.572 1833786.980)\n",
      "4  1.306641e+06  1.833787e+06  POINT (1306641.289 1833786.980)\n",
      "Saving: D:\\CIAT\\Code\\BID\\dci_fauno\\data\\risk_calculator\\inputs\\def\\fixed\\shp_detail\\2018\\shapefile.shp\n",
      "Opening: D:\\CIAT\\Code\\BID\\dci_fauno\\data\\risk_calculator\\inputs\\def\\fixed\\raster_summary\\2010.tif\n",
      "Transforming\n",
      "Creating shapefile crs: {'init': 'epsg:3116'}\n"
     ]
    },
    {
     "name": "stderr",
     "output_type": "stream",
     "text": [
      "d:\\ciat\\virtualenv\\jupyter\\lib\\site-packages\\pyproj\\crs\\crs.py:53: FutureWarning: '+init=<authority>:<code>' syntax is deprecated. '<authority>:<code>' is the preferred initialization method. When making the change, be mindful of axis order changes: https://pyproj4.github.io/pyproj/stable/gotchas.html#axis-order-changes-in-proj-6\n",
      "  return _prepare_from_string(\" \".join(pjargs))\n"
     ]
    },
    {
     "name": "stdout",
     "output_type": "stream",
     "text": [
      "            lon           lat                         geometry\n",
      "0  1.284164e+06  1.850139e+06  POINT (1284163.792 1850139.356)\n",
      "1  1.284195e+06  1.850139e+06  POINT (1284194.509 1850139.356)\n",
      "2  1.284133e+06  1.850109e+06  POINT (1284133.075 1850108.639)\n",
      "3  1.284164e+06  1.850109e+06  POINT (1284163.792 1850108.639)\n",
      "4  1.284195e+06  1.850109e+06  POINT (1284194.509 1850108.639)\n",
      "Saving: D:\\CIAT\\Code\\BID\\dci_fauno\\data\\risk_calculator\\inputs\\def\\fixed\\shp_summary\\2010\\shapefile.shp\n",
      "Opening: D:\\CIAT\\Code\\BID\\dci_fauno\\data\\risk_calculator\\inputs\\def\\fixed\\raster_summary\\2012.tif\n",
      "Transforming\n",
      "Creating shapefile crs: {'init': 'epsg:3116'}\n"
     ]
    },
    {
     "name": "stderr",
     "output_type": "stream",
     "text": [
      "d:\\ciat\\virtualenv\\jupyter\\lib\\site-packages\\pyproj\\crs\\crs.py:53: FutureWarning: '+init=<authority>:<code>' syntax is deprecated. '<authority>:<code>' is the preferred initialization method. When making the change, be mindful of axis order changes: https://pyproj4.github.io/pyproj/stable/gotchas.html#axis-order-changes-in-proj-6\n",
      "  return _prepare_from_string(\" \".join(pjargs))\n"
     ]
    },
    {
     "name": "stdout",
     "output_type": "stream",
     "text": [
      "            lon           lat                         geometry\n",
      "0  1.304345e+06  1.856528e+06  POINT (1304344.853 1856528.489)\n",
      "1  1.304376e+06  1.856528e+06  POINT (1304375.570 1856528.489)\n",
      "2  1.304314e+06  1.856498e+06  POINT (1304314.136 1856497.772)\n",
      "3  1.304345e+06  1.856498e+06  POINT (1304344.853 1856497.772)\n",
      "4  1.304376e+06  1.856498e+06  POINT (1304375.570 1856497.772)\n",
      "Saving: D:\\CIAT\\Code\\BID\\dci_fauno\\data\\risk_calculator\\inputs\\def\\fixed\\shp_summary\\2012\\shapefile.shp\n",
      "Opening: D:\\CIAT\\Code\\BID\\dci_fauno\\data\\risk_calculator\\inputs\\def\\fixed\\raster_summary\\2013.tif\n",
      "Transforming\n",
      "Creating shapefile crs: {'init': 'epsg:3116'}\n"
     ]
    },
    {
     "name": "stderr",
     "output_type": "stream",
     "text": [
      "d:\\ciat\\virtualenv\\jupyter\\lib\\site-packages\\pyproj\\crs\\crs.py:53: FutureWarning: '+init=<authority>:<code>' syntax is deprecated. '<authority>:<code>' is the preferred initialization method. When making the change, be mindful of axis order changes: https://pyproj4.github.io/pyproj/stable/gotchas.html#axis-order-changes-in-proj-6\n",
      "  return _prepare_from_string(\" \".join(pjargs))\n"
     ]
    },
    {
     "name": "stdout",
     "output_type": "stream",
     "text": [
      "            lon           lat                         geometry\n",
      "0  1.304345e+06  1.856528e+06  POINT (1304344.853 1856528.489)\n",
      "1  1.304376e+06  1.856528e+06  POINT (1304375.570 1856528.489)\n",
      "2  1.304314e+06  1.856498e+06  POINT (1304314.136 1856497.772)\n",
      "3  1.304345e+06  1.856498e+06  POINT (1304344.853 1856497.772)\n",
      "4  1.304376e+06  1.856498e+06  POINT (1304375.570 1856497.772)\n",
      "Saving: D:\\CIAT\\Code\\BID\\dci_fauno\\data\\risk_calculator\\inputs\\def\\fixed\\shp_summary\\2013\\shapefile.shp\n",
      "Opening: D:\\CIAT\\Code\\BID\\dci_fauno\\data\\risk_calculator\\inputs\\def\\fixed\\raster_summary\\2014.tif\n",
      "Transforming\n",
      "Creating shapefile crs: {'init': 'epsg:3116'}\n"
     ]
    },
    {
     "name": "stderr",
     "output_type": "stream",
     "text": [
      "d:\\ciat\\virtualenv\\jupyter\\lib\\site-packages\\pyproj\\crs\\crs.py:53: FutureWarning: '+init=<authority>:<code>' syntax is deprecated. '<authority>:<code>' is the preferred initialization method. When making the change, be mindful of axis order changes: https://pyproj4.github.io/pyproj/stable/gotchas.html#axis-order-changes-in-proj-6\n",
      "  return _prepare_from_string(\" \".join(pjargs))\n"
     ]
    },
    {
     "name": "stdout",
     "output_type": "stream",
     "text": [
      "            lon           lat                         geometry\n",
      "0  1.304345e+06  1.856528e+06  POINT (1304344.853 1856528.489)\n",
      "1  1.304376e+06  1.856528e+06  POINT (1304375.570 1856528.489)\n",
      "2  1.304314e+06  1.856498e+06  POINT (1304314.136 1856497.772)\n",
      "3  1.304345e+06  1.856498e+06  POINT (1304344.853 1856497.772)\n",
      "4  1.304376e+06  1.856498e+06  POINT (1304375.570 1856497.772)\n",
      "Saving: D:\\CIAT\\Code\\BID\\dci_fauno\\data\\risk_calculator\\inputs\\def\\fixed\\shp_summary\\2014\\shapefile.shp\n",
      "Opening: D:\\CIAT\\Code\\BID\\dci_fauno\\data\\risk_calculator\\inputs\\def\\fixed\\raster_summary\\2015.tif\n",
      "Transforming\n",
      "Creating shapefile crs: {'init': 'epsg:3116'}\n"
     ]
    },
    {
     "name": "stderr",
     "output_type": "stream",
     "text": [
      "d:\\ciat\\virtualenv\\jupyter\\lib\\site-packages\\pyproj\\crs\\crs.py:53: FutureWarning: '+init=<authority>:<code>' syntax is deprecated. '<authority>:<code>' is the preferred initialization method. When making the change, be mindful of axis order changes: https://pyproj4.github.io/pyproj/stable/gotchas.html#axis-order-changes-in-proj-6\n",
      "  return _prepare_from_string(\" \".join(pjargs))\n"
     ]
    },
    {
     "name": "stdout",
     "output_type": "stream",
     "text": [
      "            lon           lat                         geometry\n",
      "0  1.304345e+06  1.856528e+06  POINT (1304344.853 1856528.489)\n",
      "1  1.304376e+06  1.856528e+06  POINT (1304375.570 1856528.489)\n",
      "2  1.304314e+06  1.856498e+06  POINT (1304314.136 1856497.772)\n",
      "3  1.304345e+06  1.856498e+06  POINT (1304344.853 1856497.772)\n",
      "4  1.304376e+06  1.856498e+06  POINT (1304375.570 1856497.772)\n",
      "Saving: D:\\CIAT\\Code\\BID\\dci_fauno\\data\\risk_calculator\\inputs\\def\\fixed\\shp_summary\\2015\\shapefile.shp\n",
      "Opening: D:\\CIAT\\Code\\BID\\dci_fauno\\data\\risk_calculator\\inputs\\def\\fixed\\raster_summary\\2016.tif\n",
      "Transforming\n",
      "Creating shapefile crs: {'init': 'epsg:3116'}\n"
     ]
    },
    {
     "name": "stderr",
     "output_type": "stream",
     "text": [
      "d:\\ciat\\virtualenv\\jupyter\\lib\\site-packages\\pyproj\\crs\\crs.py:53: FutureWarning: '+init=<authority>:<code>' syntax is deprecated. '<authority>:<code>' is the preferred initialization method. When making the change, be mindful of axis order changes: https://pyproj4.github.io/pyproj/stable/gotchas.html#axis-order-changes-in-proj-6\n",
      "  return _prepare_from_string(\" \".join(pjargs))\n"
     ]
    },
    {
     "name": "stdout",
     "output_type": "stream",
     "text": [
      "            lon           lat                         geometry\n",
      "0  1.304345e+06  1.856528e+06  POINT (1304344.853 1856528.489)\n",
      "1  1.304376e+06  1.856528e+06  POINT (1304375.570 1856528.489)\n",
      "2  1.304314e+06  1.856498e+06  POINT (1304314.136 1856497.772)\n",
      "3  1.304345e+06  1.856498e+06  POINT (1304344.853 1856497.772)\n",
      "4  1.304376e+06  1.856498e+06  POINT (1304375.570 1856497.772)\n",
      "Saving: D:\\CIAT\\Code\\BID\\dci_fauno\\data\\risk_calculator\\inputs\\def\\fixed\\shp_summary\\2016\\shapefile.shp\n",
      "Opening: D:\\CIAT\\Code\\BID\\dci_fauno\\data\\risk_calculator\\inputs\\def\\fixed\\raster_summary\\2017.tif\n",
      "Transforming\n",
      "Creating shapefile crs: {'init': 'epsg:3116'}\n"
     ]
    },
    {
     "name": "stderr",
     "output_type": "stream",
     "text": [
      "d:\\ciat\\virtualenv\\jupyter\\lib\\site-packages\\pyproj\\crs\\crs.py:53: FutureWarning: '+init=<authority>:<code>' syntax is deprecated. '<authority>:<code>' is the preferred initialization method. When making the change, be mindful of axis order changes: https://pyproj4.github.io/pyproj/stable/gotchas.html#axis-order-changes-in-proj-6\n",
      "  return _prepare_from_string(\" \".join(pjargs))\n"
     ]
    },
    {
     "name": "stdout",
     "output_type": "stream",
     "text": [
      "            lon           lat                         geometry\n",
      "0  1.304345e+06  1.856528e+06  POINT (1304344.853 1856528.489)\n",
      "1  1.304376e+06  1.856528e+06  POINT (1304375.570 1856528.489)\n",
      "2  1.304314e+06  1.856498e+06  POINT (1304314.136 1856497.772)\n",
      "3  1.304345e+06  1.856498e+06  POINT (1304344.853 1856497.772)\n",
      "4  1.304376e+06  1.856498e+06  POINT (1304375.570 1856497.772)\n",
      "Saving: D:\\CIAT\\Code\\BID\\dci_fauno\\data\\risk_calculator\\inputs\\def\\fixed\\shp_summary\\2017\\shapefile.shp\n",
      "Opening: D:\\CIAT\\Code\\BID\\dci_fauno\\data\\risk_calculator\\inputs\\def\\fixed\\raster_summary\\2018.tif\n",
      "Transforming\n",
      "Creating shapefile crs: {'init': 'epsg:3116'}\n"
     ]
    },
    {
     "name": "stderr",
     "output_type": "stream",
     "text": [
      "d:\\ciat\\virtualenv\\jupyter\\lib\\site-packages\\pyproj\\crs\\crs.py:53: FutureWarning: '+init=<authority>:<code>' syntax is deprecated. '<authority>:<code>' is the preferred initialization method. When making the change, be mindful of axis order changes: https://pyproj4.github.io/pyproj/stable/gotchas.html#axis-order-changes-in-proj-6\n",
      "  return _prepare_from_string(\" \".join(pjargs))\n"
     ]
    },
    {
     "name": "stdout",
     "output_type": "stream",
     "text": [
      "            lon           lat                         geometry\n",
      "0  1.304345e+06  1.856528e+06  POINT (1304344.853 1856528.489)\n",
      "1  1.304376e+06  1.856528e+06  POINT (1304375.570 1856528.489)\n",
      "2  1.304314e+06  1.856498e+06  POINT (1304314.136 1856497.772)\n",
      "3  1.304345e+06  1.856498e+06  POINT (1304344.853 1856497.772)\n",
      "4  1.304376e+06  1.856498e+06  POINT (1304375.570 1856497.772)\n",
      "Saving: D:\\CIAT\\Code\\BID\\dci_fauno\\data\\risk_calculator\\inputs\\def\\fixed\\shp_summary\\2018\\shapefile.shp\n",
      "Done!\n"
     ]
    }
   ],
   "source": [
    "# Parsing to shapefile\n",
    "defo.to_shp(def_folder)\n",
    "print(\"Done!\")"
   ]
  },
  {
   "cell_type": "markdown",
   "id": "gothic-request",
   "metadata": {},
   "source": [
    "### Plots\n",
    "This section compiles all CSV files with information about plots for all years. It clear all records, \n",
    "validating that all plots have coordinates and these coordinates are good. Further it sets the region\n",
    "and locality according to shapefile of reference. Finally it creates a new layer with all data compiled"
   ]
  },
  {
   "cell_type": "code",
   "execution_count": 3,
   "id": "smaller-transparency",
   "metadata": {},
   "outputs": [
    {
     "name": "stdout",
     "output_type": "stream",
     "text": [
      "Reading: D:\\CIAT\\Code\\BID\\dci_fauno\\data\\risk_calculator\\inputs\\plot\\download\\2019.csv\n"
     ]
    },
    {
     "name": "stderr",
     "output_type": "stream",
     "text": [
      "d:\\ciat\\virtualenv\\jupyter\\lib\\site-packages\\IPython\\core\\interactiveshell.py:3347: DtypeWarning: Columns (6) have mixed types.Specify dtype option on import or set low_memory=False.\n",
      "  if (await self.run_code(code, result,  async_=asy)):\n"
     ]
    },
    {
     "name": "stdout",
     "output_type": "stream",
     "text": [
      "Fixing columns\n",
      "Cleaning records\n",
      "     ext_id       lat        lon  animals  year       adm1             adm2  \\\n",
      "0   1589850 -4.006928 -70.134470        1  2019   AMAZONAS          LETICIA   \n",
      "1   1589861 -4.176944 -69.943611       28  2019   AMAZONAS          LETICIA   \n",
      "2   1589877 -4.141955 -70.010603       35  2019   AMAZONAS          LETICIA   \n",
      "8   1589914 -3.771690 -70.359310        4  2019   AMAZONAS  PUERTO NARIï¿½O   \n",
      "10  1510795  5.860740 -75.501670       17  2019  ANTIOQUIA        ABEJORRAL   \n",
      "\n",
      "               adm3  \n",
      "0           LETICIA  \n",
      "1           LETICIA  \n",
      "2           LETICIA  \n",
      "8   PUERTO NARIï¿½O  \n",
      "10      ALTO BONITO  \n",
      "Logging: D:\\CIAT\\Code\\BID\\dci_fauno\\data\\risk_calculator\\inputs\\plot\\log\\err-data-bad_plots.csv\n",
      "Goruping and filtering max\n",
      "Saving: D:\\CIAT\\Code\\BID\\dci_fauno\\data\\risk_calculator\\inputs\\plot\\content\\plots.csv\n",
      "Opening: D:\\CIAT\\Code\\BID\\dci_fauno\\data\\risk_calculator\\inputs\\plot\\content\\plots.csv\n",
      "Transforming to points\n"
     ]
    },
    {
     "name": "stderr",
     "output_type": "stream",
     "text": [
      "d:\\ciat\\virtualenv\\jupyter\\lib\\site-packages\\pyproj\\crs\\crs.py:53: FutureWarning: '+init=<authority>:<code>' syntax is deprecated. '<authority>:<code>' is the preferred initialization method. When making the change, be mindful of axis order changes: https://pyproj4.github.io/pyproj/stable/gotchas.html#axis-order-changes-in-proj-6\n",
      "  return _prepare_from_string(\" \".join(pjargs))\n"
     ]
    },
    {
     "name": "stdout",
     "output_type": "stream",
     "text": [
      "Reprojecting\n",
      "Opening shp reference: D:\\CIAT\\Code\\BID\\dci_fauno\\data\\risk_calculator\\inputs\\adm\\fixed\\adm.shp\n",
      "Joining spatial\n",
      "       ext_id       lat        lon  animals  year      adm1  \\\n",
      "0      400165  5.282530 -71.963700     7470  2019  CASANARE   \n",
      "1      400292  5.342888 -71.967508     6673  2019  CASANARE   \n",
      "662   1189289  5.220117 -71.931157     1398  2019  CASANARE   \n",
      "1092  1475236  5.288035 -71.963668     1115  2019  CASANARE   \n",
      "3030  1259268  5.229343 -71.942858      676  2019  CASANARE   \n",
      "\n",
      "                      adm2       adm3  animals_max  \\\n",
      "0     SAN LUIS DE PALENQUE  ALGODONAL         7470   \n",
      "1     SAN LUIS DE PALENQUE   JAGUEYES         6673   \n",
      "662   SAN LUIS DE PALENQUE   JAGUEYES         1398   \n",
      "1092  SAN LUIS DE PALENQUE   JAGUEYES         1115   \n",
      "3030  SAN LUIS DE PALENQUE   JAGUEYES          676   \n",
      "\n",
      "                             geometry  index_right adm1_id adm1_name adm2_id  \\\n",
      "0     POINT (1234367.895 1076294.221)         4243      85  CASANARE   85325   \n",
      "1     POINT (1233922.710 1082971.885)         4243      85  CASANARE   85325   \n",
      "662   POINT (1238001.442 1069399.934)         4243      85  CASANARE   85325   \n",
      "1092  POINT (1234369.374 1076903.407)         4243      85  CASANARE   85325   \n",
      "3030  POINT (1236699.896 1070416.464)         4243      85  CASANARE   85325   \n",
      "\n",
      "                 adm2_name   adm3_id     adm3_name          area  \n",
      "0     SAN LUIS DE PALENQUE  85325035  LOS JAGUEYES  46475.280446  \n",
      "1     SAN LUIS DE PALENQUE  85325035  LOS JAGUEYES  46475.280446  \n",
      "662   SAN LUIS DE PALENQUE  85325035  LOS JAGUEYES  46475.280446  \n",
      "1092  SAN LUIS DE PALENQUE  85325035  LOS JAGUEYES  46475.280446  \n",
      "3030  SAN LUIS DE PALENQUE  85325035  LOS JAGUEYES  46475.280446  \n",
      "Saving: D:\\CIAT\\Code\\BID\\dci_fauno\\data\\risk_calculator\\inputs\\plot\\fixed\\plots\\plots.shp\n",
      "Done!\n"
     ]
    }
   ],
   "source": [
    "# Getting parameters for processing data\n",
    "plo_character_file = conf.loc[conf[\"parameter\"] == \"plo_character_file\",\"value\"].values[0]\n",
    "plo_src_ext_id = conf.loc[conf[\"parameter\"] == \"plo_src_ext_id\",\"value\"].values[0]\n",
    "plo_src_lat = conf.loc[conf[\"parameter\"] == \"plo_src_lat\",\"value\"].values[0]\n",
    "plo_src_lon = conf.loc[conf[\"parameter\"] == \"plo_src_lon\",\"value\"].values[0]\n",
    "plo_src_animals = conf.loc[conf[\"parameter\"] == \"plo_src_animals\",\"value\"].values[0]\n",
    "plo_src_adm1 = conf.loc[conf[\"parameter\"] == \"plo_src_adm1\",\"value\"].values[0]\n",
    "plo_src_adm2 = conf.loc[conf[\"parameter\"] == \"plo_src_adm2\",\"value\"].values[0]\n",
    "plo_src_adm3 = conf.loc[conf[\"parameter\"] == \"plo_src_adm3\",\"value\"].values[0]\n",
    "plo_lim_lat_low =  float(conf.loc[conf[\"parameter\"] == \"plo_lim_lat_low\",\"value\"].values[0])\n",
    "plo_lim_lat_upp =  float(conf.loc[conf[\"parameter\"] == \"plo_lim_lat_upp\",\"value\"].values[0])\n",
    "plo_lim_lon_low =  float(conf.loc[conf[\"parameter\"] == \"plo_lim_lon_low\",\"value\"].values[0])\n",
    "plo_lim_lon_upp =  float(conf.loc[conf[\"parameter\"] == \"plo_lim_lon_upp\",\"value\"].values[0])\n",
    "# Getting parameters for creating shp\n",
    "plo_src_crs = int(conf.loc[conf[\"parameter\"] == \"plo_src_crs\",\"value\"].values[0])\n",
    "\n",
    "has_adm = (plo_src_adm1 != \"\") & (plo_src_adm2 != \"\") & (plo_src_adm3 != \"\")\n",
    "\n",
    "# Compiling data\n",
    "plot.processing_raw_data(plot_folder, plo_character_file, \n",
    "              plo_src_ext_id, plo_src_lat, plo_src_lon, plo_src_animals,\n",
    "              plo_lim_lat_low, plo_lim_lat_upp, plo_lim_lon_low, plo_lim_lon_upp,\n",
    "              has_adm, plo_src_adm1, plo_src_adm2, plo_src_adm3)\n",
    "# Fixing data\n",
    "path_adm_shp = os.path.join(adm_folder,\"fixed\",\"adm.shp\")\n",
    "plot.create_data(plot_folder, path_adm_shp, plo_src_crs, glo_crs)\n",
    "\n",
    "print(\"Done!\")"
   ]
  },
  {
   "cell_type": "markdown",
   "id": "wicked-brick",
   "metadata": {},
   "source": [
    "### Calculating buffer by plot\n",
    "In this section, the script creates a buffer for all plots. It uses the following ecuation to set radious for the buffer: amount of animals in plot / field capacity. "
   ]
  },
  {
   "cell_type": "code",
   "execution_count": 4,
   "id": "gentle-asset",
   "metadata": {},
   "outputs": [
    {
     "name": "stdout",
     "output_type": "stream",
     "text": [
      "Opening plots shape file: D:\\CIAT\\Code\\BID\\dci_fauno\\data\\risk_calculator\\inputs\\plot\\fixed\\plots\\plots.shp\n"
     ]
    },
    {
     "name": "stderr",
     "output_type": "stream",
     "text": [
      "d:\\ciat\\virtualenv\\jupyter\\lib\\site-packages\\pyproj\\crs\\crs.py:53: FutureWarning: '+init=<authority>:<code>' syntax is deprecated. '<authority>:<code>' is the preferred initialization method. When making the change, be mindful of axis order changes: https://pyproj4.github.io/pyproj/stable/gotchas.html#axis-order-changes-in-proj-6\n",
      "  return _prepare_from_string(\" \".join(pjargs))\n"
     ]
    },
    {
     "name": "stdout",
     "output_type": "stream",
     "text": [
      "Mergin with field capacity\n",
      "Creating buffer\n",
      "Reprojecting\n",
      "Saving: D:\\CIAT\\Code\\BID\\dci_fauno\\data\\risk_calculator\\inputs\\plot\\fixed\\buffer\\buffer.shp\n",
      "Done!\n"
     ]
    }
   ],
   "source": [
    "# Creatting buffer\n",
    "plot.create_buffer(plot_folder, buffer, glo_crs)\n",
    "print(\"Done!\")"
   ]
  },
  {
   "cell_type": "markdown",
   "id": "breathing-hampshire",
   "metadata": {},
   "source": [
    "## Mobilization"
   ]
  },
  {
   "cell_type": "markdown",
   "id": "broken-vector",
   "metadata": {},
   "source": [
    "### Fixing mobilization data"
   ]
  },
  {
   "cell_type": "code",
   "execution_count": 3,
   "id": "positive-hypothesis",
   "metadata": {},
   "outputs": [
    {
     "name": "stdout",
     "output_type": "stream",
     "text": [
      "Processing: D:\\CIAT\\Code\\BID\\dci_fauno\\data\\risk_calculator\\inputs\\mob\\content\\2017.csv\n",
      "Removing columns\n",
      "Pivoting data by year\n",
      "Summarizing mobilization\n",
      "Fixing columns names\n",
      "Saving: D:\\CIAT\\Code\\BID\\dci_fauno\\data\\risk_calculator\\inputs\\mob\\fixed\\2017.csv\n",
      "Processing: D:\\CIAT\\Code\\BID\\dci_fauno\\data\\risk_calculator\\inputs\\mob\\content\\2018.csv\n",
      "Removing columns\n",
      "Pivoting data by year\n",
      "Summarizing mobilization\n",
      "Fixing columns names\n",
      "Saving: D:\\CIAT\\Code\\BID\\dci_fauno\\data\\risk_calculator\\inputs\\mob\\fixed\\2018.csv\n",
      "Done!\n"
     ]
    }
   ],
   "source": [
    "# Getting parameters for processing data\n",
    "mob_origin_name = conf.loc[conf[\"parameter\"] == \"mob_origin_name\",\"value\"].values[0]\n",
    "mob_destination_name = conf.loc[conf[\"parameter\"] == \"mob_destination_name\",\"value\"].values[0]\n",
    "mob_type_name = conf.loc[conf[\"parameter\"] == \"mob_type_name\",\"value\"].values[0]\n",
    "mob_columns_exclude = map(str.strip, conf.loc[conf[\"parameter\"] == \"mob_columns_exclude\",\"value\"].values[0].split(\",\"))\n",
    "\n",
    "mobi.fixed_data(mob_folder,mob_columns_exclude,mob_origin_name,mob_destination_name,mob_type_name)\n",
    "print(\"Done!\")"
   ]
  },
  {
   "cell_type": "markdown",
   "id": "filled-fairy",
   "metadata": {},
   "source": [
    "## Analyzing plots"
   ]
  },
  {
   "cell_type": "markdown",
   "id": "light-tennessee",
   "metadata": {},
   "source": [
    "### Calculating deforested areas by plot\n",
    "In this section the system calculates the proportion of deforested areas by plot. It combines raster deforestation files\n",
    "and buffer shapefile."
   ]
  },
  {
   "cell_type": "code",
   "execution_count": 10,
   "id": "hawaiian-episode",
   "metadata": {},
   "outputs": [
    {
     "name": "stdout",
     "output_type": "stream",
     "text": [
      "Opening shp: D:\\CIAT\\Code\\BID\\dci_fauno\\data\\risk_calculator\\inputs\\plot\\fixed\\buffer\\buffer.shp\n",
      "Type of analysis: summary\n",
      "Processing: 2010\n",
      "Opening raster: D:\\CIAT\\Code\\BID\\dci_fauno\\data\\risk_calculator\\inputs\\def\\fixed\\raster_summary\\2010.tif\n",
      "Calculating zonal stats\n"
     ]
    },
    {
     "ename": "RasterioIOError",
     "evalue": "Read or write failed. D:/CIAT/Code/BID/dci_fauno/data/risk_calculator/inputs/def/fixed/raster_summary/2010.tif, band 1: IReadBlock failed at X offset 0, Y offset 26771: _TIFFFetchStrileValue:Cannot allocate strip offset and bytecount arrays",
     "output_type": "error",
     "traceback": [
      "\u001b[1;31m---------------------------------------------------------------------------\u001b[0m",
      "\u001b[1;31mCPLE_AppDefinedError\u001b[0m                      Traceback (most recent call last)",
      "\u001b[1;32mrasterio\\_io.pyx\u001b[0m in \u001b[0;36mrasterio._io.DatasetReaderBase._read\u001b[1;34m()\u001b[0m\n",
      "\u001b[1;32mrasterio\\shim_rasterioex.pxi\u001b[0m in \u001b[0;36mrasterio._shim.io_multi_band\u001b[1;34m()\u001b[0m\n",
      "\u001b[1;32mrasterio\\_err.pyx\u001b[0m in \u001b[0;36mrasterio._err.exc_wrap_int\u001b[1;34m()\u001b[0m\n",
      "\u001b[1;31mCPLE_AppDefinedError\u001b[0m: D:/CIAT/Code/BID/dci_fauno/data/risk_calculator/inputs/def/fixed/raster_summary/2010.tif, band 1: IReadBlock failed at X offset 0, Y offset 26771: _TIFFFetchStrileValue:Cannot allocate strip offset and bytecount arrays",
      "\nDuring handling of the above exception, another exception occurred:\n",
      "\u001b[1;31mRasterioIOError\u001b[0m                           Traceback (most recent call last)",
      "\u001b[1;32m<ipython-input-10-8f88a01f2a2d>\u001b[0m in \u001b[0;36m<module>\u001b[1;34m\u001b[0m\n\u001b[0;32m      6\u001b[0m \u001b[1;31m# De\u001b[0m\u001b[1;33m\u001b[0m\u001b[1;33m\u001b[0m\u001b[1;33m\u001b[0m\u001b[0m\n\u001b[0;32m      7\u001b[0m \u001b[1;31m#risk.deforestation_plot(inputs, ris_years, ris_types_analysis, def_pixel_size)\u001b[0m\u001b[1;33m\u001b[0m\u001b[1;33m\u001b[0m\u001b[1;33m\u001b[0m\u001b[0m\n\u001b[1;32m----> 8\u001b[1;33m \u001b[0mrisk\u001b[0m\u001b[1;33m.\u001b[0m\u001b[0mdeforestation_plot\u001b[0m\u001b[1;33m(\u001b[0m\u001b[0minputs\u001b[0m\u001b[1;33m,\u001b[0m \u001b[1;33m[\u001b[0m\u001b[1;36m2010\u001b[0m\u001b[1;33m,\u001b[0m\u001b[1;36m2012\u001b[0m\u001b[1;33m,\u001b[0m\u001b[1;36m2013\u001b[0m\u001b[1;33m,\u001b[0m\u001b[1;36m2014\u001b[0m\u001b[1;33m,\u001b[0m\u001b[1;36m2015\u001b[0m\u001b[1;33m,\u001b[0m\u001b[1;36m2016\u001b[0m\u001b[1;33m,\u001b[0m\u001b[1;36m2017\u001b[0m\u001b[1;33m,\u001b[0m\u001b[1;36m2018\u001b[0m\u001b[1;33m]\u001b[0m\u001b[1;33m,\u001b[0m \u001b[1;33m[\u001b[0m\u001b[1;34m\"summary\"\u001b[0m\u001b[1;33m]\u001b[0m\u001b[1;33m,\u001b[0m \u001b[0mdef_pixel_size\u001b[0m\u001b[1;33m)\u001b[0m\u001b[1;33m\u001b[0m\u001b[1;33m\u001b[0m\u001b[0m\n\u001b[0m",
      "\u001b[1;32mD:\\CIAT\\Code\\BID\\dci_fauno\\src\\risk_calculator\\risk.py\u001b[0m in \u001b[0;36mdeforestation_plot\u001b[1;34m(inputs, years, types_analysis, pixel_size)\u001b[0m\n\u001b[0;32m     41\u001b[0m \u001b[1;33m\u001b[0m\u001b[0m\n\u001b[0;32m     42\u001b[0m                     \u001b[0mprint\u001b[0m\u001b[1;33m(\u001b[0m\u001b[1;34m\"Calculating zonal stats\"\u001b[0m\u001b[1;33m)\u001b[0m\u001b[1;33m\u001b[0m\u001b[1;33m\u001b[0m\u001b[0m\n\u001b[1;32m---> 43\u001b[1;33m                     \u001b[0mstats\u001b[0m \u001b[1;33m=\u001b[0m \u001b[0mzonal_stats\u001b[0m\u001b[1;33m(\u001b[0m\u001b[0mshp\u001b[0m\u001b[1;33m,\u001b[0m \u001b[0mfile_de\u001b[0m\u001b[1;33m,\u001b[0m \u001b[0mall_touched\u001b[0m\u001b[1;33m=\u001b[0m\u001b[1;32mTrue\u001b[0m\u001b[1;33m,\u001b[0m \u001b[0mgeojson_out\u001b[0m\u001b[1;33m=\u001b[0m\u001b[1;32mTrue\u001b[0m\u001b[1;33m)\u001b[0m\u001b[1;33m\u001b[0m\u001b[1;33m\u001b[0m\u001b[0m\n\u001b[0m\u001b[0;32m     44\u001b[0m \u001b[1;33m\u001b[0m\u001b[0m\n\u001b[0;32m     45\u001b[0m                     \u001b[0mprint\u001b[0m\u001b[1;33m(\u001b[0m\u001b[1;34m\"Parsing to Geopandas\"\u001b[0m\u001b[1;33m)\u001b[0m\u001b[1;33m\u001b[0m\u001b[1;33m\u001b[0m\u001b[0m\n",
      "\u001b[1;32md:\\ciat\\virtualenv\\jupyter\\lib\\site-packages\\rasterstats\\main.py\u001b[0m in \u001b[0;36mzonal_stats\u001b[1;34m(*args, **kwargs)\u001b[0m\n\u001b[0;32m     29\u001b[0m     \u001b[0mThe\u001b[0m \u001b[0monly\u001b[0m \u001b[0mdifference\u001b[0m \u001b[1;32mis\u001b[0m \u001b[0mthat\u001b[0m\u001b[0;31m \u001b[0m\u001b[0;31m`\u001b[0m\u001b[0;31m`\u001b[0m\u001b[0mzonal_stats\u001b[0m\u001b[0;31m`\u001b[0m\u001b[0;31m`\u001b[0m \u001b[0mwill\u001b[0m\u001b[1;33m\u001b[0m\u001b[1;33m\u001b[0m\u001b[0m\n\u001b[0;32m     30\u001b[0m     return a list rather than a generator.\"\"\"\n\u001b[1;32m---> 31\u001b[1;33m     \u001b[1;32mreturn\u001b[0m \u001b[0mlist\u001b[0m\u001b[1;33m(\u001b[0m\u001b[0mgen_zonal_stats\u001b[0m\u001b[1;33m(\u001b[0m\u001b[1;33m*\u001b[0m\u001b[0margs\u001b[0m\u001b[1;33m,\u001b[0m \u001b[1;33m**\u001b[0m\u001b[0mkwargs\u001b[0m\u001b[1;33m)\u001b[0m\u001b[1;33m)\u001b[0m\u001b[1;33m\u001b[0m\u001b[1;33m\u001b[0m\u001b[0m\n\u001b[0m\u001b[0;32m     32\u001b[0m \u001b[1;33m\u001b[0m\u001b[0m\n\u001b[0;32m     33\u001b[0m \u001b[1;33m\u001b[0m\u001b[0m\n",
      "\u001b[1;32md:\\ciat\\virtualenv\\jupyter\\lib\\site-packages\\rasterstats\\main.py\u001b[0m in \u001b[0;36mgen_zonal_stats\u001b[1;34m(vectors, raster, layer, band, nodata, affine, stats, all_touched, categorical, category_map, add_stats, zone_func, raster_out, prefix, geojson_out, **kwargs)\u001b[0m\n\u001b[0;32m    154\u001b[0m             \u001b[0mgeom_bounds\u001b[0m \u001b[1;33m=\u001b[0m \u001b[0mtuple\u001b[0m\u001b[1;33m(\u001b[0m\u001b[0mgeom\u001b[0m\u001b[1;33m.\u001b[0m\u001b[0mbounds\u001b[0m\u001b[1;33m)\u001b[0m\u001b[1;33m\u001b[0m\u001b[1;33m\u001b[0m\u001b[0m\n\u001b[0;32m    155\u001b[0m \u001b[1;33m\u001b[0m\u001b[0m\n\u001b[1;32m--> 156\u001b[1;33m             \u001b[0mfsrc\u001b[0m \u001b[1;33m=\u001b[0m \u001b[0mrast\u001b[0m\u001b[1;33m.\u001b[0m\u001b[0mread\u001b[0m\u001b[1;33m(\u001b[0m\u001b[0mbounds\u001b[0m\u001b[1;33m=\u001b[0m\u001b[0mgeom_bounds\u001b[0m\u001b[1;33m)\u001b[0m\u001b[1;33m\u001b[0m\u001b[1;33m\u001b[0m\u001b[0m\n\u001b[0m\u001b[0;32m    157\u001b[0m \u001b[1;33m\u001b[0m\u001b[0m\n\u001b[0;32m    158\u001b[0m             \u001b[1;31m# rasterized geometry\u001b[0m\u001b[1;33m\u001b[0m\u001b[1;33m\u001b[0m\u001b[1;33m\u001b[0m\u001b[0m\n",
      "\u001b[1;32md:\\ciat\\virtualenv\\jupyter\\lib\\site-packages\\rasterstats\\io.py\u001b[0m in \u001b[0;36mread\u001b[1;34m(self, bounds, window, masked)\u001b[0m\n\u001b[0;32m    313\u001b[0m                     \u001b[0mwarnings\u001b[0m\u001b[1;33m.\u001b[0m\u001b[0mwarn\u001b[0m\u001b[1;33m(\u001b[0m\u001b[1;34m\"Setting masked to True because dataset mask has been detected\"\u001b[0m\u001b[1;33m)\u001b[0m\u001b[1;33m\u001b[0m\u001b[1;33m\u001b[0m\u001b[0m\n\u001b[0;32m    314\u001b[0m \u001b[1;33m\u001b[0m\u001b[0m\n\u001b[1;32m--> 315\u001b[1;33m             new_array = self.src.read(\n\u001b[0m\u001b[0;32m    316\u001b[0m                 self.band, window=win, boundless=True, masked=masked)\n\u001b[0;32m    317\u001b[0m \u001b[1;33m\u001b[0m\u001b[0m\n",
      "\u001b[1;32mrasterio\\_io.pyx\u001b[0m in \u001b[0;36mrasterio._io.DatasetReaderBase.read\u001b[1;34m()\u001b[0m\n",
      "\u001b[1;32mrasterio\\_io.pyx\u001b[0m in \u001b[0;36mrasterio._io.DatasetReaderBase.read\u001b[1;34m()\u001b[0m\n",
      "\u001b[1;32mrasterio\\_io.pyx\u001b[0m in \u001b[0;36mrasterio._io.DatasetReaderBase._read\u001b[1;34m()\u001b[0m\n",
      "\u001b[1;31mRasterioIOError\u001b[0m: Read or write failed. D:/CIAT/Code/BID/dci_fauno/data/risk_calculator/inputs/def/fixed/raster_summary/2010.tif, band 1: IReadBlock failed at X offset 0, Y offset 26771: _TIFFFetchStrileValue:Cannot allocate strip offset and bytecount arrays"
     ]
    }
   ],
   "source": [
    "# Getting parameters for processing data\n",
    "ris_years = map(str.strip, conf.loc[conf[\"parameter\"] == \"ris_years\",\"value\"].values[0].split(\",\"))\n",
    "ris_types_analysis =  map(str.strip, conf.loc[conf[\"parameter\"] == \"ris_types_analysis\",\"value\"].values[0].split(\",\"))\n",
    "def_pixel_size = float(conf.loc[conf[\"parameter\"] == \"def_pixel_size\",\"value\"].values[0])\n",
    "\n",
    "# De\n",
    "#risk.deforestation_plot(inputs, ris_years, ris_types_analysis, def_pixel_size)\n",
    "risk.deforestation_plot(inputs, [2010,2012,2013,2014,2015,2016,2017,2018], [\"summary\"], def_pixel_size)"
   ]
  },
  {
   "cell_type": "markdown",
   "id": "upset-consultancy",
   "metadata": {},
   "source": [
    "### Calculating distance between plots and near deforestation"
   ]
  },
  {
   "cell_type": "code",
   "execution_count": 3,
   "id": "requested-actor",
   "metadata": {},
   "outputs": [
    {
     "name": "stdout",
     "output_type": "stream",
     "text": [
      "Processing type: detail\n",
      "Processing year: 2017\n",
      "Opening areas shp: D:\\CIAT\\Code\\BID\\dci_fauno\\data\\risk_calculator\\inputs\\plot\\fixed\\def\\detail\\2017\\areas.shp\n",
      "Opening deforestation shp: D:\\CIAT\\Code\\BID\\dci_fauno\\data\\risk_calculator\\inputs\\def\\fixed\\shp_detail\\2017\\shapefile.shp\n",
      "Fixing fields\n",
      "Starting process parallel\n",
      "Joining results\n",
      "Saving: D:\\CIAT\\Code\\BID\\dci_fauno\\data\\risk_calculator\\inputs\\plot\\fixed\\dis\\detail\\2017\\areas_distance.shp\n",
      "Processing year: 2018\n",
      "Opening areas shp: D:\\CIAT\\Code\\BID\\dci_fauno\\data\\risk_calculator\\inputs\\plot\\fixed\\def\\detail\\2018\\areas.shp\n",
      "Opening deforestation shp: D:\\CIAT\\Code\\BID\\dci_fauno\\data\\risk_calculator\\inputs\\def\\fixed\\shp_detail\\2018\\shapefile.shp\n",
      "Fixing fields\n",
      "Starting process parallel\n",
      "Joining results\n",
      "Saving: D:\\CIAT\\Code\\BID\\dci_fauno\\data\\risk_calculator\\inputs\\plot\\fixed\\dis\\detail\\2018\\areas_distance.shp\n",
      "Processing type: summary\n",
      "Done!\n"
     ]
    }
   ],
   "source": [
    "# Getting parameters for processing data\n",
    "ris_years = map(str.strip, conf.loc[conf[\"parameter\"] == \"ris_years\",\"value\"].values[0].split(\",\"))\n",
    "ris_types_analysis =  map(str.strip, conf.loc[conf[\"parameter\"] == \"ris_types_analysis\",\"value\"].values[0].split(\",\"))\n",
    "\n",
    "risk.distance_plot(inputs, ris_years, ris_types_analysis)\n",
    "print(\"Done!\")"
   ]
  },
  {
   "cell_type": "markdown",
   "id": "interim-indian",
   "metadata": {},
   "source": [
    "### Calculating direct risk\n",
    "It changes teh CSR to WGS84 for all new layers with risk"
   ]
  },
  {
   "cell_type": "code",
   "execution_count": 3,
   "id": "removable-hughes",
   "metadata": {},
   "outputs": [
    {
     "name": "stdout",
     "output_type": "stream",
     "text": [
      "Processing type: detail\n",
      "Processing year: 2010\n",
      "Opening areas shp: D:\\CIAT\\Code\\BID\\dci_fauno\\data\\risk_calculator\\inputs\\plot\\fixed\\dis\\detail\\2010\\areas_distance.shp\n",
      "Reprojecting to: {'init': 'epsg:4326', 'no_defs': True}\n"
     ]
    },
    {
     "name": "stderr",
     "output_type": "stream",
     "text": [
      "d:\\ciat\\virtualenv\\jupyter\\lib\\site-packages\\pyproj\\crs\\crs.py:53: FutureWarning: '+init=<authority>:<code>' syntax is deprecated. '<authority>:<code>' is the preferred initialization method. When making the change, be mindful of axis order changes: https://pyproj4.github.io/pyproj/stable/gotchas.html#axis-order-changes-in-proj-6\n",
      "  return _prepare_from_string(\" \".join(pjargs))\n"
     ]
    },
    {
     "name": "stdout",
     "output_type": "stream",
     "text": [
      "Starting process parallel\n"
     ]
    },
    {
     "name": "stderr",
     "output_type": "stream",
     "text": [
      "d:\\ciat\\virtualenv\\jupyter\\lib\\site-packages\\pyproj\\crs\\crs.py:280: FutureWarning: '+init=<authority>:<code>' syntax is deprecated. '<authority>:<code>' is the preferred initialization method. When making the change, be mindful of axis order changes: https://pyproj4.github.io/pyproj/stable/gotchas.html#axis-order-changes-in-proj-6\n",
      "  projstring = _prepare_from_string(projparams)\n"
     ]
    },
    {
     "name": "stdout",
     "output_type": "stream",
     "text": [
      "Joining results\n",
      "Saving: D:\\CIAT\\Code\\BID\\dci_fauno\\data\\risk_calculator\\inputs\\plot\\fixed\\risk\\detail\\2010\\rd.shp\n",
      "Processing year: 2012\n",
      "Opening areas shp: D:\\CIAT\\Code\\BID\\dci_fauno\\data\\risk_calculator\\inputs\\plot\\fixed\\dis\\detail\\2012\\areas_distance.shp\n",
      "Reprojecting to: {'init': 'epsg:4326', 'no_defs': True}\n",
      "Starting process parallel\n",
      "Joining results\n",
      "Saving: D:\\CIAT\\Code\\BID\\dci_fauno\\data\\risk_calculator\\inputs\\plot\\fixed\\risk\\detail\\2012\\rd.shp\n",
      "Processing year: 2013\n",
      "Opening areas shp: D:\\CIAT\\Code\\BID\\dci_fauno\\data\\risk_calculator\\inputs\\plot\\fixed\\dis\\detail\\2013\\areas_distance.shp\n",
      "Reprojecting to: {'init': 'epsg:4326', 'no_defs': True}\n",
      "Starting process parallel\n",
      "Joining results\n",
      "Saving: D:\\CIAT\\Code\\BID\\dci_fauno\\data\\risk_calculator\\inputs\\plot\\fixed\\risk\\detail\\2013\\rd.shp\n",
      "Processing year: 2014\n",
      "Opening areas shp: D:\\CIAT\\Code\\BID\\dci_fauno\\data\\risk_calculator\\inputs\\plot\\fixed\\dis\\detail\\2014\\areas_distance.shp\n",
      "Reprojecting to: {'init': 'epsg:4326', 'no_defs': True}\n",
      "Starting process parallel\n",
      "Joining results\n",
      "Saving: D:\\CIAT\\Code\\BID\\dci_fauno\\data\\risk_calculator\\inputs\\plot\\fixed\\risk\\detail\\2014\\rd.shp\n",
      "Processing year: 2015\n",
      "Opening areas shp: D:\\CIAT\\Code\\BID\\dci_fauno\\data\\risk_calculator\\inputs\\plot\\fixed\\dis\\detail\\2015\\areas_distance.shp\n",
      "Reprojecting to: {'init': 'epsg:4326', 'no_defs': True}\n",
      "Starting process parallel\n",
      "Joining results\n",
      "Saving: D:\\CIAT\\Code\\BID\\dci_fauno\\data\\risk_calculator\\inputs\\plot\\fixed\\risk\\detail\\2015\\rd.shp\n",
      "Processing year: 2016\n",
      "Opening areas shp: D:\\CIAT\\Code\\BID\\dci_fauno\\data\\risk_calculator\\inputs\\plot\\fixed\\dis\\detail\\2016\\areas_distance.shp\n",
      "Reprojecting to: {'init': 'epsg:4326', 'no_defs': True}\n",
      "Starting process parallel\n",
      "Joining results\n",
      "Saving: D:\\CIAT\\Code\\BID\\dci_fauno\\data\\risk_calculator\\inputs\\plot\\fixed\\risk\\detail\\2016\\rd.shp\n",
      "Processing year: 2017\n",
      "Opening areas shp: D:\\CIAT\\Code\\BID\\dci_fauno\\data\\risk_calculator\\inputs\\plot\\fixed\\dis\\detail\\2017\\areas_distance.shp\n",
      "Reprojecting to: {'init': 'epsg:4326', 'no_defs': True}\n",
      "Starting process parallel\n",
      "Joining results\n",
      "Saving: D:\\CIAT\\Code\\BID\\dci_fauno\\data\\risk_calculator\\inputs\\plot\\fixed\\risk\\detail\\2017\\rd.shp\n",
      "Processing year: 2018\n",
      "Opening areas shp: D:\\CIAT\\Code\\BID\\dci_fauno\\data\\risk_calculator\\inputs\\plot\\fixed\\dis\\detail\\2018\\areas_distance.shp\n",
      "Reprojecting to: {'init': 'epsg:4326', 'no_defs': True}\n",
      "Starting process parallel\n",
      "Joining results\n",
      "Saving: D:\\CIAT\\Code\\BID\\dci_fauno\\data\\risk_calculator\\inputs\\plot\\fixed\\risk\\detail\\2018\\rd.shp\n",
      "Done!\n"
     ]
    }
   ],
   "source": [
    "# Getting parameters for processing data\n",
    "ris_years = map(str.strip, conf.loc[conf[\"parameter\"] == \"ris_years\",\"value\"].values[0].split(\",\"))\n",
    "ris_types_analysis =  map(str.strip, conf.loc[conf[\"parameter\"] == \"ris_types_analysis\",\"value\"].values[0].split(\",\"))\n",
    "\n",
    "risk.risk_direct(inputs, ris_years, ris_types_analysis, glo_crs_wgs84)\n",
    "print(\"Done!\")"
   ]
  },
  {
   "cell_type": "markdown",
   "id": "violent-knitting",
   "metadata": {},
   "source": [
    "### Calculating total risk for each plot\n",
    "It takes into account all paramters: direct risk, risk of all in plots and also "
   ]
  },
  {
   "cell_type": "code",
   "execution_count": null,
   "id": "binding-reality",
   "metadata": {},
   "outputs": [
    {
     "name": "stdout",
     "output_type": "stream",
     "text": [
      "Processing type: detail\n",
      "Processing year: 2017\n",
      "Opening areas shp: D:\\CIAT\\Code\\BID\\dci_fauno\\data\\risk_calculator\\inputs\\plot\\fixed\\risk\\detail\\2017\\rd.shp\n",
      "Opening mobilization: D:\\CIAT\\Code\\BID\\dci_fauno\\data\\risk_calculator\\inputs\\mob\\fixed\\2017.csv\n",
      "Starting process parallel\n"
     ]
    }
   ],
   "source": [
    "# Getting parameters for processing data\n",
    "ris_years = map(str.strip, conf.loc[conf[\"parameter\"] == \"ris_years\",\"value\"].values[0].split(\",\"))\n",
    "ris_types_analysis =  map(str.strip, conf.loc[conf[\"parameter\"] == \"ris_types_analysis\",\"value\"].values[0].split(\",\"))\n",
    "ris_type_plot = conf.loc[conf[\"parameter\"] == \"ris_type_plot\",\"value\"].values[0]\n",
    "\n",
    "#risk.total_risk(inputs, ris_years, ris_types_analysis)\n",
    "risk.total_risk(inputs, [\"2017\",\"2018\"], ris_types_analysis, ris_type_plot)\n",
    "print(\"Done!\")"
   ]
  },
  {
   "cell_type": "markdown",
   "id": "responsible-component",
   "metadata": {},
   "source": [
    "## Importing process"
   ]
  },
  {
   "cell_type": "markdown",
   "id": "novel-convention",
   "metadata": {},
   "source": [
    "## Generate outputs\n",
    "In this section all csv files, which will be upload to database, are generated from inputs files."
   ]
  },
  {
   "cell_type": "code",
   "execution_count": 3,
   "id": "conscious-therapy",
   "metadata": {},
   "outputs": [
    {
     "name": "stdout",
     "output_type": "stream",
     "text": [
      "Processing type: detail\n",
      "Processing year: 2017\n",
      "Opening areas shp: D:\\CIAT\\Code\\BID\\dci_fauno\\data\\risk_calculator\\inputs\\plot\\fixed\\total\\detail\\2017\\total.shp\n",
      "Extracting administrative levels\n",
      "Saving: D:\\CIAT\\Code\\BID\\dci_fauno\\data\\risk_calculator\\outputs\\administrative_level.csv\n",
      "Extracting administrative levels\n",
      "Saving: D:\\CIAT\\Code\\BID\\dci_fauno\\data\\risk_calculator\\outputs\\localities.csv\n",
      "Extracting administrative levels\n",
      "Saving: D:\\CIAT\\Code\\BID\\dci_fauno\\data\\risk_calculator\\outputs\\cattle_rancher.csv\n",
      "Starting analysis\n",
      "Processing Cattle Rancher Risk\n",
      "Saving: D:\\CIAT\\Code\\BID\\dci_fauno\\data\\risk_calculator\\outputs\\detail\\2017\\cattle_rancher_risk.csv\n",
      "Processing mobilization\n",
      "Opening mobilization: D:\\CIAT\\Code\\BID\\dci_fauno\\data\\risk_calculator\\inputs\\mob\\fixed\\2017.csv\n",
      "Merging localities source\n",
      "  id_source id_destination type_destination  HEMBRA BUFALINA DE 1 A 2 AÑO  \\\n",
      "0     34889        1165713           PREDIO                             0   \n",
      "1     34889        1165718           PREDIO                             0   \n",
      "2     34889        1165908           PREDIO                             0   \n",
      "3     34889        1165909           PREDIO                             0   \n",
      "4     34889        1165913           PREDIO                             0   \n",
      "\n",
      "   HEMBRA BUFALINA DE 2 A 3 AÑO  HEMBRA BUFALINA DE 3 A 5 AÑO  \\\n",
      "0                             0                             0   \n",
      "1                             0                             0   \n",
      "2                             0                             0   \n",
      "3                             0                             0   \n",
      "4                             0                             0   \n",
      "\n",
      "   HEMBRA BUFALINA DE 3 A 8 MESE  HEMBRA BUFALINA ENTRE 8 Y 12   \\\n",
      "0                              0                              0   \n",
      "1                              0                              0   \n",
      "2                              0                              0   \n",
      "3                              0                              0   \n",
      "4                              0                              0   \n",
      "\n",
      "   HEMBRA BUFALINA MAYOR DE 5 A  HEMBRA BUFALINA MENOR DE 3 ME  ...  \\\n",
      "0                             0                              0  ...   \n",
      "1                             0                              0  ...   \n",
      "2                             0                              0  ...   \n",
      "3                             0                              0  ...   \n",
      "4                             0                              0  ...   \n",
      "\n",
      "   MACHO BUFALINO MENORES DE 1 A  MACHO REPRODUCTOR MAYOR DE 6   \\\n",
      "0                              0                              0   \n",
      "1                              0                              0   \n",
      "2                              0                              0   \n",
      "3                              0                              0   \n",
      "4                              0                              0   \n",
      "\n",
      "   MACHOS DE 1 A 2 AÑOS  MACHOS DE 2 A 3 AÑOS  MACHOS MAYORES A 3 AÑOS  \\\n",
      "0                     0                     9                       43   \n",
      "1                     0                     9                       24   \n",
      "2                     0                     9                       26   \n",
      "3                     0                     9                       58   \n",
      "4                     0                     0                       98   \n",
      "\n",
      "   MACHOS MENORES DE 1 AÑO  PRECEBO 31 A 60 DIAS  total  ext_id  adm3_id  \n",
      "0                        0                     0     52     NaN      NaN  \n",
      "1                        0                     0     33     NaN      NaN  \n",
      "2                        0                     0     35     NaN      NaN  \n",
      "3                        0                     0     67     NaN      NaN  \n",
      "4                        0                     0     98     NaN      NaN  \n",
      "\n",
      "[5 rows x 34 columns]\n",
      "Merging localities destination\n",
      "Filtering mobilization\n",
      "Saving: D:\\CIAT\\Code\\BID\\dci_fauno\\data\\risk_calculator\\outputs\\detail\\2017\\cattle_rancher_network.csv\n",
      "Shape: (1665728, 34)\n",
      "Saving:D:\\CIAT\\Code\\BID\\dci_fauno\\data\\risk_calculator\\inputs\\mob\\log\\cattle_rancher_network.csv\n",
      "Shape: (1665728, 34)\n"
     ]
    },
    {
     "ename": "PermissionError",
     "evalue": "[Errno 13] Permission denied: 'D:\\\\CIAT\\\\Code\\\\BID\\\\dci_fauno\\\\data\\\\risk_calculator\\\\inputs\\\\mob\\\\log\\\\cattle_rancher_network.csv'",
     "output_type": "error",
     "traceback": [
      "\u001b[1;31m---------------------------------------------------------------------------\u001b[0m",
      "\u001b[1;31mPermissionError\u001b[0m                           Traceback (most recent call last)",
      "\u001b[1;32m<ipython-input-3-465bde3ae55b>\u001b[0m in \u001b[0;36m<module>\u001b[1;34m\u001b[0m\n\u001b[0;32m      5\u001b[0m \u001b[1;33m\u001b[0m\u001b[0m\n\u001b[0;32m      6\u001b[0m \u001b[1;31m#impo.generate_outputs(inputs, outputs, ris_years, ris_types_analysis, ris_type_plot)\u001b[0m\u001b[1;33m\u001b[0m\u001b[1;33m\u001b[0m\u001b[1;33m\u001b[0m\u001b[0m\n\u001b[1;32m----> 7\u001b[1;33m \u001b[0mimpo\u001b[0m\u001b[1;33m.\u001b[0m\u001b[0mgenerate_outputs\u001b[0m\u001b[1;33m(\u001b[0m\u001b[0minputs\u001b[0m\u001b[1;33m,\u001b[0m \u001b[0moutputs\u001b[0m\u001b[1;33m,\u001b[0m \u001b[1;33m[\u001b[0m\u001b[1;34m\"2017\"\u001b[0m\u001b[1;33m]\u001b[0m\u001b[1;33m,\u001b[0m \u001b[0mris_types_analysis\u001b[0m\u001b[1;33m,\u001b[0m \u001b[0mris_type_plot\u001b[0m\u001b[1;33m)\u001b[0m\u001b[1;33m\u001b[0m\u001b[1;33m\u001b[0m\u001b[0m\n\u001b[0m\u001b[0;32m      8\u001b[0m \u001b[0mprint\u001b[0m\u001b[1;33m(\u001b[0m\u001b[1;34m\"Done!\"\u001b[0m\u001b[1;33m)\u001b[0m\u001b[1;33m\u001b[0m\u001b[1;33m\u001b[0m\u001b[0m\n",
      "\u001b[1;32mD:\\CIAT\\Code\\BID\\dci_fauno\\src\\risk_calculator\\importer.py\u001b[0m in \u001b[0;36mgenerate_outputs\u001b[1;34m(inputs, outputs, years, types_analysis, type_plot)\u001b[0m\n\u001b[0;32m    100\u001b[0m             \u001b[0mprint\u001b[0m\u001b[1;33m(\u001b[0m\u001b[1;34m\"Saving:\"\u001b[0m \u001b[1;33m+\u001b[0m \u001b[0mctm_log\u001b[0m\u001b[1;33m)\u001b[0m\u001b[1;33m\u001b[0m\u001b[1;33m\u001b[0m\u001b[0m\n\u001b[0;32m    101\u001b[0m             \u001b[0mprint\u001b[0m\u001b[1;33m(\u001b[0m\u001b[1;34m\"Shape: \"\u001b[0m \u001b[1;33m+\u001b[0m \u001b[0mstr\u001b[0m\u001b[1;33m(\u001b[0m\u001b[0mmob_bad\u001b[0m\u001b[1;33m.\u001b[0m\u001b[0mshape\u001b[0m\u001b[1;33m)\u001b[0m\u001b[1;33m)\u001b[0m\u001b[1;33m\u001b[0m\u001b[1;33m\u001b[0m\u001b[0m\n\u001b[1;32m--> 102\u001b[1;33m             \u001b[0mmob_bad\u001b[0m\u001b[1;33m.\u001b[0m\u001b[0mto_csv\u001b[0m\u001b[1;33m(\u001b[0m\u001b[0mctm_log\u001b[0m\u001b[1;33m,\u001b[0m \u001b[0mindex\u001b[0m \u001b[1;33m=\u001b[0m \u001b[1;32mFalse\u001b[0m\u001b[1;33m,\u001b[0m \u001b[0mencoding\u001b[0m \u001b[1;33m=\u001b[0m \u001b[1;34m\"ISO-8859-1\"\u001b[0m\u001b[1;33m)\u001b[0m\u001b[1;33m\u001b[0m\u001b[1;33m\u001b[0m\u001b[0m\n\u001b[0m\u001b[0;32m    103\u001b[0m \u001b[1;33m\u001b[0m\u001b[0m\n\u001b[0;32m    104\u001b[0m             \u001b[0mprint\u001b[0m\u001b[1;33m(\u001b[0m\u001b[1;34m\"Summarizing network for locality\"\u001b[0m\u001b[1;33m)\u001b[0m\u001b[1;33m\u001b[0m\u001b[1;33m\u001b[0m\u001b[0m\n",
      "\u001b[1;32md:\\ciat\\virtualenv\\jupyter\\lib\\site-packages\\pandas\\core\\generic.py\u001b[0m in \u001b[0;36mto_csv\u001b[1;34m(self, path_or_buf, sep, na_rep, float_format, columns, header, index, index_label, mode, encoding, compression, quoting, quotechar, line_terminator, chunksize, date_format, doublequote, escapechar, decimal, errors, storage_options)\u001b[0m\n\u001b[0;32m   3384\u001b[0m         )\n\u001b[0;32m   3385\u001b[0m \u001b[1;33m\u001b[0m\u001b[0m\n\u001b[1;32m-> 3386\u001b[1;33m         return DataFrameRenderer(formatter).to_csv(\n\u001b[0m\u001b[0;32m   3387\u001b[0m             \u001b[0mpath_or_buf\u001b[0m\u001b[1;33m,\u001b[0m\u001b[1;33m\u001b[0m\u001b[1;33m\u001b[0m\u001b[0m\n\u001b[0;32m   3388\u001b[0m             \u001b[0mline_terminator\u001b[0m\u001b[1;33m=\u001b[0m\u001b[0mline_terminator\u001b[0m\u001b[1;33m,\u001b[0m\u001b[1;33m\u001b[0m\u001b[1;33m\u001b[0m\u001b[0m\n",
      "\u001b[1;32md:\\ciat\\virtualenv\\jupyter\\lib\\site-packages\\pandas\\io\\formats\\format.py\u001b[0m in \u001b[0;36mto_csv\u001b[1;34m(self, path_or_buf, encoding, sep, columns, index_label, mode, compression, quoting, quotechar, line_terminator, chunksize, date_format, doublequote, escapechar, errors, storage_options)\u001b[0m\n\u001b[0;32m   1081\u001b[0m             \u001b[0mformatter\u001b[0m\u001b[1;33m=\u001b[0m\u001b[0mself\u001b[0m\u001b[1;33m.\u001b[0m\u001b[0mfmt\u001b[0m\u001b[1;33m,\u001b[0m\u001b[1;33m\u001b[0m\u001b[1;33m\u001b[0m\u001b[0m\n\u001b[0;32m   1082\u001b[0m         )\n\u001b[1;32m-> 1083\u001b[1;33m         \u001b[0mcsv_formatter\u001b[0m\u001b[1;33m.\u001b[0m\u001b[0msave\u001b[0m\u001b[1;33m(\u001b[0m\u001b[1;33m)\u001b[0m\u001b[1;33m\u001b[0m\u001b[1;33m\u001b[0m\u001b[0m\n\u001b[0m\u001b[0;32m   1084\u001b[0m \u001b[1;33m\u001b[0m\u001b[0m\n\u001b[0;32m   1085\u001b[0m         \u001b[1;32mif\u001b[0m \u001b[0mcreated_buffer\u001b[0m\u001b[1;33m:\u001b[0m\u001b[1;33m\u001b[0m\u001b[1;33m\u001b[0m\u001b[0m\n",
      "\u001b[1;32md:\\ciat\\virtualenv\\jupyter\\lib\\site-packages\\pandas\\io\\formats\\csvs.py\u001b[0m in \u001b[0;36msave\u001b[1;34m(self)\u001b[0m\n\u001b[0;32m    226\u001b[0m         \"\"\"\n\u001b[0;32m    227\u001b[0m         \u001b[1;31m# apply compression and byte/text conversion\u001b[0m\u001b[1;33m\u001b[0m\u001b[1;33m\u001b[0m\u001b[1;33m\u001b[0m\u001b[0m\n\u001b[1;32m--> 228\u001b[1;33m         with get_handle(\n\u001b[0m\u001b[0;32m    229\u001b[0m             \u001b[0mself\u001b[0m\u001b[1;33m.\u001b[0m\u001b[0mfilepath_or_buffer\u001b[0m\u001b[1;33m,\u001b[0m\u001b[1;33m\u001b[0m\u001b[1;33m\u001b[0m\u001b[0m\n\u001b[0;32m    230\u001b[0m             \u001b[0mself\u001b[0m\u001b[1;33m.\u001b[0m\u001b[0mmode\u001b[0m\u001b[1;33m,\u001b[0m\u001b[1;33m\u001b[0m\u001b[1;33m\u001b[0m\u001b[0m\n",
      "\u001b[1;32md:\\ciat\\virtualenv\\jupyter\\lib\\site-packages\\pandas\\io\\common.py\u001b[0m in \u001b[0;36mget_handle\u001b[1;34m(path_or_buf, mode, encoding, compression, memory_map, is_text, errors, storage_options)\u001b[0m\n\u001b[0;32m    640\u001b[0m                 \u001b[0merrors\u001b[0m \u001b[1;33m=\u001b[0m \u001b[1;34m\"replace\"\u001b[0m\u001b[1;33m\u001b[0m\u001b[1;33m\u001b[0m\u001b[0m\n\u001b[0;32m    641\u001b[0m             \u001b[1;31m# Encoding\u001b[0m\u001b[1;33m\u001b[0m\u001b[1;33m\u001b[0m\u001b[1;33m\u001b[0m\u001b[0m\n\u001b[1;32m--> 642\u001b[1;33m             handle = open(\n\u001b[0m\u001b[0;32m    643\u001b[0m                 \u001b[0mhandle\u001b[0m\u001b[1;33m,\u001b[0m\u001b[1;33m\u001b[0m\u001b[1;33m\u001b[0m\u001b[0m\n\u001b[0;32m    644\u001b[0m                 \u001b[0mioargs\u001b[0m\u001b[1;33m.\u001b[0m\u001b[0mmode\u001b[0m\u001b[1;33m,\u001b[0m\u001b[1;33m\u001b[0m\u001b[1;33m\u001b[0m\u001b[0m\n",
      "\u001b[1;31mPermissionError\u001b[0m: [Errno 13] Permission denied: 'D:\\\\CIAT\\\\Code\\\\BID\\\\dci_fauno\\\\data\\\\risk_calculator\\\\inputs\\\\mob\\\\log\\\\cattle_rancher_network.csv'"
     ]
    }
   ],
   "source": [
    "# Getting parameters for processing data\n",
    "ris_years = map(str.strip, conf.loc[conf[\"parameter\"] == \"ris_years\",\"value\"].values[0].split(\",\"))\n",
    "ris_types_analysis =  map(str.strip, conf.loc[conf[\"parameter\"] == \"ris_types_analysis\",\"value\"].values[0].split(\",\"))\n",
    "ris_type_plot = conf.loc[conf[\"parameter\"] == \"ris_type_plot\",\"value\"].values[0]\n",
    "\n",
    "#impo.generate_outputs(inputs, outputs, ris_years, ris_types_analysis, ris_type_plot)\n",
    "impo.generate_outputs(inputs, outputs, [\"2017\"], ris_types_analysis, ris_type_plot)\n",
    "print(\"Done!\")"
   ]
  },
  {
   "cell_type": "code",
   "execution_count": null,
   "id": "historical-revelation",
   "metadata": {},
   "outputs": [],
   "source": []
  }
 ],
 "metadata": {
  "kernelspec": {
   "display_name": "Python 3",
   "language": "python",
   "name": "python3"
  },
  "language_info": {
   "codemirror_mode": {
    "name": "ipython",
    "version": 3
   },
   "file_extension": ".py",
   "mimetype": "text/x-python",
   "name": "python",
   "nbconvert_exporter": "python",
   "pygments_lexer": "ipython3",
   "version": "3.9.1"
  }
 },
 "nbformat": 4,
 "nbformat_minor": 5
}
