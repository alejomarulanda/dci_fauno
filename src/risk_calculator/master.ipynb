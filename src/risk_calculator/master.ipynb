{
 "cells": [
  {
   "cell_type": "markdown",
   "id": "emerging-talent",
   "metadata": {},
   "source": [
    "# Risk calculator process"
   ]
  },
  {
   "cell_type": "markdown",
   "id": "comic-ghana",
   "metadata": {},
   "source": [
    "## Importing modules for running process\n",
    "In this section all modules which are used by the system are loaded in memory"
   ]
  },
  {
   "cell_type": "code",
   "execution_count": 1,
   "id": "blessed-spray",
   "metadata": {},
   "outputs": [
    {
     "name": "stdout",
     "output_type": "stream",
     "text": [
      "Done!\n"
     ]
    }
   ],
   "source": [
    "# Import libraries\n",
    "import os\n",
    "import glob\n",
    "import numpy as np\n",
    "import pandas as pd\n",
    "\n",
    "# Import modules\n",
    "import deforestation as defo\n",
    "import administrative_level as adle\n",
    "import livestock_plot as plot\n",
    "print(\"Done!\")"
   ]
  },
  {
   "cell_type": "markdown",
   "id": "middle-powell",
   "metadata": {},
   "source": [
    "## Setting global parameters\n",
    "In this section all configurations about folders and files to set up\n",
    "the system are created. These configurations are global variables for the system"
   ]
  },
  {
   "cell_type": "code",
   "execution_count": 2,
   "id": "electrical-cause",
   "metadata": {},
   "outputs": [
    {
     "name": "stdout",
     "output_type": "stream",
     "text": [
      "Done!\n"
     ]
    }
   ],
   "source": [
    "# Global folders\n",
    "#root_folder = \"/home/jovyan/work/BID/dci_fauno/\"\n",
    "root_folder = \"D:\\\\CIAT\\\\Code\\\\BID\\\\dci_fauno\"\n",
    "data_folder = os.path.join(root_folder, \"data\",\"risk_calculator\")\n",
    "inputs = os.path.join(data_folder,\"inputs\")\n",
    "outputs = os.path.join(data_folder,\"outputs\")\n",
    "conf_folder = os.path.join(data_folder,\"conf\")\n",
    "# Deforestation folders\n",
    "def_folder = os.path.join(inputs,\"def\")\n",
    "# Administrative level folders\n",
    "adm_folder = os.path.join(inputs,\"adm\")\n",
    "# Livestock plots\n",
    "plot_folder = os.path.join(inputs,\"plot\")\n",
    "\n",
    "# Parameters file\n",
    "conf_xls = pd.ExcelFile(os.path.join(conf_folder,\"conf.xlsx\"))\n",
    "conf = conf_xls.parse(\"conf\")\n",
    "\n",
    "# Creating folders\n",
    "# Create folder for deforestation files\n",
    "if not os.path.exists(def_folder):    \n",
    "    os.mkdir(def_folder)\n",
    "# Create folder for administrative level files\n",
    "if not os.path.exists(adm_folder):    \n",
    "    os.mkdir(adm_folder)\n",
    "# Create folder for livestock plot files\n",
    "if not os.path.exists(plot_folder):    \n",
    "    os.mkdir(plot_folder)\n",
    "\n",
    "print(\"Done!\")"
   ]
  },
  {
   "cell_type": "markdown",
   "id": "smaller-dimension",
   "metadata": {},
   "source": [
    "# Deforestation\n",
    "This chapter is responsible to prepare all files about deforestation in order to they can \n",
    "be processed then."
   ]
  },
  {
   "cell_type": "markdown",
   "id": "positive-monday",
   "metadata": {},
   "source": [
    "## Download and unzip deforestation data\n",
    "In this section all data about deforestation for a country will be downloaded and extracted\n",
    "into specific folders. It keeps all raw files, it will allow to debug if it would be\n",
    "necessary"
   ]
  },
  {
   "cell_type": "code",
   "execution_count": null,
   "id": "pleased-brave",
   "metadata": {},
   "outputs": [],
   "source": [
    "# Getting parameters for downloading deforestation files\n",
    "url_base = conf.loc[conf[\"parameter\"] == \"def_src_base_url\",\"value\"].values[0]\n",
    "file_name_base = conf.loc[conf[\"parameter\"] == \"def_src_file_name\",\"value\"].values[0]\n",
    "def_periods = conf.loc[conf[\"parameter\"] == \"def_periods\",\"value\"].values[0].split(\",\")\n",
    "\n",
    "# Download files from source in zip format and extract them\n",
    "defo.download_deforestation(def_folder, url_base, file_name_base, def_periods)\n",
    "print(\"Done!\")"
   ]
  },
  {
   "cell_type": "markdown",
   "id": "loved-handle",
   "metadata": {},
   "source": [
    "## Extract deforestation values\n",
    "This section takes the raster, which were downloaded, extract just deforestation pixels\n",
    "and create a new raster with this data. Then it creates a summary raster which merge all\n",
    "others raster files in just one. The output files are standarize in the same dimention in order\n",
    "to operate them in the next steps, some process inside of the functions are: resample, crop\n",
    "and summarize."
   ]
  },
  {
   "cell_type": "code",
   "execution_count": 3,
   "id": "speaking-cheese",
   "metadata": {},
   "outputs": [
    {
     "name": "stdout",
     "output_type": "stream",
     "text": [
      "Calculating parameters for new files\n",
      "Bounds: POLYGON ((-66.65601560981048 -4.244791035761322, -66.65601560981048 13.41161398742386, -81.79485170083258 13.41161398742386, -81.79485170083258 -4.244791035761322, -66.65601560981048 -4.244791035761322))\n",
      "Working: D:\\CIAT\\Code\\BID\\dci_fauno\\data\\risk_calculator\\inputs\\def\\content\\Cambio_Cobertura_Bosque_No_Bosque_2010_2012\\Geotiff\\DCCB_SMBYC_CBBQ_V5_2010_2012.tif\n",
      "Reprojecting: D:\\CIAT\\Code\\BID\\dci_fauno\\data\\risk_calculator\\inputs\\def\\fixed\\DCCB_SMBYC_CBBQ_V5_2010_2012_tmp.tif\n"
     ]
    },
    {
     "name": "stderr",
     "output_type": "stream",
     "text": [
      "d:\\ciat\\virtualenv\\jupyter\\lib\\site-packages\\pyproj\\crs\\crs.py:53: FutureWarning: '+init=<authority>:<code>' syntax is deprecated. '<authority>:<code>' is the preferred initialization method. When making the change, be mindful of axis order changes: https://pyproj4.github.io/pyproj/stable/gotchas.html#axis-order-changes-in-proj-6\n",
      "  return _prepare_from_string(\" \".join(pjargs))\n"
     ]
    },
    {
     "name": "stdout",
     "output_type": "stream",
     "text": [
      "Opening: D:\\CIAT\\Code\\BID\\dci_fauno\\data\\risk_calculator\\inputs\\def\\fixed\\DCCB_SMBYC_CBBQ_V5_2010_2012_tmp.tif\n",
      "Cropping raster\n",
      "Saving tmp\n",
      "Resampling raster\n",
      "Saving: D:\\CIAT\\Code\\BID\\dci_fauno\\data\\risk_calculator\\inputs\\def\\fixed\\DCCB_SMBYC_CBBQ_V5_2010_2012.tif\n",
      "Working: D:\\CIAT\\Code\\BID\\dci_fauno\\data\\risk_calculator\\inputs\\def\\content\\Cambio_Cobertura_Bosque_No_Bosque_2012_2013\\Geotiff\\DCCB_SMBYC_CBBQ_V5_2012_2013.tif\n",
      "Reprojecting: D:\\CIAT\\Code\\BID\\dci_fauno\\data\\risk_calculator\\inputs\\def\\fixed\\DCCB_SMBYC_CBBQ_V5_2012_2013_tmp.tif\n",
      "Opening: D:\\CIAT\\Code\\BID\\dci_fauno\\data\\risk_calculator\\inputs\\def\\fixed\\DCCB_SMBYC_CBBQ_V5_2012_2013_tmp.tif\n",
      "Cropping raster\n",
      "Saving tmp\n",
      "Resampling raster\n",
      "Saving: D:\\CIAT\\Code\\BID\\dci_fauno\\data\\risk_calculator\\inputs\\def\\fixed\\DCCB_SMBYC_CBBQ_V5_2012_2013.tif\n",
      "Working: D:\\CIAT\\Code\\BID\\dci_fauno\\data\\risk_calculator\\inputs\\def\\content\\Cambio_Cobertura_Bosque_No_Bosque_2013_2014\\Geotiff\\DCCB_SMBYC_CBBQ_V6_2013_2014.tif\n",
      "Reprojecting: D:\\CIAT\\Code\\BID\\dci_fauno\\data\\risk_calculator\\inputs\\def\\fixed\\DCCB_SMBYC_CBBQ_V6_2013_2014_tmp.tif\n",
      "Opening: D:\\CIAT\\Code\\BID\\dci_fauno\\data\\risk_calculator\\inputs\\def\\fixed\\DCCB_SMBYC_CBBQ_V6_2013_2014_tmp.tif\n",
      "Cropping raster\n",
      "Saving tmp\n",
      "Resampling raster\n",
      "Saving: D:\\CIAT\\Code\\BID\\dci_fauno\\data\\risk_calculator\\inputs\\def\\fixed\\DCCB_SMBYC_CBBQ_V6_2013_2014.tif\n",
      "Working: D:\\CIAT\\Code\\BID\\dci_fauno\\data\\risk_calculator\\inputs\\def\\content\\Cambio_Cobertura_Bosque_No_Bosque_2014_2015\\GeoTiff\\DCCB_SMBYC_CBBQ_V7_2014_2015.tif\n",
      "Reprojecting: D:\\CIAT\\Code\\BID\\dci_fauno\\data\\risk_calculator\\inputs\\def\\fixed\\DCCB_SMBYC_CBBQ_V7_2014_2015_tmp.tif\n",
      "Opening: D:\\CIAT\\Code\\BID\\dci_fauno\\data\\risk_calculator\\inputs\\def\\fixed\\DCCB_SMBYC_CBBQ_V7_2014_2015_tmp.tif\n",
      "Cropping raster\n",
      "Saving tmp\n",
      "Resampling raster\n",
      "Saving: D:\\CIAT\\Code\\BID\\dci_fauno\\data\\risk_calculator\\inputs\\def\\fixed\\DCCB_SMBYC_CBBQ_V7_2014_2015.tif\n",
      "Working: D:\\CIAT\\Code\\BID\\dci_fauno\\data\\risk_calculator\\inputs\\def\\content\\Cambio_Cobertura_Bosque_No_Bosque_2015_2016\\Geotiff\\DCCB_SMBYC_CBBQ_V7_2015_2016.tif\n",
      "Reprojecting: D:\\CIAT\\Code\\BID\\dci_fauno\\data\\risk_calculator\\inputs\\def\\fixed\\DCCB_SMBYC_CBBQ_V7_2015_2016_tmp.tif\n",
      "Opening: D:\\CIAT\\Code\\BID\\dci_fauno\\data\\risk_calculator\\inputs\\def\\fixed\\DCCB_SMBYC_CBBQ_V7_2015_2016_tmp.tif\n",
      "Cropping raster\n",
      "Saving tmp\n",
      "Resampling raster\n",
      "Saving: D:\\CIAT\\Code\\BID\\dci_fauno\\data\\risk_calculator\\inputs\\def\\fixed\\DCCB_SMBYC_CBBQ_V7_2015_2016.tif\n",
      "Compiling rasters files\n",
      "D:\\CIAT\\Code\\BID\\dci_fauno\\data\\risk_calculator\\inputs\\def\\fixed\\DCCB_SMBYC_CBBQ_V5_2010_2012.tif\n",
      "D:\\CIAT\\Code\\BID\\dci_fauno\\data\\risk_calculator\\inputs\\def\\fixed\\DCCB_SMBYC_CBBQ_V5_2010_2012_tmp.tif\n"
     ]
    },
    {
     "ename": "ValueError",
     "evalue": "operands could not be broadcast together with shapes (1,65077,55679) (1,65079,55832) ",
     "output_type": "error",
     "traceback": [
      "\u001b[1;31m---------------------------------------------------------------------------\u001b[0m",
      "\u001b[1;31mValueError\u001b[0m                                Traceback (most recent call last)",
      "\u001b[1;32m<ipython-input-3-5a74e007a32b>\u001b[0m in \u001b[0;36m<module>\u001b[1;34m\u001b[0m\n\u001b[0;32m      4\u001b[0m \u001b[1;33m\u001b[0m\u001b[0m\n\u001b[0;32m      5\u001b[0m \u001b[0mdefo\u001b[0m\u001b[1;33m.\u001b[0m\u001b[0mextract_deforestation\u001b[0m\u001b[1;33m(\u001b[0m\u001b[0mdef_folder\u001b[0m\u001b[1;33m,\u001b[0m \u001b[0mdef_value\u001b[0m\u001b[1;33m,\u001b[0m \u001b[0mdef_pixel_size\u001b[0m\u001b[1;33m)\u001b[0m\u001b[1;33m\u001b[0m\u001b[1;33m\u001b[0m\u001b[0m\n\u001b[1;32m----> 6\u001b[1;33m \u001b[0mdefo\u001b[0m\u001b[1;33m.\u001b[0m\u001b[0msummary_deforestation\u001b[0m\u001b[1;33m(\u001b[0m\u001b[0mdef_folder\u001b[0m\u001b[1;33m)\u001b[0m\u001b[1;33m\u001b[0m\u001b[1;33m\u001b[0m\u001b[0m\n\u001b[0m\u001b[0;32m      7\u001b[0m \u001b[0mprint\u001b[0m\u001b[1;33m(\u001b[0m\u001b[1;34m\"Done!\"\u001b[0m\u001b[1;33m)\u001b[0m\u001b[1;33m\u001b[0m\u001b[1;33m\u001b[0m\u001b[0m\n",
      "\u001b[1;32mD:\\CIAT\\Code\\BID\\dci_fauno\\src\\risk_calculator\\deforestation.py\u001b[0m in \u001b[0;36msummary_deforestation\u001b[1;34m(inputs)\u001b[0m\n\u001b[0;32m    199\u001b[0m                 \u001b[0msummary\u001b[0m \u001b[1;33m=\u001b[0m \u001b[0marray\u001b[0m\u001b[1;33m\u001b[0m\u001b[1;33m\u001b[0m\u001b[0m\n\u001b[0;32m    200\u001b[0m                 \u001b[0mmeta_ref\u001b[0m \u001b[1;33m=\u001b[0m \u001b[0mraster\u001b[0m\u001b[1;33m.\u001b[0m\u001b[0mmeta\u001b[0m\u001b[1;33m.\u001b[0m\u001b[0mcopy\u001b[0m\u001b[1;33m(\u001b[0m\u001b[1;33m)\u001b[0m\u001b[1;33m\u001b[0m\u001b[1;33m\u001b[0m\u001b[0m\n\u001b[1;32m--> 201\u001b[1;33m             \u001b[0msummary\u001b[0m \u001b[1;33m=\u001b[0m \u001b[0msummary\u001b[0m \u001b[1;33m+\u001b[0m \u001b[0marray\u001b[0m\u001b[1;33m\u001b[0m\u001b[1;33m\u001b[0m\u001b[0m\n\u001b[0m\u001b[0;32m    202\u001b[0m     \u001b[0msummary\u001b[0m\u001b[1;33m[\u001b[0m\u001b[0msummary\u001b[0m \u001b[1;33m!=\u001b[0m \u001b[1;36m0\u001b[0m\u001b[1;33m]\u001b[0m \u001b[1;33m=\u001b[0m \u001b[1;36m2\u001b[0m\u001b[1;33m\u001b[0m\u001b[1;33m\u001b[0m\u001b[0m\n\u001b[0;32m    203\u001b[0m     \u001b[0mdest_file\u001b[0m \u001b[1;33m=\u001b[0m \u001b[0mos\u001b[0m\u001b[1;33m.\u001b[0m\u001b[0mpath\u001b[0m\u001b[1;33m.\u001b[0m\u001b[0mjoin\u001b[0m\u001b[1;33m(\u001b[0m\u001b[0moutputs_folder\u001b[0m\u001b[1;33m,\u001b[0m\u001b[1;34m\"summary.tif\"\u001b[0m\u001b[1;33m)\u001b[0m\u001b[1;33m\u001b[0m\u001b[1;33m\u001b[0m\u001b[0m\n",
      "\u001b[1;31mValueError\u001b[0m: operands could not be broadcast together with shapes (1,65077,55679) (1,65079,55832) "
     ]
    }
   ],
   "source": [
    "# Getting parameters for filtering deforestation pixels\n",
    "def_value = int(conf.loc[conf[\"parameter\"] == \"def_value\",\"value\"].values[0])\n",
    "def_pixel_size = float(conf.loc[conf[\"parameter\"] == \"def_pixel_size\",\"value\"].values[0])\n",
    "\n",
    "defo.extract_deforestation(def_folder, def_value, def_pixel_size)\n",
    "defo.summary_deforestation(def_folder)\n",
    "print(\"Done!\")"
   ]
  },
  {
   "cell_type": "markdown",
   "id": "quick-radius",
   "metadata": {},
   "source": [
    "# Administrative level\n",
    "In this chapter all data sources about administrative level are processed"
   ]
  },
  {
   "cell_type": "markdown",
   "id": "incorporate-lyric",
   "metadata": {},
   "source": [
    "## Download and unzip\n",
    "In this section all data about administrative lever of the country will be downloaded and extracted\n",
    "into specific folders. It keeps all raw files, it will allow to debug if it would be\n",
    "necessary"
   ]
  },
  {
   "cell_type": "code",
   "execution_count": null,
   "id": "pointed-greeting",
   "metadata": {},
   "outputs": [],
   "source": [
    "# Getting parameters for downloading adiministrative sources\n",
    "adm_url_source = conf.loc[conf[\"parameter\"] == \"adm_url_source\",\"value\"].values[0]\n",
    "\n",
    "# Download files from source in zip format and extract them\n",
    "adle.download_data(adm_folder, adm_url_source)\n",
    "print(\"Done!\")"
   ]
  },
  {
   "cell_type": "markdown",
   "id": "tested-seeker",
   "metadata": {},
   "source": [
    "# Livestock plots\n",
    "In this chapter, the information about livestock plots is processed"
   ]
  },
  {
   "cell_type": "markdown",
   "id": "cubic-refrigerator",
   "metadata": {},
   "source": [
    "## Fixing data\n",
    "This section compiles all CSV files with information about plots for all years"
   ]
  },
  {
   "cell_type": "code",
   "execution_count": null,
   "id": "smaller-transparency",
   "metadata": {},
   "outputs": [],
   "source": [
    "# Getting parameters for processing data\n",
    "plot_character_file = conf.loc[conf[\"parameter\"] == \"plot_character_file\",\"value\"].values[0]\n",
    "\n",
    "# Compiling data\n",
    "plot.fix_data(plot_folder, plot_character_file)\n",
    "print(\"Done!\")"
   ]
  },
  {
   "cell_type": "markdown",
   "id": "little-georgia",
   "metadata": {},
   "source": [
    "## Codigo andres"
   ]
  }
 ],
 "metadata": {
  "kernelspec": {
   "display_name": "Python 3",
   "language": "python",
   "name": "python3"
  },
  "language_info": {
   "codemirror_mode": {
    "name": "ipython",
    "version": 3
   },
   "file_extension": ".py",
   "mimetype": "text/x-python",
   "name": "python",
   "nbconvert_exporter": "python",
   "pygments_lexer": "ipython3",
   "version": "3.9.1"
  }
 },
 "nbformat": 4,
 "nbformat_minor": 5
}
