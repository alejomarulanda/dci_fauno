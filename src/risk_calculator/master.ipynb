{
 "cells": [
  {
   "cell_type": "markdown",
   "id": "emerging-talent",
   "metadata": {},
   "source": [
    "# Risk calculator process"
   ]
  },
  {
   "cell_type": "markdown",
   "id": "comic-ghana",
   "metadata": {},
   "source": [
    "## Importing modules for running process\n",
    "In this section all modules which are used by the system are loaded in memory"
   ]
  },
  {
   "cell_type": "code",
   "execution_count": 1,
   "id": "blessed-spray",
   "metadata": {},
   "outputs": [
    {
     "name": "stdout",
     "output_type": "stream",
     "text": [
      "Done!\n"
     ]
    }
   ],
   "source": [
    "# Import libraries\n",
    "import os\n",
    "import glob\n",
    "import numpy as np\n",
    "import pandas as pd\n",
    "\n",
    "# Import modules\n",
    "import deforestation as defo\n",
    "import administrative_level as adle\n",
    "import livestock_plot as plot\n",
    "import risk as risk\n",
    "print(\"Done!\")"
   ]
  },
  {
   "cell_type": "markdown",
   "id": "middle-powell",
   "metadata": {},
   "source": [
    "## Setting global parameters\n",
    "In this section all configurations about folders and files to set up\n",
    "the system are created. These configurations are global variables for the system"
   ]
  },
  {
   "cell_type": "code",
   "execution_count": 2,
   "id": "electrical-cause",
   "metadata": {},
   "outputs": [
    {
     "name": "stdout",
     "output_type": "stream",
     "text": [
      "Done!\n"
     ]
    }
   ],
   "source": [
    "# Global folders\n",
    "#root_folder = \"/home/jovyan/work/BID/dci_fauno/\"\n",
    "root_folder = \"D:\\\\CIAT\\\\Code\\\\BID\\\\dci_fauno\"\n",
    "data_folder = os.path.join(root_folder, \"data\",\"risk_calculator\")\n",
    "inputs = os.path.join(data_folder,\"inputs\")\n",
    "outputs = os.path.join(data_folder,\"outputs\")\n",
    "conf_folder = os.path.join(data_folder,\"conf\")\n",
    "# Deforestation folders\n",
    "def_folder = os.path.join(inputs,\"def\")\n",
    "# Administrative level folders\n",
    "adm_folder = os.path.join(inputs,\"adm\")\n",
    "# Livestock plots\n",
    "plot_folder = os.path.join(inputs,\"plot\")\n",
    "\n",
    "# Parameters file\n",
    "conf_xls = pd.ExcelFile(os.path.join(conf_folder,\"conf.xlsx\"))\n",
    "conf = conf_xls.parse(\"conf\")\n",
    "buffer = conf_xls.parse(\"buffer\")\n",
    "\n",
    "# Global parameters from conf.xlsx file\n",
    "glo_crs = int(conf.loc[conf[\"parameter\"] == \"glo_crs\",\"value\"].values[0])\n",
    "\n",
    "# Creating folders\n",
    "# Create folder for deforestation files\n",
    "if not os.path.exists(def_folder):    \n",
    "    os.mkdir(def_folder)\n",
    "# Create folder for administrative level files\n",
    "if not os.path.exists(adm_folder):    \n",
    "    os.mkdir(adm_folder)\n",
    "# Create folder for livestock plot files\n",
    "if not os.path.exists(plot_folder):    \n",
    "    os.mkdir(plot_folder)\n",
    "\n",
    "print(\"Done!\")"
   ]
  },
  {
   "cell_type": "markdown",
   "id": "smaller-dimension",
   "metadata": {},
   "source": [
    "## Downloading data\n",
    "This section downloads all data require by the system. It keeps all raw files, it will allow to debug if it would be necessary"
   ]
  },
  {
   "cell_type": "markdown",
   "id": "fantastic-honor",
   "metadata": {},
   "source": [
    "### Administrative level - Download and unzip\n",
    "In this section all data about administrative lever of the country will be downloaded and extracted\n",
    "into specific folders."
   ]
  },
  {
   "cell_type": "code",
   "execution_count": null,
   "id": "arbitrary-delaware",
   "metadata": {},
   "outputs": [],
   "source": [
    "# Getting parameters for downloading adiministrative sources\n",
    "adm_url_source = conf.loc[conf[\"parameter\"] == \"adm_url_source\",\"value\"].values[0]\n",
    "# Download files from source in zip format and extract them\n",
    "adle.download_data(adm_folder, adm_url_source)\n",
    "print(\"Done!\")"
   ]
  },
  {
   "cell_type": "markdown",
   "id": "outside-blocking",
   "metadata": {},
   "source": [
    "### Deforestation - Download and unzip\n",
    "In this section all data about deforestation for a country are downloaded and extracted\n",
    "into specific folders."
   ]
  },
  {
   "cell_type": "code",
   "execution_count": null,
   "id": "pleased-brave",
   "metadata": {},
   "outputs": [],
   "source": [
    "# Getting parameters for downloading deforestation files\n",
    "url_base = conf.loc[conf[\"parameter\"] == \"def_src_base_url\",\"value\"].values[0]\n",
    "file_name_base = conf.loc[conf[\"parameter\"] == \"def_src_file_name\",\"value\"].values[0]\n",
    "def_periods = conf.loc[conf[\"parameter\"] == \"def_periods\",\"value\"].values[0].split(\",\")\n",
    "\n",
    "# Download files from source in zip format and extract them\n",
    "defo.download_deforestation(def_folder, url_base, file_name_base, def_periods)\n",
    "print(\"Done!\")"
   ]
  },
  {
   "cell_type": "markdown",
   "id": "potential-bonus",
   "metadata": {},
   "source": [
    "## Fixing data\n",
    "This chaptar fix the data downloaded into files and formats, in order to can process information"
   ]
  },
  {
   "cell_type": "markdown",
   "id": "incorporate-lyric",
   "metadata": {},
   "source": [
    "### Administrative level - Reproject\n",
    "This process reprojects to CRS destiny the original database"
   ]
  },
  {
   "cell_type": "code",
   "execution_count": null,
   "id": "pointed-greeting",
   "metadata": {},
   "outputs": [],
   "source": [
    "adm_src_adm1_name = conf.loc[conf[\"parameter\"] == \"adm_src_adm1_name\",\"value\"].values[0]\n",
    "adm_src_adm1_id = conf.loc[conf[\"parameter\"] == \"adm_src_adm1_id\",\"value\"].values[0]\n",
    "adm_src_adm2_name = conf.loc[conf[\"parameter\"] == \"adm_src_adm2_name\",\"value\"].values[0]\n",
    "adm_src_adm2_id = conf.loc[conf[\"parameter\"] == \"adm_src_adm2_id\",\"value\"].values[0]\n",
    "adm_src_adm3_name = conf.loc[conf[\"parameter\"] == \"adm_src_adm3_name\",\"value\"].values[0]\n",
    "adm_src_adm3_id = conf.loc[conf[\"parameter\"] == \"adm_src_adm3_id\",\"value\"].values[0]\n",
    "adm_src_area = conf.loc[conf[\"parameter\"] == \"adm_src_area\",\"value\"].values[0]\n",
    "adm_src_geometry = conf.loc[conf[\"parameter\"] == \"adm_src_geometry\",\"value\"].values[0]\n",
    "\n",
    "# Reporject file\n",
    "adle.reproject_source(adm_folder, glo_crs,\n",
    "                      adm_src_adm1_name, adm_src_adm1_id, \n",
    "                      adm_src_adm2_name, adm_src_adm2_id, \n",
    "                      adm_src_adm3_name, adm_src_adm3_id, \n",
    "                      adm_src_area, adm_src_geometry)\n",
    "print(\"Done!\")"
   ]
  },
  {
   "cell_type": "markdown",
   "id": "loved-handle",
   "metadata": {},
   "source": [
    "### Deforestation - Extract deforestation values\n",
    "This section takes the rasters files, which were downloaded, then extract just deforestation pixels\n",
    "and create a new raster with this data. Finally it creates a summary raster which merge all\n",
    "others raster files in just one. The output raster files are standarized, it means all pixels are in \n",
    "the same size, the CRS is the same for all, and are clipped with the same size"
   ]
  },
  {
   "cell_type": "code",
   "execution_count": 3,
   "id": "speaking-cheese",
   "metadata": {},
   "outputs": [
    {
     "name": "stdout",
     "output_type": "stream",
     "text": [
      "Extracting!\n",
      "Calculating parameters for new files\n",
      "file: D:\\CIAT\\Code\\BID\\dci_fauno\\data\\risk_calculator\\inputs\\def\\content\\Cambio_Cobertura_Bosque_No_Bosque_2010_2012\\Geotiff\\DCCB_SMBYC_CBBQ_V5_2010_2012.tif\n",
      "file: D:\\CIAT\\Code\\BID\\dci_fauno\\data\\risk_calculator\\inputs\\def\\content\\Cambio_Cobertura_Bosque_No_Bosque_2012_2013\\Geotiff\\DCCB_SMBYC_CBBQ_V5_2012_2013.tif\n",
      "file: D:\\CIAT\\Code\\BID\\dci_fauno\\data\\risk_calculator\\inputs\\def\\content\\Cambio_Cobertura_Bosque_No_Bosque_2013_2014\\Geotiff\\DCCB_SMBYC_CBBQ_V6_2013_2014.tif\n",
      "file: D:\\CIAT\\Code\\BID\\dci_fauno\\data\\risk_calculator\\inputs\\def\\content\\Cambio_Cobertura_Bosque_No_Bosque_2014_2015\\GeoTiff\\DCCB_SMBYC_CBBQ_V7_2014_2015.tif\n",
      "file: D:\\CIAT\\Code\\BID\\dci_fauno\\data\\risk_calculator\\inputs\\def\\content\\Cambio_Cobertura_Bosque_No_Bosque_2015_2016\\Geotiff\\DCCB_SMBYC_CBBQ_V7_2015_2016.tif\n",
      "file: D:\\CIAT\\Code\\BID\\dci_fauno\\data\\risk_calculator\\inputs\\def\\content\\Cambio_Cobertura_Bosque_No_Bosque_2016_2017\\TTTHM4RG3_BEA_T_reprojected_2016_2017.tif\n",
      "file: D:\\CIAT\\Code\\BID\\dci_fauno\\data\\risk_calculator\\inputs\\def\\content\\Cambio_Cobertura_Bosque_No_Bosque_2017_2018\\TT8FG4BA5_BEA_T_reprojected_2017_2018.tif\n",
      "file: D:\\CIAT\\Code\\BID\\dci_fauno\\data\\risk_calculator\\inputs\\def\\content\\Cambio_Cobertura_Bosque_No_Bosque_2018_2019\\reprojected_2018-2019.tif\n",
      "Bounds: POLYGON ((-66.65601560981048 -4.244791035761322, -66.65601560981048 12.580743905, -79.224357185 12.580743905, -79.224357185 -4.244791035761322, -66.65601560981048 -4.244791035761322))\n",
      "CRS: EPSG:4686\n",
      "Working: D:\\CIAT\\Code\\BID\\dci_fauno\\data\\risk_calculator\\inputs\\def\\content\\Cambio_Cobertura_Bosque_No_Bosque_2010_2012\\Geotiff\\DCCB_SMBYC_CBBQ_V5_2010_2012.tif\n",
      "Reprojecting: D:\\CIAT\\Code\\BID\\dci_fauno\\data\\risk_calculator\\inputs\\def\\fixed\\DCCB_SMBYC_CBBQ_V5_2010_2012_tmp.tif\n"
     ]
    },
    {
     "name": "stderr",
     "output_type": "stream",
     "text": [
      "d:\\ciat\\virtualenv\\jupyter\\lib\\site-packages\\pyproj\\crs\\crs.py:53: FutureWarning: '+init=<authority>:<code>' syntax is deprecated. '<authority>:<code>' is the preferred initialization method. When making the change, be mindful of axis order changes: https://pyproj4.github.io/pyproj/stable/gotchas.html#axis-order-changes-in-proj-6\n",
      "  return _prepare_from_string(\" \".join(pjargs))\n"
     ]
    },
    {
     "name": "stdout",
     "output_type": "stream",
     "text": [
      "Opening: D:\\CIAT\\Code\\BID\\dci_fauno\\data\\risk_calculator\\inputs\\def\\fixed\\DCCB_SMBYC_CBBQ_V5_2010_2012_tmp.tif\n",
      "Cropping raster\n",
      "Dimention: H=61079 W=45525\n",
      "Saving: D:\\CIAT\\Code\\BID\\dci_fauno\\data\\risk_calculator\\inputs\\def\\fixed\\raster_detail\\2010.tif\n",
      "Deleting tmp: D:\\CIAT\\Code\\BID\\dci_fauno\\data\\risk_calculator\\inputs\\def\\fixed\\DCCB_SMBYC_CBBQ_V5_2010_2012_tmp.tif\n",
      "Working: D:\\CIAT\\Code\\BID\\dci_fauno\\data\\risk_calculator\\inputs\\def\\content\\Cambio_Cobertura_Bosque_No_Bosque_2012_2013\\Geotiff\\DCCB_SMBYC_CBBQ_V5_2012_2013.tif\n",
      "Reprojecting: D:\\CIAT\\Code\\BID\\dci_fauno\\data\\risk_calculator\\inputs\\def\\fixed\\DCCB_SMBYC_CBBQ_V5_2012_2013_tmp.tif\n",
      "Opening: D:\\CIAT\\Code\\BID\\dci_fauno\\data\\risk_calculator\\inputs\\def\\fixed\\DCCB_SMBYC_CBBQ_V5_2012_2013_tmp.tif\n",
      "Cropping raster\n",
      "Dimention: H=61079 W=45525\n",
      "Saving: D:\\CIAT\\Code\\BID\\dci_fauno\\data\\risk_calculator\\inputs\\def\\fixed\\raster_detail\\2012.tif\n",
      "Deleting tmp: D:\\CIAT\\Code\\BID\\dci_fauno\\data\\risk_calculator\\inputs\\def\\fixed\\DCCB_SMBYC_CBBQ_V5_2012_2013_tmp.tif\n",
      "Working: D:\\CIAT\\Code\\BID\\dci_fauno\\data\\risk_calculator\\inputs\\def\\content\\Cambio_Cobertura_Bosque_No_Bosque_2013_2014\\Geotiff\\DCCB_SMBYC_CBBQ_V6_2013_2014.tif\n",
      "Reprojecting: D:\\CIAT\\Code\\BID\\dci_fauno\\data\\risk_calculator\\inputs\\def\\fixed\\DCCB_SMBYC_CBBQ_V6_2013_2014_tmp.tif\n",
      "Opening: D:\\CIAT\\Code\\BID\\dci_fauno\\data\\risk_calculator\\inputs\\def\\fixed\\DCCB_SMBYC_CBBQ_V6_2013_2014_tmp.tif\n",
      "Cropping raster\n",
      "Dimention: H=61079 W=45525\n",
      "Saving: D:\\CIAT\\Code\\BID\\dci_fauno\\data\\risk_calculator\\inputs\\def\\fixed\\raster_detail\\2013.tif\n",
      "Deleting tmp: D:\\CIAT\\Code\\BID\\dci_fauno\\data\\risk_calculator\\inputs\\def\\fixed\\DCCB_SMBYC_CBBQ_V6_2013_2014_tmp.tif\n",
      "Working: D:\\CIAT\\Code\\BID\\dci_fauno\\data\\risk_calculator\\inputs\\def\\content\\Cambio_Cobertura_Bosque_No_Bosque_2014_2015\\GeoTiff\\DCCB_SMBYC_CBBQ_V7_2014_2015.tif\n",
      "Reprojecting: D:\\CIAT\\Code\\BID\\dci_fauno\\data\\risk_calculator\\inputs\\def\\fixed\\DCCB_SMBYC_CBBQ_V7_2014_2015_tmp.tif\n",
      "Opening: D:\\CIAT\\Code\\BID\\dci_fauno\\data\\risk_calculator\\inputs\\def\\fixed\\DCCB_SMBYC_CBBQ_V7_2014_2015_tmp.tif\n",
      "Cropping raster\n",
      "Dimention: H=61079 W=45525\n",
      "Saving: D:\\CIAT\\Code\\BID\\dci_fauno\\data\\risk_calculator\\inputs\\def\\fixed\\raster_detail\\2014.tif\n",
      "Deleting tmp: D:\\CIAT\\Code\\BID\\dci_fauno\\data\\risk_calculator\\inputs\\def\\fixed\\DCCB_SMBYC_CBBQ_V7_2014_2015_tmp.tif\n",
      "Working: D:\\CIAT\\Code\\BID\\dci_fauno\\data\\risk_calculator\\inputs\\def\\content\\Cambio_Cobertura_Bosque_No_Bosque_2015_2016\\Geotiff\\DCCB_SMBYC_CBBQ_V7_2015_2016.tif\n",
      "Reprojecting: D:\\CIAT\\Code\\BID\\dci_fauno\\data\\risk_calculator\\inputs\\def\\fixed\\DCCB_SMBYC_CBBQ_V7_2015_2016_tmp.tif\n",
      "Opening: D:\\CIAT\\Code\\BID\\dci_fauno\\data\\risk_calculator\\inputs\\def\\fixed\\DCCB_SMBYC_CBBQ_V7_2015_2016_tmp.tif\n",
      "Cropping raster\n",
      "Dimention: H=61079 W=45525\n",
      "Saving: D:\\CIAT\\Code\\BID\\dci_fauno\\data\\risk_calculator\\inputs\\def\\fixed\\raster_detail\\2015.tif\n",
      "Deleting tmp: D:\\CIAT\\Code\\BID\\dci_fauno\\data\\risk_calculator\\inputs\\def\\fixed\\DCCB_SMBYC_CBBQ_V7_2015_2016_tmp.tif\n",
      "Working: D:\\CIAT\\Code\\BID\\dci_fauno\\data\\risk_calculator\\inputs\\def\\content\\Cambio_Cobertura_Bosque_No_Bosque_2016_2017\\TTTHM4RG3_BEA_T_reprojected_2016_2017.tif\n",
      "Reprojecting: D:\\CIAT\\Code\\BID\\dci_fauno\\data\\risk_calculator\\inputs\\def\\fixed\\TTTHM4RG3_BEA_T_reprojected_2016_2017_tmp.tif\n",
      "Opening: D:\\CIAT\\Code\\BID\\dci_fauno\\data\\risk_calculator\\inputs\\def\\fixed\\TTTHM4RG3_BEA_T_reprojected_2016_2017_tmp.tif\n",
      "Cropping raster\n",
      "Dimention: H=61079 W=45525\n",
      "Saving: D:\\CIAT\\Code\\BID\\dci_fauno\\data\\risk_calculator\\inputs\\def\\fixed\\raster_detail\\2016.tif\n",
      "Deleting tmp: D:\\CIAT\\Code\\BID\\dci_fauno\\data\\risk_calculator\\inputs\\def\\fixed\\TTTHM4RG3_BEA_T_reprojected_2016_2017_tmp.tif\n",
      "Working: D:\\CIAT\\Code\\BID\\dci_fauno\\data\\risk_calculator\\inputs\\def\\content\\Cambio_Cobertura_Bosque_No_Bosque_2017_2018\\TT8FG4BA5_BEA_T_reprojected_2017_2018.tif\n",
      "Reprojecting: D:\\CIAT\\Code\\BID\\dci_fauno\\data\\risk_calculator\\inputs\\def\\fixed\\TT8FG4BA5_BEA_T_reprojected_2017_2018_tmp.tif\n",
      "Opening: D:\\CIAT\\Code\\BID\\dci_fauno\\data\\risk_calculator\\inputs\\def\\fixed\\TT8FG4BA5_BEA_T_reprojected_2017_2018_tmp.tif\n",
      "Cropping raster\n",
      "Dimention: H=61079 W=45525\n",
      "Saving: D:\\CIAT\\Code\\BID\\dci_fauno\\data\\risk_calculator\\inputs\\def\\fixed\\raster_detail\\2017.tif\n",
      "Deleting tmp: D:\\CIAT\\Code\\BID\\dci_fauno\\data\\risk_calculator\\inputs\\def\\fixed\\TT8FG4BA5_BEA_T_reprojected_2017_2018_tmp.tif\n",
      "Working: D:\\CIAT\\Code\\BID\\dci_fauno\\data\\risk_calculator\\inputs\\def\\content\\Cambio_Cobertura_Bosque_No_Bosque_2018_2019\\reprojected_2018-2019.tif\n",
      "Reprojecting: D:\\CIAT\\Code\\BID\\dci_fauno\\data\\risk_calculator\\inputs\\def\\fixed\\reprojected_2018-2019_tmp.tif\n",
      "Opening: D:\\CIAT\\Code\\BID\\dci_fauno\\data\\risk_calculator\\inputs\\def\\fixed\\reprojected_2018-2019_tmp.tif\n",
      "Cropping raster\n",
      "Dimention: H=61079 W=45525\n",
      "Saving: D:\\CIAT\\Code\\BID\\dci_fauno\\data\\risk_calculator\\inputs\\def\\fixed\\raster_detail\\2018.tif\n",
      "Deleting tmp: D:\\CIAT\\Code\\BID\\dci_fauno\\data\\risk_calculator\\inputs\\def\\fixed\\reprojected_2018-2019_tmp.tif\n",
      "Summaryzing!\n",
      "Compiling rasters files\n",
      "D:\\CIAT\\Code\\BID\\dci_fauno\\data\\risk_calculator\\inputs\\def\\fixed\\raster_detail\\2010.tif\n",
      "Saving: D:\\CIAT\\Code\\BID\\dci_fauno\\data\\risk_calculator\\inputs\\def\\fixed\\raster_summary\\2010.tif\n",
      "D:\\CIAT\\Code\\BID\\dci_fauno\\data\\risk_calculator\\inputs\\def\\fixed\\raster_detail\\2012.tif\n",
      "Saving: D:\\CIAT\\Code\\BID\\dci_fauno\\data\\risk_calculator\\inputs\\def\\fixed\\raster_summary\\2012.tif\n",
      "D:\\CIAT\\Code\\BID\\dci_fauno\\data\\risk_calculator\\inputs\\def\\fixed\\raster_detail\\2013.tif\n",
      "Saving: D:\\CIAT\\Code\\BID\\dci_fauno\\data\\risk_calculator\\inputs\\def\\fixed\\raster_summary\\2013.tif\n",
      "D:\\CIAT\\Code\\BID\\dci_fauno\\data\\risk_calculator\\inputs\\def\\fixed\\raster_detail\\2014.tif\n",
      "Saving: D:\\CIAT\\Code\\BID\\dci_fauno\\data\\risk_calculator\\inputs\\def\\fixed\\raster_summary\\2014.tif\n",
      "D:\\CIAT\\Code\\BID\\dci_fauno\\data\\risk_calculator\\inputs\\def\\fixed\\raster_detail\\2015.tif\n",
      "Saving: D:\\CIAT\\Code\\BID\\dci_fauno\\data\\risk_calculator\\inputs\\def\\fixed\\raster_summary\\2015.tif\n",
      "D:\\CIAT\\Code\\BID\\dci_fauno\\data\\risk_calculator\\inputs\\def\\fixed\\raster_detail\\2016.tif\n",
      "Saving: D:\\CIAT\\Code\\BID\\dci_fauno\\data\\risk_calculator\\inputs\\def\\fixed\\raster_summary\\2016.tif\n",
      "D:\\CIAT\\Code\\BID\\dci_fauno\\data\\risk_calculator\\inputs\\def\\fixed\\raster_detail\\2017.tif\n",
      "Saving: D:\\CIAT\\Code\\BID\\dci_fauno\\data\\risk_calculator\\inputs\\def\\fixed\\raster_summary\\2017.tif\n",
      "D:\\CIAT\\Code\\BID\\dci_fauno\\data\\risk_calculator\\inputs\\def\\fixed\\raster_detail\\2018.tif\n",
      "Saving: D:\\CIAT\\Code\\BID\\dci_fauno\\data\\risk_calculator\\inputs\\def\\fixed\\raster_summary\\2018.tif\n",
      "Done!\n"
     ]
    }
   ],
   "source": [
    "# Getting parameters for filtering deforestation pixels\n",
    "def_value = int(conf.loc[conf[\"parameter\"] == \"def_value\",\"value\"].values[0])\n",
    "def_pixel_size = float(conf.loc[conf[\"parameter\"] == \"def_pixel_size\",\"value\"].values[0])\n",
    "\n",
    "print(\"Extracting!\")\n",
    "defo.extract_deforestation(def_folder, def_value, glo_crs, def_pixel_size)\n",
    "print(\"Summaryzing!\")\n",
    "defo.summary_deforestation(def_folder)\n",
    "print(\"Done!\")"
   ]
  },
  {
   "cell_type": "markdown",
   "id": "direct-suicide",
   "metadata": {},
   "source": [
    "### Deforestation - Parsing to shapefile\n",
    "In this section the raster files, which were located into rasters folders, are parsed to shapefile format.\n",
    "Both folders are transformed detail and summary"
   ]
  },
  {
   "cell_type": "code",
   "execution_count": null,
   "id": "secret-techno",
   "metadata": {},
   "outputs": [
    {
     "name": "stdout",
     "output_type": "stream",
     "text": [
      "Opening: D:\\CIAT\\Code\\BID\\dci_fauno\\data\\risk_calculator\\inputs\\def\\fixed\\raster_detail\\2010.tif\n",
      "Transforming\n",
      "Creating shapefile crs: {'init': 'epsg:3116'}\n"
     ]
    },
    {
     "name": "stderr",
     "output_type": "stream",
     "text": [
      "d:\\ciat\\virtualenv\\jupyter\\lib\\site-packages\\pyproj\\crs\\crs.py:53: FutureWarning: '+init=<authority>:<code>' syntax is deprecated. '<authority>:<code>' is the preferred initialization method. When making the change, be mindful of axis order changes: https://pyproj4.github.io/pyproj/stable/gotchas.html#axis-order-changes-in-proj-6\n",
      "  return _prepare_from_string(\" \".join(pjargs))\n"
     ]
    },
    {
     "name": "stdout",
     "output_type": "stream",
     "text": [
      "            lon           lat                         geometry\n",
      "0  1.284164e+06  1.850139e+06  POINT (1284163.792 1850139.356)\n",
      "1  1.284195e+06  1.850139e+06  POINT (1284194.509 1850139.356)\n",
      "2  1.284133e+06  1.850109e+06  POINT (1284133.075 1850108.639)\n",
      "3  1.284164e+06  1.850109e+06  POINT (1284163.792 1850108.639)\n",
      "4  1.284195e+06  1.850109e+06  POINT (1284194.509 1850108.639)\n",
      "Saving: D:\\CIAT\\Code\\BID\\dci_fauno\\data\\risk_calculator\\inputs\\def\\fixed\\shp_detail\\2010\\shapefile.shp\n",
      "Opening: D:\\CIAT\\Code\\BID\\dci_fauno\\data\\risk_calculator\\inputs\\def\\fixed\\raster_detail\\2012.tif\n",
      "Transforming\n",
      "Creating shapefile crs: {'init': 'epsg:3116'}\n"
     ]
    },
    {
     "name": "stderr",
     "output_type": "stream",
     "text": [
      "d:\\ciat\\virtualenv\\jupyter\\lib\\site-packages\\pyproj\\crs\\crs.py:53: FutureWarning: '+init=<authority>:<code>' syntax is deprecated. '<authority>:<code>' is the preferred initialization method. When making the change, be mindful of axis order changes: https://pyproj4.github.io/pyproj/stable/gotchas.html#axis-order-changes-in-proj-6\n",
      "  return _prepare_from_string(\" \".join(pjargs))\n"
     ]
    },
    {
     "name": "stdout",
     "output_type": "stream",
     "text": [
      "            lon           lat                         geometry\n",
      "0  1.304345e+06  1.856529e+06  POINT (1304344.964 1856528.595)\n",
      "1  1.304376e+06  1.856529e+06  POINT (1304375.681 1856528.595)\n",
      "2  1.304314e+06  1.856498e+06  POINT (1304314.247 1856497.878)\n",
      "3  1.304345e+06  1.856498e+06  POINT (1304344.964 1856497.878)\n",
      "4  1.304376e+06  1.856498e+06  POINT (1304375.681 1856497.878)\n",
      "Saving: D:\\CIAT\\Code\\BID\\dci_fauno\\data\\risk_calculator\\inputs\\def\\fixed\\shp_detail\\2012\\shapefile.shp\n",
      "Opening: D:\\CIAT\\Code\\BID\\dci_fauno\\data\\risk_calculator\\inputs\\def\\fixed\\raster_detail\\2013.tif\n",
      "Transforming\n",
      "Creating shapefile crs: {'init': 'epsg:3116'}\n"
     ]
    },
    {
     "name": "stderr",
     "output_type": "stream",
     "text": [
      "d:\\ciat\\virtualenv\\jupyter\\lib\\site-packages\\pyproj\\crs\\crs.py:53: FutureWarning: '+init=<authority>:<code>' syntax is deprecated. '<authority>:<code>' is the preferred initialization method. When making the change, be mindful of axis order changes: https://pyproj4.github.io/pyproj/stable/gotchas.html#axis-order-changes-in-proj-6\n",
      "  return _prepare_from_string(\" \".join(pjargs))\n"
     ]
    },
    {
     "name": "stdout",
     "output_type": "stream",
     "text": [
      "            lon           lat                         geometry\n",
      "0  1.292242e+06  1.841877e+06  POINT (1292242.470 1841876.592)\n",
      "1  1.292273e+06  1.841877e+06  POINT (1292273.187 1841876.592)\n",
      "2  1.292089e+06  1.841846e+06  POINT (1292088.886 1841845.875)\n",
      "3  1.292120e+06  1.841846e+06  POINT (1292119.602 1841845.875)\n",
      "4  1.292181e+06  1.841846e+06  POINT (1292181.036 1841845.875)\n",
      "Saving: D:\\CIAT\\Code\\BID\\dci_fauno\\data\\risk_calculator\\inputs\\def\\fixed\\shp_detail\\2013\\shapefile.shp\n",
      "Opening: D:\\CIAT\\Code\\BID\\dci_fauno\\data\\risk_calculator\\inputs\\def\\fixed\\raster_detail\\2014.tif\n",
      "Transforming\n"
     ]
    }
   ],
   "source": [
    "# Parsing to shapefile\n",
    "defo.to_shp(def_folder)\n",
    "print(\"Done!\")"
   ]
  },
  {
   "cell_type": "markdown",
   "id": "gothic-request",
   "metadata": {},
   "source": [
    "### Plots\n",
    "This section compiles all CSV files with information about plots for all years. It clear all records, \n",
    "validating that all plots have coordinates and these coordinates are good. Further it sets the region\n",
    "and locality according to shapefile of reference. Finally it creates a new layer with all data compiled"
   ]
  },
  {
   "cell_type": "code",
   "execution_count": 3,
   "id": "smaller-transparency",
   "metadata": {},
   "outputs": [
    {
     "name": "stdout",
     "output_type": "stream",
     "text": [
      "Reading: D:\\CIAT\\Code\\BID\\dci_fauno\\data\\risk_calculator\\inputs\\plot\\download\\2019.csv\n"
     ]
    },
    {
     "name": "stderr",
     "output_type": "stream",
     "text": [
      "d:\\ciat\\virtualenv\\jupyter\\lib\\site-packages\\IPython\\core\\interactiveshell.py:3347: DtypeWarning: Columns (6) have mixed types.Specify dtype option on import or set low_memory=False.\n",
      "  if (await self.run_code(code, result,  async_=asy)):\n"
     ]
    },
    {
     "name": "stdout",
     "output_type": "stream",
     "text": [
      "Fixing columns\n",
      "Cleaning records\n",
      "     ext_id       lat        lon  animals  year       adm1             adm2  \\\n",
      "0   1589850 -4.006928 -70.134470        1  2019   AMAZONAS          LETICIA   \n",
      "1   1589861 -4.176944 -69.943611       28  2019   AMAZONAS          LETICIA   \n",
      "2   1589877 -4.141955 -70.010603       35  2019   AMAZONAS          LETICIA   \n",
      "8   1589914 -3.771690 -70.359310        4  2019   AMAZONAS  PUERTO NARIï¿½O   \n",
      "10  1510795  5.860740 -75.501670       17  2019  ANTIOQUIA        ABEJORRAL   \n",
      "\n",
      "               adm3  \n",
      "0           LETICIA  \n",
      "1           LETICIA  \n",
      "2           LETICIA  \n",
      "8   PUERTO NARIï¿½O  \n",
      "10      ALTO BONITO  \n",
      "Logging: D:\\CIAT\\Code\\BID\\dci_fauno\\data\\risk_calculator\\inputs\\plot\\log\\err-data-bad_plots.csv\n",
      "Goruping and filtering max\n",
      "Saving: D:\\CIAT\\Code\\BID\\dci_fauno\\data\\risk_calculator\\inputs\\plot\\content\\plots.csv\n",
      "Opening: D:\\CIAT\\Code\\BID\\dci_fauno\\data\\risk_calculator\\inputs\\plot\\content\\plots.csv\n",
      "Transforming to points\n"
     ]
    },
    {
     "name": "stderr",
     "output_type": "stream",
     "text": [
      "d:\\ciat\\virtualenv\\jupyter\\lib\\site-packages\\pyproj\\crs\\crs.py:53: FutureWarning: '+init=<authority>:<code>' syntax is deprecated. '<authority>:<code>' is the preferred initialization method. When making the change, be mindful of axis order changes: https://pyproj4.github.io/pyproj/stable/gotchas.html#axis-order-changes-in-proj-6\n",
      "  return _prepare_from_string(\" \".join(pjargs))\n"
     ]
    },
    {
     "name": "stdout",
     "output_type": "stream",
     "text": [
      "Reprojecting\n",
      "Opening shp reference: D:\\CIAT\\Code\\BID\\dci_fauno\\data\\risk_calculator\\inputs\\adm\\fixed\\adm.shp\n",
      "Joining spatial\n",
      "       ext_id       lat        lon  animals  year      adm1  \\\n",
      "0      400165  5.282530 -71.963700     7470  2019  CASANARE   \n",
      "1      400292  5.342888 -71.967508     6673  2019  CASANARE   \n",
      "662   1189289  5.220117 -71.931157     1398  2019  CASANARE   \n",
      "1092  1475236  5.288035 -71.963668     1115  2019  CASANARE   \n",
      "3030  1259268  5.229343 -71.942858      676  2019  CASANARE   \n",
      "\n",
      "                      adm2       adm3  animals_max  \\\n",
      "0     SAN LUIS DE PALENQUE  ALGODONAL         7470   \n",
      "1     SAN LUIS DE PALENQUE   JAGUEYES         6673   \n",
      "662   SAN LUIS DE PALENQUE   JAGUEYES         1398   \n",
      "1092  SAN LUIS DE PALENQUE   JAGUEYES         1115   \n",
      "3030  SAN LUIS DE PALENQUE   JAGUEYES          676   \n",
      "\n",
      "                             geometry  index_right adm1_id adm1_name adm2_id  \\\n",
      "0     POINT (1234367.895 1076294.221)         4243      85  CASANARE   85325   \n",
      "1     POINT (1233922.710 1082971.885)         4243      85  CASANARE   85325   \n",
      "662   POINT (1238001.442 1069399.934)         4243      85  CASANARE   85325   \n",
      "1092  POINT (1234369.374 1076903.407)         4243      85  CASANARE   85325   \n",
      "3030  POINT (1236699.896 1070416.464)         4243      85  CASANARE   85325   \n",
      "\n",
      "                 adm2_name   adm3_id     adm3_name          area  \n",
      "0     SAN LUIS DE PALENQUE  85325035  LOS JAGUEYES  46475.280446  \n",
      "1     SAN LUIS DE PALENQUE  85325035  LOS JAGUEYES  46475.280446  \n",
      "662   SAN LUIS DE PALENQUE  85325035  LOS JAGUEYES  46475.280446  \n",
      "1092  SAN LUIS DE PALENQUE  85325035  LOS JAGUEYES  46475.280446  \n",
      "3030  SAN LUIS DE PALENQUE  85325035  LOS JAGUEYES  46475.280446  \n",
      "Saving: D:\\CIAT\\Code\\BID\\dci_fauno\\data\\risk_calculator\\inputs\\plot\\fixed\\plots\\plots.shp\n",
      "Done!\n"
     ]
    }
   ],
   "source": [
    "# Getting parameters for processing data\n",
    "plo_character_file = conf.loc[conf[\"parameter\"] == \"plo_character_file\",\"value\"].values[0]\n",
    "plo_src_ext_id = conf.loc[conf[\"parameter\"] == \"plo_src_ext_id\",\"value\"].values[0]\n",
    "plo_src_lat = conf.loc[conf[\"parameter\"] == \"plo_src_lat\",\"value\"].values[0]\n",
    "plo_src_lon = conf.loc[conf[\"parameter\"] == \"plo_src_lon\",\"value\"].values[0]\n",
    "plo_src_animals = conf.loc[conf[\"parameter\"] == \"plo_src_animals\",\"value\"].values[0]\n",
    "plo_src_adm1 = conf.loc[conf[\"parameter\"] == \"plo_src_adm1\",\"value\"].values[0]\n",
    "plo_src_adm2 = conf.loc[conf[\"parameter\"] == \"plo_src_adm2\",\"value\"].values[0]\n",
    "plo_src_adm3 = conf.loc[conf[\"parameter\"] == \"plo_src_adm3\",\"value\"].values[0]\n",
    "plo_lim_lat_low =  float(conf.loc[conf[\"parameter\"] == \"plo_lim_lat_low\",\"value\"].values[0])\n",
    "plo_lim_lat_upp =  float(conf.loc[conf[\"parameter\"] == \"plo_lim_lat_upp\",\"value\"].values[0])\n",
    "plo_lim_lon_low =  float(conf.loc[conf[\"parameter\"] == \"plo_lim_lon_low\",\"value\"].values[0])\n",
    "plo_lim_lon_upp =  float(conf.loc[conf[\"parameter\"] == \"plo_lim_lon_upp\",\"value\"].values[0])\n",
    "# Getting parameters for creating shp\n",
    "plo_src_crs = int(conf.loc[conf[\"parameter\"] == \"plo_src_crs\",\"value\"].values[0])\n",
    "\n",
    "has_adm = (plo_src_adm1 != \"\") & (plo_src_adm2 != \"\") & (plo_src_adm3 != \"\")\n",
    "\n",
    "# Compiling data\n",
    "plot.processing_raw_data(plot_folder, plo_character_file, \n",
    "              plo_src_ext_id, plo_src_lat, plo_src_lon, plo_src_animals,\n",
    "              plo_lim_lat_low, plo_lim_lat_upp, plo_lim_lon_low, plo_lim_lon_upp,\n",
    "              has_adm, plo_src_adm1, plo_src_adm2, plo_src_adm3)\n",
    "# Fixing data\n",
    "path_adm_shp = os.path.join(adm_folder,\"fixed\",\"adm.shp\")\n",
    "plot.create_data(plot_folder, path_adm_shp, plo_src_crs, glo_crs)\n",
    "\n",
    "print(\"Done!\")"
   ]
  },
  {
   "cell_type": "markdown",
   "id": "wicked-brick",
   "metadata": {},
   "source": [
    "### Calculating buffer by plot\n",
    "In this section, the script creates a buffer for all plots. It uses the following ecuation to set radious for the buffer: amount of animals in plot / field capacity. "
   ]
  },
  {
   "cell_type": "code",
   "execution_count": 4,
   "id": "gentle-asset",
   "metadata": {},
   "outputs": [
    {
     "name": "stdout",
     "output_type": "stream",
     "text": [
      "Opening plots shape file: D:\\CIAT\\Code\\BID\\dci_fauno\\data\\risk_calculator\\inputs\\plot\\fixed\\plots\\plots.shp\n"
     ]
    },
    {
     "name": "stderr",
     "output_type": "stream",
     "text": [
      "d:\\ciat\\virtualenv\\jupyter\\lib\\site-packages\\pyproj\\crs\\crs.py:53: FutureWarning: '+init=<authority>:<code>' syntax is deprecated. '<authority>:<code>' is the preferred initialization method. When making the change, be mindful of axis order changes: https://pyproj4.github.io/pyproj/stable/gotchas.html#axis-order-changes-in-proj-6\n",
      "  return _prepare_from_string(\" \".join(pjargs))\n"
     ]
    },
    {
     "name": "stdout",
     "output_type": "stream",
     "text": [
      "Mergin with field capacity\n",
      "Creating buffer\n",
      "Reprojecting\n",
      "Saving: D:\\CIAT\\Code\\BID\\dci_fauno\\data\\risk_calculator\\inputs\\plot\\fixed\\buffer\\buffer.shp\n",
      "Done!\n"
     ]
    }
   ],
   "source": [
    "# Creatting buffer\n",
    "plot.create_buffer(plot_folder, buffer, glo_crs)\n",
    "print(\"Done!\")"
   ]
  },
  {
   "cell_type": "markdown",
   "id": "filled-fairy",
   "metadata": {},
   "source": [
    "## Analyzing plots"
   ]
  },
  {
   "cell_type": "markdown",
   "id": "light-tennessee",
   "metadata": {},
   "source": [
    "### Calculating deforested areas by plot\n",
    "In this section the system calculates the proportion of deforested areas by plot. It combines raster deforestation files\n",
    "and buffer shapefile."
   ]
  },
  {
   "cell_type": "code",
   "execution_count": 3,
   "id": "hawaiian-episode",
   "metadata": {},
   "outputs": [
    {
     "name": "stdout",
     "output_type": "stream",
     "text": [
      "Opening shp: D:\\CIAT\\Code\\BID\\dci_fauno\\data\\risk_calculator\\inputs\\plot\\fixed\\buffer\\buffer.shp\n",
      "Type of analysis: detail\n",
      "Processing: 2010\n",
      "Opening raster: D:\\CIAT\\Code\\BID\\dci_fauno\\data\\risk_calculator\\inputs\\def\\fixed\\raster_detail\\2010.tif\n",
      "Calculating zonal stats\n",
      "Parsing to Geopandas\n"
     ]
    },
    {
     "name": "stderr",
     "output_type": "stream",
     "text": [
      "d:\\ciat\\virtualenv\\jupyter\\lib\\site-packages\\pyproj\\crs\\crs.py:53: FutureWarning: '+init=<authority>:<code>' syntax is deprecated. '<authority>:<code>' is the preferred initialization method. When making the change, be mindful of axis order changes: https://pyproj4.github.io/pyproj/stable/gotchas.html#axis-order-changes-in-proj-6\n",
      "  return _prepare_from_string(\" \".join(pjargs))\n"
     ]
    },
    {
     "name": "stdout",
     "output_type": "stream",
     "text": [
      "Saving: D:\\CIAT\\Code\\BID\\dci_fauno\\data\\risk_calculator\\inputs\\plot\\fixed\\def\\detail\\2010\\areas.shp\n",
      "Processing: 2012\n",
      "Opening raster: D:\\CIAT\\Code\\BID\\dci_fauno\\data\\risk_calculator\\inputs\\def\\fixed\\raster_detail\\2012.tif\n",
      "Calculating zonal stats\n",
      "Parsing to Geopandas\n",
      "Saving: D:\\CIAT\\Code\\BID\\dci_fauno\\data\\risk_calculator\\inputs\\plot\\fixed\\def\\detail\\2012\\areas.shp\n",
      "Processing: 2013\n",
      "Opening raster: D:\\CIAT\\Code\\BID\\dci_fauno\\data\\risk_calculator\\inputs\\def\\fixed\\raster_detail\\2013.tif\n",
      "Calculating zonal stats\n",
      "Parsing to Geopandas\n",
      "Saving: D:\\CIAT\\Code\\BID\\dci_fauno\\data\\risk_calculator\\inputs\\plot\\fixed\\def\\detail\\2013\\areas.shp\n",
      "Processing: 2014\n",
      "Opening raster: D:\\CIAT\\Code\\BID\\dci_fauno\\data\\risk_calculator\\inputs\\def\\fixed\\raster_detail\\2014.tif\n",
      "Calculating zonal stats\n",
      "Parsing to Geopandas\n",
      "Saving: D:\\CIAT\\Code\\BID\\dci_fauno\\data\\risk_calculator\\inputs\\plot\\fixed\\def\\detail\\2014\\areas.shp\n",
      "Processing: 2015\n",
      "Opening raster: D:\\CIAT\\Code\\BID\\dci_fauno\\data\\risk_calculator\\inputs\\def\\fixed\\raster_detail\\2015.tif\n",
      "Calculating zonal stats\n",
      "Parsing to Geopandas\n",
      "Saving: D:\\CIAT\\Code\\BID\\dci_fauno\\data\\risk_calculator\\inputs\\plot\\fixed\\def\\detail\\2015\\areas.shp\n",
      "Processing: 2016\n",
      "Opening raster: D:\\CIAT\\Code\\BID\\dci_fauno\\data\\risk_calculator\\inputs\\def\\fixed\\raster_detail\\2016.tif\n",
      "Calculating zonal stats\n",
      "Parsing to Geopandas\n",
      "Saving: D:\\CIAT\\Code\\BID\\dci_fauno\\data\\risk_calculator\\inputs\\plot\\fixed\\def\\detail\\2016\\areas.shp\n",
      "Processing: 2017\n",
      "Opening raster: D:\\CIAT\\Code\\BID\\dci_fauno\\data\\risk_calculator\\inputs\\def\\fixed\\raster_detail\\2017.tif\n",
      "Calculating zonal stats\n",
      "Parsing to Geopandas\n",
      "Saving: D:\\CIAT\\Code\\BID\\dci_fauno\\data\\risk_calculator\\inputs\\plot\\fixed\\def\\detail\\2017\\areas.shp\n",
      "Processing: 2018\n",
      "Opening raster: D:\\CIAT\\Code\\BID\\dci_fauno\\data\\risk_calculator\\inputs\\def\\fixed\\raster_detail\\2018.tif\n",
      "Calculating zonal stats\n",
      "Parsing to Geopandas\n",
      "Saving: D:\\CIAT\\Code\\BID\\dci_fauno\\data\\risk_calculator\\inputs\\plot\\fixed\\def\\detail\\2018\\areas.shp\n",
      "Type of analysis: summary\n"
     ]
    }
   ],
   "source": [
    "# Getting parameters for processing data\n",
    "ris_years = map(str.strip, conf.loc[conf[\"parameter\"] == \"ris_years\",\"value\"].values[0].split(\",\"))\n",
    "ris_types_analysis =  map(str.strip, conf.loc[conf[\"parameter\"] == \"ris_types_analysis\",\"value\"].values[0].split(\",\"))\n",
    "def_pixel_size = float(conf.loc[conf[\"parameter\"] == \"def_pixel_size\",\"value\"].values[0])\n",
    "\n",
    "# De\n",
    "risk.deforestation_plot(inputs, ris_years, ris_types_analysis, def_pixel_size)"
   ]
  },
  {
   "cell_type": "code",
   "execution_count": 3,
   "id": "requested-actor",
   "metadata": {},
   "outputs": [
    {
     "name": "stdout",
     "output_type": "stream",
     "text": [
      "Processing year: 2010\n",
      "Opening areas shp: D:\\CIAT\\Code\\BID\\dci_fauno\\data\\risk_calculator\\inputs\\plot\\fixed\\def\\detail\\2010\\areas.shp\n",
      "Opening deforestation shp: D:\\CIAT\\Code\\BID\\dci_fauno\\data\\risk_calculator\\inputs\\def\\fixed\\shp_detail\\2010\\shapefile.shp\n",
      "Fixing fields\n",
      "(183420, 2)\n",
      "(169296, 2)\n",
      "Calculating distances\n"
     ]
    },
    {
     "ename": "KeyboardInterrupt",
     "evalue": "",
     "output_type": "error",
     "traceback": [
      "\u001b[1;31m---------------------------------------------------------------------------\u001b[0m",
      "\u001b[1;31mKeyboardInterrupt\u001b[0m                         Traceback (most recent call last)",
      "\u001b[1;32m<ipython-input-3-dc63abc00b1c>\u001b[0m in \u001b[0;36m<module>\u001b[1;34m\u001b[0m\n\u001b[0;32m      3\u001b[0m \u001b[0mris_types_analysis\u001b[0m \u001b[1;33m=\u001b[0m  \u001b[0mmap\u001b[0m\u001b[1;33m(\u001b[0m\u001b[0mstr\u001b[0m\u001b[1;33m.\u001b[0m\u001b[0mstrip\u001b[0m\u001b[1;33m,\u001b[0m \u001b[0mconf\u001b[0m\u001b[1;33m.\u001b[0m\u001b[0mloc\u001b[0m\u001b[1;33m[\u001b[0m\u001b[0mconf\u001b[0m\u001b[1;33m[\u001b[0m\u001b[1;34m\"parameter\"\u001b[0m\u001b[1;33m]\u001b[0m \u001b[1;33m==\u001b[0m \u001b[1;34m\"ris_types_analysis\"\u001b[0m\u001b[1;33m,\u001b[0m\u001b[1;34m\"value\"\u001b[0m\u001b[1;33m]\u001b[0m\u001b[1;33m.\u001b[0m\u001b[0mvalues\u001b[0m\u001b[1;33m[\u001b[0m\u001b[1;36m0\u001b[0m\u001b[1;33m]\u001b[0m\u001b[1;33m.\u001b[0m\u001b[0msplit\u001b[0m\u001b[1;33m(\u001b[0m\u001b[1;34m\",\"\u001b[0m\u001b[1;33m)\u001b[0m\u001b[1;33m)\u001b[0m\u001b[1;33m\u001b[0m\u001b[1;33m\u001b[0m\u001b[0m\n\u001b[0;32m      4\u001b[0m \u001b[1;33m\u001b[0m\u001b[0m\n\u001b[1;32m----> 5\u001b[1;33m \u001b[0mrisk\u001b[0m\u001b[1;33m.\u001b[0m\u001b[0mdistance_plot\u001b[0m\u001b[1;33m(\u001b[0m\u001b[0minputs\u001b[0m\u001b[1;33m,\u001b[0m \u001b[0mris_years\u001b[0m\u001b[1;33m,\u001b[0m \u001b[0mris_types_analysis\u001b[0m\u001b[1;33m)\u001b[0m\u001b[1;33m\u001b[0m\u001b[1;33m\u001b[0m\u001b[0m\n\u001b[0m\u001b[0;32m      6\u001b[0m \u001b[0mprint\u001b[0m\u001b[1;33m(\u001b[0m\u001b[1;34m\"Done!\"\u001b[0m\u001b[1;33m)\u001b[0m\u001b[1;33m\u001b[0m\u001b[1;33m\u001b[0m\u001b[0m\n",
      "\u001b[1;32mD:\\CIAT\\Code\\BID\\dci_fauno\\src\\risk_calculator\\risk.py\u001b[0m in \u001b[0;36mdistance_plot\u001b[1;34m(inputs, years, types_analysis)\u001b[0m\n\u001b[0;32m    103\u001b[0m \u001b[1;33m\u001b[0m\u001b[0m\n\u001b[0;32m    104\u001b[0m             \u001b[0mprint\u001b[0m\u001b[1;33m(\u001b[0m\u001b[1;34m\"Calculating distances\"\u001b[0m\u001b[1;33m)\u001b[0m\u001b[1;33m\u001b[0m\u001b[1;33m\u001b[0m\u001b[0m\n\u001b[1;32m--> 105\u001b[1;33m             \u001b[0mshp_areas\u001b[0m\u001b[1;33m[\u001b[0m\u001b[1;34m'def_distance'\u001b[0m\u001b[1;33m]\u001b[0m \u001b[1;33m=\u001b[0m \u001b[0mshp_areas\u001b[0m\u001b[1;33m.\u001b[0m\u001b[0mapply\u001b[0m\u001b[1;33m(\u001b[0m\u001b[1;32mlambda\u001b[0m \u001b[0mrow\u001b[0m\u001b[1;33m:\u001b[0m \u001b[0mnear_distance\u001b[0m\u001b[1;33m(\u001b[0m\u001b[0mrow\u001b[0m\u001b[1;33m.\u001b[0m\u001b[0mgeometry\u001b[0m\u001b[1;33m,\u001b[0m \u001b[0mpts\u001b[0m\u001b[1;33m)\u001b[0m\u001b[1;33m,\u001b[0m \u001b[0maxis\u001b[0m\u001b[1;33m=\u001b[0m\u001b[1;36m1\u001b[0m\u001b[1;33m)\u001b[0m\u001b[1;33m\u001b[0m\u001b[1;33m\u001b[0m\u001b[0m\n\u001b[0m\u001b[0;32m    106\u001b[0m \u001b[1;33m\u001b[0m\u001b[0m\n\u001b[0;32m    107\u001b[0m             \u001b[0mf_folder\u001b[0m \u001b[1;33m=\u001b[0m \u001b[0mos\u001b[0m\u001b[1;33m.\u001b[0m\u001b[0mpath\u001b[0m\u001b[1;33m.\u001b[0m\u001b[0mjoin\u001b[0m\u001b[1;33m(\u001b[0m\u001b[0moutputs_folder\u001b[0m\u001b[1;33m,\u001b[0m \u001b[0mta\u001b[0m\u001b[1;33m)\u001b[0m\u001b[1;33m\u001b[0m\u001b[1;33m\u001b[0m\u001b[0m\n",
      "\u001b[1;32md:\\ciat\\virtualenv\\jupyter\\lib\\site-packages\\pandas\\core\\frame.py\u001b[0m in \u001b[0;36mapply\u001b[1;34m(self, func, axis, raw, result_type, args, **kwds)\u001b[0m\n\u001b[0;32m   7763\u001b[0m             \u001b[0mkwds\u001b[0m\u001b[1;33m=\u001b[0m\u001b[0mkwds\u001b[0m\u001b[1;33m,\u001b[0m\u001b[1;33m\u001b[0m\u001b[1;33m\u001b[0m\u001b[0m\n\u001b[0;32m   7764\u001b[0m         )\n\u001b[1;32m-> 7765\u001b[1;33m         \u001b[1;32mreturn\u001b[0m \u001b[0mop\u001b[0m\u001b[1;33m.\u001b[0m\u001b[0mget_result\u001b[0m\u001b[1;33m(\u001b[0m\u001b[1;33m)\u001b[0m\u001b[1;33m\u001b[0m\u001b[1;33m\u001b[0m\u001b[0m\n\u001b[0m\u001b[0;32m   7766\u001b[0m \u001b[1;33m\u001b[0m\u001b[0m\n\u001b[0;32m   7767\u001b[0m     \u001b[1;32mdef\u001b[0m \u001b[0mapplymap\u001b[0m\u001b[1;33m(\u001b[0m\u001b[0mself\u001b[0m\u001b[1;33m,\u001b[0m \u001b[0mfunc\u001b[0m\u001b[1;33m,\u001b[0m \u001b[0mna_action\u001b[0m\u001b[1;33m:\u001b[0m \u001b[0mOptional\u001b[0m\u001b[1;33m[\u001b[0m\u001b[0mstr\u001b[0m\u001b[1;33m]\u001b[0m \u001b[1;33m=\u001b[0m \u001b[1;32mNone\u001b[0m\u001b[1;33m)\u001b[0m \u001b[1;33m->\u001b[0m \u001b[0mDataFrame\u001b[0m\u001b[1;33m:\u001b[0m\u001b[1;33m\u001b[0m\u001b[1;33m\u001b[0m\u001b[0m\n",
      "\u001b[1;32md:\\ciat\\virtualenv\\jupyter\\lib\\site-packages\\pandas\\core\\apply.py\u001b[0m in \u001b[0;36mget_result\u001b[1;34m(self)\u001b[0m\n\u001b[0;32m    183\u001b[0m             \u001b[1;32mreturn\u001b[0m \u001b[0mself\u001b[0m\u001b[1;33m.\u001b[0m\u001b[0mapply_raw\u001b[0m\u001b[1;33m(\u001b[0m\u001b[1;33m)\u001b[0m\u001b[1;33m\u001b[0m\u001b[1;33m\u001b[0m\u001b[0m\n\u001b[0;32m    184\u001b[0m \u001b[1;33m\u001b[0m\u001b[0m\n\u001b[1;32m--> 185\u001b[1;33m         \u001b[1;32mreturn\u001b[0m \u001b[0mself\u001b[0m\u001b[1;33m.\u001b[0m\u001b[0mapply_standard\u001b[0m\u001b[1;33m(\u001b[0m\u001b[1;33m)\u001b[0m\u001b[1;33m\u001b[0m\u001b[1;33m\u001b[0m\u001b[0m\n\u001b[0m\u001b[0;32m    186\u001b[0m \u001b[1;33m\u001b[0m\u001b[0m\n\u001b[0;32m    187\u001b[0m     \u001b[1;32mdef\u001b[0m \u001b[0mapply_empty_result\u001b[0m\u001b[1;33m(\u001b[0m\u001b[0mself\u001b[0m\u001b[1;33m)\u001b[0m\u001b[1;33m:\u001b[0m\u001b[1;33m\u001b[0m\u001b[1;33m\u001b[0m\u001b[0m\n",
      "\u001b[1;32md:\\ciat\\virtualenv\\jupyter\\lib\\site-packages\\pandas\\core\\apply.py\u001b[0m in \u001b[0;36mapply_standard\u001b[1;34m(self)\u001b[0m\n\u001b[0;32m    274\u001b[0m \u001b[1;33m\u001b[0m\u001b[0m\n\u001b[0;32m    275\u001b[0m     \u001b[1;32mdef\u001b[0m \u001b[0mapply_standard\u001b[0m\u001b[1;33m(\u001b[0m\u001b[0mself\u001b[0m\u001b[1;33m)\u001b[0m\u001b[1;33m:\u001b[0m\u001b[1;33m\u001b[0m\u001b[1;33m\u001b[0m\u001b[0m\n\u001b[1;32m--> 276\u001b[1;33m         \u001b[0mresults\u001b[0m\u001b[1;33m,\u001b[0m \u001b[0mres_index\u001b[0m \u001b[1;33m=\u001b[0m \u001b[0mself\u001b[0m\u001b[1;33m.\u001b[0m\u001b[0mapply_series_generator\u001b[0m\u001b[1;33m(\u001b[0m\u001b[1;33m)\u001b[0m\u001b[1;33m\u001b[0m\u001b[1;33m\u001b[0m\u001b[0m\n\u001b[0m\u001b[0;32m    277\u001b[0m \u001b[1;33m\u001b[0m\u001b[0m\n\u001b[0;32m    278\u001b[0m         \u001b[1;31m# wrap results\u001b[0m\u001b[1;33m\u001b[0m\u001b[1;33m\u001b[0m\u001b[1;33m\u001b[0m\u001b[0m\n",
      "\u001b[1;32md:\\ciat\\virtualenv\\jupyter\\lib\\site-packages\\pandas\\core\\apply.py\u001b[0m in \u001b[0;36mapply_series_generator\u001b[1;34m(self)\u001b[0m\n\u001b[0;32m    288\u001b[0m             \u001b[1;32mfor\u001b[0m \u001b[0mi\u001b[0m\u001b[1;33m,\u001b[0m \u001b[0mv\u001b[0m \u001b[1;32min\u001b[0m \u001b[0menumerate\u001b[0m\u001b[1;33m(\u001b[0m\u001b[0mseries_gen\u001b[0m\u001b[1;33m)\u001b[0m\u001b[1;33m:\u001b[0m\u001b[1;33m\u001b[0m\u001b[1;33m\u001b[0m\u001b[0m\n\u001b[0;32m    289\u001b[0m                 \u001b[1;31m# ignore SettingWithCopy here in case the user mutates\u001b[0m\u001b[1;33m\u001b[0m\u001b[1;33m\u001b[0m\u001b[1;33m\u001b[0m\u001b[0m\n\u001b[1;32m--> 290\u001b[1;33m                 \u001b[0mresults\u001b[0m\u001b[1;33m[\u001b[0m\u001b[0mi\u001b[0m\u001b[1;33m]\u001b[0m \u001b[1;33m=\u001b[0m \u001b[0mself\u001b[0m\u001b[1;33m.\u001b[0m\u001b[0mf\u001b[0m\u001b[1;33m(\u001b[0m\u001b[0mv\u001b[0m\u001b[1;33m)\u001b[0m\u001b[1;33m\u001b[0m\u001b[1;33m\u001b[0m\u001b[0m\n\u001b[0m\u001b[0;32m    291\u001b[0m                 \u001b[1;32mif\u001b[0m \u001b[0misinstance\u001b[0m\u001b[1;33m(\u001b[0m\u001b[0mresults\u001b[0m\u001b[1;33m[\u001b[0m\u001b[0mi\u001b[0m\u001b[1;33m]\u001b[0m\u001b[1;33m,\u001b[0m \u001b[0mABCSeries\u001b[0m\u001b[1;33m)\u001b[0m\u001b[1;33m:\u001b[0m\u001b[1;33m\u001b[0m\u001b[1;33m\u001b[0m\u001b[0m\n\u001b[0;32m    292\u001b[0m                     \u001b[1;31m# If we have a view on v, we need to make a copy because\u001b[0m\u001b[1;33m\u001b[0m\u001b[1;33m\u001b[0m\u001b[1;33m\u001b[0m\u001b[0m\n",
      "\u001b[1;32mD:\\CIAT\\Code\\BID\\dci_fauno\\src\\risk_calculator\\risk.py\u001b[0m in \u001b[0;36m<lambda>\u001b[1;34m(row)\u001b[0m\n\u001b[0;32m    103\u001b[0m \u001b[1;33m\u001b[0m\u001b[0m\n\u001b[0;32m    104\u001b[0m             \u001b[0mprint\u001b[0m\u001b[1;33m(\u001b[0m\u001b[1;34m\"Calculating distances\"\u001b[0m\u001b[1;33m)\u001b[0m\u001b[1;33m\u001b[0m\u001b[1;33m\u001b[0m\u001b[0m\n\u001b[1;32m--> 105\u001b[1;33m             \u001b[0mshp_areas\u001b[0m\u001b[1;33m[\u001b[0m\u001b[1;34m'def_distance'\u001b[0m\u001b[1;33m]\u001b[0m \u001b[1;33m=\u001b[0m \u001b[0mshp_areas\u001b[0m\u001b[1;33m.\u001b[0m\u001b[0mapply\u001b[0m\u001b[1;33m(\u001b[0m\u001b[1;32mlambda\u001b[0m \u001b[0mrow\u001b[0m\u001b[1;33m:\u001b[0m \u001b[0mnear_distance\u001b[0m\u001b[1;33m(\u001b[0m\u001b[0mrow\u001b[0m\u001b[1;33m.\u001b[0m\u001b[0mgeometry\u001b[0m\u001b[1;33m,\u001b[0m \u001b[0mpts\u001b[0m\u001b[1;33m)\u001b[0m\u001b[1;33m,\u001b[0m \u001b[0maxis\u001b[0m\u001b[1;33m=\u001b[0m\u001b[1;36m1\u001b[0m\u001b[1;33m)\u001b[0m\u001b[1;33m\u001b[0m\u001b[1;33m\u001b[0m\u001b[0m\n\u001b[0m\u001b[0;32m    106\u001b[0m \u001b[1;33m\u001b[0m\u001b[0m\n\u001b[0;32m    107\u001b[0m             \u001b[0mf_folder\u001b[0m \u001b[1;33m=\u001b[0m \u001b[0mos\u001b[0m\u001b[1;33m.\u001b[0m\u001b[0mpath\u001b[0m\u001b[1;33m.\u001b[0m\u001b[0mjoin\u001b[0m\u001b[1;33m(\u001b[0m\u001b[0moutputs_folder\u001b[0m\u001b[1;33m,\u001b[0m \u001b[0mta\u001b[0m\u001b[1;33m)\u001b[0m\u001b[1;33m\u001b[0m\u001b[1;33m\u001b[0m\u001b[0m\n",
      "\u001b[1;32mD:\\CIAT\\Code\\BID\\dci_fauno\\src\\risk_calculator\\risk.py\u001b[0m in \u001b[0;36mnear_distance\u001b[1;34m(point, pts)\u001b[0m\n\u001b[0;32m     61\u001b[0m \u001b[1;32mdef\u001b[0m \u001b[0mnear_distance\u001b[0m\u001b[1;33m(\u001b[0m\u001b[0mpoint\u001b[0m\u001b[1;33m,\u001b[0m \u001b[0mpts\u001b[0m\u001b[1;33m)\u001b[0m\u001b[1;33m:\u001b[0m\u001b[1;33m\u001b[0m\u001b[1;33m\u001b[0m\u001b[0m\n\u001b[0;32m     62\u001b[0m     \u001b[1;31m# find the nearest point and return the corresponding value\u001b[0m\u001b[1;33m\u001b[0m\u001b[1;33m\u001b[0m\u001b[1;33m\u001b[0m\u001b[0m\n\u001b[1;32m---> 63\u001b[1;33m     \u001b[0mnearest\u001b[0m \u001b[1;33m=\u001b[0m \u001b[0mnearest_points\u001b[0m\u001b[1;33m(\u001b[0m\u001b[0mpoint\u001b[0m\u001b[1;33m,\u001b[0m \u001b[0mpts\u001b[0m\u001b[1;33m)\u001b[0m\u001b[1;33m[\u001b[0m\u001b[1;36m1\u001b[0m\u001b[1;33m]\u001b[0m\u001b[1;33m\u001b[0m\u001b[1;33m\u001b[0m\u001b[0m\n\u001b[0m\u001b[0;32m     64\u001b[0m     \u001b[1;31m# Calculate the distance\u001b[0m\u001b[1;33m\u001b[0m\u001b[1;33m\u001b[0m\u001b[1;33m\u001b[0m\u001b[0m\n\u001b[0;32m     65\u001b[0m     \u001b[0mdistance\u001b[0m \u001b[1;33m=\u001b[0m \u001b[0mpoint\u001b[0m\u001b[1;33m.\u001b[0m\u001b[0mdistance\u001b[0m\u001b[1;33m(\u001b[0m\u001b[0mnearest\u001b[0m\u001b[1;33m)\u001b[0m\u001b[1;33m\u001b[0m\u001b[1;33m\u001b[0m\u001b[0m\n",
      "\u001b[1;32md:\\ciat\\virtualenv\\jupyter\\lib\\site-packages\\shapely\\ops.py\u001b[0m in \u001b[0;36mnearest_points\u001b[1;34m(g1, g2)\u001b[0m\n\u001b[0;32m    266\u001b[0m     \u001b[0mThe\u001b[0m \u001b[0mpoints\u001b[0m \u001b[0mare\u001b[0m \u001b[0mreturned\u001b[0m \u001b[1;32min\u001b[0m \u001b[0mthe\u001b[0m \u001b[0msame\u001b[0m \u001b[0morder\u001b[0m \u001b[1;32mas\u001b[0m \u001b[0mthe\u001b[0m \u001b[0minput\u001b[0m \u001b[0mgeometries\u001b[0m\u001b[1;33m.\u001b[0m\u001b[1;33m\u001b[0m\u001b[1;33m\u001b[0m\u001b[0m\n\u001b[0;32m    267\u001b[0m     \"\"\"\n\u001b[1;32m--> 268\u001b[1;33m     \u001b[0mseq\u001b[0m \u001b[1;33m=\u001b[0m \u001b[0mlgeos\u001b[0m\u001b[1;33m.\u001b[0m\u001b[0mmethods\u001b[0m\u001b[1;33m[\u001b[0m\u001b[1;34m'nearest_points'\u001b[0m\u001b[1;33m]\u001b[0m\u001b[1;33m(\u001b[0m\u001b[0mg1\u001b[0m\u001b[1;33m.\u001b[0m\u001b[0m_geom\u001b[0m\u001b[1;33m,\u001b[0m \u001b[0mg2\u001b[0m\u001b[1;33m.\u001b[0m\u001b[0m_geom\u001b[0m\u001b[1;33m)\u001b[0m\u001b[1;33m\u001b[0m\u001b[1;33m\u001b[0m\u001b[0m\n\u001b[0m\u001b[0;32m    269\u001b[0m     \u001b[1;32mif\u001b[0m \u001b[0mseq\u001b[0m \u001b[1;32mis\u001b[0m \u001b[1;32mNone\u001b[0m\u001b[1;33m:\u001b[0m\u001b[1;33m\u001b[0m\u001b[1;33m\u001b[0m\u001b[0m\n\u001b[0;32m    270\u001b[0m         \u001b[1;32mif\u001b[0m \u001b[0mg1\u001b[0m\u001b[1;33m.\u001b[0m\u001b[0mis_empty\u001b[0m\u001b[1;33m:\u001b[0m\u001b[1;33m\u001b[0m\u001b[1;33m\u001b[0m\u001b[0m\n",
      "\u001b[1;31mKeyboardInterrupt\u001b[0m: "
     ]
    }
   ],
   "source": [
    "# Getting parameters for processing data\n",
    "ris_years = map(str.strip, conf.loc[conf[\"parameter\"] == \"ris_years\",\"value\"].values[0].split(\",\"))\n",
    "ris_types_analysis =  map(str.strip, conf.loc[conf[\"parameter\"] == \"ris_types_analysis\",\"value\"].values[0].split(\",\"))\n",
    "\n",
    "risk.distance_plot(inputs, ris_years, ris_types_analysis)\n",
    "print(\"Done!\")"
   ]
  },
  {
   "cell_type": "code",
   "execution_count": null,
   "id": "pleasant-idaho",
   "metadata": {},
   "outputs": [],
   "source": []
  }
 ],
 "metadata": {
  "kernelspec": {
   "display_name": "Python 3",
   "language": "python",
   "name": "python3"
  },
  "language_info": {
   "codemirror_mode": {
    "name": "ipython",
    "version": 3
   },
   "file_extension": ".py",
   "mimetype": "text/x-python",
   "name": "python",
   "nbconvert_exporter": "python",
   "pygments_lexer": "ipython3",
   "version": "3.9.1"
  }
 },
 "nbformat": 4,
 "nbformat_minor": 5
}
